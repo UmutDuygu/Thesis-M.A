{
 "cells": [
  {
   "attachments": {},
   "cell_type": "markdown",
   "metadata": {},
   "source": [
    "# Mention Network"
   ]
  },
  {
   "cell_type": "code",
   "execution_count": 4,
   "metadata": {},
   "outputs": [
    {
     "name": "stderr",
     "output_type": "stream",
     "text": [
      "  0%|          | 0/16 [00:00<?, ?it/s]/tmp/ipykernel_1577750/719813227.py:22: DtypeWarning: Columns (15,19) have mixed types. Specify dtype option on import or set low_memory=False.\n",
      "  df = pd.read_csv(zObject.open(fpath))\n",
      " 12%|█▎        | 2/16 [02:31<17:38, 75.58s/it]/tmp/ipykernel_1577750/719813227.py:22: DtypeWarning: Columns (15) have mixed types. Specify dtype option on import or set low_memory=False.\n",
      "  df = pd.read_csv(zObject.open(fpath))\n",
      " 19%|█▉        | 3/16 [03:17<13:44, 63.42s/it]/tmp/ipykernel_1577750/719813227.py:22: DtypeWarning: Columns (15,19) have mixed types. Specify dtype option on import or set low_memory=False.\n",
      "  df = pd.read_csv(zObject.open(fpath))\n",
      " 25%|██▌       | 4/16 [04:44<14:25, 72.10s/it]/tmp/ipykernel_1577750/719813227.py:22: DtypeWarning: Columns (15) have mixed types. Specify dtype option on import or set low_memory=False.\n",
      "  df = pd.read_csv(zObject.open(fpath))\n",
      " 31%|███▏      | 5/16 [06:09<14:01, 76.52s/it]/tmp/ipykernel_1577750/719813227.py:22: DtypeWarning: Columns (15) have mixed types. Specify dtype option on import or set low_memory=False.\n",
      "  df = pd.read_csv(zObject.open(fpath))\n",
      " 38%|███▊      | 6/16 [06:29<09:39, 57.96s/it]/tmp/ipykernel_1577750/719813227.py:22: DtypeWarning: Columns (15,19) have mixed types. Specify dtype option on import or set low_memory=False.\n",
      "  df = pd.read_csv(zObject.open(fpath))\n",
      " 44%|████▍     | 7/16 [06:59<07:19, 48.82s/it]/tmp/ipykernel_1577750/719813227.py:22: DtypeWarning: Columns (15,19) have mixed types. Specify dtype option on import or set low_memory=False.\n",
      "  df = pd.read_csv(zObject.open(fpath))\n",
      " 50%|█████     | 8/16 [07:53<06:44, 50.57s/it]/tmp/ipykernel_1577750/719813227.py:22: DtypeWarning: Columns (15,19) have mixed types. Specify dtype option on import or set low_memory=False.\n",
      "  df = pd.read_csv(zObject.open(fpath))\n",
      " 56%|█████▋    | 9/16 [09:50<08:17, 71.03s/it]/tmp/ipykernel_1577750/719813227.py:22: DtypeWarning: Columns (15) have mixed types. Specify dtype option on import or set low_memory=False.\n",
      "  df = pd.read_csv(zObject.open(fpath))\n",
      " 69%|██████▉   | 11/16 [10:40<03:44, 44.97s/it]/tmp/ipykernel_1577750/719813227.py:22: DtypeWarning: Columns (15) have mixed types. Specify dtype option on import or set low_memory=False.\n",
      "  df = pd.read_csv(zObject.open(fpath))\n",
      " 75%|███████▌  | 12/16 [11:34<03:11, 47.91s/it]/tmp/ipykernel_1577750/719813227.py:22: DtypeWarning: Columns (19) have mixed types. Specify dtype option on import or set low_memory=False.\n",
      "  df = pd.read_csv(zObject.open(fpath))\n",
      " 81%|████████▏ | 13/16 [11:35<01:41, 33.75s/it]/tmp/ipykernel_1577750/719813227.py:22: DtypeWarning: Columns (15,19) have mixed types. Specify dtype option on import or set low_memory=False.\n",
      "  df = pd.read_csv(zObject.open(fpath))\n",
      " 88%|████████▊ | 14/16 [11:50<00:56, 28.04s/it]/tmp/ipykernel_1577750/719813227.py:22: DtypeWarning: Columns (15,19) have mixed types. Specify dtype option on import or set low_memory=False.\n",
      "  df = pd.read_csv(zObject.open(fpath))\n",
      " 94%|█████████▍| 15/16 [13:04<00:41, 41.88s/it]/tmp/ipykernel_1577750/719813227.py:22: DtypeWarning: Columns (15,19) have mixed types. Specify dtype option on import or set low_memory=False.\n",
      "  df = pd.read_csv(zObject.open(fpath))\n",
      "100%|██████████| 16/16 [13:07<00:00, 49.25s/it]\n"
     ]
    }
   ],
   "source": [
    "import zipfile\n",
    "import pandas as pd\n",
    "import numpy as np\n",
    "import networkx as nx\n",
    "import matplotlib.pyplot as plt\n",
    "from tqdm import tqdm\n",
    "from collections import defaultdict\n",
    "import sys\n",
    "import re\n",
    "\n",
    "# Correct the path to the zip file\n",
    "path1 = \"/ctc/DATASTORE/TwitterReleases/InformationOperations/202006/hashed_2020_05_turkey_052020_turkey_052020_tweets_csv_hashed.zip\"\n",
    "\n",
    "# Create a defaultdict to store mentions and their counts\n",
    "mentions = defaultdict(int)\n",
    "G = nx.Graph()\n",
    "\n",
    "# Create a zip object\n",
    "with zipfile.ZipFile(path1, 'r') as zObject:\n",
    "    # List the contents of the zip file\n",
    "    for fpath in tqdm([fpath for fpath in zObject.namelist() if fpath.endswith(\".csv\")]):\n",
    "        df = pd.read_csv(zObject.open(fpath))\n",
    "        \n",
    "        # Split mentions by comma and remove empty strings\n",
    "        df = df[df['user_mentions'].notna()]\n",
    "        mentions_list = df['user_mentions'].tolist()\n",
    "        \n",
    "        mentions_list = [mention_list[1:-1].split(\",\") for mention_list in mentions_list]\n",
    "        cleaned_mentions = []\n",
    "        for mention_list in mentions_list:\n",
    "            new_mention_list = []\n",
    "            for t in mention_list:\n",
    "                if t.strip() != \"\":\n",
    "                    t = re.sub(\"'\", \"\", t)\n",
    "                    new_mention_list.append(t.lower().strip())\n",
    "            if len(new_mention_list) > 0:\n",
    "                cleaned_mentions.append(new_mention_list)\n",
    "        \n",
    "        for mentions in cleaned_mentions:\n",
    "            len_mentions = len(mentions)\n",
    "            if len_mentions > 1:\n",
    "                for i in range(len_mentions):\n",
    "                    for j in range(i + 1, len_mentions):\n",
    "                        if G.has_edge(mentions[i], mentions[j]):\n",
    "                            G.edges[mentions[i], mentions[j]][\"weight\"] += 1\n",
    "                        else:\n",
    "                            G.add_edge(mentions[i], mentions[j], weight=1)\n"
   ]
  },
  {
   "cell_type": "code",
   "execution_count": 5,
   "metadata": {},
   "outputs": [],
   "source": [
    "nx.write_gexf(G,\"fullmentions.gexf\")"
   ]
  },
  {
   "cell_type": "code",
   "execution_count": 6,
   "metadata": {},
   "outputs": [
    {
     "name": "stdout",
     "output_type": "stream",
     "text": [
      "('938499667863789569', '2831834636') {'weight': 1113}\n",
      "('938499667863789569', 'a7nmqfxuzhooonlid8bkdch62ttrubkedvzvk8iojua=') {'weight': 10}\n",
      "('938499667863789569', '1107334956936777730') {'weight': 3}\n",
      "('938499667863789569', 'r3anboatw1dxnqpurnomzzwgeb6i6xvrzshljyltplq=') {'weight': 18}\n",
      "('938499667863789569', '0vl+g+pakgxowsnbg8yteqxepprispn2hgf3yjpatf4=') {'weight': 8}\n",
      "('938499667863789569', '2346661059') {'weight': 21}\n",
      "('938499667863789569', '1166036592781406213') {'weight': 10}\n",
      "('938499667863789569', '905197919212642308') {'weight': 14}\n",
      "('938499667863789569', '234697299') {'weight': 2}\n",
      "('938499667863789569', 'lwddlnmsreg9vqtjzph7ybnsxsyv9uy2eq2vo0h0mxc=') {'weight': 5}\n",
      "('938499667863789569', '708626357186633729') {'weight': 7}\n",
      "('938499667863789569', 'rf1xmq++qtiuynbm1tyclqaprpdwm7zfzpi1clsse7u=') {'weight': 13}\n",
      "('938499667863789569', 'jg4ednrllqwj+fpia1dzdfchh2u1dqgcaiuk+wxgqni=') {'weight': 2}\n",
      "('938499667863789569', '580044071') {'weight': 104}\n",
      "('938499667863789569', '160502204') {'weight': 21}\n",
      "('938499667863789569', 'ovbfdxkx52gozbaey5eamq8txanpvsnnxphxet1wo0=') {'weight': 6}\n",
      "('938499667863789569', '1099993286465515521') {'weight': 4}\n",
      "('938499667863789569', '802480610392604672') {'weight': 4}\n",
      "('938499667863789569', '804206939311837184') {'weight': 7}\n",
      "('938499667863789569', '713386022889984000') {'weight': 7}\n",
      "('938499667863789569', 'vgfpg0sqtdsb3gdim9pdnbyo0k3bkfl5wvjgkf8s9le=') {'weight': 1}\n",
      "('938499667863789569', '1178308077176676352') {'weight': 3}\n",
      "('938499667863789569', 'kt5rlt2av0xvfgyg3hbzlbfedtvataso2sqzjwgfrm=') {'weight': 2}\n",
      "('938499667863789569', '2274433328') {'weight': 6}\n",
      "('938499667863789569', 'obdzzomwjeriugyhkjuyiie3e3hfjwgsonvfhaemsju=') {'weight': 13}\n",
      "('938499667863789569', '0xci40dvaamexzrjwctb4efvw5lpxw794nwfdgoknwi=') {'weight': 4}\n",
      "('938499667863789569', '+ipl1sab7ukpdlatuihn0sajryln6kcod7ls2bobymq=') {'weight': 6}\n",
      "('938499667863789569', '109226167') {'weight': 2}\n",
      "('938499667863789569', '1067074674805432320') {'weight': 2}\n",
      "('938499667863789569', '262256119') {'weight': 1}\n",
      "('938499667863789569', '379130696') {'weight': 30}\n",
      "('938499667863789569', '68034431') {'weight': 73}\n",
      "('938499667863789569', '272613386') {'weight': 3}\n",
      "('938499667863789569', '915867855090012160') {'weight': 1}\n",
      "('938499667863789569', 'ozguhenqlr18tqiiuhfzwzozfwlbl407xcp8fy0jpa8=') {'weight': 2}\n",
      "('938499667863789569', '856726781147086848') {'weight': 1}\n",
      "('938499667863789569', '1120350495267262464') {'weight': 1}\n",
      "('938499667863789569', 'bggsrnopd8j2sa0fhxxb9uvks3homdryb9fnjhoctqu=') {'weight': 3}\n",
      "('938499667863789569', 'r9hv9zvlajhoohlyfwmmhwkh2muxfrnql4wrcs764tw=') {'weight': 2}\n",
      "('938499667863789569', '919497017113612289') {'weight': 1}\n",
      "('938499667863789569', '1019628806301278208') {'weight': 2}\n",
      "('938499667863789569', '1024355856') {'weight': 3}\n",
      "('938499667863789569', '938499667863789569') {'weight': 2}\n",
      "('938499667863789569', '217474253') {'weight': 1}\n",
      "('938499667863789569', '3408429064') {'weight': 1}\n",
      "('938499667863789569', '3289077422') {'weight': 1}\n",
      "('938499667863789569', '230527117') {'weight': 6}\n",
      "('938499667863789569', '1069153795') {'weight': 1}\n",
      "('938499667863789569', '471351006') {'weight': 1}\n",
      "('938499667863789569', '3052171144') {'weight': 3}\n",
      "('938499667863789569', '2227165298') {'weight': 1}\n",
      "('938499667863789569', '258918857') {'weight': 7}\n",
      "('938499667863789569', '948183283552215040') {'weight': 1}\n",
      "('938499667863789569', '8nkfvudwv0gnrwnzoffc2iza1zocwog5bnhc0wwv5lg=') {'weight': 3}\n",
      "('938499667863789569', '1109760828943880193') {'weight': 1}\n",
      "('938499667863789569', '849695405378088962') {'weight': 2}\n",
      "('938499667863789569', '18971997') {'weight': 4}\n",
      "('938499667863789569', '123885354') {'weight': 3}\n",
      "('938499667863789569', '1396700580') {'weight': 2}\n",
      "('938499667863789569', '3169313201') {'weight': 4}\n",
      "('938499667863789569', '7d9lxpc9luw2yrlvsexxsjvjt2ralezpobvqlfphc4=') {'weight': 1}\n",
      "('938499667863789569', '2698091610') {'weight': 2}\n",
      "('938499667863789569', '945355840084742144') {'weight': 2}\n",
      "('938499667863789569', 'b1fzma5nncnxi2atcil9bf0ovak6ixnn6rza1pfrsu=') {'weight': 2}\n",
      "('938499667863789569', '114784239') {'weight': 2}\n",
      "('938499667863789569', '1187092470288601088') {'weight': 1}\n",
      "('938499667863789569', '3730527255') {'weight': 2}\n",
      "('938499667863789569', '1284238940') {'weight': 2}\n",
      "('938499667863789569', '1036634306255511552') {'weight': 1}\n",
      "('938499667863789569', '189915515') {'weight': 1}\n",
      "('938499667863789569', 'vczarapcgsbbjpc+ptdw0xsohcwmrrsj0fmugla20u=') {'weight': 1}\n",
      "('938499667863789569', '3833529472') {'weight': 4}\n",
      "('938499667863789569', 'q84jtqyqlfwhodvcbouopp6s2dy+1dvk4zr041cnqaa=') {'weight': 1}\n",
      "('938499667863789569', '8q8tyhpwsrgvdvs1cumrqq5tnmacnh8fo8c0zobauva=') {'weight': 1}\n",
      "('938499667863789569', 'lxqeqw9q7fnewhaljagwg4cqfpswci9nekkxrnzwc=') {'weight': 1}\n",
      "('938499667863789569', '2838023373') {'weight': 1}\n",
      "('938499667863789569', 'awgb4i1fsu4vnuhi0iqesox46qr5hr4r3f2wqp0ovq=') {'weight': 1}\n",
      "('938499667863789569', 'ubm2hyygdszeleze0irxmg27yjzm1ijbfeyey5gqfyy=') {'weight': 1}\n",
      "('938499667863789569', 'msg9b0ny8+kkfkoglqkebgqz6bnvpmjqudsxckrqu=') {'weight': 1}\n",
      "('938499667863789569', '768108919000629248') {'weight': 1}\n",
      "('938499667863789569', '405646864') {'weight': 1}\n",
      "('938499667863789569', 'kdgbqzhij9avtd9m6ah2wztiunne0lou7ddcx261i=') {'weight': 1}\n",
      "('938499667863789569', 'cw6ixogoj7j2sprkhenzb399rvt+cqzpi+k6d7dds=') {'weight': 2}\n",
      "('938499667863789569', '522110855') {'weight': 66}\n",
      "('938499667863789569', '544376108') {'weight': 1}\n",
      "('938499667863789569', '355865493') {'weight': 1}\n",
      "('938499667863789569', '1628824092') {'weight': 1}\n",
      "('938499667863789569', '1487181799') {'weight': 1}\n",
      "('938499667863789569', '3053265051') {'weight': 9}\n",
      "('938499667863789569', '523261368') {'weight': 17}\n",
      "('938499667863789569', '839210354940997632') {'weight': 17}\n",
      "('938499667863789569', '3118852072') {'weight': 3}\n",
      "('938499667863789569', '713555329') {'weight': 1}\n",
      "('938499667863789569', '264340899') {'weight': 1}\n",
      "('938499667863789569', '56318917') {'weight': 1}\n",
      "('938499667863789569', '272403490') {'weight': 1}\n",
      "('938499667863789569', '1944931044') {'weight': 6}\n",
      "('938499667863789569', '180683490') {'weight': 6}\n",
      "('938499667863789569', '400659475') {'weight': 1}\n",
      "('938499667863789569', '1017013698823585792') {'weight': 1}\n",
      "('938499667863789569', '731874407531069441') {'weight': 1}\n"
     ]
    }
   ],
   "source": [
    "counter = 0\n",
    "for e in G.edges:\n",
    "    print(e, G.get_edge_data(e[0],e[1]))\n",
    "    counter += 1\n",
    "    if counter > 100:\n",
    "        break    "
   ]
  },
  {
   "cell_type": "code",
   "execution_count": 15,
   "metadata": {},
   "outputs": [
    {
     "name": "stdout",
     "output_type": "stream",
     "text": [
      "Graph with 8325 nodes and 82451 edges\n"
     ]
    }
   ],
   "source": [
    "# Filtering the network\n",
    "threshold = 200\n",
    "NEW_G = nx.Graph()\n",
    "for edge in list(G.edges()).copy():\n",
    "    weight = G.get_edge_data(edge[0],edge[1])[\"weight\"]\n",
    "    if weight >= threshold:\n",
    "        NEW_G.add_edge(edge[0],edge[1],weight=weight)\n",
    "print(NEW_G)"
   ]
  },
  {
   "cell_type": "code",
   "execution_count": 16,
   "metadata": {},
   "outputs": [],
   "source": [
    "nx.write_gexf(NEW_G,\"200filteredmentions.gexf\")"
   ]
  },
  {
   "cell_type": "code",
   "execution_count": 8,
   "metadata": {},
   "outputs": [
    {
     "ename": "TypeError",
     "evalue": "add_edge() missing 2 required positional arguments: 'u_of_edge' and 'v_of_edge'",
     "output_type": "error",
     "traceback": [
      "\u001b[0;31m---------------------------------------------------------------------------\u001b[0m",
      "\u001b[0;31mTypeError\u001b[0m                                 Traceback (most recent call last)",
      "Cell \u001b[0;32mIn[8], line 1\u001b[0m\n\u001b[0;32m----> 1\u001b[0m G\u001b[39m.\u001b[39;49madd_edge()\n",
      "\u001b[0;31mTypeError\u001b[0m: add_edge() missing 2 required positional arguments: 'u_of_edge' and 'v_of_edge'"
     ]
    }
   ],
   "source": [
    "G.add_edge()"
   ]
  }
 ],
 "metadata": {
  "kernelspec": {
   "display_name": "venv",
   "language": "python",
   "name": "python3"
  },
  "language_info": {
   "codemirror_mode": {
    "name": "ipython",
    "version": 3
   },
   "file_extension": ".py",
   "mimetype": "text/x-python",
   "name": "python",
   "nbconvert_exporter": "python",
   "pygments_lexer": "ipython3",
   "version": "3.8.10"
  },
  "orig_nbformat": 4
 },
 "nbformat": 4,
 "nbformat_minor": 2
}
