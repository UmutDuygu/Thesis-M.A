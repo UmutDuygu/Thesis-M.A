{
 "cells": [
  {
   "cell_type": "code",
   "execution_count": 21,
   "metadata": {
    "ExecuteTime": {
     "end_time": "2021-08-09T18:18:43.285155Z",
     "start_time": "2021-08-09T18:18:43.275109Z"
    },
    "id": "J6uTC_LAeK4-"
   },
   "outputs": [],
   "source": [
    "# Import necessary packages here.\n",
    "# You may need to import more depending on your project's need\n",
    "\n",
    "import os, sys\n",
    "\n",
    "# File operations\n",
    "import glob\n",
    "import gzip\n",
    "import json\n",
    "\n",
    "# Math and data analysis\n",
    "import numpy as np\n",
    "import scipy as sc\n",
    "import pandas as pd\n",
    "\n",
    "# Data visualization\n",
    "import matplotlib.pylab as plt\n",
    "\n",
    "# Network analysis\n",
    "import networkx as nx\n",
    "\n",
    "# Other packages to consider\n",
    "# Seaborn\n",
    "# NLTK, Gensim\n",
    "# Scikit-learn\n",
    "\n",
    "from collections import Counter\n",
    "from itertools import chain\n",
    "import re\n",
    "from zipfile import ZipFile"
   ]
  },
  {
   "cell_type": "markdown",
   "metadata": {
    "id": "6Pyk4Z5meK5C"
   },
   "source": [
    "# Data preperation"
   ]
  },
  {
   "cell_type": "markdown",
   "metadata": {
    "id": "nddWVWpueK5E"
   },
   "source": [
    "Your data comes from [Twitter's information operation website](https://transparency.twitter.com/en/reports/information-operations.html).\n",
    "\n",
    "Although this dataset has a structured information, you may still want to check if all the datasets are in the same format and reformat it if needed. This is important since all the code below will work if there is a consistent data format."
   ]
  },
  {
   "cell_type": "code",
   "execution_count": 22,
   "metadata": {},
   "outputs": [],
   "source": [
    "list_of_directories = [temp[0] for temp in os.walk(\"/cta/scratch/DATASETS/TwitterReleases/InformationOperations/\")][1:]"
   ]
  },
  {
   "cell_type": "code",
   "execution_count": 23,
   "metadata": {},
   "outputs": [],
   "source": [
    "list_of_zip = list()\n",
    "for directory in list_of_directories:\n",
    "    for temp in glob.glob(directory + \"**/*.zip\"):\n",
    "        list_of_zip.append(temp)"
   ]
  },
  {
   "cell_type": "code",
   "execution_count": 24,
   "metadata": {
    "scrolled": true
   },
   "outputs": [
    {
     "name": "stdout",
     "output_type": "stream",
     "text": [
      "[('/cta/scratch/DATASETS/TwitterReleases/InformationOperations/202006/hashed_2020_05_turkey_052020_turkey_052020_tweets_csv_hashed.zip', 'turkey_052020_tweets_csv_hashed/turkey_052020_tweets_csv_hashed_2009.csv'), ('/cta/scratch/DATASETS/TwitterReleases/InformationOperations/202006/hashed_2020_05_turkey_052020_turkey_052020_tweets_csv_hashed.zip', 'turkey_052020_tweets_csv_hashed/turkey_052020_tweets_csv_hashed_2019_06.csv'), ('/cta/scratch/DATASETS/TwitterReleases/InformationOperations/202006/hashed_2020_05_turkey_052020_turkey_052020_tweets_csv_hashed.zip', 'turkey_052020_tweets_csv_hashed/turkey_052020_tweets_csv_hashed_2017_01.csv'), ('/cta/scratch/DATASETS/TwitterReleases/InformationOperations/202006/hashed_2020_05_turkey_052020_turkey_052020_tweets_csv_hashed.zip', 'turkey_052020_tweets_csv_hashed/turkey_052020_tweets_csv_hashed_2019_01.csv'), ('/cta/scratch/DATASETS/TwitterReleases/InformationOperations/202006/hashed_2020_05_turkey_052020_turkey_052020_tweets_csv_hashed.zip', 'turkey_052020_tweets_csv_hashed/turkey_052020_tweets_csv_hashed_2017_06.csv'), ('/cta/scratch/DATASETS/TwitterReleases/InformationOperations/202006/hashed_2020_05_turkey_052020_turkey_052020_tweets_csv_hashed.zip', 'turkey_052020_tweets_csv_hashed/turkey_052020_tweets_csv_hashed_2020_01.csv'), ('/cta/scratch/DATASETS/TwitterReleases/InformationOperations/202006/hashed_2020_05_turkey_052020_turkey_052020_tweets_csv_hashed.zip', 'turkey_052020_tweets_csv_hashed/turkey_052020_tweets_csv_hashed_2016_01.csv'), ('/cta/scratch/DATASETS/TwitterReleases/InformationOperations/202006/hashed_2020_05_turkey_052020_turkey_052020_tweets_csv_hashed.zip', 'turkey_052020_tweets_csv_hashed/turkey_052020_tweets_csv_hashed_2015.csv'), ('/cta/scratch/DATASETS/TwitterReleases/InformationOperations/202006/hashed_2020_05_turkey_052020_turkey_052020_tweets_csv_hashed.zip', 'turkey_052020_tweets_csv_hashed/turkey_052020_tweets_csv_hashed_2018_06.csv'), ('/cta/scratch/DATASETS/TwitterReleases/InformationOperations/202006/hashed_2020_05_turkey_052020_turkey_052020_tweets_csv_hashed.zip', 'turkey_052020_tweets_csv_hashed/turkey_052020_tweets_csv_hashed_2014.csv'), ('/cta/scratch/DATASETS/TwitterReleases/InformationOperations/202006/hashed_2020_05_turkey_052020_turkey_052020_tweets_csv_hashed.zip', 'turkey_052020_tweets_csv_hashed/turkey_052020_tweets_csv_hashed_2010.csv'), ('/cta/scratch/DATASETS/TwitterReleases/InformationOperations/202006/hashed_2020_05_turkey_052020_turkey_052020_tweets_csv_hashed.zip', 'turkey_052020_tweets_csv_hashed/turkey_052020_tweets_csv_hashed_2016_06.csv'), ('/cta/scratch/DATASETS/TwitterReleases/InformationOperations/202006/hashed_2020_05_turkey_052020_turkey_052020_tweets_csv_hashed.zip', 'turkey_052020_tweets_csv_hashed/turkey_052020_tweets_csv_hashed_2011.csv'), ('/cta/scratch/DATASETS/TwitterReleases/InformationOperations/202006/hashed_2020_05_turkey_052020_turkey_052020_tweets_csv_hashed.zip', 'turkey_052020_tweets_csv_hashed/turkey_052020_tweets_csv_hashed_2013.csv'), ('/cta/scratch/DATASETS/TwitterReleases/InformationOperations/202006/hashed_2020_05_turkey_052020_turkey_052020_tweets_csv_hashed.zip', 'turkey_052020_tweets_csv_hashed/turkey_052020_tweets_csv_hashed_2018_01.csv'), ('/cta/scratch/DATASETS/TwitterReleases/InformationOperations/202006/hashed_2020_05_turkey_052020_turkey_052020_tweets_csv_hashed.zip', 'turkey_052020_tweets_csv_hashed/turkey_052020_tweets_csv_hashed_2012.csv'), ('/cta/scratch/DATASETS/TwitterReleases/InformationOperations/202006/hashed_2020_05_russia_052020_russia_052020_tweets_csv_hashed.zip', 'russia_052020_tweets_csv_hashed_1.csv'), ('/cta/scratch/DATASETS/TwitterReleases/InformationOperations/202006/hashed_2020_05_russia_052020_russia_052020_tweets_csv_hashed.zip', 'russia_052020_tweets_csv_hashed_2.csv'), ('/cta/scratch/DATASETS/TwitterReleases/InformationOperations/202006/hashed_2020_05_russia_052020_russia_052020_users_csv_hashed.zip', 'russia_052020_users_csv_hashed.csv'), ('/cta/scratch/DATASETS/TwitterReleases/InformationOperations/202006/hashed_2020_05_china_052020_china_052020_users_csv_hashed.zip', 'china_052020_users_csv_hashed.csv'), ('/cta/scratch/DATASETS/TwitterReleases/InformationOperations/202006/hashed_2020_05_china_052020_china_052020_tweets_csv_hashed.zip', 'china_052020_tweets_csv_hashed.csv'), ('/cta/scratch/DATASETS/TwitterReleases/InformationOperations/202006/hashed_2020_05_turkey_052020_turkey_052020_users_csv_hashed.zip', 'turkey_052020_users_csv_hashed.csv'), ('/cta/scratch/DATASETS/TwitterReleases/InformationOperations/201908/china_082019_1_tweets_csv_hashed.zip', 'china_082019_1_tweets_csv_hashed.csv'), ('/cta/scratch/DATASETS/TwitterReleases/InformationOperations/201908/china_082019_2_users_csv_hashed.zip', 'china_082019_2_users_csv_hashed.csv'), ('/cta/scratch/DATASETS/TwitterReleases/InformationOperations/201908/china_082019_1_users_csv_hashed.zip', 'china_082019_1_users_csv_hashed.csv'), ('/cta/scratch/DATASETS/TwitterReleases/InformationOperations/201908/china_082019_2_tweets_csv_hashed.zip', 'china_082019_2_tweets_csv_hashed.csv'), ('/cta/scratch/DATASETS/TwitterReleases/InformationOperations/201901/iran_201901_1_tweets_csv_hashed.zip', 'iran_201901_1_tweets_csv_hashed_1.csv'), ('/cta/scratch/DATASETS/TwitterReleases/InformationOperations/201901/iran_201901_1_tweets_csv_hashed.zip', 'iran_201901_1_tweets_csv_hashed_2.csv'), ('/cta/scratch/DATASETS/TwitterReleases/InformationOperations/201901/iran_201901_1_tweets_csv_hashed.zip', 'iran_201901_1_tweets_csv_hashed_3.csv'), ('/cta/scratch/DATASETS/TwitterReleases/InformationOperations/201901/iran_201901_1_tweets_csv_hashed.zip', 'iran_201901_1_tweets_csv_hashed_4.csv'), ('/cta/scratch/DATASETS/TwitterReleases/InformationOperations/201901/russia_201901_1_tweets_csv_hashed.zip', 'russian_linked_tweets_csv_hashed.csv'), ('/cta/scratch/DATASETS/TwitterReleases/InformationOperations/201901/venezuela_201901_1_tweets_csv_hashed.zip', 'venezuela_201901_1_tweets_csv_hashed_1.csv'), ('/cta/scratch/DATASETS/TwitterReleases/InformationOperations/201901/venezuela_201901_1_tweets_csv_hashed.zip', 'venezuela_201901_1_tweets_csv_hashed_2.csv'), ('/cta/scratch/DATASETS/TwitterReleases/InformationOperations/201901/venezuela_201901_1_tweets_csv_hashed.zip', 'venezuela_201901_1_tweets_csv_hashed_3.csv'), ('/cta/scratch/DATASETS/TwitterReleases/InformationOperations/201901/venezuela_201901_1_users_csv_hashed.zip', 'venezuela_201901_1_users_csv_hashed.csv'), ('/cta/scratch/DATASETS/TwitterReleases/InformationOperations/201901/venezuela_201901_2_tweets_csv_hashed.zip', 'venezuela_linked_tweets_csv_hashed.csv'), ('/cta/scratch/DATASETS/TwitterReleases/InformationOperations/201901/iran_201901_1_users_csv_hashed.zip', 'iran_201901_1_users_csv_hashed.csv'), ('/cta/scratch/DATASETS/TwitterReleases/InformationOperations/201901/iran_201901_1_users_csv_hashed.zip', '__MACOSX/._iran_201901_1_users_csv_hashed.csv'), ('/cta/scratch/DATASETS/TwitterReleases/InformationOperations/201901/venezuela_201901_2_users_csv_hashed.zip', 'venezuela_201901_2_users_csv_hashed.csv'), ('/cta/scratch/DATASETS/TwitterReleases/InformationOperations/201901/bangladesh_201901_1_users_csv_hashed.zip', 'bangladesh_201901_1_users_csv_hashed.csv'), ('/cta/scratch/DATASETS/TwitterReleases/InformationOperations/201901/bangladesh_201901_1_tweets_csv_hashed.zip', 'bangladesh_linked_tweets_csv_hashed.csv'), ('/cta/scratch/DATASETS/TwitterReleases/InformationOperations/201901/russia_201901_1_users_csv_hashed.zip', 'russia_201901_1_users_csv_hashed.csv'), ('/cta/scratch/DATASETS/TwitterReleases/InformationOperations/201901/russia_201901_1_users_csv_hashed.zip', '__MACOSX/._russia_201901_1_users_csv_hashed.csv'), ('/cta/scratch/DATASETS/TwitterReleases/InformationOperations/201912/hashed_2019_11_saudi_arabia_112019_saudi_arabia_112019_users_csv_hashed.zip', 'saudi_arabia_112019_users_csv_hashed.csv'), ('/cta/scratch/DATASETS/TwitterReleases/InformationOperations/201912/hashed_2019_11_saudi_arabia_112019_saudi_arabia_112019_tweets_csv_hashed.zip', 'saudi_arabia_112019_tweets_csv_hashed/saudi_arabia_112019_tweets_csv_hashed_9.csv'), ('/cta/scratch/DATASETS/TwitterReleases/InformationOperations/201912/hashed_2019_11_saudi_arabia_112019_saudi_arabia_112019_tweets_csv_hashed.zip', 'saudi_arabia_112019_tweets_csv_hashed/saudi_arabia_112019_tweets_csv_hashed_8.csv'), ('/cta/scratch/DATASETS/TwitterReleases/InformationOperations/201912/hashed_2019_11_saudi_arabia_112019_saudi_arabia_112019_tweets_csv_hashed.zip', 'saudi_arabia_112019_tweets_csv_hashed/saudi_arabia_112019_tweets_csv_hashed_3.csv'), ('/cta/scratch/DATASETS/TwitterReleases/InformationOperations/201912/hashed_2019_11_saudi_arabia_112019_saudi_arabia_112019_tweets_csv_hashed.zip', 'saudi_arabia_112019_tweets_csv_hashed/saudi_arabia_112019_tweets_csv_hashed_2.csv'), ('/cta/scratch/DATASETS/TwitterReleases/InformationOperations/201912/hashed_2019_11_saudi_arabia_112019_saudi_arabia_112019_tweets_csv_hashed.zip', 'saudi_arabia_112019_tweets_csv_hashed/saudi_arabia_112019_tweets_csv_hashed_1.csv'), ('/cta/scratch/DATASETS/TwitterReleases/InformationOperations/201912/hashed_2019_11_saudi_arabia_112019_saudi_arabia_112019_tweets_csv_hashed.zip', 'saudi_arabia_112019_tweets_csv_hashed/saudi_arabia_112019_tweets_csv_hashed_5.csv'), ('/cta/scratch/DATASETS/TwitterReleases/InformationOperations/201912/hashed_2019_11_saudi_arabia_112019_saudi_arabia_112019_tweets_csv_hashed.zip', 'saudi_arabia_112019_tweets_csv_hashed/saudi_arabia_112019_tweets_csv_hashed_4.csv'), ('/cta/scratch/DATASETS/TwitterReleases/InformationOperations/201912/hashed_2019_11_saudi_arabia_112019_saudi_arabia_112019_tweets_csv_hashed.zip', 'saudi_arabia_112019_tweets_csv_hashed/saudi_arabia_112019_tweets_csv_hashed_6.csv'), ('/cta/scratch/DATASETS/TwitterReleases/InformationOperations/201912/hashed_2019_11_saudi_arabia_112019_saudi_arabia_112019_tweets_csv_hashed.zip', 'saudi_arabia_112019_tweets_csv_hashed/saudi_arabia_112019_tweets_csv_hashed_7.csv'), ('/cta/scratch/DATASETS/TwitterReleases/InformationOperations/201906/iran_201906_1_users_csv_hashed.zip', 'iran_201906_1_users_csv_hashed.csv'), ('/cta/scratch/DATASETS/TwitterReleases/InformationOperations/201906/russia_201906_1_users_csv_hashed.zip', 'russia_201906_1_users_csv_hashed.csv'), ('/cta/scratch/DATASETS/TwitterReleases/InformationOperations/201906/venezuela_201906_1_users_csv_hashed.zip', 'venezuela_201906_1_users_csv_hashed.csv'), ('/cta/scratch/DATASETS/TwitterReleases/InformationOperations/201906/iran_201906_1_tweets_csv_hashed.zip', 'iran_201906_1_tweets_csv_hashed.csv'), ('/cta/scratch/DATASETS/TwitterReleases/InformationOperations/201906/iran_201906_2_tweets_csv_hashed.zip', 'iran_201906_2_tweets_csv_hashed.csv'), ('/cta/scratch/DATASETS/TwitterReleases/InformationOperations/201906/iran_201906_3_users_csv_hashed.zip', 'iran_201906_3_users_csv_hashed.csv'), ('/cta/scratch/DATASETS/TwitterReleases/InformationOperations/201906/catalonia_201906_1_users_csv_hashed.zip', 'catalonia_201906_1_users_csv_hashed.csv'), ('/cta/scratch/DATASETS/TwitterReleases/InformationOperations/201906/catalonia_201906_1_tweets_csv_hashed.zip', 'catalonia_201906_1_tweets_csv_hashed.csv'), ('/cta/scratch/DATASETS/TwitterReleases/InformationOperations/201906/russia_201906_1_tweets_csv_hashed.zip', 'russia_201906_1_tweets_csv_hashed.csv'), ('/cta/scratch/DATASETS/TwitterReleases/InformationOperations/201906/iran_201906_3_tweets_csv_hashed.zip', 'iran_201906_3_tweets_csv_hashed.csv'), ('/cta/scratch/DATASETS/TwitterReleases/InformationOperations/201906/iran_201906_2_users_csv_hashed.zip', 'iran_201906_2_users_csv_hashed.csv'), ('/cta/scratch/DATASETS/TwitterReleases/InformationOperations/201906/venezuela_201906_1_tweets_csv_hashed.zip', 'venezuela_201906_1_tweets_csv_hashed.csv'), ('/cta/scratch/DATASETS/TwitterReleases/InformationOperations/201810/iranian_tweets_csv_hashed.zip', 'iranian_tweets_csv_hashed.csv'), ('/cta/scratch/DATASETS/TwitterReleases/InformationOperations/201810/ira_users_csv_hashed.zip', 'ira_users_csv_hashed.csv'), ('/cta/scratch/DATASETS/TwitterReleases/InformationOperations/201810/ira_users_csv_hashed.zip', '__MACOSX/._ira_users_csv_hashed.csv'), ('/cta/scratch/DATASETS/TwitterReleases/InformationOperations/201810/ira_tweets_csv_hashed.zip', 'ira_tweets_csv_hashed.csv'), ('/cta/scratch/DATASETS/TwitterReleases/InformationOperations/201909/spain_082019_1_users_csv_hashed.zip', 'spain_082019_users_csv_hashed.csv'), ('/cta/scratch/DATASETS/TwitterReleases/InformationOperations/201909/hashed_2019_08_ecuador_082019_1_ecuador_082019_1_tweets_csv_hashed.zip', 'ecuador_082019_tweets_csv_hashed.csv'), ('/cta/scratch/DATASETS/TwitterReleases/InformationOperations/201909/egypt_uae_082019_1_tweets_csv_hashed.zip', 'egypt_uae_082019_tweets_csv_hashed.csv'), ('/cta/scratch/DATASETS/TwitterReleases/InformationOperations/201909/china_082019_3_tweets_csv_hashed.zip', 'china_082019_3_tweets_csv_hashed_part1.csv'), ('/cta/scratch/DATASETS/TwitterReleases/InformationOperations/201909/china_082019_3_tweets_csv_hashed.zip', 'china_082019_3_tweets_csv_hashed_part2.csv'), ('/cta/scratch/DATASETS/TwitterReleases/InformationOperations/201909/china_082019_3_tweets_csv_hashed.zip', 'china_082019_3_tweets_csv_hashed_part3.csv'), ('/cta/scratch/DATASETS/TwitterReleases/InformationOperations/201909/hashed_2019_08_ecuador_082019_1_ecuador_082019_1_users_csv_hashed.zip', 'ecuador_082019_users_csv_hashed.csv'), ('/cta/scratch/DATASETS/TwitterReleases/InformationOperations/201909/uae_082019_1_users_csv_hashed.zip', 'uae_082019_users_csv_hashed.csv'), ('/cta/scratch/DATASETS/TwitterReleases/InformationOperations/201909/china_082019_3_users_csv_hashed.zip', 'china_082019_3_users_csv_hashed.csv'), ('/cta/scratch/DATASETS/TwitterReleases/InformationOperations/201909/egypt_uae_082019_1_users_csv_hashed.zip', 'egypt_uae_082019_users_csv_hashed.csv'), ('/cta/scratch/DATASETS/TwitterReleases/InformationOperations/201909/spain_082019_1_tweets_csv_hashed.zip', 'spain_082019_tweets_csv_hashed.csv'), ('/cta/scratch/DATASETS/TwitterReleases/InformationOperations/201909/saudi_arabia_082019_1_tweets_csv_hashed.zip', 'saudi_arabia_082019_tweets_csv_hashed.csv'), ('/cta/scratch/DATASETS/TwitterReleases/InformationOperations/201909/uae_082019_1_tweets_csv_hashed.zip', 'uae_082019_tweets_csv_hashed.csv'), ('/cta/scratch/DATASETS/TwitterReleases/InformationOperations/201909/saudi_arabia_082019_1_users_csv_hashed.zip', 'saudi_arabia_082019_users_csv_hashed.csv'), ('/cta/scratch/DATASETS/TwitterReleases/InformationOperations/202003/hashed_2020_03_032020_users_csv_hashed.zip', '032020_users_csv_hashed.csv'), ('/cta/scratch/DATASETS/TwitterReleases/InformationOperations/202003/hashed_2020_03_032020_tweets_csv_hashed.zip', '032020_tweets_csv_hashed.csv'), ('/cta/scratch/DATASETS/TwitterReleases/InformationOperations/202010/hashed_2020_08_qatar_082020_qatar_082020_tweets_csv_hashed.zip', 'qatar_082020_tweets_csv_hashed.csv'), ('/cta/scratch/DATASETS/TwitterReleases/InformationOperations/202010/hashed_2020_08_cuba_082020_cuba_082020_tweets_csv_hashed.zip', 'cuba_082020_tweets_csv_hashed.csv'), ('/cta/scratch/DATASETS/TwitterReleases/InformationOperations/202010/hashed_2020_08_qatar_082020_qatar_082020_users_csv_hashed.zip', 'qatar_082020_users_csv_hashed.csv'), ('/cta/scratch/DATASETS/TwitterReleases/InformationOperations/202010/hashed_2020_09_ira_092020_ira_092020_tweets_csv_hashed.zip', 'ira_092020_tweets_csv_hashed.csv'), ('/cta/scratch/DATASETS/TwitterReleases/InformationOperations/202010/hashed_2020_09_thailand_092020_thailand_092020_users_csv_hashed.zip', 'thailand_092020_users_csv_hashed.csv'), ('/cta/scratch/DATASETS/TwitterReleases/InformationOperations/202010/hashed_2020_09_thailand_092020_thailand_092020_tweets_csv_hashed.zip', 'thailand_092020_tweets_csv_hashed.csv'), ('/cta/scratch/DATASETS/TwitterReleases/InformationOperations/202010/hashed_2020_09_iran_092020_iran_092020_tweets_csv_hashed.zip', 'iran_092020_tweets_csv_hashed.csv'), ('/cta/scratch/DATASETS/TwitterReleases/InformationOperations/202010/hashed_2020_09_iran_092020_iran_092020_users_csv_hashed.zip', 'iran_092020_users_csv_hashed.csv'), ('/cta/scratch/DATASETS/TwitterReleases/InformationOperations/202010/hashed_2020_09_ira_092020_ira_092020_users_csv_hashed.zip', 'ira_092020_users_csv_hashed.csv'), ('/cta/scratch/DATASETS/TwitterReleases/InformationOperations/202010/hashed_2020_08_cuba_082020_cuba_082020_users_csv_hashed.zip', 'cuba_082020_users_csv_hashed.csv'), ('/cta/scratch/DATASETS/TwitterReleases/InformationOperations/202004/hashed_2020_04_indonesia_022020_indonesia_022020_tweets_csv_hashed.zip', 'indonesia_022020_tweets_csv_hashed.csv'), ('/cta/scratch/DATASETS/TwitterReleases/InformationOperations/202004/hashed_2020_04_egypt_022020_egypt_022020_users_csv_hashed.zip', 'egypt_022020_users_csv_hashed.csv'), ('/cta/scratch/DATASETS/TwitterReleases/InformationOperations/202004/hashed_2020_04_honduras_022020_honduras_022020_users_csv_hashed.zip', 'honduras_022020_users_csv_hashed.csv'), ('/cta/scratch/DATASETS/TwitterReleases/InformationOperations/202004/hashed_2020_04_sa_eg_ae_022020_sa_eg_ae_022020_tweets_csv_hashed.zip', 'sa_eg_ae_022020_tweets_csv_hashed/sa_eg_ae_022020_tweets_csv_hashed_08.csv'), ('/cta/scratch/DATASETS/TwitterReleases/InformationOperations/202004/hashed_2020_04_sa_eg_ae_022020_sa_eg_ae_022020_tweets_csv_hashed.zip', 'sa_eg_ae_022020_tweets_csv_hashed/sa_eg_ae_022020_tweets_csv_hashed_09.csv'), ('/cta/scratch/DATASETS/TwitterReleases/InformationOperations/202004/hashed_2020_04_sa_eg_ae_022020_sa_eg_ae_022020_tweets_csv_hashed.zip', 'sa_eg_ae_022020_tweets_csv_hashed/sa_eg_ae_022020_tweets_csv_hashed_01.csv'), ('/cta/scratch/DATASETS/TwitterReleases/InformationOperations/202004/hashed_2020_04_sa_eg_ae_022020_sa_eg_ae_022020_tweets_csv_hashed.zip', 'sa_eg_ae_022020_tweets_csv_hashed/sa_eg_ae_022020_tweets_csv_hashed_02.csv'), ('/cta/scratch/DATASETS/TwitterReleases/InformationOperations/202004/hashed_2020_04_sa_eg_ae_022020_sa_eg_ae_022020_tweets_csv_hashed.zip', 'sa_eg_ae_022020_tweets_csv_hashed/sa_eg_ae_022020_tweets_csv_hashed_03.csv'), ('/cta/scratch/DATASETS/TwitterReleases/InformationOperations/202004/hashed_2020_04_sa_eg_ae_022020_sa_eg_ae_022020_tweets_csv_hashed.zip', 'sa_eg_ae_022020_tweets_csv_hashed/sa_eg_ae_022020_tweets_csv_hashed_07.csv'), ('/cta/scratch/DATASETS/TwitterReleases/InformationOperations/202004/hashed_2020_04_sa_eg_ae_022020_sa_eg_ae_022020_tweets_csv_hashed.zip', 'sa_eg_ae_022020_tweets_csv_hashed/sa_eg_ae_022020_tweets_csv_hashed_06.csv'), ('/cta/scratch/DATASETS/TwitterReleases/InformationOperations/202004/hashed_2020_04_sa_eg_ae_022020_sa_eg_ae_022020_tweets_csv_hashed.zip', 'sa_eg_ae_022020_tweets_csv_hashed/sa_eg_ae_022020_tweets_csv_hashed_10.csv'), ('/cta/scratch/DATASETS/TwitterReleases/InformationOperations/202004/hashed_2020_04_sa_eg_ae_022020_sa_eg_ae_022020_tweets_csv_hashed.zip', 'sa_eg_ae_022020_tweets_csv_hashed/sa_eg_ae_022020_tweets_csv_hashed_04.csv'), ('/cta/scratch/DATASETS/TwitterReleases/InformationOperations/202004/hashed_2020_04_sa_eg_ae_022020_sa_eg_ae_022020_tweets_csv_hashed.zip', 'sa_eg_ae_022020_tweets_csv_hashed/sa_eg_ae_022020_tweets_csv_hashed_05.csv'), ('/cta/scratch/DATASETS/TwitterReleases/InformationOperations/202004/hashed_2020_04_egypt_022020_egypt_022020_tweets_csv_hashed.zip', 'egypt_022020_tweets_csv_hashed.csv'), ('/cta/scratch/DATASETS/TwitterReleases/InformationOperations/202004/hashed_2020_04_honduras_022020_honduras_022020_tweets_csv_hashed.zip', 'honduras_022020_tweets_csv_hashed.csv'), ('/cta/scratch/DATASETS/TwitterReleases/InformationOperations/202004/hashed_2020_04_indonesia_022020_indonesia_022020_users_csv_hashed.zip', 'indonesia_022020_users_csv_hashed.csv'), ('/cta/scratch/DATASETS/TwitterReleases/InformationOperations/202004/hashed_2020_04_serbia_022020_serbia_022020_tweets_csv_hashed.zip', 'serbia_022020_tweets_csv_hashed/serbia_022020_tweets_csv_hashed_08.csv'), ('/cta/scratch/DATASETS/TwitterReleases/InformationOperations/202004/hashed_2020_04_serbia_022020_serbia_022020_tweets_csv_hashed.zip', 'serbia_022020_tweets_csv_hashed/serbia_022020_tweets_csv_hashed_09.csv'), ('/cta/scratch/DATASETS/TwitterReleases/InformationOperations/202004/hashed_2020_04_serbia_022020_serbia_022020_tweets_csv_hashed.zip', 'serbia_022020_tweets_csv_hashed/serbia_022020_tweets_csv_hashed_02.csv'), ('/cta/scratch/DATASETS/TwitterReleases/InformationOperations/202004/hashed_2020_04_serbia_022020_serbia_022020_tweets_csv_hashed.zip', 'serbia_022020_tweets_csv_hashed/serbia_022020_tweets_csv_hashed_03.csv'), ('/cta/scratch/DATASETS/TwitterReleases/InformationOperations/202004/hashed_2020_04_serbia_022020_serbia_022020_tweets_csv_hashed.zip', 'serbia_022020_tweets_csv_hashed/serbia_022020_tweets_csv_hashed_01.csv'), ('/cta/scratch/DATASETS/TwitterReleases/InformationOperations/202004/hashed_2020_04_serbia_022020_serbia_022020_tweets_csv_hashed.zip', 'serbia_022020_tweets_csv_hashed/serbia_022020_tweets_csv_hashed_10.csv'), ('/cta/scratch/DATASETS/TwitterReleases/InformationOperations/202004/hashed_2020_04_serbia_022020_serbia_022020_tweets_csv_hashed.zip', 'serbia_022020_tweets_csv_hashed/serbia_022020_tweets_csv_hashed_04.csv'), ('/cta/scratch/DATASETS/TwitterReleases/InformationOperations/202004/hashed_2020_04_serbia_022020_serbia_022020_tweets_csv_hashed.zip', 'serbia_022020_tweets_csv_hashed/serbia_022020_tweets_csv_hashed_05.csv'), ('/cta/scratch/DATASETS/TwitterReleases/InformationOperations/202004/hashed_2020_04_serbia_022020_serbia_022020_tweets_csv_hashed.zip', 'serbia_022020_tweets_csv_hashed/serbia_022020_tweets_csv_hashed_11.csv'), ('/cta/scratch/DATASETS/TwitterReleases/InformationOperations/202004/hashed_2020_04_serbia_022020_serbia_022020_tweets_csv_hashed.zip', 'serbia_022020_tweets_csv_hashed/serbia_022020_tweets_csv_hashed_07.csv'), ('/cta/scratch/DATASETS/TwitterReleases/InformationOperations/202004/hashed_2020_04_serbia_022020_serbia_022020_tweets_csv_hashed.zip', 'serbia_022020_tweets_csv_hashed/serbia_022020_tweets_csv_hashed_13.csv'), ('/cta/scratch/DATASETS/TwitterReleases/InformationOperations/202004/hashed_2020_04_serbia_022020_serbia_022020_tweets_csv_hashed.zip', 'serbia_022020_tweets_csv_hashed/serbia_022020_tweets_csv_hashed_12.csv'), ('/cta/scratch/DATASETS/TwitterReleases/InformationOperations/202004/hashed_2020_04_serbia_022020_serbia_022020_tweets_csv_hashed.zip', 'serbia_022020_tweets_csv_hashed/serbia_022020_tweets_csv_hashed_06.csv'), ('/cta/scratch/DATASETS/TwitterReleases/InformationOperations/202004/hashed_2020_04_sa_eg_ae_022020_sa_eg_ae_022020_users_csv_hashed.zip', 'sa_eg_ae_022020_users_csv_hashed.csv'), ('/cta/scratch/DATASETS/TwitterReleases/InformationOperations/202004/hashed_2020_04_serbia_022020_serbia_022020_users_csv_hashed.zip', 'serbia_022020_users_csv_hashed.csv')]\n"
     ]
    }
   ],
   "source": [
    "list_of_csv = list()\n",
    "\n",
    "for zip_ in list_of_zip:\n",
    "    zf = ZipFile(zip_) \n",
    "    # if you want to see all files inside zip folder\n",
    "    temp = zf.namelist()\n",
    "    for csv in temp:\n",
    "        if csv[-3:] == 'csv':\n",
    "            list_of_csv.append((zip_,csv))\n",
    "print(list_of_csv)"
   ]
  },
  {
   "cell_type": "code",
   "execution_count": 25,
   "metadata": {},
   "outputs": [],
   "source": [
    "zf = ZipFile(list_of_csv[18][0])\n",
    "df = pd.read_csv(zf.open(list_of_csv[18][1]), low_memory=False)"
   ]
  },
  {
   "cell_type": "code",
   "execution_count": null,
   "metadata": {
    "scrolled": true
   },
   "outputs": [],
   "source": [
    "df"
   ]
  },
  {
   "cell_type": "code",
   "execution_count": 26,
   "metadata": {
    "ExecuteTime": {
     "end_time": "2021-08-09T18:19:16.099720Z",
     "start_time": "2021-08-09T18:19:16.096599Z"
    },
    "id": "Ly3irKjCeK5F",
    "outputId": "603bf99b-9d33-4eeb-bd67-ab832e9913ad"
   },
   "outputs": [
    {
     "data": {
      "text/html": [
       "<div>\n",
       "<style scoped>\n",
       "    .dataframe tbody tr th:only-of-type {\n",
       "        vertical-align: middle;\n",
       "    }\n",
       "\n",
       "    .dataframe tbody tr th {\n",
       "        vertical-align: top;\n",
       "    }\n",
       "\n",
       "    .dataframe thead th {\n",
       "        text-align: right;\n",
       "    }\n",
       "</style>\n",
       "<table border=\"1\" class=\"dataframe\">\n",
       "  <thead>\n",
       "    <tr style=\"text-align: right;\">\n",
       "      <th></th>\n",
       "      <th>tweetid</th>\n",
       "      <th>userid</th>\n",
       "      <th>user_display_name</th>\n",
       "      <th>user_screen_name</th>\n",
       "      <th>user_reported_location</th>\n",
       "      <th>user_profile_description</th>\n",
       "      <th>user_profile_url</th>\n",
       "      <th>follower_count</th>\n",
       "      <th>following_count</th>\n",
       "      <th>account_creation_date</th>\n",
       "      <th>...</th>\n",
       "      <th>retweet_tweetid</th>\n",
       "      <th>latitude</th>\n",
       "      <th>longitude</th>\n",
       "      <th>quote_count</th>\n",
       "      <th>reply_count</th>\n",
       "      <th>like_count</th>\n",
       "      <th>retweet_count</th>\n",
       "      <th>hashtags</th>\n",
       "      <th>urls</th>\n",
       "      <th>user_mentions</th>\n",
       "    </tr>\n",
       "  </thead>\n",
       "  <tbody>\n",
       "    <tr>\n",
       "      <th>0</th>\n",
       "      <td>1331706590525874184</td>\n",
       "      <td>qXsKFeuypKnamstyGzyIyb5ESxeYVrF4lfj+DoNEiBI=</td>\n",
       "      <td>qXsKFeuypKnamstyGzyIyb5ESxeYVrF4lfj+DoNEiBI=</td>\n",
       "      <td>qXsKFeuypKnamstyGzyIyb5ESxeYVrF4lfj+DoNEiBI=</td>\n",
       "      <td>Azerbaijan</td>\n",
       "      <td>https://t.co/7q3bPlI5Ne является независимым и...</td>\n",
       "      <td>https://t.co/TY3gz33nIF</td>\n",
       "      <td>0</td>\n",
       "      <td>0</td>\n",
       "      <td>2020-11-23</td>\n",
       "      <td>...</td>\n",
       "      <td>NaN</td>\n",
       "      <td>absent</td>\n",
       "      <td>absent</td>\n",
       "      <td>0</td>\n",
       "      <td>0</td>\n",
       "      <td>0</td>\n",
       "      <td>0</td>\n",
       "      <td>['haqqinaz', 'haqqin', 'haqqinz']</td>\n",
       "      <td>['https://haqqin.az/news/194712']</td>\n",
       "      <td>[]</td>\n",
       "    </tr>\n",
       "    <tr>\n",
       "      <th>1</th>\n",
       "      <td>1100358276435398656</td>\n",
       "      <td>2rg8fiE11JB8Bh69A6aJWeRSBPcGTAmK8wnpFpH0=</td>\n",
       "      <td>2rg8fiE11JB8Bh69A6aJWeRSBPcGTAmK8wnpFpH0=</td>\n",
       "      <td>2rg8fiE11JB8Bh69A6aJWeRSBPcGTAmK8wnpFpH0=</td>\n",
       "      <td>Azerbaijan</td>\n",
       "      <td>I’ve learned I don’t know anything.  Have also...</td>\n",
       "      <td>NaN</td>\n",
       "      <td>145</td>\n",
       "      <td>530</td>\n",
       "      <td>2019-02-21</td>\n",
       "      <td>...</td>\n",
       "      <td>NaN</td>\n",
       "      <td>absent</td>\n",
       "      <td>absent</td>\n",
       "      <td>0</td>\n",
       "      <td>0</td>\n",
       "      <td>0</td>\n",
       "      <td>0</td>\n",
       "      <td>['Azerbaijan', 'shareforkhojaly', 'justicefork...</td>\n",
       "      <td>[]</td>\n",
       "      <td>[]</td>\n",
       "    </tr>\n",
       "    <tr>\n",
       "      <th>2</th>\n",
       "      <td>1100389340914569216</td>\n",
       "      <td>vrJSje34LOxmhLf7y0QqVdtulQZBm6QfOtxswidhrs=</td>\n",
       "      <td>vrJSje34LOxmhLf7y0QqVdtulQZBm6QfOtxswidhrs=</td>\n",
       "      <td>vrJSje34LOxmhLf7y0QqVdtulQZBm6QfOtxswidhrs=</td>\n",
       "      <td>Agri, Turkey</td>\n",
       "      <td>Love the life to its fullest\\n#Shareforkhojaly...</td>\n",
       "      <td>NaN</td>\n",
       "      <td>146</td>\n",
       "      <td>423</td>\n",
       "      <td>2019-02-21</td>\n",
       "      <td>...</td>\n",
       "      <td>NaN</td>\n",
       "      <td>absent</td>\n",
       "      <td>absent</td>\n",
       "      <td>1</td>\n",
       "      <td>0</td>\n",
       "      <td>0</td>\n",
       "      <td>0</td>\n",
       "      <td>['shareforkhojaly', 'justiceforkhojaly']</td>\n",
       "      <td>[]</td>\n",
       "      <td>[]</td>\n",
       "    </tr>\n",
       "    <tr>\n",
       "      <th>3</th>\n",
       "      <td>724982683118358528</td>\n",
       "      <td>uqU5V82g6lpOgJjvDGLIA4LEFT2wGmque+vYhRUTk=</td>\n",
       "      <td>uqU5V82g6lpOgJjvDGLIA4LEFT2wGmque+vYhRUTk=</td>\n",
       "      <td>uqU5V82g6lpOgJjvDGLIA4LEFT2wGmque+vYhRUTk=</td>\n",
       "      <td>Azerbaijan</td>\n",
       "      <td>Lieutenant General is an Azerbaijani politicia...</td>\n",
       "      <td>https://t.co/06ojhMm2e6</td>\n",
       "      <td>112</td>\n",
       "      <td>15</td>\n",
       "      <td>2016-04-10</td>\n",
       "      <td>...</td>\n",
       "      <td>NaN</td>\n",
       "      <td>absent</td>\n",
       "      <td>absent</td>\n",
       "      <td>0</td>\n",
       "      <td>0</td>\n",
       "      <td>0</td>\n",
       "      <td>0</td>\n",
       "      <td>[]</td>\n",
       "      <td>['http://www.unaoc.org/wp-content/uploads/2016...</td>\n",
       "      <td>[]</td>\n",
       "    </tr>\n",
       "    <tr>\n",
       "      <th>4</th>\n",
       "      <td>728142042765742080</td>\n",
       "      <td>uqU5V82g6lpOgJjvDGLIA4LEFT2wGmque+vYhRUTk=</td>\n",
       "      <td>uqU5V82g6lpOgJjvDGLIA4LEFT2wGmque+vYhRUTk=</td>\n",
       "      <td>uqU5V82g6lpOgJjvDGLIA4LEFT2wGmque+vYhRUTk=</td>\n",
       "      <td>Azerbaijan</td>\n",
       "      <td>Lieutenant General is an Azerbaijani politicia...</td>\n",
       "      <td>https://t.co/06ojhMm2e6</td>\n",
       "      <td>112</td>\n",
       "      <td>15</td>\n",
       "      <td>2016-04-10</td>\n",
       "      <td>...</td>\n",
       "      <td>NaN</td>\n",
       "      <td>absent</td>\n",
       "      <td>absent</td>\n",
       "      <td>0</td>\n",
       "      <td>0</td>\n",
       "      <td>0</td>\n",
       "      <td>0</td>\n",
       "      <td>['Azerbaijan']</td>\n",
       "      <td>['http://bit.ly/24tbEqN']</td>\n",
       "      <td>[]</td>\n",
       "    </tr>\n",
       "  </tbody>\n",
       "</table>\n",
       "<p>5 rows × 30 columns</p>\n",
       "</div>"
      ],
      "text/plain": [
       "               tweetid                                        userid  \\\n",
       "0  1331706590525874184  qXsKFeuypKnamstyGzyIyb5ESxeYVrF4lfj+DoNEiBI=   \n",
       "1  1100358276435398656     2rg8fiE11JB8Bh69A6aJWeRSBPcGTAmK8wnpFpH0=   \n",
       "2  1100389340914569216   vrJSje34LOxmhLf7y0QqVdtulQZBm6QfOtxswidhrs=   \n",
       "3   724982683118358528    uqU5V82g6lpOgJjvDGLIA4LEFT2wGmque+vYhRUTk=   \n",
       "4   728142042765742080    uqU5V82g6lpOgJjvDGLIA4LEFT2wGmque+vYhRUTk=   \n",
       "\n",
       "                              user_display_name  \\\n",
       "0  qXsKFeuypKnamstyGzyIyb5ESxeYVrF4lfj+DoNEiBI=   \n",
       "1     2rg8fiE11JB8Bh69A6aJWeRSBPcGTAmK8wnpFpH0=   \n",
       "2   vrJSje34LOxmhLf7y0QqVdtulQZBm6QfOtxswidhrs=   \n",
       "3    uqU5V82g6lpOgJjvDGLIA4LEFT2wGmque+vYhRUTk=   \n",
       "4    uqU5V82g6lpOgJjvDGLIA4LEFT2wGmque+vYhRUTk=   \n",
       "\n",
       "                               user_screen_name user_reported_location  \\\n",
       "0  qXsKFeuypKnamstyGzyIyb5ESxeYVrF4lfj+DoNEiBI=             Azerbaijan   \n",
       "1     2rg8fiE11JB8Bh69A6aJWeRSBPcGTAmK8wnpFpH0=             Azerbaijan   \n",
       "2   vrJSje34LOxmhLf7y0QqVdtulQZBm6QfOtxswidhrs=           Agri, Turkey   \n",
       "3    uqU5V82g6lpOgJjvDGLIA4LEFT2wGmque+vYhRUTk=             Azerbaijan   \n",
       "4    uqU5V82g6lpOgJjvDGLIA4LEFT2wGmque+vYhRUTk=             Azerbaijan   \n",
       "\n",
       "                            user_profile_description         user_profile_url  \\\n",
       "0  https://t.co/7q3bPlI5Ne является независимым и...  https://t.co/TY3gz33nIF   \n",
       "1  I’ve learned I don’t know anything.  Have also...                      NaN   \n",
       "2  Love the life to its fullest\\n#Shareforkhojaly...                      NaN   \n",
       "3  Lieutenant General is an Azerbaijani politicia...  https://t.co/06ojhMm2e6   \n",
       "4  Lieutenant General is an Azerbaijani politicia...  https://t.co/06ojhMm2e6   \n",
       "\n",
       "   follower_count  following_count account_creation_date  ... retweet_tweetid  \\\n",
       "0               0                0            2020-11-23  ...             NaN   \n",
       "1             145              530            2019-02-21  ...             NaN   \n",
       "2             146              423            2019-02-21  ...             NaN   \n",
       "3             112               15            2016-04-10  ...             NaN   \n",
       "4             112               15            2016-04-10  ...             NaN   \n",
       "\n",
       "  latitude longitude quote_count reply_count like_count  retweet_count  \\\n",
       "0   absent    absent           0           0          0              0   \n",
       "1   absent    absent           0           0          0              0   \n",
       "2   absent    absent           1           0          0              0   \n",
       "3   absent    absent           0           0          0              0   \n",
       "4   absent    absent           0           0          0              0   \n",
       "\n",
       "                                            hashtags  \\\n",
       "0                  ['haqqinaz', 'haqqin', 'haqqinz']   \n",
       "1  ['Azerbaijan', 'shareforkhojaly', 'justicefork...   \n",
       "2           ['shareforkhojaly', 'justiceforkhojaly']   \n",
       "3                                                 []   \n",
       "4                                     ['Azerbaijan']   \n",
       "\n",
       "                                                urls user_mentions  \n",
       "0                  ['https://haqqin.az/news/194712']            []  \n",
       "1                                                 []            []  \n",
       "2                                                 []            []  \n",
       "3  ['http://www.unaoc.org/wp-content/uploads/2016...            []  \n",
       "4                          ['http://bit.ly/24tbEqN']            []  \n",
       "\n",
       "[5 rows x 30 columns]"
      ]
     },
     "execution_count": 26,
     "metadata": {},
     "output_type": "execute_result"
    }
   ],
   "source": [
    "# Define locations for datasets\n",
    "file_path = '/cta/scratch/DATASETS/TwitterReleases/InformationOperations/202102/'\n",
    "DATA_PATH = 'hashed_2020_12_armenia_202012_armenia_202012_tweets_csv_hashed.csv'\n",
    "\n",
    "# Read files using Pandas or file reader\n",
    "\n",
    "df = pd.read_csv(file_path + DATA_PATH, low_memory=False)\n",
    "df.head()"
   ]
  },
  {
   "cell_type": "markdown",
   "metadata": {
    "id": "pn5mqRt4eK5G"
   },
   "source": [
    "# Check basic statistics before analysis"
   ]
  },
  {
   "cell_type": "code",
   "execution_count": 8,
   "metadata": {
    "ExecuteTime": {
     "end_time": "2021-08-09T18:19:55.885452Z",
     "start_time": "2021-08-09T18:19:55.881837Z"
    },
    "id": "GTJFQYXgeK5H",
    "outputId": "92f3319a-4503-4fc4-b300-6b1abd04ff89"
   },
   "outputs": [
    {
     "data": {
      "text/plain": [
       "72960"
      ]
     },
     "execution_count": 8,
     "metadata": {},
     "output_type": "execute_result"
    }
   ],
   "source": [
    "# Count and number of record in the dataset\n",
    "# df['tweetid'].value_counts()\n",
    "df.shape[0]"
   ]
  },
  {
   "cell_type": "code",
   "execution_count": 9,
   "metadata": {
    "ExecuteTime": {
     "end_time": "2021-08-09T18:20:18.692849Z",
     "start_time": "2021-08-09T18:20:18.687885Z"
    },
    "id": "oiaZq3uCeK5H",
    "outputId": "ca3d9ed7-901d-471b-dc57-185d8ec62425",
    "scrolled": true
   },
   "outputs": [
    {
     "data": {
      "text/html": [
       "<div>\n",
       "<style scoped>\n",
       "    .dataframe tbody tr th:only-of-type {\n",
       "        vertical-align: middle;\n",
       "    }\n",
       "\n",
       "    .dataframe tbody tr th {\n",
       "        vertical-align: top;\n",
       "    }\n",
       "\n",
       "    .dataframe thead th {\n",
       "        text-align: right;\n",
       "    }\n",
       "</style>\n",
       "<table border=\"1\" class=\"dataframe\">\n",
       "  <thead>\n",
       "    <tr style=\"text-align: right;\">\n",
       "      <th></th>\n",
       "      <th>tweetid</th>\n",
       "      <th>userid</th>\n",
       "      <th>user_display_name</th>\n",
       "      <th>user_screen_name</th>\n",
       "      <th>user_reported_location</th>\n",
       "      <th>user_profile_description</th>\n",
       "      <th>user_profile_url</th>\n",
       "      <th>follower_count</th>\n",
       "      <th>following_count</th>\n",
       "      <th>account_creation_date</th>\n",
       "      <th>...</th>\n",
       "      <th>retweet_tweetid</th>\n",
       "      <th>latitude</th>\n",
       "      <th>longitude</th>\n",
       "      <th>quote_count</th>\n",
       "      <th>reply_count</th>\n",
       "      <th>like_count</th>\n",
       "      <th>retweet_count</th>\n",
       "      <th>hashtags</th>\n",
       "      <th>urls</th>\n",
       "      <th>user_mentions</th>\n",
       "    </tr>\n",
       "  </thead>\n",
       "  <tbody>\n",
       "    <tr>\n",
       "      <th>0</th>\n",
       "      <td>1331706590525874184</td>\n",
       "      <td>qXsKFeuypKnamstyGzyIyb5ESxeYVrF4lfj+DoNEiBI=</td>\n",
       "      <td>qXsKFeuypKnamstyGzyIyb5ESxeYVrF4lfj+DoNEiBI=</td>\n",
       "      <td>qXsKFeuypKnamstyGzyIyb5ESxeYVrF4lfj+DoNEiBI=</td>\n",
       "      <td>Azerbaijan</td>\n",
       "      <td>https://t.co/7q3bPlI5Ne является независимым и...</td>\n",
       "      <td>https://t.co/TY3gz33nIF</td>\n",
       "      <td>0</td>\n",
       "      <td>0</td>\n",
       "      <td>2020-11-23</td>\n",
       "      <td>...</td>\n",
       "      <td>NaN</td>\n",
       "      <td>absent</td>\n",
       "      <td>absent</td>\n",
       "      <td>0</td>\n",
       "      <td>0</td>\n",
       "      <td>0</td>\n",
       "      <td>0</td>\n",
       "      <td>['haqqinaz', 'haqqin', 'haqqinz']</td>\n",
       "      <td>['https://haqqin.az/news/194712']</td>\n",
       "      <td>[]</td>\n",
       "    </tr>\n",
       "    <tr>\n",
       "      <th>1</th>\n",
       "      <td>1100358276435398656</td>\n",
       "      <td>2rg8fiE11JB8Bh69A6aJWeRSBPcGTAmK8wnpFpH0=</td>\n",
       "      <td>2rg8fiE11JB8Bh69A6aJWeRSBPcGTAmK8wnpFpH0=</td>\n",
       "      <td>2rg8fiE11JB8Bh69A6aJWeRSBPcGTAmK8wnpFpH0=</td>\n",
       "      <td>Azerbaijan</td>\n",
       "      <td>I’ve learned I don’t know anything.  Have also...</td>\n",
       "      <td>NaN</td>\n",
       "      <td>145</td>\n",
       "      <td>530</td>\n",
       "      <td>2019-02-21</td>\n",
       "      <td>...</td>\n",
       "      <td>NaN</td>\n",
       "      <td>absent</td>\n",
       "      <td>absent</td>\n",
       "      <td>0</td>\n",
       "      <td>0</td>\n",
       "      <td>0</td>\n",
       "      <td>0</td>\n",
       "      <td>['Azerbaijan', 'shareforkhojaly', 'justicefork...</td>\n",
       "      <td>[]</td>\n",
       "      <td>[]</td>\n",
       "    </tr>\n",
       "    <tr>\n",
       "      <th>2</th>\n",
       "      <td>1100389340914569216</td>\n",
       "      <td>vrJSje34LOxmhLf7y0QqVdtulQZBm6QfOtxswidhrs=</td>\n",
       "      <td>vrJSje34LOxmhLf7y0QqVdtulQZBm6QfOtxswidhrs=</td>\n",
       "      <td>vrJSje34LOxmhLf7y0QqVdtulQZBm6QfOtxswidhrs=</td>\n",
       "      <td>Agri, Turkey</td>\n",
       "      <td>Love the life to its fullest\\n#Shareforkhojaly...</td>\n",
       "      <td>NaN</td>\n",
       "      <td>146</td>\n",
       "      <td>423</td>\n",
       "      <td>2019-02-21</td>\n",
       "      <td>...</td>\n",
       "      <td>NaN</td>\n",
       "      <td>absent</td>\n",
       "      <td>absent</td>\n",
       "      <td>1</td>\n",
       "      <td>0</td>\n",
       "      <td>0</td>\n",
       "      <td>0</td>\n",
       "      <td>['shareforkhojaly', 'justiceforkhojaly']</td>\n",
       "      <td>[]</td>\n",
       "      <td>[]</td>\n",
       "    </tr>\n",
       "    <tr>\n",
       "      <th>3</th>\n",
       "      <td>724982683118358528</td>\n",
       "      <td>uqU5V82g6lpOgJjvDGLIA4LEFT2wGmque+vYhRUTk=</td>\n",
       "      <td>uqU5V82g6lpOgJjvDGLIA4LEFT2wGmque+vYhRUTk=</td>\n",
       "      <td>uqU5V82g6lpOgJjvDGLIA4LEFT2wGmque+vYhRUTk=</td>\n",
       "      <td>Azerbaijan</td>\n",
       "      <td>Lieutenant General is an Azerbaijani politicia...</td>\n",
       "      <td>https://t.co/06ojhMm2e6</td>\n",
       "      <td>112</td>\n",
       "      <td>15</td>\n",
       "      <td>2016-04-10</td>\n",
       "      <td>...</td>\n",
       "      <td>NaN</td>\n",
       "      <td>absent</td>\n",
       "      <td>absent</td>\n",
       "      <td>0</td>\n",
       "      <td>0</td>\n",
       "      <td>0</td>\n",
       "      <td>0</td>\n",
       "      <td>[]</td>\n",
       "      <td>['http://www.unaoc.org/wp-content/uploads/2016...</td>\n",
       "      <td>[]</td>\n",
       "    </tr>\n",
       "    <tr>\n",
       "      <th>4</th>\n",
       "      <td>728142042765742080</td>\n",
       "      <td>uqU5V82g6lpOgJjvDGLIA4LEFT2wGmque+vYhRUTk=</td>\n",
       "      <td>uqU5V82g6lpOgJjvDGLIA4LEFT2wGmque+vYhRUTk=</td>\n",
       "      <td>uqU5V82g6lpOgJjvDGLIA4LEFT2wGmque+vYhRUTk=</td>\n",
       "      <td>Azerbaijan</td>\n",
       "      <td>Lieutenant General is an Azerbaijani politicia...</td>\n",
       "      <td>https://t.co/06ojhMm2e6</td>\n",
       "      <td>112</td>\n",
       "      <td>15</td>\n",
       "      <td>2016-04-10</td>\n",
       "      <td>...</td>\n",
       "      <td>NaN</td>\n",
       "      <td>absent</td>\n",
       "      <td>absent</td>\n",
       "      <td>0</td>\n",
       "      <td>0</td>\n",
       "      <td>0</td>\n",
       "      <td>0</td>\n",
       "      <td>['Azerbaijan']</td>\n",
       "      <td>['http://bit.ly/24tbEqN']</td>\n",
       "      <td>[]</td>\n",
       "    </tr>\n",
       "    <tr>\n",
       "      <th>5</th>\n",
       "      <td>727245477867974656</td>\n",
       "      <td>uqU5V82g6lpOgJjvDGLIA4LEFT2wGmque+vYhRUTk=</td>\n",
       "      <td>uqU5V82g6lpOgJjvDGLIA4LEFT2wGmque+vYhRUTk=</td>\n",
       "      <td>uqU5V82g6lpOgJjvDGLIA4LEFT2wGmque+vYhRUTk=</td>\n",
       "      <td>Azerbaijan</td>\n",
       "      <td>Lieutenant General is an Azerbaijani politicia...</td>\n",
       "      <td>https://t.co/06ojhMm2e6</td>\n",
       "      <td>112</td>\n",
       "      <td>15</td>\n",
       "      <td>2016-04-10</td>\n",
       "      <td>...</td>\n",
       "      <td>NaN</td>\n",
       "      <td>absent</td>\n",
       "      <td>absent</td>\n",
       "      <td>0</td>\n",
       "      <td>0</td>\n",
       "      <td>0</td>\n",
       "      <td>0</td>\n",
       "      <td>[]</td>\n",
       "      <td>['http://bit.ly/1NQeVZu']</td>\n",
       "      <td>[]</td>\n",
       "    </tr>\n",
       "    <tr>\n",
       "      <th>6</th>\n",
       "      <td>728581480545325057</td>\n",
       "      <td>uqU5V82g6lpOgJjvDGLIA4LEFT2wGmque+vYhRUTk=</td>\n",
       "      <td>uqU5V82g6lpOgJjvDGLIA4LEFT2wGmque+vYhRUTk=</td>\n",
       "      <td>uqU5V82g6lpOgJjvDGLIA4LEFT2wGmque+vYhRUTk=</td>\n",
       "      <td>Azerbaijan</td>\n",
       "      <td>Lieutenant General is an Azerbaijani politicia...</td>\n",
       "      <td>https://t.co/06ojhMm2e6</td>\n",
       "      <td>112</td>\n",
       "      <td>15</td>\n",
       "      <td>2016-04-10</td>\n",
       "      <td>...</td>\n",
       "      <td>NaN</td>\n",
       "      <td>absent</td>\n",
       "      <td>absent</td>\n",
       "      <td>0</td>\n",
       "      <td>0</td>\n",
       "      <td>0</td>\n",
       "      <td>0</td>\n",
       "      <td>[]</td>\n",
       "      <td>['http://bit.ly/23uJ7LI']</td>\n",
       "      <td>[]</td>\n",
       "    </tr>\n",
       "    <tr>\n",
       "      <th>7</th>\n",
       "      <td>650550450320601088</td>\n",
       "      <td>FqVhnX8XDzPsUa4tn29gHXs+N6ikWJoKmYhuo5pG1cE=</td>\n",
       "      <td>FqVhnX8XDzPsUa4tn29gHXs+N6ikWJoKmYhuo5pG1cE=</td>\n",
       "      <td>FqVhnX8XDzPsUa4tn29gHXs+N6ikWJoKmYhuo5pG1cE=</td>\n",
       "      <td>Baku, Azerbaijan</td>\n",
       "      <td>Информационная площадка, которая закладывается...</td>\n",
       "      <td>http://t.co/p9VLSVnhtT</td>\n",
       "      <td>118</td>\n",
       "      <td>26</td>\n",
       "      <td>2014-11-19</td>\n",
       "      <td>...</td>\n",
       "      <td>NaN</td>\n",
       "      <td>absent</td>\n",
       "      <td>absent</td>\n",
       "      <td>0</td>\n",
       "      <td>0</td>\n",
       "      <td>0</td>\n",
       "      <td>0</td>\n",
       "      <td>['novosti_az']</td>\n",
       "      <td>['http://bit.ly/1OQ0wM0']</td>\n",
       "      <td>[]</td>\n",
       "    </tr>\n",
       "    <tr>\n",
       "      <th>8</th>\n",
       "      <td>661914640331333632</td>\n",
       "      <td>FqVhnX8XDzPsUa4tn29gHXs+N6ikWJoKmYhuo5pG1cE=</td>\n",
       "      <td>FqVhnX8XDzPsUa4tn29gHXs+N6ikWJoKmYhuo5pG1cE=</td>\n",
       "      <td>FqVhnX8XDzPsUa4tn29gHXs+N6ikWJoKmYhuo5pG1cE=</td>\n",
       "      <td>Baku, Azerbaijan</td>\n",
       "      <td>Информационная площадка, которая закладывается...</td>\n",
       "      <td>http://t.co/p9VLSVnhtT</td>\n",
       "      <td>118</td>\n",
       "      <td>26</td>\n",
       "      <td>2014-11-19</td>\n",
       "      <td>...</td>\n",
       "      <td>NaN</td>\n",
       "      <td>absent</td>\n",
       "      <td>absent</td>\n",
       "      <td>0</td>\n",
       "      <td>0</td>\n",
       "      <td>0</td>\n",
       "      <td>0</td>\n",
       "      <td>['novosti_az']</td>\n",
       "      <td>['http://bit.ly/1RSYxEL']</td>\n",
       "      <td>[]</td>\n",
       "    </tr>\n",
       "    <tr>\n",
       "      <th>9</th>\n",
       "      <td>535744142437933056</td>\n",
       "      <td>FqVhnX8XDzPsUa4tn29gHXs+N6ikWJoKmYhuo5pG1cE=</td>\n",
       "      <td>FqVhnX8XDzPsUa4tn29gHXs+N6ikWJoKmYhuo5pG1cE=</td>\n",
       "      <td>FqVhnX8XDzPsUa4tn29gHXs+N6ikWJoKmYhuo5pG1cE=</td>\n",
       "      <td>Baku, Azerbaijan</td>\n",
       "      <td>Информационная площадка, которая закладывается...</td>\n",
       "      <td>http://t.co/p9VLSVnhtT</td>\n",
       "      <td>118</td>\n",
       "      <td>26</td>\n",
       "      <td>2014-11-19</td>\n",
       "      <td>...</td>\n",
       "      <td>NaN</td>\n",
       "      <td>absent</td>\n",
       "      <td>absent</td>\n",
       "      <td>0</td>\n",
       "      <td>0</td>\n",
       "      <td>0</td>\n",
       "      <td>0</td>\n",
       "      <td>['novosti_az']</td>\n",
       "      <td>['http://bit.ly/1x9Xh4r']</td>\n",
       "      <td>[]</td>\n",
       "    </tr>\n",
       "  </tbody>\n",
       "</table>\n",
       "<p>10 rows × 30 columns</p>\n",
       "</div>"
      ],
      "text/plain": [
       "               tweetid                                        userid  \\\n",
       "0  1331706590525874184  qXsKFeuypKnamstyGzyIyb5ESxeYVrF4lfj+DoNEiBI=   \n",
       "1  1100358276435398656     2rg8fiE11JB8Bh69A6aJWeRSBPcGTAmK8wnpFpH0=   \n",
       "2  1100389340914569216   vrJSje34LOxmhLf7y0QqVdtulQZBm6QfOtxswidhrs=   \n",
       "3   724982683118358528    uqU5V82g6lpOgJjvDGLIA4LEFT2wGmque+vYhRUTk=   \n",
       "4   728142042765742080    uqU5V82g6lpOgJjvDGLIA4LEFT2wGmque+vYhRUTk=   \n",
       "5   727245477867974656    uqU5V82g6lpOgJjvDGLIA4LEFT2wGmque+vYhRUTk=   \n",
       "6   728581480545325057    uqU5V82g6lpOgJjvDGLIA4LEFT2wGmque+vYhRUTk=   \n",
       "7   650550450320601088  FqVhnX8XDzPsUa4tn29gHXs+N6ikWJoKmYhuo5pG1cE=   \n",
       "8   661914640331333632  FqVhnX8XDzPsUa4tn29gHXs+N6ikWJoKmYhuo5pG1cE=   \n",
       "9   535744142437933056  FqVhnX8XDzPsUa4tn29gHXs+N6ikWJoKmYhuo5pG1cE=   \n",
       "\n",
       "                              user_display_name  \\\n",
       "0  qXsKFeuypKnamstyGzyIyb5ESxeYVrF4lfj+DoNEiBI=   \n",
       "1     2rg8fiE11JB8Bh69A6aJWeRSBPcGTAmK8wnpFpH0=   \n",
       "2   vrJSje34LOxmhLf7y0QqVdtulQZBm6QfOtxswidhrs=   \n",
       "3    uqU5V82g6lpOgJjvDGLIA4LEFT2wGmque+vYhRUTk=   \n",
       "4    uqU5V82g6lpOgJjvDGLIA4LEFT2wGmque+vYhRUTk=   \n",
       "5    uqU5V82g6lpOgJjvDGLIA4LEFT2wGmque+vYhRUTk=   \n",
       "6    uqU5V82g6lpOgJjvDGLIA4LEFT2wGmque+vYhRUTk=   \n",
       "7  FqVhnX8XDzPsUa4tn29gHXs+N6ikWJoKmYhuo5pG1cE=   \n",
       "8  FqVhnX8XDzPsUa4tn29gHXs+N6ikWJoKmYhuo5pG1cE=   \n",
       "9  FqVhnX8XDzPsUa4tn29gHXs+N6ikWJoKmYhuo5pG1cE=   \n",
       "\n",
       "                               user_screen_name user_reported_location  \\\n",
       "0  qXsKFeuypKnamstyGzyIyb5ESxeYVrF4lfj+DoNEiBI=             Azerbaijan   \n",
       "1     2rg8fiE11JB8Bh69A6aJWeRSBPcGTAmK8wnpFpH0=             Azerbaijan   \n",
       "2   vrJSje34LOxmhLf7y0QqVdtulQZBm6QfOtxswidhrs=           Agri, Turkey   \n",
       "3    uqU5V82g6lpOgJjvDGLIA4LEFT2wGmque+vYhRUTk=             Azerbaijan   \n",
       "4    uqU5V82g6lpOgJjvDGLIA4LEFT2wGmque+vYhRUTk=             Azerbaijan   \n",
       "5    uqU5V82g6lpOgJjvDGLIA4LEFT2wGmque+vYhRUTk=             Azerbaijan   \n",
       "6    uqU5V82g6lpOgJjvDGLIA4LEFT2wGmque+vYhRUTk=             Azerbaijan   \n",
       "7  FqVhnX8XDzPsUa4tn29gHXs+N6ikWJoKmYhuo5pG1cE=       Baku, Azerbaijan   \n",
       "8  FqVhnX8XDzPsUa4tn29gHXs+N6ikWJoKmYhuo5pG1cE=       Baku, Azerbaijan   \n",
       "9  FqVhnX8XDzPsUa4tn29gHXs+N6ikWJoKmYhuo5pG1cE=       Baku, Azerbaijan   \n",
       "\n",
       "                            user_profile_description         user_profile_url  \\\n",
       "0  https://t.co/7q3bPlI5Ne является независимым и...  https://t.co/TY3gz33nIF   \n",
       "1  I’ve learned I don’t know anything.  Have also...                      NaN   \n",
       "2  Love the life to its fullest\\n#Shareforkhojaly...                      NaN   \n",
       "3  Lieutenant General is an Azerbaijani politicia...  https://t.co/06ojhMm2e6   \n",
       "4  Lieutenant General is an Azerbaijani politicia...  https://t.co/06ojhMm2e6   \n",
       "5  Lieutenant General is an Azerbaijani politicia...  https://t.co/06ojhMm2e6   \n",
       "6  Lieutenant General is an Azerbaijani politicia...  https://t.co/06ojhMm2e6   \n",
       "7  Информационная площадка, которая закладывается...   http://t.co/p9VLSVnhtT   \n",
       "8  Информационная площадка, которая закладывается...   http://t.co/p9VLSVnhtT   \n",
       "9  Информационная площадка, которая закладывается...   http://t.co/p9VLSVnhtT   \n",
       "\n",
       "   follower_count  following_count account_creation_date  ... retweet_tweetid  \\\n",
       "0               0                0            2020-11-23  ...             NaN   \n",
       "1             145              530            2019-02-21  ...             NaN   \n",
       "2             146              423            2019-02-21  ...             NaN   \n",
       "3             112               15            2016-04-10  ...             NaN   \n",
       "4             112               15            2016-04-10  ...             NaN   \n",
       "5             112               15            2016-04-10  ...             NaN   \n",
       "6             112               15            2016-04-10  ...             NaN   \n",
       "7             118               26            2014-11-19  ...             NaN   \n",
       "8             118               26            2014-11-19  ...             NaN   \n",
       "9             118               26            2014-11-19  ...             NaN   \n",
       "\n",
       "  latitude longitude quote_count reply_count like_count  retweet_count  \\\n",
       "0   absent    absent           0           0          0              0   \n",
       "1   absent    absent           0           0          0              0   \n",
       "2   absent    absent           1           0          0              0   \n",
       "3   absent    absent           0           0          0              0   \n",
       "4   absent    absent           0           0          0              0   \n",
       "5   absent    absent           0           0          0              0   \n",
       "6   absent    absent           0           0          0              0   \n",
       "7   absent    absent           0           0          0              0   \n",
       "8   absent    absent           0           0          0              0   \n",
       "9   absent    absent           0           0          0              0   \n",
       "\n",
       "                                            hashtags  \\\n",
       "0                  ['haqqinaz', 'haqqin', 'haqqinz']   \n",
       "1  ['Azerbaijan', 'shareforkhojaly', 'justicefork...   \n",
       "2           ['shareforkhojaly', 'justiceforkhojaly']   \n",
       "3                                                 []   \n",
       "4                                     ['Azerbaijan']   \n",
       "5                                                 []   \n",
       "6                                                 []   \n",
       "7                                     ['novosti_az']   \n",
       "8                                     ['novosti_az']   \n",
       "9                                     ['novosti_az']   \n",
       "\n",
       "                                                urls user_mentions  \n",
       "0                  ['https://haqqin.az/news/194712']            []  \n",
       "1                                                 []            []  \n",
       "2                                                 []            []  \n",
       "3  ['http://www.unaoc.org/wp-content/uploads/2016...            []  \n",
       "4                          ['http://bit.ly/24tbEqN']            []  \n",
       "5                          ['http://bit.ly/1NQeVZu']            []  \n",
       "6                          ['http://bit.ly/23uJ7LI']            []  \n",
       "7                          ['http://bit.ly/1OQ0wM0']            []  \n",
       "8                          ['http://bit.ly/1RSYxEL']            []  \n",
       "9                          ['http://bit.ly/1x9Xh4r']            []  \n",
       "\n",
       "[10 rows x 30 columns]"
      ]
     },
     "execution_count": 9,
     "metadata": {},
     "output_type": "execute_result"
    }
   ],
   "source": [
    "# Print sample of the data to see which fields are available\n",
    "\n",
    "# df.columns\n",
    "# df.tail()\n",
    "\n",
    "df.head(10)"
   ]
  },
  {
   "cell_type": "markdown",
   "metadata": {
    "id": "BPERXjHOeK5I"
   },
   "source": [
    "# Top-ranked items in the dataset"
   ]
  },
  {
   "cell_type": "code",
   "execution_count": 10,
   "metadata": {
    "ExecuteTime": {
     "end_time": "2021-08-09T18:21:27.760116Z",
     "start_time": "2021-08-09T18:21:27.756392Z"
    },
    "id": "E_Ch5iFteK5J",
    "outputId": "fd25bf7a-13db-4de2-f04a-5cbf76979d0a",
    "scrolled": true
   },
   "outputs": [
    {
     "data": {
      "text/plain": [
       "1Pqyt2W75POPX+6zd9UdZL89ALBtPPELN4NPrly0nag=    22351\n",
       "46eJLsV6+iDw1rVv36i9NONigsfqfTfQ9EBzXr901c=     19393\n",
       "FqVhnX8XDzPsUa4tn29gHXs+N6ikWJoKmYhuo5pG1cE=    15856\n",
       "Rgex8nPtn9Y4bvWf9RMb8yI2GGWP65yTXb+9ZygHU=      14128\n",
       "uqU5V82g6lpOgJjvDGLIA4LEFT2wGmque+vYhRUTk=        334\n",
       "rOr0az+xkI49HIn0VwU6R1Som+obkg6E84AqY5hnoTo=       82\n",
       "DbsuQUF4Wnqdvjb44vyvYKty3wqZYhy99pKmyKzw=          80\n",
       "eo0xpq4n+8U5Uy2FZlrcxtBEd0gldAZyDPDT+7D+wY=        61\n",
       "OVC8cA0LTalwGqP2ooefLPsdlJmbB5wF+hpKZuRp0=         60\n",
       "p8PbTRSSnu3Re1jI+c33x2TdFAKbqe6P5ZSQGmlbQ=         56\n",
       "lLmWQV16uj+BD2rwXOahQYX2GdGcAMsDlIFzIidYk4=        51\n",
       "vrJSje34LOxmhLf7y0QqVdtulQZBm6QfOtxswidhrs=        51\n",
       "2rg8fiE11JB8Bh69A6aJWeRSBPcGTAmK8wnpFpH0=          49\n",
       "Tf0FY7EDYEUVzBsJNSLmYJ0nBSU4Z38qsQxp48GpxA=        46\n",
       "9tv1gRACFz8IPY6lCkXCgaXEJh1Ol2Fk78bhuCGhyA=        38\n",
       "RjBg+chC8o0DUgVLzMEtJKK1MrsHCwbRSJs1MSbJWU=        36\n",
       "e7MA8928eiTvHTGw7lNORtEVx85xr8YkmbJuYv80=          33\n",
       "wkWpPqExTdYSLeborWuyIoY5ea9gTGDm3ZB3Ct4m5A=        33\n",
       "Nc3kQgzsNAqdsI8HIZvLUBqBrC2R2GmZsx0KZ81YgE=        30\n",
       "1L0qn8rgg4bi6tCYH934gRpAQG59vTUg9kPubBzxM=         29\n",
       "Dw3BUtxw5YA0q9KN9iSzs8OfJBlwR6yd1abnKmfds=         29\n",
       "hIwvijBQgtzTif1aiKe2oyhLTLj780vfUz8pJfXDEYI=       26\n",
       "gc6T+1OobMGL7El7hMByxqJooM4u+zwRte5ZstpVvw=        25\n",
       "3bc6BmmosKy9g+hwhMnLbHJWbe4pYksRUKf+aM50go=        22\n",
       "J+DqVRUnxy1xebmfFWlFz6O2jaweNQipELiIwGmC78=        20\n",
       "qXsKFeuypKnamstyGzyIyb5ESxeYVrF4lfj+DoNEiBI=       13\n",
       "cZOjRuZC9y0Gh52T2gucxx1agq70VE2cSus9VWC1nUc=        9\n",
       "GirKucHHVYqwkhuyAv8ypYqFiJEerIARdbMGI8Szqs=         6\n",
       "kOz2N8zYnJelFdiMofn+KHxJIBSQ4FXScqOU5nmlsog=        6\n",
       "9I2UVCTjRhYZvhxhkCC13U0HAU1ZAHDZbX1kpc3cVc=         4\n",
       "udD+2utCbaNF44kJOjT5lLCtp8lsFTEnTeIdeu7LUHc=        3\n",
       "Name: user_display_name, dtype: int64"
      ]
     },
     "execution_count": 10,
     "metadata": {},
     "output_type": "execute_result"
    }
   ],
   "source": [
    "# Print top-50 users in terms of content creation\n",
    "\n",
    "# Unhashed data might yield more meaningful results\n",
    "\n",
    "df['user_display_name'].value_counts()[:50]"
   ]
  },
  {
   "cell_type": "code",
   "execution_count": 27,
   "metadata": {
    "ExecuteTime": {
     "end_time": "2021-08-09T18:21:36.837611Z",
     "start_time": "2021-08-09T18:21:36.834401Z"
    },
    "id": "xMu9Ag-NeK5K",
    "outputId": "64f8c333-fa5a-44ff-bf7f-02cf0d6a0eb3",
    "scrolled": true
   },
   "outputs": [
    {
     "data": {
      "text/plain": [
       "[('haqqin', 39756),\n",
       " ('haqqin_az', 26898),\n",
       " ('novosti_az', 15817),\n",
       " ('today_az', 13963),\n",
       " ('haqqinaz', 12591),\n",
       " ('karabakhnow', 1370),\n",
       " ('nkpeace', 1034),\n",
       " ('azerbaijan', 685),\n",
       " ('armenia', 467),\n",
       " ('karabaghnow', 384),\n",
       " ('aztwi', 294),\n",
       " ('virtualaz', 258),\n",
       " ('followback', 248),\n",
       " ('karabakh', 217),\n",
       " ('artsakhstrong', 162),\n",
       " ('shareforkhojaly', 125),\n",
       " ('justiceforkhojaly', 124),\n",
       " ('teamfollowback', 124),\n",
       " ('tfbjp', 124),\n",
       " ('teamhitfollow', 124),\n",
       " ('autofollow', 124),\n",
       " ('mustfollow', 124),\n",
       " ('followngain', 124),\n",
       " ('turkey', 82),\n",
       " ('artsakh', 71),\n",
       " ('ussr', 67),\n",
       " ('sumgait', 50),\n",
       " ('turkeycoup', 49),\n",
       " ('istanbul', 47),\n",
       " ('armenian', 43),\n",
       " ('sumgait1988', 42),\n",
       " ('ankara', 42),\n",
       " ('armeniangenocide', 29),\n",
       " ('neveragain', 24),\n",
       " ('karabakhisazerbaijan', 23),\n",
       " ('azerbaijani', 22),\n",
       " ('unaocbaku2016', 22),\n",
       " ('stopaliyev', 22),\n",
       " ('genocide', 22),\n",
       " ('nkr', 21),\n",
       " ('ermenisoykırımı', 21),\n",
       " ('baku', 20),\n",
       " ('russia', 19),\n",
       " ('azərbaycan', 18),\n",
       " ('chechina', 16),\n",
       " ('aliyev', 15),\n",
       " ('un', 14),\n",
       " ('boycottbaku2016', 14),\n",
       " ('карабах', 14),\n",
       " ('haqqinz', 13),\n",
       " ('армения', 13),\n",
       " ('martakert', 13),\n",
       " ('nagornokarabakh', 13),\n",
       " ('armenians', 12),\n",
       " ('азербайджан', 11),\n",
       " ('osce', 11),\n",
       " ('war', 10),\n",
       " ('stoparmenianaggression', 10),\n",
       " ('stepanakert', 10),\n",
       " ('eurovision', 9),\n",
       " ('lapshin', 9),\n",
       " ('khojaly', 9),\n",
       " ('nkconflict', 9),\n",
       " ('iran', 9),\n",
       " ('aghdam', 9),\n",
       " ('talish', 8),\n",
       " ('panamapapers', 8),\n",
       " ('warcrime', 8),\n",
       " ('azerbaycan', 8),\n",
       " ('warcrimes', 8),\n",
       " ('stopattackingcivilians', 7),\n",
       " ('shushi', 6),\n",
       " ('caucasus', 6),\n",
       " ('israeli', 6),\n",
       " ('yerevan', 6),\n",
       " ('türkiyə', 6),\n",
       " ('unaocbaku2016pic', 6),\n",
       " ('belarus', 6),\n",
       " ('civilians', 6),\n",
       " ('genocideinaction', 5),\n",
       " ('victoryday', 5),\n",
       " ('isis', 5),\n",
       " ('soldiers', 5),\n",
       " ('army', 5),\n",
       " ('stoparmeniapic', 5),\n",
       " ('georgia', 5),\n",
       " ('stoparmenianoccupation', 5),\n",
       " ('shusha', 5),\n",
       " ('syria', 5),\n",
       " ('france', 5),\n",
       " ('ceasefire', 5),\n",
       " ('mataghis', 5),\n",
       " ('europegp', 5),\n",
       " ('heydarism', 5),\n",
       " ('eu', 5),\n",
       " ('peace', 5),\n",
       " ('breaking', 5),\n",
       " ('czech', 4),\n",
       " ('military', 4),\n",
       " ('nk', 4)]"
      ]
     },
     "execution_count": 27,
     "metadata": {},
     "output_type": "execute_result"
    }
   ],
   "source": [
    "# Print top-100 hashtags\n",
    "\n",
    "x = \"['elturco', 'ardaturan', 'elturco']\"\n",
    "\n",
    "# 1, 9, 12, 22\n",
    "\n",
    "# [elturco, ardaturan, elturco]\n",
    "\n",
    "def retrieveWords(string):\n",
    "\n",
    "    arr = []\n",
    "    lst_word = list()\n",
    "    word_dict = dict()\n",
    "    \n",
    "    for index, char in enumerate(string):\n",
    "        if char == \"'\":\n",
    "            arr.append(index)\n",
    "            \n",
    "    for i in range(int(len(arr)/2)):\n",
    "        elt = string[arr[0]+1:arr[1]].lower()\n",
    "        lst_word.append(elt)\n",
    "        arr.remove(arr[0])\n",
    "        arr.remove(arr[0])\n",
    "        \n",
    "    for key in lst_word:\n",
    "        if key in word_dict.keys():\n",
    "            word_dict[key] += 1\n",
    "        else:\n",
    "            word_dict[key] = 1\n",
    "\n",
    "    return word_dict\n",
    "\n",
    "def findTop100Hashtags(df):\n",
    "    hash_dict = dict()\n",
    "    if \"hashtags\" not in df.columns:\n",
    "        print(\"No hashtags, users only\")\n",
    "    else:\n",
    "        for hashtag in df[\"hashtags\"]:\n",
    "            if type(hashtag) is str:\n",
    "                word_counts = retrieveWords(hashtag)\n",
    "                for key, value in word_counts.items():\n",
    "                    if key in hash_dict.keys():\n",
    "                        hash_dict[key] += value\n",
    "                    else:\n",
    "                        hash_dict[key] = value\n",
    "\n",
    "        return sorted(hash_dict.items(), key=lambda item: item[1], reverse=True)[:100]\n",
    "\n",
    "findTop100Hashtags(df)\n",
    "\n",
    "# Need help on the omission of meaningless hashtags (exp: 'r', 'kt', etc.)"
   ]
  },
  {
   "cell_type": "code",
   "execution_count": 12,
   "metadata": {
    "scrolled": true
   },
   "outputs": [
    {
     "name": "stdout",
     "output_type": "stream",
     "text": [
      "turkey_052020_tweets_csv_hashed/turkey_052020_tweets_csv_hashed_2009.csv\n",
      "[('#fotokritik', 1)]\n",
      "turkey_052020_tweets_csv_hashed/turkey_052020_tweets_csv_hashed_2019_06.csv\n",
      "[('vuk359', 85201), ('1416ylsy', 47621), ('eyt', 35776), ('5bingıdamühendisi', 35442), ('1416ylsytazminat', 35267), ('külliyeye1000mahkumyakını', 28348), ('tazminat', 21212), ('emeklilikteyaşatakılanlar', 15467), ('faizaffi', 12898), ('hayırlıcumalar', 11903), ('barışpınarıharekatı', 11785), ('ff', 11454), ('sondaki̇ka', 11325), ('15temmuzdestanı', 10609), ('pazartesi', 9070), ('meb', 9013), ('cumartesi', 8964), ('pazar', 8358), ('hükümetinafsözüvar', 8300), ('eyt4447i̇ptaldiyor', 8279), ('vuk359esnafamüebbetceza', 8174), ('ylsy', 8011), ('çekehapiscezasıkalksın', 7964), ('eytninsessizçığlığı', 7863), ('15temmuz', 7460), ('adlimahkumkapsamlıeşityasa', 7440), ('yuksekfaiz', 7178), ('sonradedimki', 7059), ('rehabilitasyonöğrtumutol', 7030), ('dövizborcu', 6966), ('malatya', 6520), ('salı', 6441), ('i̇stanbul', 6380), ('diyarbakır', 6235), ('yuksekkurlar', 6213), ('mebbursu', 6073), ('çarşamba', 5925), ('faizaffı', 5860), ('hanicozum', 5697), ('beyingocu', 5673), ('gurbetkusu', 5624), ('ff_specialツ', 5468), ('devletbursu', 5464), ('kursabitleme', 5435), ('faizsizburs', 5403), ('ogrencifaiz', 5395), ('emeklilikteyașatakılanlar', 5338), ('eythakkındanvazgeçmez', 5182), ('afeder_misiniz', 5131), ('perşembe', 5126), ('cozumistiyoruz', 4998), ('derdimizederman', 4977), ('kalemlerinsığınağı', 4807), ('rehbltsynöğrtsahipçıkmeb', 4736), ('egitimefaizolmasin', 4717), ('abosuzeytkatıksızekmektir', 4704), ('türkiye', 4652), ('yuksekkurmagdurlari', 4607), ('doktoralifotokopici', 4578), ('akparti', 4529), ('sondakika', 4478), ('ourvoiceerdogan', 4444), ('eytlinei̇stiyor', 4417), ('kayyum', 4372), ('dalgalanşanlıbayrağım', 4286), ('eytliyizumutluyuz', 4281), ('gameofcehape', 4209), ('eytmeclistennebekliyor', 4201), ('annelerdireniyor', 4145), ('deprem', 4142), ('5bingidamuhendisi', 4046), ('durmakyokyoladevam', 4040), ('günaydın', 4023), ('eytankarayaakacak', 4015), ('milletehizmette17yıl', 3975), ('s400', 3937), ('eytresmigazetediyor', 3927), ('türkiyeeytyikonuştu', 3923), ('türkiyedestanı', 3906), ('eytmeclisesesleniyor', 3901), ('cumhurbaşkanıerdoğan', 3806), ('mehmedimdestanyazıyor', 3790), ('mebbursu_faizaffı', 3788), ('eytliyizaraftayız', 3741), ('davanıngücü', 3723), ('başverirbaşeğmeyiz', 3705), ('vakitgazavakti', 3700), ('cuma', 3697), ('gidamühendi̇sleri̇', 3691), ('chpbitmedenterörbitmez', 3681), ('i̇lledevatanötesiyok', 3652), ('geceyenotum', 3645), ('bennedeneytliyim', 3637), ('erdoğangruplari', 3630), ('barispinariharekati', 3623), ('eytninzamanıyok', 3597), ('taki̇p', 3575), ('dorayaumutol', 3525), ('eytliyizsusmuyoruz', 3441), ('i̇nşaallahbinali', 3395)]\n",
      "turkey_052020_tweets_csv_hashed/turkey_052020_tweets_csv_hashed_2017_01.csv\n",
      "[('evet', 39686), ('hayir', 23083), ('hayır', 15082), ('yavşakseçimkurumu', 3634), ('chpyerağmendireniyoruz', 2899), ('kararımızevet', 2662), ('bendevarım', 2586), ('ff', 2284), ('kralmühürsüz', 2267), ('aslansınumitozdag', 2252), ('evetdetarihyaz', 2071), ('ahmetfuadi', 2069), ('btsbbmas', 2027), ('evetavrupatitriyor', 1870), ('atatürk', 1716), ('standupforchildren', 1707), ('kahramankazan', 1694), ('pazartesi', 1563), ('yeniatılımdönemi', 1500), ('18mart', 1447), ('reisleyoladevam', 1425), ('katilesedediyorumki', 1414), ('tasarimmimari', 1395), ('beşiktaş', 1384), ('uyumatürkiyeoyunbüyük', 1370), ('atıdaçaldı', 1360), ('reina', 1339), ('hayırdemiyoruzçünkü', 1337), ('16nisanadarbesökmez', 1333), ('susuyorsaboplukvar', 1326), ('dirilişimizi̇çinevet', 1325), ('chp', 1313), ('evet15temmuzuhatırla', 1300), ('evetgelecektir', 1268), ('türkiye', 1251), ('ramazan', 1247), ('8martdünyakadınlargünü', 1243), ('basevetivermehteri', 1233), ('vatanaşkıylaevet', 1232), ('seniçokseviyoruzreis', 1224), ('davamızhakzafermuhakkak', 1213), ('haçlılarakarşıümmetbirliği', 1212), ('dünyaliderierdoğan', 1195), ('1416tazminat', 1189), ('safınıseçyahilalyahaç', 1182), ('güçlenentürkiyei̇çin', 1178), ('asrınhainleri', 1176), ('evetvatanasahipçıkıyoruz', 1176), ('ülkeni̇çinevetde', 1171), ('ahulanfelek', 1165), ('daimamilletkararımızevet', 1156), ('cumartesiyenikapıdayız', 1146), ('erdoğanaselamnöbetedevam', 1145), ('nazii̇tleriyıldıramazbizleri', 1138), ('tümhainlerbirleşmiş', 1135), ('reyizdomates10tl', 1135), ('bopunbedeline', 1124), ('evetbirmilletindirilişi', 1118), ('benimkararımnet', 1117), ('evetsözmillette', 1116), ('ermeydanı16nisan', 1114), ('1mayıs', 1111), ('evetzafermilletindir', 1107), ('yenidentarihyazmayaevet', 1100), ('başkanlıkgeliyordünyatitriyor', 1099), ('avrupanınerdoğankorkusu', 1096), ('evetşimdibirlikzamanı', 1093), ('rabiabozkurtomuzomuza', 1088), ('protestoediyorum', 1086), ('pkkyaosmanlıtokadı', 1076), ('15temmuz', 1073), ('herdaimuyanığız', 1072), ('evetbinkereevet', 1062), ('tabikievet', 1059), ('23nisan', 1058), ('payitahtabdülhamid', 1029), ('reistengeldiysedavetevet', 1029), ('evetmühürmilletin', 1015), ('survivor', 1011), ('sondaki̇ka', 1006), ('haddinizibildirmeki̇çin', 1003), ('haçlılarınhilalkorkusu', 974), ('kılıçdaroğlunesöyledi', 971), ('davami̇çinevet', 963), ('türkiyemhepberaberevet', 960), ('fethisekin', 958), ('muhsinyazıcıoğlu', 955), ('kılavuzukemalolanın', 954), ('chpdeevetdiyor', 944), ('şerodaklarınai̇natevet', 937), ('sonsözümüzevet', 934), ('büyüktürkiyei̇çingerisayım', 932), ('topunuzgelsenizdeevet', 929), ('bureferandumda', 918), ('derdimvatankararımevet', 912), ('ordubaşkomutanınemrinde', 912), ('cumhurbaşkanıerdoğan', 909), ('abdülhamidhan', 906), ('oyumuzevetçünkü', 905), ('hainepöhdüşmanajöh', 900)]\n",
      "turkey_052020_tweets_csv_hashed/turkey_052020_tweets_csv_hashed_2019_01.csv\n",
      "[('5bingidamuhendisi', 144920), ('1416ylsy', 94719), ('1416ylsytazminat', 93814), ('tazminat', 57511), ('faizaffi', 33001), ('tarımbakanlığı10binatama', 31933), ('meb', 28971), ('ylsy', 26656), ('yuksekfaiz', 22367), ('dövizborcu', 21664), ('mebbursu', 19698), ('yuksekkurlar', 19249), ('beyingocu', 19047), ('faizaffı', 19038), ('hanicozum', 18953), ('gurbetkusu', 18234), ('devletbursu', 18123), ('faizsizburs', 17880), ('ogrencifaiz', 17866), ('kursabitleme', 17857), ('cozumistiyoruz', 17185), ('afeder_misiniz', 17092), ('derdimizederman', 16815), ('egitimefaizolmasin', 16247), ('doktoralifotokopici', 16017), ('yuksekkurmagdurlari', 15743), ('akyıldızlartim', 14892), ('hayırlıcumalar', 14863), ('memleketi̇şigönüli̇şi', 13413), ('tarımbakanlığıatamabekliyor', 13342), ('ff', 12026), ('adlimahkumkapsamlıeşityasa', 10195), ('sonradedimki', 9690), ('pazartesi', 9612), ('eşitkapsamlıyasaşart', 9251), ('akyıldızlarti̇m', 8901), ('pazar', 8900), ('dahagüzelolacak', 8814), ('cumartesi', 7713), ('belediyei̇şigönüli̇şi', 7637), ('tarımveormanbakanlığıatamabekliyor', 6763), ('sondakika', 6415), ('salı', 6216), ('sondaki̇ka', 6052), ('şahinbey', 6033), ('sevdamızerdoğan', 5744), ('perşembe', 5702), ('öncemilletöncememleket', 5574), ('çarşamba', 5323), ('çünküçaldılar', 5169), ('chp', 5098), ('i̇stanbul', 4975), ('28şubat', 4870), ('eyt', 4643), ('cumhurunbaşkanı65yaşında', 4533), ('horasanyıldıztim', 4046), ('cumhuri̇ttifakı', 3973), ('emeklilikteyaşatakılanlar', 3959), ('aktim', 3938), ('reisesözümüzvar', 3725), ('ziraatmühendisleriatamabekliyor', 3654), ('5binatamarehabilitasyonöğrt', 3539), ('birdahayaşarbahçeci', 3475), ('allah', 3468), ('akparti', 3463), ('gönülbelediyeciliği', 3304), ('kutlumücadelemiz', 3301), ('ezan', 3299), ('afyoksaoyyok', 3185), ('zilleti̇ttifakı', 3164), ('abdülhamidhan', 3158), ('yedidüvelbirolsada', 3077), ('kalemlerinsığınağı', 3073), ('erdoğandanöncesivesonrası', 3035), ('hayırlısabahlar', 2994), ('ankara', 2989), ('cehapekazanamazçünkü', 2948), ('adaletyerinibuldu', 2927), ('tevazusamimiyetgayret', 2922), ('gönlügüzeltürkiye', 2869), ('devam', 2847), ('geceyebirsözbırak', 2847), ('çanakkalegeçilmez', 2821), ('ziraatmuhendisleriatamabekliyor', 2820), ('31martdevamdiyoruz', 2817), ('teröryuvasıabd', 2739), ('benimi̇çindava', 2736), ('7düvelinyıkamadığıadam', 2729), ('bizimkisibiraşkhikayesi', 2714), ('hainebozkurtmazlumarabia', 2706), ('ramazan', 2681), ('partideğilörgüt', 2592), ('bizhakkai̇nandık', 2592), ('weareerdogan', 2581), ('necmettinerbakan', 2553), ('cehapeninkuyrukacısı', 2544), ('rehbltsynögrt5binatamaözlük', 2543), ('tekdavagüçlübirlik', 2539), ('newzealand', 2539), ('sağlamçalmışlar', 2526)]\n"
     ]
    },
    {
     "name": "stdout",
     "output_type": "stream",
     "text": [
      "turkey_052020_tweets_csv_hashed/turkey_052020_tweets_csv_hashed_2017_06.csv\n",
      "[('15temmuz', 5847), ('ff', 5361), ('dirilişiyiekibi', 5029), ('kudüsesahipçık', 4947), ('pazartesi', 4624), ('freequds', 3593), ('arakan', 3590), ('kudüs', 3170), ('atatürk', 3170), ('dirilişertuğrul', 2966), ('kahramankazan', 2920), ('türk', 2568), ('tasarimmimari', 2525), ('kılıçdaroğlunesöyledi', 2467), ('allah', 2389), ('adaletyürüyüşü', 2152), ('türkiye', 2086), ('hayırlıcumalar', 2063), ('betnano', 1790), ('adalet', 1774), ('erdoğani̇leölümüne', 1757), ('beşiktaş', 1753), ('abd', 1631), ('rt', 1610), ('sondakika', 1530), ('islamicunityforquds', 1525), ('chp', 1516), ('protestoediyorum', 1490), ('29ekim1923', 1478), ('ayyıldızasözyaz', 1466), ('deprem', 1438), ('10kasım', 1435), ('yahakyabatıl', 1425), ('asrınliderierdoğan', 1425), ('yağmur', 1424), ('reis', 1421), ('erzurumutanıtıyoruz', 1398), ('şeddelifaşistchp', 1378), ('gönlümüzaksa', 1367), ('atabirlik', 1367), ('i̇slamınonurukudüs', 1346), ('kudüsüngözyaşlarınısil', 1337), ('ahmetfuadi', 1337), ('ortakkaygımıztürkiye', 1335), ('türkiyekudüsi̇çinayakta', 1325), ('kep', 1313), ('kudüsi̇çinci̇had', 1312), ('türkürtbirlikzamanı', 1285), ('davabüyükyolçetin', 1281), ('trdenabdyerest', 1271), ('yeniprofilresmi', 1265), ('adnanmenderes', 1263), ('gazileresesol', 1262), ('aksevda16yaşında', 1262), ('senvatansınerdoğan', 1249), ('dünyai̇sraildeni̇baretdeğil', 1248), ('şehitdüşmanıchp', 1247), ('reisolmasaydı', 1246), ('mazlumunduasıerdoğan', 1244), ('united4quds', 1240), ('alemlererahmethzmuhammed', 1227), ('mevzuvatansavururuz', 1221), ('mustafakemalatatürk', 1218), ('reisyenitürkiyeyolunda', 1212), ('ümmetinkırmızıçizgisikudüs', 1206), ('i̇slamdayılbaşıharam', 1188), ('fav', 1187), ('15temmuzdestanı', 1185), ('weloveyoumuhammed', 1180), ('cumhurbaşkanıerdoğan', 1180), ('gönüllerinfatihierdoğan', 1175), ('80milyonsınırdayız', 1173), ('tümyad', 1163), ('terörkoridorunai̇zinyok', 1162), ('abdfetöoyunu', 1138), ('siyonizminhedefitürkiye', 1127), ('gerekirsevuracağız', 1126), ('thelastwarriorerdoğan', 1121), ('lastwarquds', 1121), ('boykotakatılkudüsbizimde', 1109), ('sınırlarıbizçizeriz', 1107), ('yorulmadıkyanindayiz', 1100), ('ramazan', 1094), ('anıtkabiredokunma', 1090), ('hdpninmetresichp', 1087), ('küffarakarşıtekses', 1087), ('polifenoller', 1083), ('mka', 1083), ('bayraki̇nmesindiye', 1079), ('günaydın', 1076), ('bravehearterdoğan', 1068), ('müreffehtürki̇yeiçin', 1065), ('reisinduruşuabdyeyeter', 1061), ('korkakselmankuklasisi', 1057), ('kırdıkzincirleri', 1055), ('ereni̇yikivarsın', 1053), ('reisnediyorsa', 1049), ('bizbirolursakdahagüçlüyüz', 1047), ('tekbirlikdeğilhepbirlik', 1042), ('fetihgünü', 1034)]\n",
      "turkey_052020_tweets_csv_hashed/turkey_052020_tweets_csv_hashed_2020_01.csv\n",
      "[('adilyaşamderneği', 11969), ('emeklilikteyaşatakılanlar', 5313), ('eytningücünühesaplayamadınız', 5171), ('elazığ', 4608), ('deprem', 4423), ('eytliyizbirliktegüçlüyüz', 4239), ('eytemanetlerinii̇stiyor', 3621), ('eyt', 3610), ('vurgunsgkyafaturaeytye', 3395), ('direneneytden2020yeselamolsun', 3366), ('eytumutdirenmektirdiyor', 3268), ('eytreformdeğilçözümi̇stiyor', 3180), ('eytteksestekvücut', 3052), ('sahteemekliliğieytyeaçıkla', 2976), ('eytninrızkısgkdavurgunyedi', 2943), ('eytnincesurkadınlarıvar', 2910), ('eytyiçözkigssdeçözülsün', 2842), ('eyttürkiyeningerçekliğidir', 2796), ('eytdengedeğilhaktır', 2768), ('sgkvurgunumeclisegelsin', 2763), ('millibütçeeytninhakkı', 2722), ('eytkökhücrebağışıi̇çinyolaçıkıyor', 2629), ('ümmetinumuduyuz', 2593), ('kararlılıklayürüyeceğiz', 2581), ('chphükümsüzdür', 2560), ('eytci̇meresoruyor', 2543), ('eytdirenenemeğinyanında', 2217), ('hainlerinhamisichp', 2146), ('sgkyavurguneytyebedel', 2093), ('osmanlıtorunlarılibyada', 2006), ('eytdayanışmasıelazığda', 1890), ('malatya', 1870), ('yerlivemillihamleler', 1713), ('eytbursamitinginde', 1630), ('sözleşmeliyeacilenkadro', 1615), ('libyatezkeresi', 1603), ('hayırlıcumalar', 1532), ('cumhurbaşkanıi̇leözel', 1498), ('turkeyforpeace', 1320), ('cekehapi̇scezasikalksin', 1230), ('mahkumaeşityasaşart', 1217), ('adlimahkumkapsamlıeşityasa', 1163), ('depremelazig', 1160), ('durmakyokyoladevam', 1145), ('devletmilletininyanında', 1141), ('cumhurbaşkanıerdoğan', 1134), ('tcsavunma', 1091), ('sözleşmelimemurkadroya', 1087), ('türkakım', 1080), ('libya', 1018), ('chpvehdpkardeşliği', 1016), ('süresizsözleşmeliyemüjde', 1001), ('freepalestine', 996), ('milletehizmette17yıl', 980), ('bahçeliden1sözyaz', 973), ('eytnincebindeneliniziçekin', 967), ('imamoğlu', 919), ('sondaki̇ka', 894), ('tbmm100yasinda', 876), ('niceyüzyıllara', 873), ('ff', 841), ('pazar', 839), ('rakibinejestyap', 768), ('türkiye', 750), ('fethisekin', 739), ('pazartesi', 733), ('cumartesi', 687), ('ankara', 673), ('evlatnöbeti', 567), ('diyarbakır', 562), ('maçoğlununşovları', 516), ('haber', 503), ('ff_specialツ', 503), ('çarşamba', 498), ('çekehapiscezasıkalksın', 483), ('elazig', 479), ('günaydın', 476), ('salı', 474), ('rehbltsynöğrtzordurumda', 464), ('düzce', 458), ('şahinbey', 450), ('iranvsusa', 445), ('sondakika', 442), ('geceyenotum', 440), ('süresizsözleşmelitbmmde', 438), ('i̇dlib', 435), ('bakıptagörmedikleriniz', 435), ('fileninsultanları', 416), ('gönülgözüyle', 403), ('breaking', 396), ('şehidimizvar', 395), ('gülsüm', 391), ('i̇stanbul', 380), ('kızılay', 367), ('perşembe', 366), ('diyarbakıranneleri', 352), ('sonradedimki', 348), ('kanali̇stanbul', 335), ('elaziğdeprem', 334), ('reis', 318)]\n",
      "turkey_052020_tweets_csv_hashed/turkey_052020_tweets_csv_hashed_2016_01.csv\n",
      "[('weloveerdogan', 3080), ('ankara', 2287), ('ff', 1789), ('aktakipmerkezi', 1465), ('ahlaksızkılıçdaroğlu', 1258), ('ahmetfuadi', 1227), ('basbakansurda', 1192), ('büyükkongrekutluyürüyüş', 1145), ('aktakip', 1102), ('wehaveerdogantheydont', 1087), ('terörünhedefii̇slam', 1084), ('fetih1453', 1072), ('asılolandavadır', 1013), ('türkiyeseninleazerbaycan', 980), ('reisbaşkançünkü', 967), ('erdoğanşerefimizdir', 936), ('offline', 920), ('halepyanıyor', 920), ('tarihimizgururumuzdur', 899), ('teröryenilecekmilletkazanacak', 809), ('i̇yisalladıkmı376', 777), ('reiskırmızıçizgimizdir', 777), ('cumhurbaşkanıerdoğan', 777), ('kılıctarogludemek', 772), ('haydibismillah', 768), ('ahlaksızlığınadresichp', 763), ('gönüllerinfethi', 760), ('sözverdikyaptık', 753), ('bubataklıkkuruyacak', 752), ('erdoğani̇lesonunakadar', 747), ('tbmmterörüdestekleyenlerindokunulmazlığınıkaldır', 747), ('eskitürkiyeyokçünkü', 742), ('twittercensorederdogan', 739), ('sonungeldipkk', 730), ('brussels', 729), ('taksim', 721), ('matrax', 716), ('pakistan', 715), ('askerpolisomuzomuza', 703), ('kutülamare', 699), ('yildirimdüştüchpye', 689), ('canlarıcehenneme', 687), ('teksevdamızreis', 679), ('sultanahmet', 679), ('muhsinyazıcıoğlu', 673), ('kandilinizmübarekolsun', 673), ('starmetre', 669), ('ümmetinliderirei̇s', 666), ('teşekkürlerahmethoca', 662), ('aşkla15yılgeçtive', 661), ('hayırlıcumalar', 656), ('chp', 647), ('dokunulacaksınızbeyler', 640), ('türkpolisicandır', 631), ('weloverterdogan', 624), ('bentürkiyeyim', 621), ('milletcei̇zmirialkışlıyoruz', 619), ('kemalinsözüchpninözü', 616), ('cizrede60leş', 615), ('chphdpeşittirterör', 613), ('reishocayalnızdeğildir', 613), ('teröretekyüreğiz', 610), ('milletlaikliki̇stemiyor', 610), ('suriyedebiteni̇nsanlık', 602), ('reisini̇zindeyizçünkü', 599), ('butezgahlarımilletyemez', 597), ('tarihikanlıchp', 590), ('annelergünü', 585), ('korkusuzcareisleyiz', 584), ('hemdem', 582), ('stopchildrapeinturkey', 578), ('öncevatandediler', 577), ('18mart1915', 574), ('osmanlişahlanıyor', 574), ('yasakhaber', 572), ('birgezidahayaşatmayız', 568), ('reisehakareteceza', 563), ('şehiderahmetterörelanet', 546), ('ayaklarchpdebaş', 545), ('bizanslılarınfetihacısı', 537), ('kutluyürüyüşedevam', 529), ('reisvehocai̇le2023e', 522), ('yildirimhızıyla2023e', 520), ('7şubatfetökumpası', 519), ('milletbaşkanlıkdiyor', 516), ('eminellerdesintürkiyem', 512), ('başkanlıkdemek', 507), ('hdpyedokundukchpağladı', 505), ('akpartininyaptıkları', 504), ('oneminuteeu', 499), ('8martkadınlargünümesajım', 497), ('yeniliklerealışın', 496), ('suriyeninsesiol', 492), ('terördestekçisichp', 491), ('necipfazılkısakürek', 487), ('kemalinenikleriyıldıramazbizleri', 485), ('milletçetükürüyoruz', 484), ('devletinbekası', 477), ('şehitannesiolmak', 471), ('aci̇l', 471)]\n"
     ]
    },
    {
     "name": "stdout",
     "output_type": "stream",
     "text": [
      "turkey_052020_tweets_csv_hashed/turkey_052020_tweets_csv_hashed_2015.csv\n",
      "[('600yıllıkfilminreklamarasıbitti', 6111), ('chp', 5356), ('i̇nlerinegiriliyor', 5265), ('ff', 5015), ('daimaadaletdaimakalkınma', 4587), ('ak', 4421), ('ast', 3960), ('birbilgeadamdavutoğlu', 3883), ('devletiebedmüddet', 3432), ('yenitürkiyebaşkanlıkdiyor', 3143), ('başkanrterdoğantrtde', 3071), ('i̇kicihangüneşiefendimiz', 3068), ('hadis', 2992), ('enbüyükteröristnetanyahu', 2981), ('aylinnazlıakaçokeğlendinmi', 2910), ('rt', 2850), ('yücedivantuzağıbozuldu', 2796), ('ciamaatınmossadlaişbirliği', 2712), ('faizi̇ndirimii̇stiyoruz', 2530), ('özgecanaslan', 2520), ('starmetre', 2203), ('senibaşkanyapacağız', 2185), ('onlarkonusurakpartiyapar', 2185), ('umutluyumçünkü', 2167), ('youareaterroristnetanyahu', 2053), ('cesurbiradamrterdoğan', 2039), ('dirilişerdoğan2023', 1980), ('başkanlıksistemigelmeli', 1872), ('childmurderernetenyahu', 1794), ('basınözgürlüğümaskesi', 1793), ('kazan', 1704), ('1türkiyei̇stiyorum', 1689), ('anarşistyuvasıcehepe', 1666), ('teşekkürederizcbcnews', 1647), ('offline', 1607), ('genelseçimde_hedefyüzde60', 1575), ('ankaranınefsanebaşkanibeyaztvde', 1536), ('batınıngerçekyüzü', 1525), ('hayatısürdür', 1523), ('takkedüstükipagöründü', 1507), ('aslamüsaadeedilemez', 1423), ('erzurumdenince', 1418), ('paralel', 1354), ('erdoğanaheryertürkiye', 1318), ('haydibismillah', 1303), ('kan', 1290), ('fetobedduanbankanıdavurdu', 1259), ('yenitürkiyenini̇nşaası', 1241), ('ankara', 1239), ('ülkemdecharliehebdodağıtılamaz', 1234), ('muratavcı', 1232), ('milletinbaşkanırterdoğan', 1230), ('matrax', 1214), ('sancak_ti̇m', 1202), ('freedomforeastturkestan', 1155), ('bringtoaccounthamas', 1144), ('kk', 1135), ('kadıköybelediyesinilanetli̇yoruz', 1128), ('onlarkonuşurakpartiyapar', 1113), ('i̇stanbul', 1098), ('bencederbiyi', 1093), ('akti̇m', 1090), ('türki̇ye', 1086), ('hakaretetmeközgürlükse', 1083), ('mhp', 1079), ('akparti', 1058), ('hainekarşıi̇nletirizarşı', 1018), ('foxtvseyretmiyorum', 1009), ('i̇çgüvenlikyasasınaevet', 990), ('milletini̇ttifakıakparti', 982), ('geleceğedairnotlar', 958), ('trombosit', 953), ('aktakip', 948), ('cumhurbaşkanıerdoğan', 945), ('gundemyazarlari', 926), ('paraleladayi̇stemiyoruz', 923), ('erdoğanlayürekyüreğe', 908), ('ihh', 903), ('acil', 898), ('hocamısınbankaortağımı', 879), ('ak_ti̇m', 874), ('nataliavazyani̇çinsuçduyurusu', 870), ('stopterrorisminchina', 860), ('mgwv', 840), ('1türkiyehayalediyorum', 832), ('np', 832), ('gururlaakpartiliyiz', 830), ('ümmetpeygamberineyürüyor', 827), ('400milletvekili', 822), ('mefkuremizcihandevletitürkiye', 820), ('hdp', 815), ('reisle2023e', 811), ('reisleosmanlıgeliyor', 807), ('bahçeliyepüskevit', 801), ('batınınsoykırımoyunu', 801), ('follow', 795), ('reisalmanademokrasigetir', 785), ('medyakınayaksın', 781), ('freemorsi', 779), ('hakyolundabirliderrte', 736)]\n",
      "turkey_052020_tweets_csv_hashed/turkey_052020_tweets_csv_hashed_2018_06.csv\n",
      "[('1416ylsy', 174203), ('1416ylsytazminat', 164572), ('tazminat', 102504), ('faizaffi', 59758), ('meb', 50013), ('ylsy', 46220), ('yuksekfaiz', 38053), ('dövizborcu', 37589), ('yuksekkurlar', 33989), ('hanicozum', 33084), ('faizaffı', 32589), ('gurbetkusu', 31771), ('mebbursu', 31517), ('devletbursu', 31289), ('ogrencifaiz', 31097), ('kursabitleme', 30681), ('afeder_misiniz', 29563), ('yuksekkurmagdurlari', 27416), ('doktoralifotokopici', 27374), ('egtkonus', 24599), ('egtyayin', 24276), ('beyingocu', 19073), ('cozumistiyoruz', 17211), ('derdimizederman', 16883), ('ff', 14693), ('beyingocugu', 13019), ('hayaldigerçekoldu', 11926), ('5bingidamuhendisi', 11687), ('pazartesi', 11606), ('milletkıraathanesinde', 11153), ('hayırlıcumalar', 10451), ('pazar', 10293), ('eşitkapsamlıyasaşart', 8959), ('öncemilletöncememleket', 8954), ('adlimahkumkapsamlıeşityasa', 8641), ('cumartesi', 8193), ('kalemlerinsığınağı', 8157), ('egitimefaizolmasin', 7829), ('faizsizburs', 7439), ('kivilcimlaralevalev', 7238), ('reisinyolundayorum', 6881), ('salı', 6774), ('günaydın', 6305), ('çarşamba', 6286), ('perşembe', 5744), ('geceyebirsözbırak', 5644), ('vakittürkiyevakti', 5423), ('alemlererahmethzmuhammed', 5388), ('devam', 5324), ('sonradedimki', 5317), ('allah', 4906), ('tefeci_devlet', 4685), ('kazanacağız', 4300), ('seninleyizerdoğan', 4251), ('15temmuz', 4011), ('türk', 3983), ('emeklilikteyaşatakılanlar', 3873), ('worldisbiggerthan5', 3863), ('başkanerdoğan', 3662), ('hayallerdönergerçeğe', 3480), ('weloveerdogan', 3423), ('nemutlutürkümdiyene', 3397), ('kevserantik', 3308), ('mustafakemalatatürk', 3207), ('chp', 3121), ('eyt', 3063), ('milletinzaferi', 3048), ('hayırlısabahlar', 2889), ('akparti', 2878), ('türkiye', 2854), ('izmireſcort', 2828), ('bedelliaskerlik', 2808), ('newerawitherdogan', 2782), ('unutmayacağız', 2735), ('milletehizmette16yıl', 2730), ('terörelanetolsun', 2717), ('küreselgüçtürkiye', 2660), ('sarıkamış', 2552), ('milletacac', 2402), ('weallerdoğan', 2398), ('bucaeſcort', 2387), ('oyumakcünkü', 2373), ('seçim2018', 2366), ('ankara', 2360), ('tesbih', 2357), ('dünyaçocukgünü', 2355), ('türkiyekazanacak', 2344), ('kahramankazan', 2318), ('kılıçdaroğlunesöyledi', 2300), ('malazgirt', 2297), ('mehmetakifersoy', 2282), ('12eylül', 2265), ('tarımbakanlığıatamabekliyor', 2218), ('receptayyiperdoğan', 2177), ('ölümüneerdoğan', 2158), ('başkan', 2151), ('10kasım', 2119), ('milletbirhedefbir', 2055), ('mevlidkandili', 2049), ('29ekim', 2043)]\n",
      "turkey_052020_tweets_csv_hashed/turkey_052020_tweets_csv_hashed_2014.csv\n",
      "[('ff', 15752), ('abb', 9558), ('yezidciamaatpostunda', 6802), ('kumpasçıciamaat', 6106), ('ast', 5905), ('ak', 5825), ('chp', 4938), ('paralel_i̇hanetinyıldönümü', 4658), ('terrorsuspectgulen', 4642), ('benimbaşkanımmelihgökçek', 3397), ('i̇hanetedenbedeliniöder', 3392), ('özgürfilistiniçinbuluşuyoruz', 3391), ('ankara', 3377), ('bankasyabatarken', 3290), ('mustafaakheryerde', 3062), ('bankasyatepetaklak', 2856), ('kk', 2775), ('yolsuzlukkılıfhedefbüyüktürkiye', 2742), ('ff_specialツ', 2740), ('dünyanıni̇lktwittermitingi', 2739), ('birliki̇çindeyenitürkiye', 2641), ('oşimdicumhurbaşkanı', 2589), ('gazetecilerlayuseldeğildir', 2521), ('durmadani̇lerletürkiye', 2335), ('alçaklarai̇natyükseltürkiyem', 2300), ('benimbaşkanım', 2290), ('bankasyamilletisömürüyor', 2267), ('millilidererdoğan', 2238), ('follow', 2222), ('receptayyiperdoğani̇lemutluyuz', 2178), ('gökçeklegerçekler', 2176), ('vatanai̇hanetinözrüolmaz', 2156), ('yenitürkiyei̇çinyineerdoğan', 2025), ('muhalefetnedir', 2020), ('erdoğantarihyazıyor', 2007), ('i̇ftiracıparalelmedya', 1967), ('gugukdevletiysedefol', 1956), ('blooddripsfromisraelproducts', 1893), ('gavurhüseyinaygün', 1837), ('hayırlıolsunmelihgökçek', 1822), ('haddinibilfeyzi̇oglu', 1814), ('sömürgecibankasya', 1802), ('parasızlıkkötüçünkü', 1706), ('karizmatikliderrterdoğan', 1703), ('milleteğilmez', 1700), ('bayramdabirberaberolalım', 1690), ('silencewearekilling', 1687), ('gugukparalelörgüt', 1668), ('türkiyeningücünükeşfet', 1649), ('milleti̇radesitakipleşiyor', 1648), ('rt', 1636), ('aslındazenginolmak', 1627), ('tayyiperdoğanai̇naniyoruz', 1616), ('akbaskanakkecioren', 1592), ('zilhiccegeceleri', 1550), ('şehirlerinsultanıi̇stanbul', 1541), ('i̇hanetiunutmatürkiye', 1526), ('yazıyorumyazıyorum', 1487), ('kadirgecesindedualargazzeye', 1479), ('sapıtmışruhlar', 1465), ('adanmışhainlerdurmaz', 1464), ('ankaramilletinadamıyla', 1458), ('akgelecekakyarinlar', 1448), ('11yılöncebugünbaşbakanlayüzlergüldü', 1448), ('maneviyathırsızıhaşhaşiler', 1442), ('partini̇çindeğilülkeni̇çinrte', 1435), ('soma', 1430), ('gazzedekatliamvar', 1401), ('milletinadayıgönüladamıademceylan', 1393), ('varolyenitürkiye', 1384), ('dikduranbaşbakanrterdoğan', 1379), ('ankarayıyakıpyıkanzihniyetyönetemez', 1379), ('ankaparkankarayaçokyakıştı', 1378), ('siaigrup', 1374), ('paraleletekniknakavtahaberde', 1356), ('3kasımmilattırgerisifuruatır', 1339), ('gazzesiyonizmemezarolacak', 1336), ('cuntanınelebaşınakırmızıbülteni̇stiyoruz', 1333), ('bencebeşiktaşlıolmakdemek', 1326), ('demokrasii̇damı17eylül1961', 1325), ('geziprovokatörlerii̇şbaşında', 1323), ('yarınhaksorar', 1318), ('okumakhayatkurtarır', 1311), ('kodadıi̇hanet', 1276), ('akpartibumilletingeleceğidir', 1270), ('köşkyolundabaşkentyanında', 1261), ('erdoğanla11muhteşemyıl', 1260), ('soundcloud', 1251), ('mansuryavaşınbittiğian', 1248), ('gazaunderattack', 1247), ('türki̇ye', 1244), ('bigünparayıbulursam', 1170), ('21ciyüzyilin_fatihi_recep_tayyip_erdogan', 1167), ('ak_takipツ', 1162), ('adamlıknedir', 1157), ('hakkaveadaletesirayet', 1155), ('receparacveekibiheryerde', 1123), ('pkk', 1119), ('tırdolusuparamolsa', 1110), ('onunenbüyükeseri', 1101)]\n"
     ]
    },
    {
     "name": "stdout",
     "output_type": "stream",
     "text": [
      "turkey_052020_tweets_csv_hashed/turkey_052020_tweets_csv_hashed_2010.csv\n",
      "[('klisebitirme', 1), ('sl', 1), ('red', 1), ('#pismanim', 1)]\n",
      "turkey_052020_tweets_csv_hashed/turkey_052020_tweets_csv_hashed_2016_06.csv\n",
      "[('kahramankazan', 8055), ('5binveterinerhekim', 6682), ('terörelanetolsun', 4940), ('tur', 4820), ('ahmetfuadi', 4722), ('haber', 3816), ('yalnızdeğilsinerdoğan', 3170), ('ekimatamasıgthbden', 3042), ('sondakika', 3016), ('ff', 2551), ('cerablus', 2526), ('halep', 2435), ('tekmillettekyürek', 2250), ('gthb20binboskadro', 2114), ('kalbimdekideniz', 2060), ('cumhurbaşkanıerdoğan', 1879), ('haleptekatliamvar', 1610), ('gazetesozcu', 1599), ('sondaki̇ka', 1439), ('bizbittidemedenbitmez', 1378), ('fetö', 1340), ('gündem', 1315), ('dijitalarınma', 1308), ('ömerhalisdemir', 1290), ('ramazan', 1255), ('kayseri', 1236), ('milletyenilmeztürkiyebölünmez', 1212), ('worldleadererdogan', 1190), ('gaziantep', 1186), ('adnanmenderes', 1183), ('15temmuz', 1181), ('tasarimmimari', 1134), ('hayırlıcumalar', 1129), ('chp', 1107), ('yavuzsultanselimköprüsü', 1051), ('hükümetimegüvenimtam', 1036), ('atatürk', 1020), ('1416tazminat', 1018), ('türkiyedizçökmeyecek', 1016), ('milletçemeydanlardayız', 1001), ('pazartesi', 996), ('dirilişiyiekibi', 995), ('aladağ', 983), ('massacreinaleppo', 983), ('türkiye', 978), ('eymüslümankitabınıoku', 967), ('10kasım', 964), ('euro2016', 962), ('dinsizdevletehayır', 959), ('protestoediyorum', 953), ('erdoganvoiceoftheoppressed', 943), ('i̇stanbul', 941), ('fıratkalkanı', 938), ('starmetre', 909), ('patlama', 908), ('halepölüyor', 900), ('öldümdeselamıduymadın', 891), ('periscope', 887), ('atatürkçüler', 881), ('polisiminyanındayım', 880), ('yasakhaber', 880), ('devletbursu', 861), ('tarıkakan', 856), ('dövizinitürkiyeiçinboz', 823), ('kazan', 821), ('kan', 818), ('dirilişertuğrul', 807), ('yüksekfaiz', 795), ('yüksekkurlar', 794), ('beşiktaş', 787), ('yanlızdeğilsinerdoğan', 780), ('başaramayacaksınız', 770), ('cehapedeyince', 770), ('aktakip', 769), ('akpartionbeşyaşında', 757), ('yinemeydanlardayız', 749), ('meydanlarmilleteemanet', 732), ('türkiyei̇slamınkalesidir', 729), ('15temmuzunutmadık', 726), ('ankara', 726), ('dövizborcu', 722), ('omuzomuza', 716), ('bendeömerhalisdemirim', 715), ('bütünhainlererağmen', 714), ('türkmendağıbizimdir', 692), ('türkiyemeydanlarda', 690), ('tümyollarımsanaçıkıyor', 689), ('birliktebüyüktürki̇ye', 679), ('neşetertaş', 677), ('cizre', 673), ('vermehterigeliyoruz', 673), ('ogünkügibimeydanlardayız', 668), ('provakasyonagelme', 664), ('abdalevalev', 662), ('30agustoszaferbayramı', 653), ('abcanıncehenneme', 653), ('darbeyehayır', 644), ('keçiören', 644), ('reiskahramankazanda', 643), ('lozanhezimettir', 643)]\n",
      "turkey_052020_tweets_csv_hashed/turkey_052020_tweets_csv_hashed_2011.csv\n",
      "[('takipedenitakipederim', 1735), ('takipedentakipedilir', 1592), ('takip', 1546), ('teamfollowback', 1444), ('followback', 1443), ('garantitakip', 681), ('500aday', 637), ('1000aday', 637), ('200aday', 487), ('ff', 235), ('sehitlerolmez', 180), ('fallowback', 144), ('spamhzmohammed', 127), ('twitterboykot', 127), ('ucvatandasimizaneoldu', 118), ('spamallahcc', 98), ('nowplaying', 92), ('fizy', 92), ('türkordusukandile', 89), ('türkiyeuyuma', 85), ('cekmekoykizilay', 72), ('istanbulturkiyededir', 61), ('cennetbedavacehennemparayla', 61), ('ankaraayagakalkiyor', 44), ('apoitiasilsin', 36), ('israelisaterroriststate', 32), ('kasimda44binatama', 28), ('ahaliuyuma', 28), ('instantfallow', 27), ('spam', 26), ('mavimarmara', 23), ('teamfallowback', 22), ('benkucukken', 22), ('palestineisastate', 21), ('since1453', 20), ('istanbulturkiyedir', 19), ('israilbirterördevletidir', 19), ('noneoftheturkishcitiesaregreek', 18), ('yonja', 17), ('ilkoperasyoncanlikalkana', 17), ('kahrolsunpkk', 16), ('inanclikadrolaromuzomuza', 15), ('autofalllow', 14), ('autofallow', 13), ('fenerinmacivar', 12), ('yuzyilinyalanlari', 11), ('banafenerbahcedemelisin', 11), ('edebyahu', 11), ('turkordusukandile', 11), ('gazze', 11), ('ttarenadapankartvar', 10), ('dedikoducuerolkose', 10), ('kardeslikzamani', 10), ('engellilergunu', 10), ('ucvatandas', 10), ('uyantürkiye', 10), ('fenerlifenerliyitakipetmeli', 9), ('allahcc', 9), ('siaibilisim', 9), ('heryereturkbayragi', 9), ('israilbirterordevletidir', 9), ('sehitlerölmez', 9), ('tc', 8), ('provakasyonagelme', 8), ('vandahercocuga1oyuncak', 8), ('turkiyeuyuma', 8), ('afrikalicocukolmesin', 8), ('sivilkalkan', 8), ('stupidlieberman', 8), ('ataturkolmediicimizdeyasiyor', 7), ('halamadrid', 7), ('dahayenibasliyor', 7), ('30mayistaksim', 7), ('djtdedektiflik', 7), ('izmirturkiyedir', 7), ('heryerdeturkbayragi', 7), ('fatihsultanmehmet', 7), ('chpyeoyvermeyecegim', 7), ('ayyildiztim', 7), ('borusan', 6), ('fenerbahceturkiyedir', 6), ('yeminyoksaparadayok', 6), ('deplasmanimadokunma', 6), ('facebook', 6), ('ebulfeyzelçibey', 6), ('isyanimvarcunku', 6), ('29mayis1453', 6), ('30mayis', 6), ('sekerdegilramazanbayrami', 6), ('basbakanimiozledim', 5), ('insanlikolmedi', 5), ('www', 5), ('provakatorridvandilmen', 5), ('siaibilisimogretmenlerimizeisimkani', 5), ('puccaforpresident', 5), ('bedelli', 5), ('france_protesto', 5), ('17temmuztürkiyeayakta', 5), ('gslilerbirbirinitakipeder', 5), ('benilkokuldayken', 5)]\n",
      "turkey_052020_tweets_csv_hashed/turkey_052020_tweets_csv_hashed_2013.csv\n",
      "[('ff', 8340), ('abb', 7821), ('erdoğanısizeyedirmeyiz', 1822), ('ak', 1760), ('pursaklaricinbekiryilmazoglu', 1753), ('fb', 1608), ('100de100geritakip', 1504), ('problemsiz_fulltakipteyiz', 1461), ('garanti_takipciyim', 1317), ('takipedenitakipederim', 1146), ('güvenimiztamliderimizerdogan', 1141), ('hepimiz_takipleselim', 986), ('r4bia', 918), ('erdoğansevdalılarıtakipleşiyor', 912), ('chp', 905), ('ankara', 860), ('aksamaksamtakipleselimmi', 851), ('anlıktakip', 835), ('li̇der_kent_ankara', 818), ('unfsuzseritakipleselim', 803), ('takibegeldik', 796), ('pursaklarbüyükdüşünbekiryılmazoğluhazır', 773), ('erdoğanagüvenimiztam', 768), ('i̇stiklalmücadelesiveriyoruz', 752), ('yetkimilletindirmühürmillettedir', 719), ('birumutişığıdırakparti', 710), ('halkınsesiakpartiyüreğierdoğandır', 696), ('2debirtakiplesiyoruz', 676), ('anındageritakip', 587), ('kk', 571), ('ankaramelihgökceki̇leyoladevam', 555), ('kimseakpartiyedizçöktüremez', 542), ('soundcloud', 541), ('bizsendenrazıyızusta', 527), ('pursaklar', 518), ('ourheroerdogan', 504), ('durmatakipleselim', 493), ('takipleselim', 474), ('takipedeneanındageritakip', 466), ('akparti_sevdalılarıtakipleşiyor', 461), ('ak_belediyecilikte_ak_hizmet', 460), ('bizyanındayızbaşbakanim', 457), ('hesabımilletsoracak', 452), ('akpartiyle_herseyyolunda', 451), ('follow', 428), ('3aralıkdünyaengellilergünü', 417), ('stoplyingcnn', 405), ('direngeziparkı', 392), ('başbakanagüven_gerisinimeraketmesen', 390), ('mhp', 386), ('seçmeninoyuakalnıak', 373), ('bedduayalanetduayadavet', 365), ('survivor', 353), ('tc', 353), ('başbakanerdoğandiyorki', 351), ('mergeen_com', 349), ('at17everydayforegypt', 347), ('aktakipbaşlıyor', 344), ('erdoğan_dünyalideridirçünkü', 342), ('ulanbikere', 339), ('egypt', 336), ('durmatakipleşelim', 330), ('hicbiroperasyonerdoganıbitiremez', 318), ('birizberaberizakpartiliyiz', 304), ('tatlıtatlıtakipleselim', 303), ('bilişimteknolojileri4000atamai̇stiyoruz', 302), ('bizimdeduamızseninleusta', 301), ('stopexecutionbangladesh', 297), ('occupygezi', 295), ('engel_si̇z', 289), ('provakasyonubirakchp', 288), ('akpartiasılşimdi', 287), ('acilkarsılıklıtakiplesiyoruz', 283), ('mısırdakatliamdursun', 282), ('onasonsözüm', 279), ('aksanaltimi̇leakhesaplartakipte', 278), ('milleterdoğanıseviyorçünkü', 275), ('akpartimilletinsesidir', 274), ('önyargipeşinhüküm', 271), ('büyükustacanlıyayında', 269), ('rt', 267), ('benimsevdiğimşarkı', 265), ('akpartimilletinpartisidir', 264), ('stepdownsisiwesupportmursi', 264), ('wearewithmorsi', 263), ('tteki̇p', 263), ('bencehuzurr', 261), ('gelgeltakipleşelim', 258), ('bunlaranasıölseağlamaz', 257), ('vizecozumcom', 256), ('beykentünisafranboluda', 256), ('mekkeni̇n_fethi̇_kutluolsun', 256), ('binaliyıldırımgeliyor', 255), ('direnodtü', 254), ('takipleselimmutluolalım', 254), ('manşetledeğilmilletlei̇ktidarrterdoğan', 250), ('akgençlergüçbirliğitakibinde', 247), ('releasemorsi', 244), ('tarihiyolsuzlukverüşvetskandalı', 240), ('adamlıkkameremikaldıasalaklar', 239)]\n"
     ]
    },
    {
     "name": "stdout",
     "output_type": "stream",
     "text": [
      "turkey_052020_tweets_csv_hashed/turkey_052020_tweets_csv_hashed_2018_01.csv\n",
      "[('afrin', 9048), ('devam', 7872), ('afrinoperasyonu', 7177), ('ff', 6798), ('zeytindalıharekatı', 6533), ('türk', 5172), ('pazartesi', 4294), ('dirilisiyiekibi', 4169), ('erdoğandiyorki', 4107), ('alemlererahmethzmuhammed', 3856), ('vakittürkiyevakti', 3844), ('ico', 3790), ('dirilişertuğrul', 3523), ('dirilişturangrupları', 3354), ('devletinafsözüvar', 3198), ('çanakkalegeçilmez', 3099), ('nakba70', 3019), ('blockchain', 3002), ('kılıçdaroğlunesöyledi', 2979), ('allah', 2816), ('reisleyizçünkü', 2786), ('afrinebüyüktaarruz', 2691), ('vatani̇çinölmek', 2565), ('oyumuzreiseçünkü', 2545), ('mustafakemalatatürk', 2525), ('baykemaladayol', 2479), ('chp', 2451), ('dirilişiyiekibi', 2437), ('cumartesi', 2400), ('kkdeninceaklima', 2390), ('türkiyeşahlanıyor', 2382), ('zaferhilalindir', 2373), ('başaramayacaksınız', 2365), ('bircihanreisi', 2307), ('mazbatalıypgliler', 2292), ('seçimehazırızreis', 2257), ('siztopunuzbizerdoğan', 2240), ('170haçlıuşağı', 2231), ('yükseliş24haziran', 2227), ('zeytindalıhareketı', 2198), ('muhsinyazıcıoğlu', 2153), ('afrinetürkbayrağı', 2130), ('hayırlıcumalar', 2129), ('aklarbozkurtlar', 2126), ('haindeninceaklıma', 2126), ('afrindegöğüsgöğüse', 2099), ('köklerinikazıyacağız', 2097), ('silahyerlivuruşmilli', 2093), ('doğugutakanağlıyor', 2090), ('şehitlerölmezvatanbölünmez', 2085), ('8martdünyakadınlargünü', 2078), ('weareerdogan', 2072), ('terörbitenekadar', 2072), ('ayyıldızlıi̇ttifak', 2059), ('başıfetökuyruğuchp', 2033), ('bedrinarslanlarıafri̇nde', 2026), ('yüzyılınrövanşıafrin', 1998), ('türkiye', 1993), ('oyunlarıbozantürkiye', 1962), ('birlikteçokgüçlüyüz', 1958), ('reisinsesiyiz', 1950), ('vatanmilleterdoğan', 1944), ('vatanımagözdikenin', 1942), ('sonkararmilletin', 1937), ('münbiçisizedarederiz', 1916), ('hilalkuşatması', 1900), ('finalsincarda', 1874), ('fikirsoytarıları', 1854), ('yedicihanahükmetmevakti', 1850), ('afrinebeşkala', 1849), ('tskafrineconievine', 1830), ('i̇kincikurtuluşmücadelesi', 1807), ('cihanaskerimehmetçik', 1806), ('100yıllıkoyun', 1779), ('seçimvarrakipyok', 1774), ('adayçokadamyok', 1766), ('i̇slamdavamızfilistin', 1735), ('milliruhmilliahlak', 1734), ('milliveyerlii̇ttifak', 1732), ('kudüs', 1731), ('teröryuvasıüniversiteler', 1726), ('tskvurduabdkudurdu', 1722), ('reisdenapyeafrinayarı', 1718), ('sokağai̇nenbedeliniöder', 1712), ('küffarakarşımillibirlik', 1705), ('tescillimikropkemal', 1698), ('türkpolisidemek', 1694), ('kirlii̇ttifakamilliduruş', 1681), ('atabirlik', 1672), ('münbiçegömeriz', 1647), ('i̇nsanlıkgutadaölüyor', 1629), ('sondakika', 1628), ('westandforquds', 1624), ('hainleri̇ttifakıchp', 1605), ('i̇hanetiunutmayacağız', 1595), ('gezidedeğilsınırdaelele', 1581), ('doğuguta', 1575), ('davandavamızdırrei̇s', 1543), ('menbiçafrinzaferümmetin', 1537), ('i̇ranbahanehedeftürki̇ye', 1508)]\n",
      "turkey_052020_tweets_csv_hashed/turkey_052020_tweets_csv_hashed_2012.csv\n",
      "[('ff', 2637), ('takipedenitakipederim', 1398), ('mehmetcikduabekliyor', 492), ('rt', 472), ('tc', 437), ('polisimizduabekliyor', 382), ('takipedentakipedilir', 363), ('yasasin1mayis', 301), ('sehitlerolmez', 276), ('mehmetciklerduabekliyor', 252), ('sehitlerimizicin15000yasin', 201), ('sehitmuhsinyazıcıogluicin15000yasin', 197), ('gay', 143), ('teamfollowback', 125), ('edepsizsinmelihgokcek', 124), ('sehitlerimizicin10000yasin', 115), ('sehitmuhsinyazıcıogluicin10000yasin', 110), ('sehidinesahipcik', 107), ('okullardamescitistiyoruz', 103), ('ustadicin200000tevhid', 101), ('ehlisünnetvelcemaattakipleşsin', 95), ('1oyuncak1tebessum', 90), ('ataminizindetgb', 89), ('sehitlerimizicin17000yasin', 88), ('hadis', 87), ('sehitmuhsinyazıcıogluicin17000yasin', 86), ('olympicceremony', 84), ('birbirinitakipetmeyenfenerlikalmasin', 83), ('muscles', 83), ('gazzeateşaltında', 82), ('madonna', 82), ('candost', 82), ('1oyuncaktabendencekmekoykizilay', 78), ('i̇lkgecettarenadakikokunhalauzerimizde', 78), ('tgbyürüyoratatürkgeliyor', 74), ('hatayliayakta', 73), ('gönüldaş', 73), ('cübbeli̇eki̇p', 69), ('yonja', 69), ('thygrevde', 67), ('ataturkcudogdukataturkcuolecegiz', 65), ('garantitakip', 64), ('sehidimizvar', 64), ('atatürkdiyorki', 63), ('fenerbahçe', 63), ('coltmen', 63), ('muhsinyazicioglu', 62), ('bayragimadokunma', 62), ('hatayayakta', 60), ('ifollowback', 60), ('akpçekelinitürkiyeden', 59), ('üstadicin1000yasin', 58), ('orospucocuguocalan', 57), ('bekircoskunadokunma', 55), ('keskankarayayuruyor', 53), ('mdnalondon', 51), ('kahrolsunpkk', 50), ('parolabayrak', 50), ('bugungunlerdenfenerbahce', 49), ('asiminnesli', 49), ('mdnaparis', 49), ('tarafsizbasinenginiyazmabosver', 49), ('takip', 48), ('astsubaylar', 47), ('karanlikgeceleriminyildizisenoldunkanarya', 47), ('ataturkculerbirbirinitakipeder', 47), ('ekip', 47), ('sandiktagorusuruzrecepbey', 47), ('buvatanbizimdirbizimkalacak', 46), ('mdna', 45), ('fenerbahcelifenerbahceliyitakipetmeli', 45), ('üstadicin250000tevhid', 45), ('redhack', 45), ('fenerinmacivar', 44), ('akplidegilimcunku', 43), ('tt_tayfa', 43), ('sivasdavasindazamanasiminahayir', 43), ('doguturkistanzulmaltinda', 43), ('karabagzulmaltinda', 43), ('cecenistanzulmaltinda', 43), ('follow', 42), ('üstadicin40000tevhid', 42), ('akgenclikkongrede', 42), ('29ekimikutluyoruz', 41), ('turkislamdunyasizulmaltinda', 41), ('sonunakadarbizfenerbahceliyizulan', 41), ('nfk', 40), ('galatasaray', 40), ('ihvankardeşlertakipleşiyor', 40), ('tripatanerkekpembedongiysin', 40), ('bad25', 39), ('atatürkisthebestcommanderofworld', 39), ('takipedenedilir', 38), ('eki̇p', 38), ('spam', 38), ('fileninsultanları', 36), ('followme', 36), ('üstadiçin200000tevhid', 36), ('sehirtiyatrolariyokedilemez', 36), ('takibetakip', 35)]\n",
      "russia_052020_tweets_csv_hashed_1.csv\n",
      "[('ярославль', 25810), ('уфа', 25302), ('ростов', 24394), ('новости', 22028), ('архангельск', 19404), ('омск', 17320), ('newskino', 17081), ('воронеж', 16663), ('врн', 12482), ('интернет', 11485), ('россия', 9501), ('красноярск', 7685), ('vrn', 6058), ('звезды', 5995), ('ер', 4924), ('москва', 4246), ('гдlive', 4034), ('цитата', 3379), ('воронежер', 3010), ('путин', 2557), ('forinnovations', 2501), ('единаяроссия', 2345), ('gen_s', 2271), ('дтп', 1913), ('политика', 1874), ('украина', 1418), ('rst14', 1368), ('трейлер', 1354), ('строительство', 1277), ('жизнь', 1258), ('russia', 1211), ('ер36', 1137), ('реформа', 1125), ('всезамихайлова', 1116), ('startuptour', 1110), ('деньвистории', 1081), ('медицина', 1059), ('красотыроссии', 1013), ('красоты_россии', 996), ('закурскийкрай', 987), ('студия13', 973), ('сша', 963), ('spartak', 936), ('факт', 928), ('метро', 861), ('юмор', 859), ('голикова', 807), ('rst2015', 762), ('мудрость', 750), ('бизнес', 732), ('чм2018', 729), ('кэф2012', 699), ('транспорт', 692), ('rt', 688), ('кэф2013', 659), ('выборы', 637), ('криминал', 635), ('крым', 632), ('футбол', 627), ('интересное', 610), ('умно', 605), ('селигер2012', 587), ('дороги', 575), ('eurovision', 564), ('уралвагонзавод', 561), ('антимайдан', 541), ('кэф2014', 540), ('moscow', 538), ('сколково', 538), ('спорт', 531), ('видео', 531), ('счастье', 526), ('мск', 519), ('kinopoisk', 515), ('билетнафинал', 515), ('опрос', 497), ('росопрос', 493), ('пожар', 488), ('депздрав', 484), ('мгер', 475), ('истина', 473), ('ерворонеж', 470), ('спартак', 468), ('почесноку', 459), ('архитектура', 451), ('любовь', 440), ('авария', 439), ('город', 439), ('прямаялиния', 428), ('боевоебратство', 424), ('время', 420), ('история', 413), ('факты', 413), ('совет', 408), ('санкции', 407), ('news', 407), ('днр', 403), ('навальный', 399), ('жкх', 398), ('f4f', 395)]\n",
      "russia_052020_tweets_csv_hashed_2.csv\n",
      "[('гдlive', 2106), ('политика', 1615), ('россия', 1604), ('юмор', 1429), ('страношары', 1197), ('countryballs', 1183), ('росопрос', 914), ('цитата', 909), ('лидерыроссии', 861), ('опрос', 830), ('чебурашка', 753), ('новаямосква', 688), ('мнение', 670), ('тинао', 583), ('яжемать', 527), ('перепись', 407), ('мгд', 407), ('москва', 389), ('россияне', 355), ('новости', 295), ('сша', 290), ('путин', 243), ('newmsknews', 229), ('интересное', 223), ('видео', 214), ('факты', 212), ('жизненно', 203), ('депутатгусева', 203), ('ер', 193), ('expo2025russia', 177), ('бутово', 172), ('expo2025ekaterinburg', 171), ('ер36', 159), ('обама', 154), ('единаяроссия', 151), ('делаважнееслов', 146), ('живаяистория', 137), ('нашастрана', 134), ('северноебутово', 132), ('южноебутово', 132), ('риа_видео', 129), ('деньвистории', 122), ('события', 117), ('ерворонеж', 115), ('мсп', 114), ('московскийпредприниматель', 114), ('мик', 108), ('факт', 107), ('сверхразум', 97), ('дмитрийсаблин', 93), ('followback', 91), ('мпф2019', 91), ('инновациимосквы', 90), ('онжеребенок', 88), ('крым', 86), ('карикатура_от_чебурашки', 86), ('боевоебратство', 86), ('япознаюроссию', 86), ('dji', 85), ('иннокластер', 84), ('politics', 84), ('троицк', 82), ('рдш', 82), ('дпир', 82), ('djimsk', 80), ('взаимныйфолловинг', 80), ('сирия', 78), ('ретвит', 77), ('мойпервыйтвит', 74), ('украина', 74), ('innoclustermsk', 73), ('tech2behappy', 70), ('жфкцска', 69), ('поискрф', 69), ('интереснаяроссия', 68), ('чебушутки', 68), ('ucl', 68), ('зс', 67), ('погода', 65), ('фестиваль', 65), ('взаимнаяподписка', 64), ('djirussia', 63), ('up_great', 63), ('животинка', 61), ('арт', 61), ('отдайматери', 60), ('метро', 60), ('цска', 59), ('eurovision2019', 58), ('рио2016', 57), ('цитаты', 57), ('россиясша', 56), ('tech4happiness', 56), ('карикатура', 56), ('онижедети', 55), ('drone', 54), ('трамп', 54), ('rt', 54), ('навальный', 53), ('labnews', 53)]\n",
      "russia_052020_users_csv_hashed.csv\n",
      "No hashtags, users only\n",
      "None\n",
      "china_052020_users_csv_hashed.csv\n",
      "No hashtags, users only\n",
      "None\n"
     ]
    },
    {
     "name": "stdout",
     "output_type": "stream",
     "text": [
      "china_052020_tweets_csv_hashed.csv\n",
      "[('香港', 51747), ('郭文贵', 47044), ('班农', 8542), ('暴徒', 8065), ('守護香港', 7803), ('肺炎', 7175), ('病毒', 5560), ('milesguo', 4476), ('守护香港', 4460), ('香港警察', 4239), ('游行', 4199), ('covid19', 4057), ('黑警', 3984), ('疫情', 3388), ('废青', 2977), ('香港暴徒', 2604), ('hongkong', 2588), ('止暴制亂', 2440), ('香港遊行', 2440), ('香港游行', 2398), ('警察', 2290), ('暴徒废青', 2255), ('反修例', 2163), ('港独', 2107), ('止暴製亂', 2094), ('武汉疫情', 2070), ('武汉加油', 2058), ('逃犯条例', 2021), ('新冠肺炎', 2003), ('中国加油', 1963), ('撐警行動', 1847), ('严惩暴徒', 1731), ('曱甴', 1709), ('hk', 1665), ('王立强', 1493), ('反暴力遊行', 1485), ('文贵', 1473), ('骗子', 1375), ('廢青', 1183), ('王雁平', 1143), ('新冠病毒', 1113), ('颜色革命', 1099), ('顏色革命', 1031), ('暴力', 1013), ('全民撐警', 998), ('蔡英文', 972), ('武汉肺炎', 928), ('纽约时报', 917), ('廢青遊行', 873), ('香港選舉', 827), ('法制基金', 825), ('止暴制乱', 806), ('黎智英', 791), ('撐港警', 790), ('禁蒙面法', 785), ('郭骗子', 735), ('駐港部隊', 682), ('华尔街日报', 681), ('立法會', 679), ('中國香港', 677), ('台湾选举', 658), ('新冠疫情', 629), ('暴徒廢青', 607), ('香港廢青', 594), ('撑港警', 549), ('愛港撐警', 545), ('间谍', 524), ('港警', 520), ('撑警', 509), ('新年', 491), ('龚小夏', 481), ('元旦', 455), ('暴徒遊行', 424), ('遊行', 409), ('美国疫情', 409), ('香港人權與民主法案', 404), ('爱港護港', 380), ('rt', 375), ('全民撑警', 366), ('暴徒游行', 364), ('ff', 362), ('tfb', 360), ('followme', 360), ('autofollow', 360), ('openfollow', 360), ('sougofollow', 360), ('teamfollowback', 360), ('autofollowback', 360), ('武漢疫情', 351), ('立法会', 333), ('中國加油', 291), ('香港选举', 290), ('郭', 290), ('香港暴恐', 284), ('冠状病毒疫情', 282), ('团结一心', 276), ('港獨', 274), ('王立強', 264), ('武汉', 261), ('五大訴求', 260)]\n",
      "turkey_052020_users_csv_hashed.csv\n",
      "No hashtags, users only\n",
      "None\n",
      "china_082019_1_tweets_csv_hashed.csv\n",
      "[('ptl', 87787), ('pltl', 50647), ('tlrp', 41004), ('nrp', 24642), ('wtl', 13263), ('rtl', 12342), ('rt', 8588), ('rptl', 7140), ('openfollow', 5837), ('ic', 4611), ('etl', 3566), ('senpaibot', 3408), ('郭文贵', 3235), ('bb', 3039), ('aplikasimyindihome', 2472), ('박지훈', 2446), ('angpaountuksobat', 2425), ('온라인바둑이', 2423), ('mfterror', 2367), ('uniteblue', 2273), ('gamesserukartini', 1861), ('wannaone', 1806), ('harrymeetshalanna', 1742), ('atenção', 1671), ('retweet', 1570), ('libcrib', 1563), ('워너원', 1522), ('사설토토추천사이트', 1475), ('사설토토사이트추천', 1467), ('안전놀이터', 1443), ('tntweeters', 1442), ('토토사이트', 1433), ('토토사이트추천', 1427), ('parkjihoon', 1403), ('스포츠배팅사이트', 1355), ('rbstl', 1285), ('exploremyindihome', 1217), ('#bieberfacts', 1200), ('bieberfacts', 1170), ('ngabuburittelkomcare', 1145), ('p2', 1126), ('arizona', 1015), ('桂民海', 1007), ('up', 858), ('ff', 842), ('blackpink', 762), ('#up', 739), ('rpt', 727), ('tmtl', 687), ('on', 672), ('mtvhottest', 664), ('강다니엘', 625), ('conferindo', 625), ('블랙핑크', 602), ('#bieberfact', 587), ('萌えるシチュエーションに同意ならrt', 586), ('jstl', 566), ('jennie', 564), ('인터넷바둑이', 517), ('제니', 516), ('latism', 510), ('operationvacation', 509), ('香港', 501), ('teamfollowback', 497), ('biebergame', 483), ('android', 480), ('populer', 477), ('androidgames', 472), ('gameinsight', 472), ('mtvstars', 464), ('砸锅', 451), ('바둑이', 448), ('kuismyindihome', 425), ('#fn', 424), ('지훈', 422), ('jihoon', 416), ('imaginebelieber', 398), ('아이린', 395), ('todabelieber', 379), ('인터넷바둑이사이트', 368), ('corre', 367), ('kwi', 347), ('사설바둑이추천', 343), ('bieberfact', 340), ('biebergirlfact', 337), ('lgbt', 325), ('사설맞고', 323), ('b', 322), ('사설포커', 317), ('streamonterus', 316), ('바둑이사이트', 313), ('인터넷맞고', 313), ('democrats', 310), ('sigam', 307), ('모바일맞고', 305), ('레드벨벳', 295), ('tcot', 294), ('사설바둑이', 292), ('#ff', 283), ('gilbert23', 280)]\n",
      "china_082019_2_users_csv_hashed.csv\n",
      "No hashtags, users only\n",
      "None\n",
      "china_082019_1_users_csv_hashed.csv\n",
      "No hashtags, users only\n",
      "None\n",
      "china_082019_2_tweets_csv_hashed.csv\n",
      "[('ff', 19974), ('عاشق_الليل', 18436), ('gadgets', 6600), ('#gadgets', 6101), ('整点报时', 5917), ('#tech', 5339), ('tech', 5013), ('up', 4756), ('ماهر_الملالحة', 4647), ('عاشق', 4455), ('job', 3962), ('jobs', 3538), ('luvsujunet', 3524), ('hiring', 2943), ('quotes', 2675), ('سكع', 2296), ('it', 2183), ('حساب_يستحق_المتابعه', 2063), ('#utribe', 1964), ('topnewfollowers', 1909), ('itjob', 1786), ('in', 1746), ('teamfollowback', 1744), ('نمير_البيان', 1731), ('رباب_الكلم', 1638), ('#news', 1584), ('#parenting', 1518), ('صباح_الخير', 1513), ('follow', 1512), ('dorset', 1480), ('jeydice', 1341), ('instantfollowback', 1324), ('جميلة_المساء', 1251), ('jeydonlopez', 1220), ('rt', 1176), ('#westchester', 1153), ('autofollowback', 1146), ('كتابات_منيرة', 1130), ('autofollowmenow', 1065), ('500aday', 1054), ('يخبرني_الصباح', 1048), ('followback', 1027), ('ls', 1027), ('بدر_البرغوث', 1012), ('خاطره', 982), ('حروف_وقهوة', 972), ('قهوة_السابعة', 968), ('#ff', 960), ('teamautofollow', 959), ('follow4follow', 955), ('بوح', 929), ('f4f', 926), ('teamfollowwack', 924), ('fb', 923), ('1000aday', 917), ('nowfollowing', 907), ('itjobs', 906), ('instantfollow', 889), ('followngain', 888), ('gofollow', 880), ('ifollowback', 851), ('teamautofollowback', 842), ('#sulit', 829), ('happybirthdaytinalata', 811), ('كوب_لشخصين', 711), ('منبر_الحرف', 710), ('معرض_الكويت_الدولي_للكتاب', 708), ('tggrending', 704), ('غزة_تقاوم', 704), ('أقصى_المحاني', 697), ('so', 678), ('قهوة_الصباح_والمساء', 674), ('قروب_رضاب_الحرف', 674), ('حقيقة', 667), ('حكاية', 636), ('ff_يستحق_المتابعه', 630), ('love', 624), ('سلاف', 619), ('promoforpromo', 613), ('taf', 598), ('بقلمي', 598), ('tfbbam', 589), ('teamretweet', 588), ('الحرف_النابض', 584), ('مله', 577), ('حنين', 576), ('تصويري', 574), ('عتييق', 574), ('الكويت', 563), ('توت_مزهر', 561), ('الفجر_الحالم', 551), ('solidteamjeydice', 549), ('ناجي', 543), ('companion', 536), ('صافي_الدمع', 533), ('#followfriday', 514), ('رسالة_مع_زجاجة_عطر', 499), ('نبض', 466), ('f_o_l_l_o_w_f_r_i_d_a_y', 462), ('عازف_الليل', 462)]\n",
      "iran_201901_1_tweets_csv_hashed_1.csv\n",
      "[('mukminindonesia', 7101), ('iran', 6638), ('syiah', 6396), ('beritaislam', 4428), ('egypt', 4072), ('yaman', 4060), ('news', 3570), ('gaza', 2680), ('palestine', 2572), ('israel', 2278), ('syria', 1962), ('alarabiya', 1705), ('الجزائر', 1701), ('isis', 1648), ('beritadunia', 1554), ('mukminindonesian', 1414), ('rouhani', 1367), ('gazaunderattack', 1311), ('yemen', 1273), ('saudi', 1229), ('indonesia', 1054), ('islam', 1035), ('freepalestine', 1000), ('iraq', 976), ('us', 943), ('مصر', 934), ('ksa', 906), ('داعش', 904), ('غزة', 707), ('تونس', 684), ('sunni', 672), ('السعودية', 635), ('المغرب', 626), ('pakistan', 544), ('iranelection', 539), ('yemenunderattack', 523), ('india', 520), ('bahrain', 519), ('روحانی', 502), ('icc4israel', 501), ('افريقيا', 472), ('الرياضة', 445), ('usa', 436), ('blacklivesmatter', 423), ('العراق', 422), ('khamenei', 405), ('irak', 405), ('obama', 400), ('المنوعات', 394), ('israeli', 386), ('irantalks', 383), ('indonesiaku', 373), ('russia', 373), ('العالم', 367), ('hakikatsyiah', 360), ('الصومال', 359), ('letter4u', 354), ('موريتانيا', 326), ('palestinian', 323), ('nuclear', 322), ('syiahindonesia', 320), ('nkri', 320), ('السودان', 311), ('bjp', 310), ('اقتصاد', 304), ('wahabi', 298), ('بغداد', 285), ('bds', 281), ('saudi_arabia', 276), ('muslims', 268), ('parisattacks', 265), ('turkey', 256), ('irandeal', 256), ('mediaberkedokislam', 255), ('saudiarabia', 242), ('un', 233), ('irantalksvienna', 233), ('takfiri', 229), ('ferguson', 228), ('thirdintifada', 227), ('أخباروالعالم', 222), ('iranian', 221), ('muslim', 219), ('modi', 218), ('zionism', 215), ('jerusalem', 208), ('أخبارمصر', 207), ('dixine', 206), ('ایران', 201), ('palestinians', 200), ('متابعة', 195), ('prayforgaza', 194), ('اليمن', 193), ('no2saudi', 191), ('netanyahu', 188), ('الكويت', 187), ('isil', 184), ('alaqsa', 183), ('zionist', 180), ('tehran', 178)]\n",
      "iran_201901_1_tweets_csv_hashed_2.csv\n",
      "[('senpaibot', 8686), ('النجم_الثاقب', 7784), ('palestine', 7103), ('art', 6037), ('السعودية', 5869), ('israel', 5631), ('breaking', 5073), ('qudsday', 4880), ('breakhasr', 4789), ('nodapl', 4609), ('stopthewaronyemen', 4583), ('روحانی', 4555), ('science', 4502), ('الرأي_التونسي', 4376), ('اليمن', 4133), ('رئیسی', 3905), ('deleteisrael', 3793), ('nature', 3651), ('yemen', 3444), ('palestinenotforsale', 3339), ('syria', 3298), ('تا١٤٠٠باروحاني', 3236), ('prideofnationsc', 3134), ('تکرارمیکنیم', 3128), ('دولت۱۰۰درصدی', 3067), ('gaza', 3006), ('به_عقب_بازنمیگردیم', 2887), ('قاليباف', 2882), ('iran', 2878), ('weallareimrankhan', 2860), ('freepalestine', 2801), ('مناظره', 2782), ('نون_لیگ_مافیا', 2747), ('christmas', 2709), ('الجزائر', 2698), ('trump', 2548), ('pakistan', 2543), ('bds', 2536), ('فریب_نمیخوریم', 2511), ('palestinian', 2449), ('مصر', 2422), ('bjp', 2421), ('breakingnews', 2414), ('pakarmyrebuildingpeace', 2412), ('اسحاق', 2404), ('ps114forpti', 2299), ('isis', 2291), ('gamesserukartini', 2283), ('وزیراعظم_استعفیٰ_دو', 2270), ('dargrilledbyjit', 2234), ('sky', 2184), ('india', 2105), ('yemenbleeds', 2053), ('میں_اِن_کو_رُلاؤں_گا', 2051), ('aleppo', 2049), ('dacoitshariffamily', 2044), ('freezakzaky', 2007), ('kashmir', 2002), ('prayformotherland', 1976), ('تونس', 1948), ('ببین_چی_میگم', 1941), ('جهانگیری', 1931), ('مولود_کعبہ_مولا_علی', 1929), ('saudi', 1920), ('sayyidali', 1899), ('animals', 1876), ('killersunitedinisrael', 1869), ('saudimustapologize', 1844), ('news', 1835), ('ramazanteachespatience', 1832), ('درس_حسین_ع', 1821), ('تغییرات_ملموس', 1816), ('photography', 1802), ('نواز_کا_عوام_دشمن_بجٹ', 1762), ('together4palestine', 1747), ('earth', 1744), ('ایران_با_عزت', 1730), ('عمران_چلے_پٹواری_جلے', 1712), ('photo', 1701), ('السودان_اليوم', 1688), ('حتی_زوال_اسرائيل', 1671), ('aplikasimyindihome', 1666), ('khomeinithelegend', 1658), ('beunitedbepakistani', 1648), ('hitunguntungindihome', 1627), ('alepporealstory', 1621), ('longlivekashmirmovement', 1614), ('ikagainstterrornotpsl', 1613), ('داعش', 1597), ('حتى_زوال_إسرائيل', 1592), ('کپتان_بدلے_گا_پاکستان', 1591), ('israeli', 1588), ('shiagenocidereport2016', 1579), ('٨٠٠يوم_عدوان_على_اليمن', 1571), ('تا_نابودی_اسرائیل', 1568), ('kashmirreferendum', 1554), ('انتخاب96', 1547), ('arrestsaadrafique', 1534), ('fakenews', 1518), ('wildlife', 1506)]\n"
     ]
    },
    {
     "name": "stdout",
     "output_type": "stream",
     "text": [
      "iran_201901_1_tweets_csv_hashed_3.csv\n",
      "[('sachtimes', 14221), ('pakonlinenews', 11611), ('deleteisrael', 9499), ('palestine', 7801), ('husainforjustice', 7570), ('science', 7238), ('letkashmirbefree', 6716), ('whyisupportik', 6694), ('qudscapitalofpalestine', 6334), ('letsfightterrorism', 5773), ('نواز_کا_نظریہ_کرپشن', 5765), ('pakistanwillriseagain', 5533), ('teachingsofnabisaw', 5527), ('ناکام_نواز_حکومت', 5492), ('letseducatepakistan', 5479), ('kpklovespti', 5462), ('beabettermuslim', 5259), ('standupforteamgreen', 5112), ('art', 4976), ('gaza', 4894), ('bringlootedmoneyback', 4808), ('israel', 4799), ('saverohingya', 4739), ('قاتل_پنجاب_حکومت', 4652), ('zionismagainsthumanity', 4630), ('کرپشن_فری_پاکستان', 4615), ('freesindhfromppp', 4486), ('muslimsareunited', 4463), ('trump', 4412), ('blessedfriday', 4396), ('nomoreyellowjournalism', 4347), ('ahlulbayt', 4321), ('islamdignifieswomen', 4253), ('breaking', 4243), ('muslimsrejecttrump', 4241), ('pmlngoonsattacksc', 4235), ('الحرب_الفاشله', 4182), ('mypeacefulpakistan', 4111), ('welldonedryasmin', 3968), ('nomoresympathyvotes', 3900), ('سرخرو_ہوا_کپتان_ہمارا', 3853), ('longlivepakfauj', 3834), ('nationlovespakarmy', 3827), ('ہمارا_نیا_پختونخوا', 3799), ('freepalestine', 3792), ('arresttraitornawaz', 3791), ('ایک_بار', 3787), ('photography', 3774), ('نااہل_وفاقی_کابینہ', 3729), ('usfatherofterrorism', 3728), ('nature', 3630), ('unitedwerise', 3618), ('نهايات_تفشل1', 3574), ('مجھے_کیوں_رلایا', 3535), ('letsrebuildpakistan', 3496), ('puppetlngpm', 3461), ('attentionformyanmar', 3425), ('السعودية', 3412), ('earth', 3328), ('imranvsall', 3317), ('punishchildmolesters', 3312), ('news', 3229), ('sky', 3212), ('pakarmyrevivespeace', 3202), ('بےمثال_کپتان_ہمارا', 3192), ('photographyisart', 3144), ('rohingyamuslims', 3092), ('2018imranka', 3080), ('al_quran', 3048), ('نااہل_کا_نظریہ', 3005), ('beautifulpakistan', 2997), ('pakneedselectoralreforms', 2995), ('khanwillunitemuslims', 2990), ('forgottenquran', 2980), ('adyalaawaitsnawaz', 2964), ('سلام_شہدائے_وطن', 2950), ('foundationdayisf', 2938), ('dutybeingapakistani', 2915), ('iran', 2878), ('فساد_سلمان_بن_عبدالعزيز', 2825), ('staystrongjkt', 2799), ('rohingya', 2777), ('arystandswithtruth', 2747), ('islamreligionofpeace', 2724), ('nopollswithoutreforms', 2706), ('downwithusa', 2694), ('چورپارٹی_مجرم_صدر', 2669), ('القران_المهجور', 2666), ('pakistanismylove', 2615), ('lng_عباسی_نامنظور', 2606), ('وزیراعظم_عمران_خان', 2574), ('maryamdonationchor', 2546), ('animals', 2524), ('voteforyasminrashid', 2523), ('70yearsofexcellence', 2475), ('ہمارا_خوشحال_بلوچستان', 2452), ('saverohingyamuslims', 2445), ('momentsof2017', 2431), ('کرپشن_سے_پاک_پاکستان', 2429), ('دور_نہیں_قائد_کا_پاک', 2429)]\n",
      "iran_201901_1_tweets_csv_hashed_4.csv\n",
      "[('pakonlinenews', 13578), ('پیام_حسین', 7663), ('qudsday4return', 6639), ('gaza', 4708), ('چهارسال_جنایت', 4243), ('freepalestine', 4219), ('nature', 4011), ('israel', 3814), ('iran', 3518), ('palestine', 3157), ('strongestiran', 2845), ('science', 2570), ('يوم_القدس_مسيرة_العودة', 2249), ('art', 2144), ('savepalestine', 1955), ('photography', 1920), ('deleteisrael', 1872), ('internationalqudsday2018', 1864), ('qudsday2018', 1845), ('sky', 1760), ('breaking', 1741), ('یمن', 1641), ('bds', 1601), ('travel', 1530), ('بلے_پے_نشان_نیا_پاکستان', 1515), ('trump', 1473), ('washington', 1454), ('photo', 1437), ('israeli', 1384), ('palestinian', 1381), ('spiritoframzan', 1330), ('روحانی', 1302), ('picture', 1278), ('امام_خمینی', 1253), ('حامیان_خراسانی_قدس', 1219), ('fatf', 1205), ('yemenwarcup', 1196), ('برجام', 1192), ('earth', 1191), ('السعودية', 1189), ('standup4kashmir', 1181), ('greatreturnmarch', 1178), ('الحسين_يجمعنا', 1176), ('traitornawazexposed', 1174), ('builddamssavepak', 1172), ('pakarmysymbolofpeace', 1165), ('yemen', 1147), ('روز_قدس_بازگشت_بقدس', 1123), ('frommasjidalharam', 1120), ('letpalestinebreath', 1118), ('animal', 1088), ('justice_comingsoon_atf', 1066), ('من_المسجد_الحرام', 1051), ('اب_بدلے_گا_پاکستان', 1026), ('syria', 1004), ('monthofblessings', 1001), ('کرپشن_سے_غداری', 963), ('محرم', 951), ('realfaceofterrorism', 947), ('teachingsofislam', 927), ('taleofmegacorruption', 924), ('اب_کی_بار_صرف_کپتان', 908), ('زرداری_اب_تمہاری_باری', 905), ('noonendssoon', 901), ('pakistanneedskaptaan', 896), ('breakingnews', 893), ('بانوی_فاشیست', 885), ('ضمیر_کا_انتخاب_عمران_خان', 865), ('city', 855), ('niklopakistankikhatir', 842), ('ووٹ_عمران_خان_کا_کیونکہ', 839), ('ملک_کو_عزت_دو', 836), ('بریانی_پہ_مت_مرنا', 836), ('فوج_کو_عزت_دو', 826), ('شریف_خاندان_عبرت_کا_نشان', 821), ('iwillvoteforbat', 817), ('myvoteforik', 812), ('mianmentalshareef', 798), ('ٹھپا_لگاؤ_انڈیا_کو_ہراؤ', 781), ('respectforpakforces', 770), ('اب_کی_بار_عمران_سرکار', 768), ('legends_of_humanity', 759), ('flower', 759), ('us', 755), ('gameovernawazzardari', 737), ('مجھے_کیوں_چپ_کروایا', 734), ('karachistandswithik', 728), ('balochistancelebrates', 723), ('husain4all', 719), ('کپتان_کا_خواب_روشن_پاکستان', 711), ('ideal_woman', 707), ('palestinians', 704), ('letstalkaboutpakistan', 692), ('jordantimes', 691), ('wajidjitandpakistan', 689), ('landscape', 688), ('beautiful', 681), ('supportikbecause', 676), ('pti', 676), ('برای_حسین', 675)]\n",
      "russian_linked_tweets_csv_hashed.csv\n",
      "[('maga', 40068), ('releasethememo', 37699), ('islamistheproblem', 21666), ('qanon', 17332), ('bansharialaw', 15285), ('stopimportingislam', 15248), ('tcot', 13934), ('banislam', 12468), ('americafirst', 11713), ('trump', 11256), ('wakeupamerica', 10567), ('islam', 10005), ('trump2016', 9983), ('stopislam', 9604), ('educateyourselfonislam', 8293), ('makeamericagreatagain', 8038), ('trumptrain', 7948), ('fakenews', 7547), ('isis', 7386), ('pjnet', 7236), ('banthequran', 7121), ('stopmakingexcusesforislam', 6850), ('bancairnational', 6015), ('buildthewall', 5959), ('draintheswamp', 5426), ('obamaistheworstpresidentever', 5313), ('obamagate', 5101), ('arrestobama', 5101), ('schumershutdown', 4997), ('bantheburka', 4864), ('closeallmosquesnow', 4806), ('obama', 4772), ('islamisevil', 4754), ('neverhillary', 4463), ('crookedhillary', 4285), ('2a', 3706), ('banthequranasahatebook', 3664), ('breaking', 3638), ('followthewhiterabbit', 3550), ('deepstate', 3516), ('ccot', 3375), ('banislaminamerica', 3306), ('obamalegacy', 3229), ('syria', 3146), ('banthemuslimbrotherhood', 3142), ('hillaryclinton', 3104), ('insidesyriamc', 3089), ('blacklivesmatter', 3074), ('bancair', 3007), ('nodaca', 3000), ('islamispureevil', 2988), ('kag', 2910), ('usa', 2865), ('impeachobama', 2731), ('авто', 2693), ('muslims', 2641), ('closeallmosques', 2556), ('deathcult', 2544), ('gopdebate', 2535), ('noamnesty', 2448), ('exposeislam', 2428), ('rednationrising', 2396), ('saynotoislam', 2375), ('antifa', 2367), ('realwaronwomen', 2335), ('hillary', 2215), ('wakeupworld', 2197), ('islamexposed', 2136), ('vault7', 2117), ('greatawakening', 2103), ('news', 2094), ('susanrice', 2075), ('rt', 2072), ('wethepeople', 2070), ('lockherup', 2064), ('benghazi', 2046), ('enoughisenough', 1973), ('islamicstate', 1950), ('votegop', 1946), ('obamaisamuslimlover', 1925), ('muslimban', 1877), ('fuckislam', 1846), ('muslim', 1843), ('wiretap', 1841), ('pizzagate', 1809), ('nosharia', 1790), ('thisisislam', 1718), ('nomoremoslemrefugees', 1683), ('dontgetfooledagain', 1681), ('democrats', 1667), ('cair', 1656), ('moslemsaretheproblem', 1627), ('donaldtrump', 1615), ('fireryan', 1604), ('alwaystrump', 1585), ('gop', 1584), ('ferguson', 1546), ('schumer', 1546), ('schumerdacashutdown', 1513), ('wikileaks', 1507)]\n",
      "venezuela_201901_1_tweets_csv_hashed_1.csv\n",
      "[('noticias', 302957), ('tropa', 169566), ('legionfanb', 91395), ('news', 69131), ('siguemeytesigo', 51254), ('deportes', 35436), ('forocandanga', 34793), ('tecnologia', 25964), ('mundo', 20369), ('android', 18141), ('videojuegos', 14537), ('actualidadrt', 13634), ('lafanbeshonorygloria', 11765), ('vzla', 10322), ('venezuela', 9958), ('technology', 8764), ('entrechavistasnosseguimos', 7799), ('desarrolloproductivofanb', 7644), ('poderpopular', 7546), ('obamaderogaeldecretoya', 6692), ('mueralacorrupcion', 6218), ('barinas', 6125), ('diadelsoldadodelapatria', 5323), ('fanbenlafrontera', 5126), ('piñeraypastranaatiendanalcomitedevictimasguarimbas', 4572), ('soyforocandanga', 4480), ('fanb', 3993), ('4funioncivicomilitar', 3992), ('fanbejemplodepaz', 3742), ('comunaonada', 3625), ('sigueaforocandanga', 3603), ('interesante', 3487), ('hablandodepoder', 3461), ('fanbenlaciberdefensa', 3305), ('hombresymujeresdehonor', 3296), ('nicolasunpdtedepaz', 3243), ('venezuelasiglo21', 3221), ('juventudchavistadepaz', 3153), ('tecnología', 3107), ('olpgarantiadepaz', 3102), ('elesequiboesnuestro', 2659), ('candangueando', 2658), ('caraboboenmarcha', 2561), ('rt', 2397), ('fanbgarantiadepaz', 2262), ('ff', 2238), ('plandelapatria', 2236), ('obamarepealtheexecutiveorder', 2186), ('venezuelaexigerespeto', 2157), ('caracas', 2140), ('chavez', 2140), ('palantecomandante', 2081), ('cuba', 2069), ('mividaporlapatria', 2064), ('fanbessoberania', 2045), ('queremosfmparayvke', 1937), ('fuerzacristina', 1799), ('todomiapoyogeneralpadrinolopez', 1751), ('fanblealtadabsoluta', 1734), ('psuv', 1729), ('fanbtuprotectora', 1706), ('fanbcompromisopatrio', 1669), ('apoyorotundoamaduro', 1647), ('puñodehierrochavista', 1640), ('ahora', 1608), ('chávez', 1567), ('venezuelaesesperanza', 1551), ('felizmartes', 1532), ('esequibonuestro', 1502), ('guerrillaactiva', 1487), ('6d', 1484), ('video', 1477), ('vivachavezcarajo', 1460), ('ciudadccs', 1452), ('celac', 1441), ('estudiantemilitarumbv', 1413), ('sigoachavezcandanga', 1388), ('venezuelaserespeta', 1350), ('justiciaparalapaz', 1337), ('contodoporlapatria', 1335), ('noselodigasanadie', 1328), ('gnb78añosjuntoalpueblo', 1324), ('derechamaltrechafracasa', 1309), ('créalosiledalagana', 1301), ('envivo', 1269), ('protectordelpueblo', 1262), ('foto', 1259), ('noalintervencionismoyankee', 1233), ('somospuebloluchador', 1211), ('soldadovictorioso', 1206), ('voteonedirection', 1205), ('tecno', 1177), ('psuvvictorioso', 1174), ('obamayankeegohome', 1167), ('10añosceofanb', 1159), ('usa', 1125), ('losdechavezavotar', 1112), ('patriagrande', 1099), ('monagas', 1093), ('vma', 1074)]\n"
     ]
    },
    {
     "name": "stdout",
     "output_type": "stream",
     "text": [
      "venezuela_201901_1_tweets_csv_hashed_2.csv\n",
      "[('noticias', 752543), ('rt', 416592), ('news', 129395), ('android', 110048), ('mundo', 90460), ('latam', 71959), ('deportes', 60699), ('tropa', 47091), ('legionfanb', 44235), ('vzla', 40788), ('tecnologia', 39869), ('lechuguinos', 32003), ('actualidadrt', 26298), ('venezuela', 20592), ('tecnología', 17930), ('ahora', 17582), ('envivo', 17310), ('interesante', 15116), ('videojuegos', 14352), ('socialmedia', 14254), ('eeuu', 13163), ('video', 12999), ('fanbesvenezuela', 12820), ('technology', 11077), ('opinión', 8554), ('segundadivisionb', 8349), ('ramosallup666', 7441), ('siguemeytesigo', 6999), ('chistes', 6450), ('fanb', 6276), ('loultimo', 6100), ('siria', 6039), ('rusia', 5619), ('barinas', 5606), ('colombia', 5472), ('viaalterna', 5285), ('tuitutil', 5107), ('brasil', 4815), ('cuba', 4556), ('argentina', 4421), ('gmas', 4183), ('lomaspopular', 3957), ('hoy', 3946), ('fanbeshonorygloria', 3944), ('trump', 3620), ('rio2016', 3597), ('méxico', 3450), ('fanbmirandinaypatriota', 3375), ('daesh', 3358), ('irán', 3354), ('enfotos', 3318), ('somospatriachavista', 3171), ('fanbespatriaheroica', 3157), ('psuv', 3139), ('ramosallupmamador', 3102), ('españa', 2987), ('blogstelesur', 2913), ('premierleague', 2869), ('segundadivision', 2837), ('felizmartes', 2796), ('aquí', 2793), ('felizlunes', 2778), ('periscope', 2774), ('deyarealcorazondelpueblo', 2747), ('seriea', 2656), ('gnb', 2571), ('bolivia', 2542), ('ligue1', 2459), ('consolas', 2450), ('fanbypueblosonindependencia', 2386), ('ecuador', 2352), ('fotos', 2339), ('noticia', 2321), ('primeradivision', 2309), ('felizjueves', 2252), ('lamásleída', 2236), ('obamavenezuelanoserinde', 2233), ('caracas', 2196), ('biatlondetanquesfanb', 2196), ('ligabbva', 2175), ('lomasleido', 2158), ('fanbespatriaeindependencia', 2143), ('clap', 2135), ('grupo4', 2133), ('grupo2', 2105), ('lodijomaduro', 2076), ('grupo3', 2074), ('onu', 2065), ('lapatriasedefiende', 2056), ('grupo1', 2034), ('anzoátegui', 2031), ('bundesliga', 2014), ('china', 2002), ('infografia', 1988), ('maduro', 1976), ('ubvresteadosconmaduro', 1937), ('israel', 1930), ('felizmiercoles', 1923), ('venezuelaconlagnb', 1910), ('8may', 1906)]\n",
      "venezuela_201901_1_tweets_csv_hashed_3.csv\n",
      "[('lechuguinos', 43402), ('rt', 29161), ('endebate', 27073), ('vivetv', 25567), ('noticias', 18559), ('venezuela', 14968), ('eeuu', 13135), ('envivo', 10705), ('ahora', 9593), ('video', 8719), ('rusia', 4820), ('30jul', 4785), ('17oct', 4753), ('siria', 4740), ('irán', 4380), ('24nov', 3790), ('fanb', 3663), ('6nov', 3543), ('11ago', 3479), ('22sep', 3403), ('31oct', 3384), ('android', 3342), ('trump', 3041), ('12oct', 3001), ('30ago', 2992), ('felizlunes', 2973), ('mundo', 2920), ('30nov', 2895), ('felizmartes', 2890), ('deportes', 2776), ('hoy', 2679), ('19sep', 2666), ('17nov', 2584), ('colombia', 2547), ('enfotos', 2529), ('15oct', 2523), ('israel', 2511), ('20nov', 2475), ('méxico', 2371), ('17ago', 2365), ('29sep', 2356), ('22jul', 2347), ('china', 2250), ('03dic', 2240), ('17sep', 2207), ('2oct', 2200), ('buenviernes', 2176), ('envideo', 2176), ('argentina', 2151), ('22oct', 2149), ('4nov', 2131), ('psuv', 2104), ('22ago', 2091), ('daesh', 2086), ('news', 2086), ('esnoticia', 2049), ('felizdomingo', 2032), ('26oct', 2019), ('opinión', 1989), ('aragua', 1983), ('6ago', 1947), ('tuiterosactivos', 1920), ('7oct', 1904), ('felizjueves', 1892), ('9oct', 1881), ('onu', 1865), ('23nov', 1850), ('27oct', 1847), ('11nov', 1782), ('28nov', 1781), ('felizmiercoles', 1765), ('encuentropopular', 1764), ('29oct', 1734), ('entérate', 1696), ('brasil', 1662), ('cuba', 1606), ('21jul', 1584), ('caracas', 1547), ('28jul', 1545), ('5oct', 1534), ('votaporvenezuela', 1532), ('cataluña', 1521), ('6oct', 1518), ('pueblounidoconmaduro', 1514), ('28sep', 1513), ('españa', 1503), ('26sep', 1499), ('fotos', 1483), ('15sep', 1478), ('aquí', 1461), ('últimahora', 1443), ('27ago', 1434), ('21ago', 1417), ('18jul', 1416), ('endirecto', 1407), ('30oct', 1399), ('venezuelavotahoy', 1381), ('bolivia', 1372), ('regional', 1352), ('felizsabado', 1343)]\n",
      "venezuela_201901_1_users_csv_hashed.csv\n",
      "No hashtags, users only\n",
      "None\n",
      "venezuela_linked_tweets_csv_hashed.csv\n",
      "[('top', 8297), ('maga', 6781), ('mar', 5320), ('topl', 4619), ('cic', 4484), ('sted', 3504), ('amb', 3144), ('may', 2776), ('th', 2248), ('ste', 1817), ('jud', 1719), ('imo', 1584), ('just', 1483), ('vvmar', 1398), ('marv', 1398), ('trumptrain', 1317), ('jan', 1295), ('ella', 1230), ('ells', 1230), ('pjnet', 1204), ('clarri', 1174), ('clar', 1173), ('cadens', 1158), ('canden', 1158), ('danita', 1148), ('dannis', 1148), ('law', 1110), ('cas', 1109), ('laww', 1109), ('job', 1098), ('cicc', 1093), ('jobb', 1090), ('justo', 1082), ('evas', 1079), ('eevan', 1079), ('iv', 1075), ('iva', 1075), ('ross', 1053), ('charlottesville', 1046), ('ara', 1030), ('arre', 1030), ('alis', 1022), ('lis', 1022), ('ka', 992), ('kah', 990), ('mayy', 982), ('sexlecciones', 963), ('love', 959), ('fakenews', 946), ('ade', 945), ('aded', 945), ('ddep', 942), ('emmss', 921), ('emms', 920), ('debes', 915), ('darccy', 884), ('darcy', 883), ('clarris', 870), ('clariss', 870), ('lissla', 865), ('deb', 862), ('debb', 860), ('adcat', 856), ('eli', 837), ('elins', 835), ('vero', 835), ('ver', 833), ('beeth', 821), ('im', 818), ('mari', 814), ('tisda', 809), ('ros', 804), ('arbt', 802), ('arb', 802), ('trump', 802), ('firehannity', 799), ('daopp', 762), ('dap', 762), ('emel', 762), ('eme', 762), ('womensmarch', 753), ('casse', 725), ('beai', 684), ('beas', 684), ('sst', 672), ('draintheswamp', 668), ('potus', 657), ('antifa', 653), ('marchforlife', 632), ('lost', 631), ('tcot', 611), ('smit', 610), ('altleft', 587), ('corruptcongress', 570), ('adee', 565), ('p2', 560), ('blac', 554), ('amber', 541), ('amberli', 540), ('joness', 537)]\n",
      "iran_201901_1_users_csv_hashed.csv\n",
      "No hashtags, users only\n",
      "None\n",
      "__MACOSX/._iran_201901_1_users_csv_hashed.csv\n",
      "No hashtags, users only\n",
      "None\n",
      "venezuela_201901_2_users_csv_hashed.csv\n",
      "No hashtags, users only\n",
      "None\n",
      "bangladesh_201901_1_users_csv_hashed.csv\n",
      "No hashtags, users only\n",
      "None\n",
      "bangladesh_linked_tweets_csv_hashed.csv\n",
      "[('bangladesh', 905), ('sheikhhasina', 191), ('sarabangla', 130), ('freetanvir', 88), ('worldcup2018', 84), ('worldcup', 83), ('সারাবাংলা', 75), ('bnpjamaat', 60), ('bnp', 60), ('terrorism', 51), ('bangabandhu', 32), ('arrestkhaledazia', 29), ('india', 27), ('jamaat', 25), ('warcriminal', 23), ('thankshasina', 22), ('brazil', 22), ('digitalbangladesh', 22), ('china', 22), ('bnpjamaatviolence', 21), ('insheikhhasinawetrust', 19), ('dontsplittestcricket', 18), ('sheikh_hasina', 18), ('dhaka', 17), ('khaledazia', 17), ('warcrimes', 16), ('বিএনপি', 15), ('stopbarbarism', 14), ('joybangla', 14), ('albdcouncil2016', 14), ('neymer', 13), ('savebangladesh', 13), ('albdcouncil', 13), ('violence', 13), ('cr7', 12), ('ict', 12), ('politics', 12), ('20thnationalconference', 12), ('infrastructure', 12), ('warcriminals', 11), ('banvind', 11), ('messi', 11), ('padmabridge', 11), ('nizami', 11), ('argentina', 10), ('xijinping', 10), ('hangkamaruzzaman', 9), ('cricket', 9), ('bangladeshmarchingahead', 9), ('genocide', 9), ('investment', 9), ('energy', 9), ('kamaruzzaman', 8), ('terrorist', 8), ('indvban', 8), ('aljazeera', 8), ('economy', 8), ('power', 8), ('russia', 7), ('sarabangladotnet', 7), ('blockade', 7), ('bpl', 7), ('halamadrid', 7), ('education', 7), ('অনলাইন_পত্রিকা', 6), ('সারাবাংলাডটনেট', 6), ('liberationwar', 6), ('rohingyacrisis', 6), ('argfra', 6), ('jamat', 6), ('pakistan', 6), ('terrorists', 6), ('humanrights', 6), ('hasina', 6), ('votefornouka', 6), ('bnp_jamaat', 6), ('shahbag', 6), ('jmb', 6), ('social_first', 6), ('rmg', 6), ('cwc15', 6), ('development', 6), ('japan', 6), ('trade', 6), ('election2018', 5), ('isis', 5), ('khaleda', 5), ('nepal', 5), ('নৌকায়_ভোট_দিন', 5), ('bnpjamaatterror', 5), ('saynotobnpjamaat', 5), ('fraarg', 5), ('usa', 5), ('rohingya', 5), ('employment', 5), ('bdnews', 5), ('us', 5), ('bdin2015', 5), ('southasia', 5), ('albd', 4)]\n",
      "russia_201901_1_users_csv_hashed.csv\n",
      "No hashtags, users only\n",
      "None\n",
      "__MACOSX/._russia_201901_1_users_csv_hashed.csv\n",
      "No hashtags, users only\n",
      "None\n",
      "saudi_arabia_112019_users_csv_hashed.csv\n",
      "No hashtags, users only\n",
      "None\n"
     ]
    },
    {
     "name": "stdout",
     "output_type": "stream",
     "text": [
      "saudi_arabia_112019_tweets_csv_hashed/saudi_arabia_112019_tweets_csv_hashed_9.csv\n",
      "[('غرد_بذكر_الله', 31393), ('bahrain', 16285), ('الهلال', 16175), ('السعودية', 15472), ('رتويت', 14158), ('دعاء_لربي', 13714), ('النصر', 12544), ('ريتويت', 9938), ('كنز_المسلم', 7606), ('ff', 6368), ('ksa', 5863), ('quran', 5166), ('الرياض', 4888), ('آسرع_رتويت', 4804), ('الكويت', 4684), ('البحرين', 4568), ('kuwait', 4462), ('الشيعة', 4460), ('q8', 4301), ('بوح', 4111), ('غرد_بصورة', 4076), ('سوريا', 4074), ('tfb_ar', 3894), ('uae', 3576), ('qatar', 3101), ('الاتحاد', 3094), ('مصر', 3041), ('hadith', 3037), ('أخبار_الأمطار_في_شتى_الأقطار', 3030), ('gcc', 2862), ('رتويت_لزيادة', 2742), ('saudi', 2618), ('unfalert', 2575), ('ﷺ', 2489), ('تابعني_اتابعك', 2450), ('رطب_لسانك', 2376), ('شيعة', 2323), ('نشر_سيرته', 2276), ('زيادة_متابعين', 2263), ('syria', 2216), ('حقيقة', 2107), ('rt', 2016), ('قطر', 1941), ('تطبيق_قرآنى', 1895), ('معلمو_السعودية', 1867), ('bhr', 1814), ('رتويت_بلآ_توقف', 1755), ('رتويت_قوي_وسريع', 1721), ('لزيادة', 1696), ('الخليج', 1559), ('جدة', 1548), ('الشباب', 1534), ('عاجل', 1518), ('درر', 1509), ('الامارات', 1494), ('فولوباك', 1468), ('allah', 1435), ('برشلونة', 1419), ('ريال_مدريد', 1329), ('صورة', 1328), ('اكشن_يا_دوري', 1269), ('سميتك_غلاي', 1265), ('لزيادة_متابعينك', 1262), ('فولومي', 1258), ('14feb', 1243), ('شعر', 1223), ('متصدر_لاتكلمني', 1186), ('تصويري', 1163), ('الإمارات', 1097), ('تصميمي', 1068), ('مكة', 1054), ('التعليم', 1053), ('اضافة', 1046), ('القصيم', 1026), ('سامي_الجابر', 1023), ('أذكار_الصباح_و_المساء', 1019), ('تابعني', 1016), ('حالياً', 994), ('الاهلي', 993), ('العالمي', 980), ('حائل', 979), ('أذكار_الصباح', 974), ('حقيقه', 973), ('جامعة_طيبة', 968), ('shia', 953), ('ff_specialツ', 920), ('صباح_الخير', 917), ('prt', 910), ('الطقس', 896), ('عملاق_السعودية', 883), ('bh', 877), ('الوتر', 871), ('قروب_فولو_باك', 864), ('دعاء', 836), ('شطحة', 828), ('الراتب_مايكفي_الحاجة', 827), ('فولوباك_للجميع', 821), ('الزلفي', 805), ('bah', 798), ('دبي', 798)]\n",
      "saudi_arabia_112019_tweets_csv_hashed/saudi_arabia_112019_tweets_csv_hashed_8.csv\n",
      "[('الهلال', 56852), ('النصر', 22687), ('تطبيق_قرآنى', 21339), ('السعودية', 18106), ('غرد_آيات_الله', 17714), ('رتويت', 13703), ('الرياض', 11621), ('الاتحاد', 9166), ('zdrsedk4', 7938), ('quran', 7733), ('ريتويت', 7514), ('rmcfarab', 7498), ('الكويت', 7255), ('الزعيم', 7236), ('الاهلي', 7090), ('عاجل', 6795), ('غرد_بصورة', 6700), ('قطر', 6666), ('بوح', 5923), ('ﷺ', 5816), ('جدة', 5397), ('اكشن_يا_دوري', 5303), ('صورة', 5135), ('كنز_المسلم', 5008), ('nfc', 4932), ('hadith', 4889), ('تبادل_رتويت', 4814), ('عاصفة_الحزم', 4671), ('شعر', 4666), ('بيع_متابعين', 4582), ('الشباب', 4365), ('أمانة_الجوف_بلا_أمانة', 4218), ('الامارات', 4174), ('خواطر', 4147), ('دبي', 3964), ('البحرين', 3922), ('سوريا', 3802), ('صباح_الخير', 3570), ('حائل', 3538), ('ريال_مدريد', 3524), ('العراق', 3434), ('كعام', 3420), ('اليمن', 3348), ('غرد_بذكر_الله', 3311), ('تابعني_اتابعك', 3245), ('القصيم', 3231), ('رمضان', 3207), ('نوره', 3186), ('العالمي', 3153), ('بيع_رتويت', 3115), ('حقيقة', 3046), ('ذهب_ومجوهرات_الزري', 2976), ('الهلال_سيدني', 2943), ('قصيد', 2926), ('قروب_الملكي', 2880), ('جميل', 2869), ('ابها', 2856), ('سبق', 2833), ('كتارا', 2812), ('ذكر', 2806), ('mgwv', 2790), ('أثيم_الهوى', 2772), ('نشر_سيرته', 2763), ('برشلونة', 2734), ('هاشتاقات_نشطة', 2696), ('المغرب', 2635), ('بقلمي', 2606), ('ليفربول', 2604), ('دوري_عبداللطيف_جميل', 2573), ('شركات', 2515), ('نمير_البيان', 2501), ('انستقرام', 2493), ('ff', 2472), ('تشيلسي', 2445), ('الدمام', 2411), ('رتويت_تلقائي', 2394), ('تويتر', 2363), ('دعاء', 2357), ('تسويق_منتجات', 2351), ('تسويق_عقاري', 2350), ('اعلانات_تجارية', 2345), ('ساعة_استجابة', 2337), ('followtrick', 2337), ('تصويري', 2335), ('رياضي_قديم', 2333), ('أستغفار', 2314), ('مؤسسات', 2313), ('درر', 2267), ('نعم_نستطيع', 2220), ('قول_كلمة_للدوام', 2216), ('هاشتاقات_انستقرام_العربية', 2197), ('رتــــويت_الزعــــامـــة', 2189), ('تسويق', 2183), ('follow', 2180), ('حساب_يستحق_المتابعه', 2168), ('الأهلي', 2149), ('متابعين', 2111), ('حكم', 2103), ('نجران', 2097), ('صور', 2091)]\n",
      "saudi_arabia_112019_tweets_csv_hashed/saudi_arabia_112019_tweets_csv_hashed_3.csv\n",
      "[('السعودية', 10757), ('الرياض', 10485), ('رمضان', 7859), ('ﷺ', 7446), ('النصر', 7357), ('quran', 5774), ('الهلال', 5401), ('hadith', 5069), ('اسطول_زعماء_تويتر', 4776), ('مصدر_الخبر', 4515), ('قروب_سلطان_للاضافات', 4283), ('الانتراليز', 3590), ('سناب_شات', 3497), ('قروب_المسافر_فهد', 3440), ('قطر', 3395), ('صباح_الخير', 3356), ('المملكة', 3158), ('متعب_الشعيبي', 3147), ('تصحيح_نظر', 3134), ('نشر_سيرته', 2953), ('وحي_الخيال', 2867), ('يوم_الجمعه', 2864), ('الليزك', 2859), ('الاهلي', 2778), ('الدمام', 2734), ('fiction_gp', 2728), ('رولكس', 2685), ('العُرضيات', 2637), ('دعم_خاص', 2569), ('شركة_تنظيف_بالرياض', 2566), ('تسديد_قروض', 2552), ('همساتي', 2546), ('ريتشارد_ميل', 2461), ('عاجل', 2449), ('تويت_حديث', 2424), ('تسديد_قروض_بنكية', 2422), ('تنظيف_مجلس_كنب_فرشه', 2351), ('تصحيح_النظر', 2314), ('غسيل_موكيت_سجاد_فرشات', 2313), ('خادم_الحرمين_الشريفين', 2290), ('فرزاتشي', 2168), ('الكويت', 2150), ('كارتير', 2139), ('قروب_جنون_للدعم', 2085), ('اليمن', 2081), ('تنظيف_شقه_فيلا_بيت', 2059), ('الجمعه', 2031), ('رمضان_كريم', 2019), ('اوديمار', 2009), ('القصيم', 2008), ('جدة', 1999), ('نجوم_العالم_للدعم', 1992), ('نوره', 1985), ('الأهلي', 1983), ('ساعه_استجابه', 1955), ('سبات', 1870), ('ساعات', 1783), ('روسيا2018', 1740), ('تنظيف', 1740), ('رياضي_قديم', 1736), ('الاتحاد', 1734), ('هوبلو', 1708), ('الدمام_الآن', 1694), ('الرياض_الآن', 1693), ('عروض', 1673), ('بقلمي', 1593), ('مساء_الخير', 1565), ('هوبلت', 1484), ('الشباب', 1478), ('رساله_حب_لولي_العهد_السعودي', 1446), ('عسل', 1445), ('جده', 1408), ('ماركات', 1389), ('ريتشارد', 1384), ('سداد_متعثرات_سمه_ووشك_التقاعد', 1378), ('كيف_يكون_الانسان_سعيدا', 1375), ('كشف', 1359), ('قروب_فواز_للدعم', 1340), ('مكافحة_حشرات', 1340), ('نجران', 1328), ('كأس_العالم', 1319), ('شباب_الوطن_يرحبون_بالملك', 1315), ('غسيل_مجلس_كنب', 1295), ('ولي_العهد', 1290), ('شركه_رش_مبيد_بالرياض', 1252), ('العالمي', 1242), ('ساعه', 1198), ('فيديو', 1187), ('إيران', 1181), ('عبدالله_عبدالعزيز', 1162), ('مناحل_بن_مسفر', 1146), ('محمد_بن_سلمان', 1126), ('رتويت', 1118), ('مكة', 1103), ('هناجر', 1103), ('يوم_عرفه', 1093), ('عملية_الليزك', 1089), ('سناب', 1058), ('مع_الضمان', 1044), ('ورد_العاطفة', 1036)]\n",
      "saudi_arabia_112019_tweets_csv_hashed/saudi_arabia_112019_tweets_csv_hashed_2.csv\n",
      "[('ﷺ', 25954), ('الرياض', 20142), ('quran', 19323), ('السعودية', 17567), ('الهلال', 15756), ('النصر', 15139), ('hadith', 14511), ('تسديد_قروض', 12664), ('صباح_الخير', 8294), ('نشر_سيرته', 8116), ('ساعات', 7391), ('الاهلي', 7071), ('اسطول_زعماء_تويتر', 6973), ('يوم_الجمعه', 6720), ('سناب_شات', 6326), ('تصحيح_نظر', 6292), ('رولكس', 6156), ('شركة_تنظيف_بالرياض', 6015), ('عزل', 5744), ('كارتير', 5713), ('الديربي', 5677), ('ريتشارد_ميل', 5652), ('مصدر_الخبر', 5380), ('فرزاتشي', 5316), ('دعاء', 5302), ('سناب', 5281), ('اوديمار', 5192), ('تنظيف_مجلس_كنب_فرشه', 4888), ('وحي_الخيال', 4844), ('عروض', 4841), ('متعب_الشعيبي', 4815), ('ولي_العهد', 4655), ('الليزك', 4641), ('هوبلو', 4637), ('تسديد_القروض', 4598), ('تسديد_قروض_بنكية', 4550), ('الانتراليز', 4533), ('كشف_تسربات_الحمامات', 4492), ('الأهلي', 4485), ('محمد_بن_سلمان', 4321), ('الشباب', 4188), ('دعم_خاص', 4113), ('كشف_تسربات_الخزانات', 4078), ('هناا_الوحي', 4066), ('تصحيح_النظر', 4055), ('قطر', 4049), ('اعلانات', 4005), ('الاتحاد', 3988), ('مساء_الخير', 3983), ('همساتي', 3856), ('تنظيف', 3742), ('جدة', 3732), ('هوبلت', 3729), ('العُرضيات', 3718), ('سداد_قروض', 3707), ('قروب_سلطان_للاضافات', 3682), ('ماركات', 3650), ('ريتشارد', 3639), ('شركة', 3637), ('الوافي_رند_للتبادل', 3616), ('نوره', 3509), ('دورة', 3501), ('الكويت', 3488), ('ساعه_استجابه', 3392), ('غسيل_موكيت_سجاد_فرشات', 3392), ('تنظيف_شقه_فيلا_بيت', 3237), ('مكافحة_حشرات', 3201), ('خلهم_ينفعونك_للدعم', 3136), ('العالمي', 3090), ('شركه_رش_مبيد_بالرياض', 3085), ('مناحل_ابو_سلطان', 3078), ('المملكة', 3067), ('صورة', 3058), ('fiction_gp', 2983), ('بقلمي', 2982), ('جده', 2977), ('رادو', 2844), ('غسيل_مجلس_كنب', 2812), ('القصيم_ترحب_بالملك', 2794), ('كشف_تسربات_المياه_بدون_تكسير', 2730), ('ساعه', 2726), ('عاجل', 2720), ('الراجحي', 2707), ('الدمام', 2650), ('الخرج', 2644), ('مناحل_عبدالعزيز_العسيري', 2632), ('مكه', 2622), ('مع_الضمان', 2612), ('تسويق', 2598), ('قروب_فواز_للدعم', 2573), ('صراصير', 2573), ('تويت_حديث', 2495), ('الخميس_الونيس', 2479), ('ديور', 2427), ('قوافل_الرشد_للنقل', 2392), ('crownprinceing20', 2388), ('حل_ارتفاع_فواتير_المياة', 2382), ('سداد_القروض', 2362), ('صباحات_الهلال', 2356), ('تبوك', 2335)]\n"
     ]
    },
    {
     "name": "stdout",
     "output_type": "stream",
     "text": [
      "saudi_arabia_112019_tweets_csv_hashed/saudi_arabia_112019_tweets_csv_hashed_1.csv\n",
      "[('الرياض', 35955), ('الهلال', 21501), ('تسديد', 21380), ('السعودية', 16506), ('تسديد_قروض', 13862), ('شركة_تنظيف_بالرياض', 13808), ('صباح_الخير', 12581), ('شركة', 12538), ('قروض', 11861), ('النصر', 11711), ('سمه', 11483), ('شركه_رش_مبيد_بالرياض', 11328), ('استخراج', 10694), ('لمن', 10633), ('رمضان', 10623), ('متعثرات', 10615), ('يرغب', 10612), ('سدادقرضه', 10612), ('مكافحة_حشرات', 10605), ('قرض_جديد', 10551), ('عملاءجميع_البنوك', 10545), ('أعلي_تمويل', 10545), ('يوم_الجمعه', 10408), ('صراصير', 10104), ('مع_الضمان', 10046), ('عوازل_مائيه', 9973), ('h0mel3nd', 9491), ('تنظيف', 9096), ('الاهلي22راتب', 8917), ('كشف_تسربات_المياه', 8847), ('سوريا', 8791), ('تنظيف_مجلس_كنب_فرشه', 8788), ('عروض', 8314), ('بلدي', 8103), ('ﷺ', 8080), ('هناا_الوحي', 7739), ('عسل', 7690), ('الكويت', 7531), ('جدة', 7528), ('غسيل_مجلس_كنب', 7453), ('غسيل_موكيت_سجاد_فرشات', 7418), ('تنظيف_شقه_فيلا_بيت', 7284), ('عزل', 7206), ('تصميم', 6870), ('كشف_تسربات_المياة_بدون_تكسير', 6593), ('الديربي', 6409), ('فئران', 6368), ('نمل', 6286), ('كشف_تسربات_الحزانات', 6276), ('مكافحه_بق', 6270), ('مكافحه_النامس', 6181), ('تسديد_قروض_بنكية', 6022), ('quran', 6011), ('شركة_تنظيف_خزانات_بالرياض', 5938), ('كشف_تسربات_الحزانات_وعزلها', 5908), ('عوازل_حراريه', 5759), ('اسطول_زعماء_تويتر', 5663), ('وحي_الخيال', 5630), ('اقوى_مبيد', 5563), ('الاهلي', 5451), ('جامعة_الأميرة_نورة', 5318), ('جامعة_الملك_سعود', 5292), ('كشف_تسربات_الحمامات', 5255), ('قطر', 5237), ('الانتراليز', 5211), ('توصيل', 5194), ('الدرعية', 4982), ('اليوم_الوطني89', 4933), ('عكاظ', 4910), ('حل_ارتفاع_فواتير_المياة', 4836), ('pnu', 4835), ('طباعة', 4796), ('شركه_عزل_خزانات_بالرياض', 4684), ('عليشة', 4677), ('الليزك', 4644), ('hadith', 4638), ('جامعة_الإمام', 4538), ('تركيا', 4512), ('سداد_قروض', 4460), ('اعلانات', 4386), ('كشف', 4381), ('تخسيس', 4367), ('تنظيف_مجلس', 4362), ('سواق', 4313), ('نحافه', 4261), ('همساتي', 4260), ('مشدات', 4258), ('بنرات', 4242), ('رجيم', 4179), ('سناب', 4169), ('الدمام', 4152), ('كروت', 4143), ('حالة_إنسانية', 4138), ('فواتير', 4136), ('شخصيه', 4131), ('سندات', 4128), ('دقه_بالمواعيد', 4126), ('أجهزة', 4110), ('شركه_كشف_تسربات_المياه', 4021), ('شركه_غسيل_خزانات', 3972)]\n",
      "saudi_arabia_112019_tweets_csv_hashed/saudi_arabia_112019_tweets_csv_hashed_5.csv\n",
      "[('الهلال', 17136), ('قروب_قبيله_حرب', 16448), ('الرياض', 14642), ('السعودية', 13869), ('النصر', 13267), ('fiction_gp', 9460), ('قروب_سلطان_للاضافات', 9230), ('قطر', 8535), ('تسديد_قروض', 8402), ('الاهلي', 8211), ('زعماء_تويتر_للدعم', 7838), ('قروب_جنون_للدعم', 6951), ('هيدو', 6886), ('مصدر_الخبر', 6608), ('قروب_قبيلة_حرب', 5948), ('الدرع_السعودي', 5385), ('وحي_الخيال', 5352), ('عاجل', 5221), ('ﷺ', 5137), ('صباح_الخير', 4528), ('quran', 4428), ('رمضان', 4286), ('قروب_فواز_للدعم', 4256), ('راصد24', 4250), ('همساتي', 4247), ('يوم_الجمعه', 4235), ('دلع_للدعم', 4175), ('دعم_خاص', 4095), ('مرسال_الشوق_للدعم', 4031), ('قروب_المسافر_فهد', 3861), ('hadith', 3810), ('الدمام', 3792), ('قروب_زهران', 3732), ('نبض_الفيصل_للدعم', 3678), ('نجوم_حرب', 3641), ('شيوخ_زهران_للدعم', 3550), ('حساب_يستحق_المتابعه', 3218), ('رياضي_قديم', 3164), ('قلب_كالثلج', 3126), ('نوره', 3116), ('الشباب', 3066), ('قروب_حرب_الحرايب', 3033), ('جدة', 2959), ('الأهلي', 2918), ('تبوك', 2905), ('يوميات_مگرود', 2856), ('قروب_قمر_تويتر', 2823), ('دعم_ص', 2808), ('النخبه_للدعم', 2771), ('دعاء', 2761), ('سبات', 2645), ('مبدعين_فيصل_للدعم', 2628), ('الكويت', 2618), ('الراجحي', 2506), ('السعوديه', 2479), ('الطائف', 2477), ('المملكة', 2455), ('تسديد_القروض', 2371), ('mk_gp', 2354), ('قروب_امير_للدعم', 2342), ('ذكرى_جميله', 2332), ('حقوق_الغفران_في_قطر', 2325), ('مكه', 2312), ('جده', 2312), ('نحميك_يا_وطن', 2287), ('قروب_المطنوخ_للدعم', 2276), ('المقابيل_للدعم', 2270), ('قروب_نشامى_حرب', 2250), ('الخبر', 2239), ('محبوب_للدعم', 2133), ('معاك_يانصر', 2116), ('ح_ي_د_ر_ه', 2104), ('الاتحاد', 2102), ('حائل', 2085), ('زهران_بعيد_الاضحي_تهنيكم', 2082), ('الملكي', 2079), ('رتويت', 2075), ('مساء_الخير', 2048), ('تنحيف', 1990), ('نبض_الأمل_للدعم', 1980), ('سنابل_السلام', 1975), ('سيل_النبض', 1961), ('نخبه_حرب_للدعم', 1951), ('تنظيم_الحمدين', 1915), ('تويتر', 1896), ('gp_jawad', 1877), ('تويتر_ستار_للدعم', 1860), ('صمت_الروح_للدعم', 1844), ('سامبا', 1818), ('بيع_متابعين', 1776), ('اسياد_الترند', 1769), ('ساعه_استجابه', 1746), ('بحر_المشاعر_gp', 1735), ('قطع_العلاقات_مع_قطر', 1732), ('القمر_gp', 1729), ('نشر_سيرته', 1720), ('صباحات_الهلال', 1710), ('غزير', 1674), ('البلاد', 1670), ('قروب_ذوق_القصيد', 1653)]\n",
      "saudi_arabia_112019_tweets_csv_hashed/saudi_arabia_112019_tweets_csv_hashed_4.csv\n",
      "[('الهلال', 14575), ('الرياض', 14343), ('السعودية', 12974), ('النصر', 11901), ('ﷺ', 8852), ('قروب_قبيله_حرب', 7963), ('hadith', 7613), ('قروب_سلطان_للاضافات', 7568), ('قروب_المسافر_فهد', 7441), ('الاهلي', 7280), ('مصدر_الخبر', 7108), ('quran', 7007), ('الأهلي', 6532), ('fiction_gp', 6249), ('عاجل', 5355), ('سبورت24', 5132), ('اسياد_الترند', 5074), ('يوم_الجمعه', 4541), ('قطر', 4471), ('اسطول_زعماء_تويتر', 4430), ('صباح_الخير', 4050), ('سناب_شات', 4041), ('تسديد_قروض', 3826), ('الدمام', 3668), ('دعم_خاص', 3553), ('جدة', 3519), ('هيدو', 3343), ('محبوب_للدعم', 3342), ('زعماء_تويتر_للدعم', 3335), ('جده', 3313), ('المملكة', 3220), ('وحي_الخيال', 3200), ('الكويت', 3169), ('مبدعين_فيصل_للدعم', 3151), ('الاتحاد', 3105), ('اليمن', 3063), ('تبوك', 3053), ('نشر_سيرته', 2991), ('عروض', 2969), ('قروب_فواز_للدعم', 2737), ('سبات', 2719), ('تصحيح_نظر', 2612), ('نوره', 2571), ('تاملات', 2528), ('قروب_جنون_للدعم', 2528), ('مرسال_الشوق_للدعم', 2447), ('همساتي', 2432), ('العُرضيات', 2401), ('الشباب', 2347), ('قروب_قبيلة_حرب', 2286), ('ساعه_استجابه', 2242), ('مكه', 2229), ('السعوديه', 2200), ('شركة_تنظيف_بالرياض', 2179), ('ابها', 2169), ('نجوم_حرب', 2157), ('رياضي_قديم', 2152), ('تنظيف', 2151), ('ولي_العهد', 2138), ('القصيم', 2086), ('بحر_المشاعر_gp', 2068), ('نجران', 2046), ('جازان', 1980), ('الخبر', 1950), ('تنظيف_مجلس_كنب_فرشه', 1943), ('الخميس_الونيس', 1934), ('المقابيل_للدعم', 1933), ('القمر_gp', 1893), ('الانتراليز', 1888), ('محمد_بن_سلمان', 1857), ('s_im_fa', 1818), ('حساب_يستحق_المتابعه', 1803), ('عسل', 1788), ('كشف', 1771), ('قروب_هدووء_الليل', 1745), ('سنابل_السلام', 1738), ('دلع_للدعم', 1732), ('منصور_النصر_للدعم', 1705), ('تويتر', 1700), ('مكة', 1679), ('تاملات_تويت', 1661), ('الطائف', 1655), ('رتويت', 1600), ('تنظيم_الحمدين', 1576), ('قلب_كالثلج', 1550), ('العالمي', 1519), ('تنظيف_شقه_فيلا_بيت', 1516), ('غزير', 1486), ('سوريا', 1480), ('الجمعه', 1478), ('قروب_قمر_تويتر', 1455), ('غسيل_موكيت_سجاد_فرشات', 1436), ('الامارات', 1410), ('تسديد_القروض', 1409), ('عرعر', 1388), ('بيع_متابعين', 1371), ('الخليج', 1369), ('المدينه_المنوره', 1367), ('عسير', 1366), ('عزوتي_حرب_للدعم', 1365)]\n",
      "saudi_arabia_112019_tweets_csv_hashed/saudi_arabia_112019_tweets_csv_hashed_6.csv\n",
      "[('النصر', 22793), ('الهلال', 21650), ('قروب_قبيله_حرب', 17021), ('السعودية', 10976), ('دعاء', 10162), ('وحي_الخيال', 10110), ('الاهلي', 9698), ('قروب_فواز_للدعم', 9359), ('قروب_fiction', 9187), ('الرياض', 8845), ('ﷺ', 8693), ('نوره', 6683), ('hadith', 6527), ('quran', 6382), ('الأهلي', 6008), ('صباح_الخير', 5799), ('رياضي_قديم', 5626), ('fiction_gp', 5591), ('استغفار', 5496), ('اهل_الذوق_للدعم', 5191), ('زعماء_تويتر_للدعم', 4777), ('قروب_قبيلة_حرب', 4741), ('همساتي', 4737), ('قروب_المميزون_للرتويت', 4726), ('بوحي', 4562), ('قروب_عزتي_تسواك_لدعم', 4327), ('قروب_الميزاني_للدعم', 4239), ('عاجل', 4049), ('حساب_يستحق_المتابعه', 3896), ('الشباب', 3832), ('قطر', 3820), ('تسبيح', 3590), ('الاتحاد', 3482), ('قروب_زهران', 3374), ('قروب_سلطان_للاضافات', 3203), ('يوم_الجمعه', 3174), ('قروب_حنان_للدعم', 3120), ('سحر_الحياة_للدعم', 3115), ('الملكي', 3047), ('kingsafc', 3011), ('وعد_الوافي_للدعم', 2991), ('تسديد_قروض', 2907), ('سوريا', 2873), ('قروب_فيض_المشاعر', 2815), ('نشر_سيرته', 2781), ('نصرنا', 2769), ('قروب_لحظة_انتظار', 2631), ('نجوم_الترند_العربي', 2613), ('اذكار', 2580), ('الزلفي', 2546), ('حقوق_الغفران_في_قطر', 2528), ('رمضان', 2503), ('القصيم', 2501), ('جامعة_طيبة', 2487), ('سبات', 2478), ('هيدو', 2332), ('قروب_المقابيل_للدعم', 2314), ('قروب_حرب_الحرايب', 2272), ('الدمام', 2261), ('تحالف_الحملات_الوطنيه', 2188), ('سيل_النبض', 2158), ('رتويت', 2129), ('قروب_بسمه_للدعم', 2129), ('الكويت', 2069), ('مرسال_الشوق_للدعم', 2063), ('قروب_عبادي', 2041), ('مغرد_بذكر_الله', 2017), ('اميرات_تويتر_للدعم', 2000), ('جدة', 1970), ('تبوك', 1970), ('قروب_الهوى_للدعم', 1967), ('مساء_الخير', 1921), ('صباحات_الهلال', 1895), ('اليمن', 1890), ('نخبه_حرب_للدعم', 1889), ('يوميات_مگرود', 1857), ('قروب_الباشق_للدعم', 1851), ('نحميك_يا_وطن', 1809), ('تسديد_القروض', 1798), ('قروب_ريم_للدعم', 1777), ('حلب', 1747), ('ذكر', 1703), ('السلطانه_للدعم', 1693), ('قروب_المسافر_فهد', 1681), ('اسطول_لفندر_للدعم', 1678), ('اليوم_الوطني', 1666), ('السمو_للدعم', 1650), ('قروب_جنون_للدعم', 1646), ('قلب_كالثلج', 1640), ('بوح', 1634), ('ريال_مدريد', 1631), ('استغفر_الله', 1623), ('تصميمي', 1602), ('يوم_الجمعة', 1550), ('قروب_قمر_تويتر', 1532), ('تويتر_ستار_للدعم', 1516), ('دلع_للدعم', 1514), ('حساب_يستحق_المتابعة', 1511), ('العراق', 1491), ('ساعه_استجابه', 1470)]\n"
     ]
    },
    {
     "name": "stdout",
     "output_type": "stream",
     "text": [
      "saudi_arabia_112019_tweets_csv_hashed/saudi_arabia_112019_tweets_csv_hashed_7.csv\n",
      "[('الهلال', 23359), ('صحف', 16743), ('النصر', 15909), ('السعودية', 13483), ('مغرد_بذكر_الله', 13011), ('دعاء', 12070), ('قروب_fiction', 11946), ('استغفار', 9484), ('الاهلي', 9002), ('رياضي_قديم', 8847), ('نوره', 7985), ('الأهلي', 7272), ('ﷺ', 6861), ('تسبيح', 6514), ('الرياض', 6484), ('قروب_عزتي_تسواك_لدعم', 5935), ('quran', 5643), ('سيل_النبض', 5316), ('hadith', 5152), ('قروب_الاساطير_للدعم', 5078), ('صباح_الخير', 5061), ('اذكار', 4891), ('رمضان', 4557), ('اليمن', 4530), ('حساب_يستحق_المتابعه', 4429), ('قروب_رتويت_دعم', 4399), ('الاتحاد', 4318), ('عاجل', 4251), ('قروب_فواز_للدعم', 3865), ('قروب_الخنساء_للدعم', 3557), ('قروب_لحظة_إنتظار', 3384), ('الكويت', 3352), ('ذكر', 3339), ('nfc', 3072), ('قروب_ايثين_للدعم', 2972), ('رتويت', 2928), ('قروب_اسطول_الدعم', 2922), ('تبادل_رتويت', 2880), ('سوريا', 2822), ('استغفر_الله', 2761), ('قروب_عبادي', 2743), ('قروب_ريم_للدعم', 2654), ('ملوك_العالمي', 2633), ('قروب_محبين_الليث', 2628), ('قروب_راهب_للدعم', 2607), ('قروب_تمنيتك_صدفه_للدعم', 2531), ('يوم_الجمعه', 2475), ('قروب_الأشقر_للدعم', 2392), ('نشر_سيرته', 2378), ('تركيا', 2299), ('مهرة_قحطان_للرتويت_والدعم', 2290), ('تعز', 2214), ('قروب_كبرياء_رجل_للدعم', 2211), ('الشباب', 2187), ('سبات', 2116), ('داعش', 2104), ('جدة', 2091), ('بوح', 2074), ('قروب_سنمضي_معا', 2014), ('قروب_لحظة_انتظار', 1924), ('قروب_الماجد_للدعم', 1882), ('freeiran', 1834), ('الطائف', 1817), ('تصميمي', 1779), ('الملكي', 1775), ('صنعاء', 1758), ('بوحي', 1746), ('يوم_الجمعة', 1726), ('قروب_التألق_للدعم', 1715), ('قروب_الزير_سالم_للدعم', 1704), ('بقلمي', 1696), ('قروب_بنت_الشيوخ', 1675), ('القصيم', 1672), ('بيع_متابعين', 1637), ('نجران', 1620), ('إيران', 1618), ('الهلال_الاهلي', 1609), ('فيديو', 1605), ('ريتويت', 1599), ('قطر', 1590), ('قروب_عساف_للدعم', 1564), ('قروب_شادن_للرتويت', 1556), ('الزلفي', 1540), ('حائل', 1537), ('حساب_يستحق_المتابعة', 1535), ('غزير', 1535), ('تابعني_اتابعك', 1491), ('تصويري', 1487), ('قروب_صوت_المطر_للدعم', 1476), ('مساء_الخير', 1456), ('الامارات', 1452), ('قروب_بنت_سليم_للدعم', 1433), ('المملكة', 1421), ('الجمعة', 1395), ('صورة', 1377), ('سناب_شات', 1376), ('مصر', 1366), ('نبض_شباب_الوطن', 1362), ('قروب_خواطر_للدعم', 1343), ('البحرين', 1338)]\n",
      "iran_201906_1_users_csv_hashed.csv\n",
      "No hashtags, users only\n",
      "None\n",
      "russia_201906_1_users_csv_hashed.csv\n",
      "No hashtags, users only\n",
      "None\n",
      "venezuela_201906_1_users_csv_hashed.csv\n",
      "No hashtags, users only\n",
      "None\n",
      "iran_201906_1_tweets_csv_hashed.csv\n",
      "[('bahrain', 92971), ('البحرين', 68785), ('بني_جمرة', 14211), ('iran', 8917), ('14feb', 7836), ('الصهيونيه_تسقط', 6619), ('الروهينغا_الابادة_الصامتة', 5770), ('اليمن', 5605), ('بالمعادله_الذهبيه_انتصرنا', 5269), ('اذاعة_طهران', 4991), ('banijamrah', 4977), ('السعودية', 4910), ('gcc', 3929), ('الدراز', 3913), ('uk', 3707), ('الشيخ_علي_سلمان', 3563), ('alwasat', 3512), ('usa', 3357), ('اليمن_يطوف_في_الدم', 3317), ('بالقاع_رح_نرفع_الرايه', 3281), ('العراق', 3185), ('sahartv', 2962), ('سوريا', 2926), ('un', 2923), ('تموز_حكاية_انتصار', 2885), ('alwefaq', 2883), ('urdu', 2812), ('فلسطين', 2738), ('bah', 2725), ('سترة', 2553), ('yemen', 2547), ('داعش', 2362), ('افغانستان', 2325), ('freesheikhali', 2182), ('ایران', 2131), ('saharurdutv', 2100), ('تلعفر_صبر_ونصر', 1917), ('می_آیم_چون', 1891), ('40_14610days', 1888), ('منارة_المقاومة', 1829), ('القطيف', 1814), ('عهد_وعد_10452', 1789), ('آية_الله_قاسم', 1782), ('لبنان', 1770), ('چهل_سال_سازندگی', 1715), ('israel', 1690), ('چهل_سال_شکست_آمریکا', 1663), ('مرصد_الوحدوي', 1637), ('eu', 1635), ('المنامة', 1631), ('ايران', 1630), ('syria', 1606), ('saudi', 1596), ('پیام_حسین', 1592), ('تموز_شعلة_النصر', 1588), ('iraq', 1583), ('ksa', 1580), ('الصهيونية_تسقط', 1534), ('نداء_البحرين', 1528), ('feb14', 1521), ('us', 1497), ('kuwait', 1477), ('trumpfail', 1471), ('الميادين', 1450), ('urdunews', 1437), ('سجن_جو', 1368), ('العوامية', 1358), ('الخليج', 1323), ('عاجل', 1319), ('gaza', 1286), ('لهستان_گورستان_آمریکا', 1281), ('الوفاق', 1279), ('قطر', 1270), ('الكويت', 1267), ('بالجيش_والمقاومة_ننتصر', 1266), ('بعثت_انقلاب', 1261), ('مصر', 1234), ('البلاد_القديم', 1226), ('حزب_الله', 1225), ('نبيل_رجب', 1202), ('สยามพับลิค', 1201), ('ข่าวต่างประเทศ', 1186), ('الروهينغا_الاباده_الصامته', 1181), ('السنابس', 1180), ('العوامية_حصار_ونار', 1167), ('آمریکا', 1161), ('بالمعادلة_الذهبية_انتصرنا', 1130), ('isis', 1110), ('چهل_سالگی_انقلاب', 1108), ('bh', 1107), ('وصية_النمر', 1077), ('وما_قتلوه', 1051), ('lulu', 1046), ('tehran', 1011), ('usaregimechange', 1004), ('egypt', 983), ('إيران', 955), ('المحرق', 939), ('النويدرات', 930), ('syrien', 930)]\n",
      "iran_201906_2_tweets_csv_hashed.csv\n",
      "[('grouppalestine', 49543), ('قروب_فلسطيني', 43642), ('فلسطين', 9305), ('اليمن', 7956), ('روحانی', 6932), ('زندگی_سگی_اسرائیلیها', 6733), ('قروب_جزائسطين', 5308), ('برجام', 4828), ('ايران', 4761), ('البحرين', 4743), ('الحشد_الشعبي', 4487), ('palestine', 4302), ('السعودية', 4301), ('العراق', 4252), ('داعش', 3973), ('حزب_الله', 3723), ('yemen', 3422), ('ایران', 3411), ('القدس', 2991), ('fatf', 2825), ('سوريا', 2720), ('عاجل', 2555), ('فريق_دعم_المقاومة', 2533), ('مرگ_بر_آمریکا', 2523), ('اللهم_عجل_لوليك_الفرج', 2500), ('ترامپ', 2399), ('آمریکا', 2398), ('اللهم_عجل_لولیک_الفرج', 2276), ('یمن', 2189), ('اربعین', 2116), ('لبنان', 2075), ('ترامب', 2068), ('ويبقى_الحسين', 1953), ('الموصل', 1928), ('الحشد_المقدس', 1914), ('رئیسی', 1854), ('إسرائيل', 1842), ('السجاد_زين_العباد', 1799), ('زينب_روح_الحسين', 1795), ('غزة', 1792), ('اليمن_مقبرة_الغزاة', 1717), ('سپاه', 1674), ('حقیقت_اسرائیل', 1650), ('حماس', 1632), ('صباح_الخير', 1629), ('الله', 1615), ('iran', 1601), ('دلار', 1597), ('مرگ_بر_اسرائیل', 1577), ('يامهدي', 1555), ('يوم_القدس_مسيرة_العودة', 1542), ('ياحسين', 1535), ('israel', 1521), ('سوریه', 1499), ('به_افق_اربعین', 1481), ('اسرائیل', 1466), ('القدس_عاصمة_فلسطين_الأبدية', 1449), ('ehs', 1400), ('الحسين', 1352), ('اسرائيل', 1317), ('الدراز', 1278), ('القدس_عاصمة_فلسطين', 1271), ('ياعلي', 1254), ('زلزله', 1222), ('مجلس', 1221), ('إيران', 1212), ('shutuppompeo', 1211), ('رمضان', 1186), ('wesupportourleader', 1161), ('الله_اکبر', 1161), ('علي', 1160), ('bahrain', 1152), ('قالیباف', 1144), ('حب_الحسین_یجمعنا', 1129), ('قطر', 1128), ('نتنياهو', 1122), ('رشتو', 1089), ('نصرالله', 1079), ('shutuptrump', 1070), ('الاعلام_المقاوم', 1068), ('الحوراء', 1068), ('ظریف', 1040), ('stopmeddlinginiran', 1021), ('عراق', 1020), ('استشهاد_الكاظم_المسموم', 1010), ('الحديدة', 1010), ('ياصاحب_الزمان', 1004), ('بدء_الزحف_نحو_الحسين', 991), ('پیام_حسین', 981), ('دولت', 977), ('العباس_جيش_الحسين', 976), ('آية_الله_قاسم', 970), ('مولد_اقمار_بني_هاشم', 957), ('روح_خدا', 955), ('تهران', 953), ('كربلاء', 943), ('محرم', 943), ('انفروا_خفافا_وثقالا', 942), ('صبح_شما_هم_بخیر', 935), ('bassam_jahami', 931)]\n",
      "iran_201906_3_users_csv_hashed.csv\n",
      "No hashtags, users only\n",
      "None\n",
      "catalonia_201906_1_users_csv_hashed.csv\n",
      "No hashtags, users only\n",
      "None\n",
      "catalonia_201906_1_tweets_csv_hashed.csv\n",
      "[('plebcn', 101), ('21d', 79), ('femxarxa', 72), ('parlament', 48), ('17debatl6', 41), ('vagametro', 40), ('salvados21d', 35), ('referèndum', 33), ('roviratv3', 33), ('debattv3', 26), ('barcelona', 25), ('tramviablau', 25), ('1o', 24), ('comissionsbcn', 23), ('buchdimissio', 23), ('zasca', 15), ('govern', 15), ('llibertatpresospolítics', 14), ('1o2017', 14), ('labcnquevolem', 14), ('últimahora', 13), ('debatbàsics', 13), ('donesambtotselsdrets', 12), ('conseller', 12), ('president', 12), ('bcn', 11), ('recuperembcn', 11), ('entrevistabus', 11), ('1oct', 11), ('femrepública', 10), ('opiniónd', 10), ('llibertatjordis', 9), ('lamanada', 9), ('vicepresident', 9), ('vagadefam', 9), ('república', 9), ('mwc2018', 8), ('1octubre', 8), ('24m', 8), ('17a', 8), ('faqspuzletv3', 8), ('pledemocràcia', 7), ('debatbcn324', 7), ('sabadell', 7), ('cridademocràcia', 7), ('catalanreferendum', 7), ('1demaig', 7), ('republicadigna', 7), ('bcnnofunciona', 7), ('elcractv3', 6), ('duelcractv3', 6), ('novapolítica', 6), ('ciudadanosmiente', 6), ('santjordi', 6), ('ladiadadelsí', 6), ('entempsrealepa', 6), ('rufianvsaznar', 6), ('8demarç', 6), ('debatjovebcn', 5), ('jugadamestra', 5), ('llautó', 5), ('peuat', 5), ('repúblicacatalana', 5), ('8mjofaigvaga', 5), ('stopdesahucios', 5), ('9nsomtots', 5), ('portadaterribas', 5), ('sisepuede', 4), ('desnonamentclot', 4), ('20s', 4), ('onsonlesdones', 4), ('fakecolau', 4), ('juntsxcat', 4), ('turismofobia', 4), ('vp', 4), ('consellera', 4), ('37dies', 4), ('faqsbacallàtv3', 4), ('9n', 4), ('11oct', 4), ('votorepública', 4), ('sosciutatvella15s', 4), ('másmanadaar', 3), ('tortosa', 3), ('omplimsantjaume', 3), ('11s', 3), ('dpg', 3), ('habitatgebcn', 3), ('ejido', 3), ('voxilegalización', 3), ('barcelonaadebat', 3), ('vergonya', 3), ('endavantrepública', 3), ('primariesrespon', 3), ('primàriesrespon', 3), ('niunpasenrere', 3), ('mwc', 3), ('badalona', 3), ('alcaldessarespon', 3), ('ventiladorfirstdates', 3)]\n",
      "russia_201906_1_tweets_csv_hashed.csv\n",
      "[]\n"
     ]
    },
    {
     "name": "stdout",
     "output_type": "stream",
     "text": [
      "iran_201906_3_tweets_csv_hashed.csv\n",
      "[('ایران', 2399), ('pressplus', 1590), ('yemen', 1570), ('روحانی', 1548), ('iran', 1547), ('saudiarabia', 1476), ('بي_بي_سي_ترندينغ', 1111), ('breaking', 1005), ('breakingnews', 969), ('برجام', 957), ('saudi', 947), ('brexit', 924), ('theisle', 870), ('positivity', 868), ('فلاحتی', 860), ('trump', 853), ('داعش', 769), ('السعودية', 753), ('آمریکا', 719), ('براندازم', 696), ('اسرائیل', 684), ('اليمن', 653), ('منوتو', 640), ('ترامپ', 619), ('ايران', 535), ('uk', 535), ('رئیسی', 531), ('عربستان', 524), ('كأس_العالم_في_اليمن', 522), ('freepalestine', 498), ('لبنان_بدا_سعد', 493), ('الله_اکبر', 481), ('ترندينغ', 481), ('syria', 473), ('مرگ_بر_آمریکا', 468), ('كلنا_بدنا_سعد', 461), ('khashoggi', 461), ('israel', 450), ('underreported', 439), ('العربية', 430), ('سوریه', 423), ('فرشگرد', 422), ('دلارتقلبی', 420), ('shutuptrump', 411), ('رشتو', 406), ('us', 398), ('عشق', 397), ('فرقه_تبهکار', 397), ('عدوتنا_bbc', 388), ('عادل_روسیاه', 381), ('جريدة_الشرق_الاوسط', 375), ('ری_استارت', 374), ('سپاه', 363), ('بي_بي_سي', 357), ('مرايا', 356), ('حرق_فاتوره_الكهرباء', 351), ('ریتوییت', 337), ('tuesdaythoughts', 331), ('ظریف', 324), ('آمدنیوز', 323), ('مناظره', 321), ('referendum', 321), ('تهران', 316), ('السعود_قتلة_الحجیج', 314), ('دلار', 311), ('لن_نسدد_فاتوره_الكهرباء', 310), ('saverohingya', 309), ('روحاني', 307), ('شاهزاده_رضا_پهلوی', 305), ('کتابة_الجدران', 302), ('احمدی_نژاد', 301), ('یمن', 296), ('محمد_بن_سلمان', 295), ('سعدی', 294), ('thursdaythoughts', 293), ('حقيقة_إقالة_عادل_الجبير', 285), ('السعودیة', 280), ('iranregimechange', 279), ('اسرائيل', 264), ('حرق_الفاتورة', 263), ('رانيا', 263), ('خاتمی', 262), ('مصر', 262), ('فوری', 256), ('قالیباف', 255), ('tehran', 254), ('حزام_الامان', 253), ('gaza', 245), ('اسیر_شدیم', 244), ('داعش_حجر_بناء_اسرائيل_الكبري', 244), ('بن_سلمان', 243), ('جهاد_نكاح_اسرائيلي', 241), ('britain', 241), ('عراق', 240), ('قاطع_البضائع_السعودية', 240), ('اعتراضات_سراسری', 237), ('زندگی', 233), ('الجدران_الناطقة', 231), ('توافق', 230), ('مجلس', 229)]\n",
      "iran_201906_2_users_csv_hashed.csv\n",
      "No hashtags, users only\n",
      "None\n",
      "venezuela_201906_1_tweets_csv_hashed.csv\n",
      "[('trumptrain', 1294), ('maga', 1039), ('rt', 985), ('neverhillary', 795), ('trumppence16', 479), ('fakenews', 242), ('metoo', 242), ('hillaryclinton', 202), ('nevertrump', 149), ('spygate', 119), ('nevertrumper', 103), ('imwithhillary', 70), ('walkaway', 56), ('releasethememo', 53), ('nevertrumpers', 53), ('blacklivesmatter', 42), ('gofundthewall', 42), ('schumershutdown', 39), ('draintheswamp', 39), ('vidafit', 37), ('impeachthemf', 36), ('pussification', 27), ('womensmarch', 26), ('electionday', 26), ('1s', 25), ('debatenight', 24), ('neverforget', 24), ('voterfraud', 21), ('riggedsystem', 21), ('vote', 21), ('himtoo', 21), ('daywithoutwomen', 20), ('breakingnews', 20), ('envivo', 20), ('obamagate', 20), ('piegate', 19), ('sincensura', 18), ('americafirst', 18), ('vpdebate', 16), ('ucv', 16), ('rio2016', 16), ('spiritcooking', 15), ('boycottstarbucks', 15), ('23ene', 15), ('march4trump', 15), ('ibelievefrederica', 14), ('hillaryshealth', 14), ('dncleak', 13), ('dumpkelloggs', 13), ('crookedhillary', 12), ('chataingtv', 12), ('resistance', 12), ('brockgate', 12), ('8abr', 12), ('latomadevenezuela', 12), ('adaywithoutimmigrants', 12), ('debate', 11), ('obamanetflixshow', 11), ('fathersday', 11), ('timesup', 11), ('neverromney', 11), ('airdrop', 10), ('marchforlife', 10), ('votered', 10), ('shoutyourabortion', 10), ('istandwithlaura', 10), ('it', 10), ('demexit', 10), ('resteadas2016', 10), ('23e', 10), ('boycottnetflix', 10), ('blm', 10), ('russiagate', 10), ('ohiostate', 9), ('frexit', 9), ('makecongresswork', 9), ('18f', 9), ('26oct', 9), ('6abr', 9), ('16s', 9), ('disruptj20', 9), ('7s', 9), ('imwithher', 8), ('fakeprotests', 8), ('buildthewall', 8), ('danneywilliams', 8), ('wikileaks', 8), ('makeamericagreatagain', 8), ('hypocrisy', 8), ('hillaryindictment', 8), ('magaselfie', 8), ('adaywithoutawoman', 8), ('occupyice', 8), ('votetrump', 8), ('refugeeswelcome', 8), ('almagallanesvoy', 8), ('paronacionalcontramaduro', 8), ('comeyresign', 8), ('assassinatetrump', 8), ('unlv', 8)]\n",
      "iranian_tweets_csv_hashed.csv\n",
      "[]\n",
      "ira_users_csv_hashed.csv\n",
      "No hashtags, users only\n",
      "None\n",
      "__MACOSX/._ira_users_csv_hashed.csv\n",
      "No hashtags, users only\n",
      "None\n",
      "This file cannot be read by ZipFile\n",
      "spain_082019_users_csv_hashed.csv\n",
      "No hashtags, users only\n",
      "None\n",
      "ecuador_082019_tweets_csv_hashed.csv\n",
      "[('elgobiernodetodos', 18477), ('agendagubernamental', 8175), ('ecuador', 4193), ('cnt', 3951), ('siguemeytesigo', 3446), ('leydecomunicación', 2992), ('informate', 2633), ('guayaquil', 1968), ('rocíodemoreno', 1932), ('casaparatodos', 1788), ('ecuadorgiraue', 1702), ('quito', 1532), ('leyfomentoproductivo', 1525), ('relevodeguardia', 1513), ('felizlunes', 1344), ('giraoficialecu', 1313), ('lomásleídoec', 1277), ('ecuadorendavos', 1176), ('ecuadorenjapón', 1129), ('ecuadorenonu', 1111), ('siguemeytesigoalinstante', 1109), ('telediarioec', 1067), ('todaunavida', 1047), ('tastyjapan', 1030), ('ecuadorvisitaeeuu', 1027), ('felizjueves', 1023), ('halamadrid', 986), ('bts', 974), ('felizmartes', 964), ('porunaverdaderaintegración', 963), ('felizmiércoles', 956), ('mismejoresaños', 940), ('lomásleído', 940), ('comunicaciondigital', 866), ('elizcabezasenmedios', 856), ('siguemeytesigodevuelta', 834), ('gobiernoenacción', 828), ('marketingdigital', 798), ('nomáscorrupción', 778), ('pensandoenantioquia', 773), ('travel', 759), ('cuenca', 757), ('elprimerañodetodos', 753), ('1first', 740), ('elmomentoesahora', 712), ('alemaniavisitaecuador', 678), ('yomeindigno', 676), ('rmucl', 658), ('reggaetonlento', 650), ('manabí', 648), ('heydj', 648), ('siguemeytesigoensegundos', 640), ('rt', 640), ('gobiernodetodos', 630), ('decisionesporecuador', 608), ('guayas', 602), ('rodaselpeoralcalde', 585), ('pcas', 544), ('leyanticorrupción', 541), ('atención', 533), ('visaelectrónicaec', 527), ('viibinacionalecucol', 524), ('enlaspuertasdelhorno', 517), ('visitaeeuuecuador', 516), ('ucl', 515), ('todosabc', 505), ('misiónternura', 500), ('buenviernes', 498), ('noticiadestacadaec', 496), ('obrasenmilagro', 496), ('roland', 486), ('mujeresqueconstruyenecuador', 477), ('realmadrid', 467), ('casochevron', 465), ('lamisióncontinúa', 464), ('frases', 459), ('cumplimosconlosjubilados', 456), ('elecciones2019ec', 453), ('forçabarça', 441), ('ecuadorconmásprosperidad', 431), ('perúvisitaecuador', 430), ('compromisoparaservir', 427), ('jubiladosecuador', 425), ('vivaguayaquil', 424), ('elmejorguayaquildetodoslostiempos', 424), ('promesacumplida', 420), ('programaeconómicoec', 414), ('xiibinacionalecupe', 409), ('juntosinvencibles', 409), ('kcamexico', 408), ('misiónmujerec', 402), ('médicodelbarrio', 399), ('movimientovive61', 398), ('jóvenesemprendedoresec', 396), ('rmcity', 391), ('elsuperviviente', 389), ('humor', 382), ('messi', 379), ('remisióninteresesifth', 376), ('recuperamoslorobado', 370)]\n",
      "egypt_uae_082019_tweets_csv_hashed.csv\n",
      "[('قطريليكس', 36319), ('قطر', 23294), ('الدوحة_المفضوحة', 13553), ('الدوحة', 11597), ('عثمانلي', 10247), ('قطر_تنتحر', 9282), ('الإمارات', 8873), ('qatarileaks', 8090), ('تميم', 7830), ('قطر_تمول_الإرهاب', 7480), ('كفى_يا_قطر', 6838), ('qatar', 6058), ('الحمدين', 5955), ('تميم_العار', 5949), ('تركيا', 5452), ('السعودية', 4927), ('قطر_عراب_الفوضى', 4902), ('تميم_يستنزف_قطر', 4824), ('تنظيم_الحمدين', 4392), ('إردوغان', 4237), ('أبوظبي', 3856), ('دبي', 3741), ('إيران', 3359), ('ليبيا', 3275), ('الإرهاب', 2930), ('اليمن', 2899), ('doha', 2883), ('قطر_تدعم_الإرهاب', 2859), ('قطر_تغدر_بالعرب', 2858), ('مصر', 2753), ('سوريا', 2679), ('السودان', 2624), ('ترامب', 2550), ('دوت_إمارات', 2525), ('الإخوان', 2159), ('tamim', 2132), ('الشيخ_زايد', 2033), ('الجزيرة', 1999), ('المقاطعة', 1943), ('رمضان', 1943), ('داعش', 1837), ('قطر_دويلة_غدر_وخيانة', 1808), ('أردوغان', 1772), ('الولايات_المتحدة', 1759), ('العراق', 1672), ('hamadein', 1666), ('قطر_تنتهك_الإنسانية', 1523), ('واشنطن', 1518), ('تسقط_بس', 1488), ('qatari', 1444), ('فرنسا', 1438), ('أنقرة', 1363), ('فساد_قطر', 1350), ('أمريكا', 1274), ('البحرين', 1241), ('روسيا', 1225), ('اعتصام_القيادة_العامه', 1218), ('طرابلس', 1196), ('boycottqatar', 1125), ('فشل_قطر', 1123), ('بريطانيا', 1116), ('إنفوجرافيك', 1113), ('الرياض', 1092), ('المغرب', 1080), ('قطر_خيانة_وتطرف', 1078), ('خسائر_قطر_بسبب_الحمدين', 1019), ('العين', 998), ('طهران', 991), ('الكويت', 968), ('الجيش_الوطني_الليبي', 957), ('الأمم_المتحدة', 954), ('العالم', 951), ('حمد_بن_خليفة', 944), ('سواكن_في_رمضان_سودانية', 894), ('غرفة_عمليات_الكرامة', 874), ('إسرائيل', 872), ('لندن', 831), ('أوروبا', 808), ('قطر_تنشر_الكراهية_والإرهاب', 787), ('ألمانيا', 783), ('طوفان_الكرامة', 767), ('المقاطعة_العربية', 753), ('برشلونة', 737), ('فلسطين', 735), ('إسطنبول', 733), ('تميم_مندوب_إيران', 715), ('الخليج', 702), ('الشارقة', 697), ('كأس_العالم', 691), ('قطر_مطية_تركيا', 690), ('صباحكم_إماراتي', 690), ('حمد_بن_جاسم', 686), ('التحالف_العربي', 683), ('ريال_مدريد', 669), ('عصابة_الدوحة', 667), ('الصين', 660), ('تونس', 657), ('النظام_القطري', 651), ('غزة', 624), ('نيويورك', 613)]\n"
     ]
    },
    {
     "name": "stdout",
     "output_type": "stream",
     "text": [
      "china_082019_3_tweets_csv_hashed_part1.csv\n",
      "[('openfollow', 199227), ('iphone', 35670), ('rtした人全員フォローする', 17714), ('#iphone', 16445), ('teamfollowback', 14147), ('womaninbiz', 12198), ('bot', 10933), ('tfb', 10005), ('wineoclock', 9290), ('ff', 7952), ('tm', 7408), ('tmchirin', 7406), ('autofollowback', 5968), ('followme', 5850), ('ifollowback', 5695), ('recipe', 5664), ('afb', 5554), ('followandgain', 5550), ('fng', 5542), ('tafb', 5541), ('teamautofollowback', 5541), ('相互希望', 5504), ('outlet', 4838), ('salud', 4402), ('nicovideo', 4230), ('cursopdi', 4057), ('chef', 4038), ('rt', 3950), ('openheart', 3945), ('follow', 3912), ('leicester', 3818), ('soundcloud', 3758), ('mode', 3695), ('kprs', 3516), ('job', 3449), ('vocaloid', 3275), ('chicken', 3254), ('belleza', 3052), ('retweet', 2975), ('90sbabyfollowtrain', 2785), ('in', 2598), ('recipes', 2521), ('b', 2509), ('jfb', 2334), ('babyshoweridea', 2282), ('lyrics', 2252), ('lqsa', 2157), ('lezbehonest', 2152), ('rabatt', 2063), ('wgf', 1930), ('chocolate', 1919), ('baby', 1901), ('new', 1864), ('tfw', 1802), ('niallhoran_th', 1792), ('gordonramsay', 1791), ('拡散希望', 1764), ('tweetkepo', 1759), ('pumas', 1740), ('designer', 1705), ('kinaljkt48nanyaalvian', 1691), ('autofollback', 1620), ('tfbjp', 1615), ('pickone', 1596), ('tro', 1557), ('trend', 1538), ('sledui', 1523), ('#accenture', 1469), ('祝ってくれる人rt', 1467), ('motorcycles', 1465), ('twittersisters', 1456), ('fashion', 1398), ('luxsundays', 1343), ('womaninbizhour', 1302), ('reduziert', 1262), ('accenture', 1259), ('beef', 1255), ('bomba', 1235), ('adelgazar', 1208), ('baitaabraco', 1195), ('christmas', 1181), ('bachemepusingbanyakpr', 1159), ('udobiz', 1141), ('ganaconluisito', 1133), ('chrnsbot', 1127), ('followback', 1120), ('rtしてくれた人全員フォローする', 1086), ('bizitalk', 1083), ('quote', 1082), ('achmadsaifulfuganteng', 1079), ('jobs', 1067), ('#shakira', 965), ('crafthour', 943), ('babyshower', 926), ('wuti1212', 907), ('#jobs', 905), ('500aday', 896), ('#dad', 892), ('schnäppchen', 888), ('gift', 879)]\n",
      "china_082019_3_tweets_csv_hashed_part2.csv\n",
      "[('recipe', 62002), ('tl', 58473), ('on', 39126), ('srp', 36611), ('chef', 32348), ('ftl', 29720), ('pltl', 26818), ('chicken', 22892), ('ic', 22294), ('plsretweet', 21817), ('recipes', 19978), ('womaninbiz', 18348), ('autofreefollowers', 15869), ('wineoclock', 15672), ('ptl', 12038), ('food', 9885), ('nrp', 9591), ('blingblingguru', 7748), ('chocolate', 7611), ('tlrp', 7490), ('iphone', 6563), ('kprs', 5662), ('beef', 5576), ('indian', 5485), ('etl', 5258), ('gordonramsay', 5032), ('ystl', 4963), ('에이핑크', 4697), ('intl', 4241), ('vegetarian', 4144), ('sushi', 4133), ('pasta', 4054), ('우주소녀', 3988), ('rtl', 3728), ('ichbrauchurlaub', 3674), ('pizza', 3582), ('업텐션', 3509), ('mfs', 3482), ('pork', 3463), ('cooking', 3432), ('fish', 3426), ('es', 3418), ('foods', 3374), ('apink', 3306), ('up10tion', 3275), ('ascendant', 3205), ('baby', 3091), ('cake', 2958), ('mediumcoeli', 2905), ('kitchen', 2798), ('shrimp', 2792), ('thai', 2747), ('hamper', 2711), ('mfc', 2553), ('15thceline', 2550), ('gift', 2424), ('logomyindihome', 2397), ('오하영', 2285), ('rbstl', 2280), ('규진', 2251), ('openfollow', 2208), ('b', 2204), ('senpaibot', 2167), ('wjsn', 2152), ('은서', 2135), ('rice', 2115), ('michelin', 2111), ('crab', 2110), ('curry', 2110), ('cookies', 2083), ('wine', 2077), ('soup', 2074), ('diet', 2072), ('california', 2071), ('garlic', 2068), ('salmon', 2066), ('facts', 2039), ('cheese', 2034), ('bbq', 2031), ('drink', 2030), ('weight', 2025), ('broccoli', 2024), ('marinade', 2023), ('potato', 2022), ('exploremyindihome', 2012), ('wgf', 2000), ('아이오아이', 1960), ('lebarantelkomcare', 1959), ('lifestyle', 1868), ('internetmarketing', 1868), ('gyujin', 1860), ('ioi', 1829), ('ngabuburittelkomcare', 1782), ('mode', 1690), ('celebrity', 1682), ('northwesthour', 1669), ('handmade', 1628), ('ekonomi', 1569), ('eunseo', 1527), ('a', 1482)]\n",
      "china_082019_3_tweets_csv_hashed_part3.csv\n",
      "[('香港', 42613), ('hongkong', 31489), ('1ddrive', 28711), ('hk', 26467), ('游行', 17384), ('逃犯条例', 16759), ('iefun', 15840), ('ptl', 9803), ('nrp', 8042), ('rpt', 7317), ('1first', 6712), ('blackpink', 6352), ('郭文贵', 5829), ('暴徒', 5765), ('逃犯條例', 5622), ('decorartehogar', 5551), ('블랙핑크', 4872), ('jennie', 4707), ('teamstallion', 3962), ('제니', 3871), ('遊行', 3687), ('nct127', 3679), ('antielab', 3335), ('gabberhubdotcomgain', 3086), ('tl', 2883), ('民陣', 2768), ('美景中国', 2745), ('redvelvet', 2675), ('iheartawards', 2598), ('bts', 2549), ('nct', 2546), ('bestfanarmy', 2533), ('레드벨벳', 2490), ('exol', 2486), ('tlrp', 2479), ('hongkongprotest', 2156), ('exo', 2116), ('反送中', 2096), ('newprofilepic', 2082), ('방탄소년단', 1980), ('fotoprofilbaru', 1943), ('暴力', 1912), ('mgwv', 1855), ('ifb', 1702), ('守護香港', 1679), ('seventeen', 1672), ('反修例', 1662), ('tlw', 1625), ('mfs', 1593), ('pltl', 1583), ('세븐틴', 1511), ('文化中国', 1472), ('슬기', 1413), ('es', 1411), ('mark', 1390), ('evenc1stgank', 1379), ('china', 1337), ('아이린', 1316), ('마크', 1302), ('staywithdwn', 1292), ('엑소', 1281), ('우주소녀', 1246), ('은서', 1226), ('irene', 1207), ('straykids', 1195), ('立法會', 1166), ('大骗子', 1159), ('seulgi', 1094), ('taeyong', 1091), ('스트레이키즈', 1055), ('twice', 1050), ('mdrive', 1044), ('直播', 1037), ('欢乐中国年', 1010), ('科技中国', 1009), ('teamhustler', 1006), ('wjsn', 996), ('jin', 953), ('ファインダー越しの私の世界', 949), ('七一', 938), ('eunseo', 933), ('gainwithmeh', 933), ('hyunjin', 902), ('rtl', 870), ('etl', 864), ('follow', 809), ('the8', 797), ('현진', 791), ('jisoo', 789), ('태용', 784), ('高手在民间', 765), ('全民撐警', 749), ('황현진', 745), ('워너원', 743), ('태형', 742), ('奇妙世界', 730), ('撐警行動', 730), ('wannaone', 724), ('트와이스', 722), ('政泉', 718)]\n",
      "ecuador_082019_users_csv_hashed.csv\n",
      "No hashtags, users only\n",
      "None\n",
      "uae_082019_users_csv_hashed.csv\n",
      "No hashtags, users only\n",
      "None\n",
      "china_082019_3_users_csv_hashed.csv\n",
      "No hashtags, users only\n",
      "None\n",
      "egypt_uae_082019_users_csv_hashed.csv\n",
      "No hashtags, users only\n",
      "None\n",
      "spain_082019_tweets_csv_hashed.csv\n",
      "[('pedroselofunde', 2612), ('decretazosánchez', 2155), ('niobreroniespañol', 1726), ('stopsoe', 1652), ('nohablamoshacemos', 1563), ('prisiónpermanenterevisable', 1398), ('objetivocasado', 1373), ('sánchezseesconde', 1261), ('ventealpp', 1247), ('stopokupas', 1141), ('pucherazocs', 1092), ('casadoconespaña', 816), ('sinoeligesppellosvuelven', 789), ('valorseguro', 766), ('cafécasado', 633), ('debatertve', 539), ('l6ndebatea7', 445), ('prisionpermanenterevisable', 436), ('falconviajes', 431), ('másppmásigualdad', 405), ('vuelvezapatero', 398), ('juegodeescaños', 392), ('másppmásseguridad', 376), ('l6npablocasado', 373), ('despídetedesánchez', 370), ('28a', 363), ('garantíaparaespaña', 328), ('decretazotegi', 321), ('elppeseconomía', 320), ('micasaelecciones', 312), ('decretazosanchez', 286), ('pablocasadoeh', 284), ('sanchezseesconde', 280), ('hazquepase', 275), ('casadoa3n', 257), ('paro', 231), ('blindajefiscal', 203), ('másppmenosimpuestos', 200), ('casadoeninterconomía', 192), ('libertadencataluña', 191), ('sánchezmentiroso', 187), ('éraseunarvezcasado', 183), ('liquidacionporcierre', 170), ('leydematernidad', 168), ('elsanchismoesruina', 165), ('programaparaespaña', 160), ('liquidaciónporcierre', 146), ('másppmáscultura', 136), ('sancheztorraotegiyamigos', 134), ('elcascabel11m', 132), ('8m', 130), ('casadoencope', 122), ('cafecasado', 106), ('tiempodemujeres', 106), ('sáncheztorraotegiyamigos', 105), ('votapp', 103), ('cmin', 98), ('españa', 93), ('rumbournasarv', 93), ('masppmenosimpuestos', 91), ('nuevovídeodelpsoe', 91), ('másppmásfamilia', 83), ('felizdiadelamujer', 75), ('garantíadefuturopp', 75), ('lamañanatve', 70), ('garantiaparaespaña', 62), ('juegodetronos', 57), ('casadoenintereconomía', 54), ('sanchezmentiroso', 54), ('casadoenondacero', 53), ('l6nandrealevy', 52), ('felizfinde', 47), ('despidetedesanchez', 46), ('objetivodebate', 45), ('elvotoseune', 44), ('eraseunarvezcasado', 43), ('masppmasigualdad', 40), ('últimahora', 40), ('masppmasfamilia', 37), ('l6neldebate', 36), ('garantiadefuturopp', 35), ('superpuma', 35), ('campañitacobarde', 34), ('felizdíadelamujer', 34), ('11demarzo', 34), ('felizlunes', 33), ('casadoeninterconomia', 33), ('ldesayunos', 32), ('nuevovideodelpsoe', 31), ('casadoconfjl', 29), ('laespanaquequieresesfeminista', 29), ('abonofib', 29), ('díazayusoesp', 28), ('equiparaciónsalarial', 27), ('cafémaroto', 27), ('pagastú', 26), ('felizjueves', 26), ('turistasánchez', 26), ('l6npabloiglesias', 24), ('casadot5', 24)]\n",
      "saudi_arabia_082019_tweets_csv_hashed.csv\n",
      "[('saudi', 18), ('brexit', 5), ('breaking', 4), ('iran', 4), ('isis', 4), ('qatar', 3), ('france', 3), ('اليوم_الوطني_السعودي', 3), ('saudi_national_day', 3), ('اليوم_الوطني', 3), ('saudiarabia', 2), ('oicsummit', 2), ('terrorism', 2), ('freeiran', 2), ('trump', 2), ('macron', 2), ('racism', 2), ('ramadan', 2), ('notredame', 2), ('saudiattack', 1), ('asiri', 1), ('north_thunder', 1), ('hezbollah', 1), ('isil', 1), ('irandeal', 1), ('saudis', 1), ('rouhani', 1), ('daesh', 1), ('alqaeda', 1), ('houthis', 1), ('yemen', 1), ('terrorist', 1), ('opdecisivestorm', 1), ('متحف_الفيصل_للفن_العربي_الإسلامي', 1), ('متحف_الفيصل', 1), ('russia', 1), ('paris', 1), ('yellowvests', 1), ('erdogan', 1), ('philippines', 1), ('قمة_الرياض', 1), ('happyeaster', 1), ('هناء_اسكندر', 1), ('uae', 1), ('smoking', 1), ('israel', 1), ('realmadrid', 1), ('juventus', 1), ('uclfinal', 1), ('ريال_مدريد_يوفنتوس', 1), ('voices', 1), ('india', 1), ('china', 1), ('notredamefire', 1), ('notredamedeparis', 1), ('manchester', 1), ('cuba', 1), ('venezuela', 1), ('putin', 1), ('syria', 1), ('assange', 1), ('extremists', 1), ('ethiopia', 1), ('syrian', 1), ('refugees', 1), ('british', 1), ('arab', 1), ('تويتر', 1), ('kuwait', 1), ('kashmir', 1), ('madrid', 1), ('تويتر_السعودية', 1), ('pulitzerprize', 1), ('turkey', 1), ('kingabdullah', 1), ('كيف_ننسى', 1), ('ذكرى_وفاه_الملك_عبدالله', 1)]\n"
     ]
    },
    {
     "name": "stdout",
     "output_type": "stream",
     "text": [
      "uae_082019_tweets_csv_hashed.csv\n",
      "[('اليمن', 63429), ('الإمارات', 50714), ('فيديو', 26847), ('قطر', 24996), ('الحوثي', 21318), ('qatar', 19427), ('الامارات', 18645), ('فرسان_الإمارات', 15128), ('yemen', 14941), ('السعودية', 14193), ('مصر', 13948), ('مهرجان_الشيخ_زايد_التراثي', 13360), ('uae', 13258), ('مسيرة_الإتحاد_للقبائل', 11938), ('الحديدة', 11391), ('تكنولوجيا', 11187), ('العين_الإخبارية', 9172), ('تركيا', 8849), ('اقتصاد', 8483), ('الحوثيين', 8074), ('صحة', 7617), ('دبي', 6722), ('محمد_بن_زايد', 6424), ('iran', 6152), ('المغرب', 6017), ('أبوظبي', 5721), ('صور', 5686), ('تنظيم_الحمدين', 5649), ('الامارات_في_اليمن', 5630), ('مدن_السودان_تنتفض', 5459), ('أمريكا', 5436), ('popefrancisinuae', 4831), ('البابا_فرنسيس', 4749), ('القمة_العالمية_للحكومات', 4598), ('الفيديو', 4542), ('smtfy', 4464), ('malaysia', 4380), ('عبدالله_بن_زايد', 4336), ('عام_التسامح', 4330), ('terrorism', 4328), ('وطن_التسامح', 4325), ('somalia', 4299), ('البابا_فرنسيس_في_الإمارات', 4201), ('السودان', 4058), ('الاخوان', 3974), ('houthis', 3945), ('إيران', 3835), ('خادم_الحرمين_الشريفين', 3831), ('الإمارات_وطن_التسامح', 3820), ('كأس_آسيا2019', 3808), ('علي_النعيمي', 3715), ('تسقط_بس', 3663), ('زايد', 3595), ('worldcup', 3592), ('التحالف', 3557), ('humanfraternitymeeting', 3515), ('مجلس_الشورى', 3384), ('أردوغان', 3271), ('صباح_الخير', 3198), ('الهلال_الأحمر_الإماراتي', 3160), ('الدوحة', 3093), ('التحالف_العربي', 3086), ('un', 3085), ('منوعات', 3054), ('تونس', 3040), ('الصين', 3033), ('ايران', 3013), ('thirdterroristlist', 2947), ('مشاورات_السويد', 2918), ('popefrancis', 2900), ('uk', 2896), ('houthi', 2883), ('سيارات', 2873), ('تميم', 2864), ('trump', 2857), ('صنعاء', 2843), ('محمد_بن_راشد', 2828), ('قطر_ولاية_تركية', 2754), ('الجزائر', 2645), ('uae_in_yemen', 2606), ('قطر_تتخلى_عن_تركيا', 2536), ('love', 2486), ('الامارات_اليوم', 2473), ('براندازم', 2462), ('buendia', 2452), ('motivation', 2439), ('worldcup2018', 2431), ('frasedeldia', 2412), ('ایران', 2407), ('azmin4dp', 2370), ('usa', 2292), ('أبل', 2252), ('اعلان_قائمة_الارهاب_الثالثة', 2222), ('اوقفوا_جرائم_الحوثي', 2219), ('fifa', 2205), ('عدن', 2166), ('popevisit', 2161), ('مشاريع_مصر', 2106), ('شكرا_امارات_الخير', 2087), ('عام_زايد', 2085)]\n",
      "saudi_arabia_082019_users_csv_hashed.csv\n",
      "No hashtags, users only\n",
      "None\n",
      "032020_users_csv_hashed.csv\n",
      "No hashtags, users only\n",
      "None\n",
      "032020_tweets_csv_hashed.csv\n",
      "[('blacklivesmatter', 2109), ('racism', 1381), ('policebrutality', 1159), ('lgbt', 862), ('blackexcellence', 805), ('blacklove', 795), ('blackhistorymonth', 749), ('blacktwitter', 745), ('diversity', 648), ('lgbtq', 596), ('police', 580), ('saynotoracism', 516), ('humanrights', 391), ('blacktwittermovement', 346), ('africa', 334), ('black', 324), ('blackgirlmagic', 311), ('love', 310), ('trump', 291), ('blackhistory', 282), ('change', 281), ('blackgirlsrock', 275), ('racist', 242), ('blackandproud', 238), ('blackisbeautiful', 230), ('mondaymotivation', 229), ('tuesdaythoughts', 225), ('women', 216), ('loveislove', 184), ('tuesdaymotivation', 184), ('mondaythoughts', 165), ('equality', 165), ('blacks', 157), ('policestate', 153), ('sustainability', 152), ('cops', 150), ('blackpower', 149), ('fridayfeeling', 149), ('blm', 149), ('mgwv', 144), ('girlpower', 143), ('melanin', 143), ('fridaythoughts', 138), ('thursdaymotivation', 131), ('fridaymotivation', 129), ('blackcommunity', 127), ('wednesdaywisdom', 127), ('ghana', 126), ('america', 125), ('wednesdaythoughts', 117), ('humanity', 114), ('wednesdaymotivation', 109), ('whiteprivilege', 108), ('queerness', 108), ('thursdaythoughts', 105), ('teamfollowback', 102), ('blackpink', 100), ('coronavirus', 98), ('endracism', 95), ('trending', 92), ('gay', 91), ('ftp', 89), ('kickitout', 87), ('mondaymorning', 85), ('policereforms', 84), ('blackhistorymonth2020', 82), ('followtrick', 80), ('alllivesmatter', 76), ('tuesdaymorning', 74), ('nodiscrimination', 73), ('blacksnews', 71), ('barriers', 70), ('saturdaythoughts', 67), ('fuckracism', 67), ('sundaythoughts', 66), ('brownskingirls', 65), ('follow', 65), ('justice', 64), ('blackface', 63), ('weekend', 63), ('discrimination', 63), ('breakingnews', 63), ('citicbs', 62), ('queer', 61), ('bringbackthelove', 60), ('snrtg', 60), ('impeachment', 59), ('yearofreturn', 59), ('fuckracists', 59), ('equalitycantwait', 58), ('transgender', 57), ('mondaymood', 57), ('nigeria', 57), ('whitesupremacy', 55), ('donaldtrump', 55), ('kobebryant', 55), ('blackpanther', 55), ('loveyourselfspeakyourself', 55), ('retweet', 55), ('blackhistory365', 53)]\n",
      "qatar_082020_tweets_csv_hashed.csv\n",
      "[('قطر', 7415), ('تنظيم_الحمدين', 2473), ('تبادل_رتويت', 1580), ('السعودية', 1475), ('quran', 1460), ('الدوحة', 851), ('تنظيم_الحمدين_الارهابي', 832), ('بوح', 763), ('تعذيب_الشيخ_فهد', 728), ('خيال_المآته', 688), ('تميم', 672), ('الجزيرة', 607), ('البحرين', 588), ('الحمدين', 584), ('مصر', 551), ('سيل_النبض', 546), ('قطريليكس', 507), ('ايران', 483), ('تركيا', 477), ('إيران', 469), ('حقوق_الغفران_في_قطر', 465), ('تابعني_اتابعك', 456), ('صباح_الخير', 453), ('العربية', 430), ('الامارات', 423), ('اصدقاء_سوالف_روح', 374), ('الحرية_لآل_ثاني', 355), ('رتويت', 348), ('سبات', 342), ('الحرف_النابض', 341), ('خلك_ذيبان', 341), ('تابعني_أتابعك', 334), ('تونا_مابدينا', 332), ('ريال_مدريد', 326), ('مغرد_بذكر_الله', 323), ('الإمارات', 306), ('بقلمي', 304), ('تصميمي', 302), ('الكويت', 301), ('العربية_عاجل', 283), ('ثآئر', 280), ('الخليج', 277), ('حساب_يستحق_المتابعه', 271), ('ريتال', 269), ('تميم_العار', 268), ('يتيم_المجد', 249), ('حكاية_قلبي_للدعم', 246), ('مداد_نيوز', 238), ('قضيةآل_ثاني', 227), ('رسايل_100k_الفـــ_مـــتـــاابـــع', 221), ('غزير', 221), ('الرياض', 219), ('رمضان', 216), ('إحساس', 216), ('دعاء', 215), ('آل_ثاني', 211), ('ﷺ', 206), ('ضيفني_اضيفك', 205), ('اليمن', 202), ('آڨين', 199), ('توت_مزهر', 191), ('يوم_الجمعه', 182), ('تمتمات_قلم', 182), ('حقوق_الإنسان', 178), ('هلا_مدريد', 173), ('qatar', 170), ('السعوديه', 167), ('الغفران', 166), ('قروب_تمنيتك_صدفه_للدعم', 164), ('halamadrid', 161), ('حمد_بن_خليفة', 158), ('ليبيا', 157), ('كورونا', 157), ('حساب_يستحق_المتابعة', 152), ('شعر', 151), ('قروب_بنت_الشيوخ', 150), ('الإخوان', 150), ('استغفار', 144), ('حمد_بن_جاسم', 144), ('الحوثي', 143), ('الوتر', 142), ('اللهم', 142), ('سوريا', 140), ('bo7_as', 140), ('الوتر_جنة_القلوب', 139), ('قروب_الزلزال_للدعم', 138), ('قرآن', 134), ('rmliga', 132), ('همس_بنات_للدعم', 129), ('عاجل', 126), ('نظام_الملالي', 126), ('مساء_الخير', 125), ('قروب_القيصر', 125), ('تدل_دربها', 124), ('الإرهاب', 123), ('الدوحه', 121), ('ريتويت', 119), ('hadith', 119), ('قطر_تنتحر', 118), ('لحن_حب', 117)]\n",
      "cuba_082020_tweets_csv_hashed.csv\n",
      "[('cuba', 1844536), ('cubava', 263344), ('cubasi', 178384), ('yosoycuba', 174950), ('somoscuba', 135439), ('somoscontinuidad', 114902), ('eeuu', 113871), ('yoanifraude', 111634), ('twitter', 77324), ('venezuela', 63724), ('fidel', 63102), ('tuitutil', 55016), ('covid19', 41451), ('fidelcastro', 37335), ('dezurdateam', 35668), ('patriagrande', 34831), ('bolivia', 33307), ('pensandoamericas', 30313), ('clanpussicats', 29717), ('cubasalvavidas', 26247), ('pinardelrío', 24539), ('tenemosmemoria', 23662), ('todosmarchamos', 23195), ('chile', 21916), ('cubaesnuestra', 21767), ('nomasbloqueo', 21563), ('loscinco', 21539), ('cubaporlasalud', 20919), ('fidelvive', 19800), ('fidelporsiempre', 19211), ('fuerzafelix', 19202), ('pensandoaméricas', 17830), ('amishijosquiero', 16650), ('semeantojadecirte', 16592), ('cubaislabella', 15780), ('usa', 15111), ('noticias', 15110), ('cubaavanza', 14790), ('tengounabrazoguardado', 14638), ('gritaríaalmundoque', 14013), ('cubaessalud', 13750), ('cubavsbloqueo', 13545), ('yoencasateinvito', 13469), ('portimadreyo', 13467), ('mehacefelizdecirte', 13455), ('dedicaréestemayo', 12994), ('trump', 12642), ('josémartí', 12452), ('hoyquieroaplaudir', 12111), ('lahabana', 11512), ('vamospormas', 11397), ('bloqueo', 11368), ('revolución', 11365), ('90razonesporfidel', 11222), ('conmituitquiero', 11183), ('cubasalva', 11169), ('ferrerpresopordelincuente', 10968), ('cuandoceselatormenta', 10859), ('xtualmademujer', 10827), ('untuitllenode', 10766), ('ddhhcuba', 10731), ('argentina', 10503), ('ecuador', 10299), ('teampussicats', 10044), ('nicaragua', 9877), ('tequieromostrar', 9848), ('brasil', 9674), ('yosigoamipresidente', 9657), ('deportes', 9281), ('untuitlatinopara', 9241), ('ysitepropongo', 9152), ('juevesmartiano', 8915), ('conunamanoamiga', 8807), ('colombia', 8782), ('en2020tedeseo', 8733), ('ddhh', 8595), ('telodigoenprosa', 8536), ('coronavirus', 8434), ('matanzas', 8352), ('revolucioncubana', 8293), ('cubainformatiza', 8240), ('juliodevictorias', 8149), ('teamgoals', 8004), ('telodigoenverso', 7546), ('felizaniversario61', 7513), ('miami', 7509), ('elbloqueoesreal', 7432), ('elcorazónmelatepor', 7394), ('felizdomingo', 7374), ('bloqueoeeuu', 7209), ('martí', 7191), ('vamospormás', 7146), ('habana500', 7035), ('rt', 6977), ('uscuba', 6933), ('china', 6853), ('quedateencasa', 6776), ('rusia', 6718), ('mifortalezahoy', 6711), ('untuitzurdopara', 6666)]\n"
     ]
    },
    {
     "name": "stdout",
     "output_type": "stream",
     "text": [
      "qatar_082020_users_csv_hashed.csv\n",
      "No hashtags, users only\n",
      "None\n",
      "ira_092020_tweets_csv_hashed.csv\n",
      "[('فرنسا', 20), ('blacklivesmatter', 18), ('العراق', 12), ('العنصرية', 11), ('الجزائر', 9), ('كورونا', 7), ('ترامب', 7), ('ليبيا', 7), ('مصر', 6), ('المسلمين', 6), ('georgefloyd', 6), ('الصين', 5), ('السعودية', 5), ('المملكة_المتحدة', 5), ('اليمن', 5), ('abortolegal', 4), ('بيسداتا', 4), ('السيسي', 4), ('سوريا', 4), ('ماكرون', 4), ('تركيا', 4), ('eyadhallaq', 4), ('freepalestine', 4), ('باريس', 4), ('الفساد', 4), ('russiareport', 4), ('إيران', 3), ('أوروبا', 3), ('أمريكا', 3), ('إسرائيل', 3), ('إفريقيا', 3), ('الاتحاد_الأوروبي', 3), ('georgefloydfuneral', 3), ('روسيا', 3), ('الإمارات', 3), ('defundthepolice', 3), ('jamesscurlock', 3), ('hiroshima75', 3), ('الموساد', 2), ('داعش', 2), ('ديزارتك', 2), ('peacedata', 2), ('عنصرية', 2), ('تاريخ', 2), ('المهاجرين', 2), ('savetheusps', 2), ('الولايات_المتحدة', 2), ('أفريقيا', 2), ('الاقتصاد', 2), ('caresact', 2), ('خاشقجي', 2), ('القرم', 2), ('الربيع_العربي', 2), ('الولايات_المتحدة_الأمريكية', 2), ('الشرق_الأوسط', 2), ('اللاجئين', 2), ('indiachinafaceoff', 2), ('internationalrelations', 2), ('الكراهية', 2), ('الإسلام', 2), ('أفغانستان', 2), ('اليمين_المتطرف', 2), ('الغرب', 2), ('بريطانيا', 2), ('hongkong', 2), ('svetlanatikhanovskaya', 2), ('coronavirus', 2), ('bidenharris2020', 2), ('kamalaharris', 2), ('statuesmustfall', 2), ('watersecurity', 1), ('jordan', 1), ('whitelivesmatter', 1), ('venezuela', 1), ('unitedstates', 1), ('maduro', 1), ('guaido', 1), ('bluefall', 1), ('abolishice', 1), ('covid_19', 1), ('lockthemallup', 1), ('الأديان', 1), ('بلاد_الرافدين', 1), ('عاجل', 1), ('ماري_كلود_نجم', 1), ('الحكم_البريطاني', 1), ('أناداركو', 1), ('blackouttuesday', 1), ('التعذيب', 1), ('حفتر', 1), ('طرابلس', 1), ('شيعة', 1), ('belarus', 1), ('insidertraitor', 1), ('burrisma', 1), ('الاحتباس_الحراري', 1), ('المناخ', 1), ('تهربٌ_ضريبي', 1), ('غسيل_أموال', 1), ('قنابل_فسفورية', 1)]\n",
      "thailand_092020_users_csv_hashed.csv\n",
      "No hashtags, users only\n",
      "None\n",
      "thailand_092020_tweets_csv_hashed.csv\n",
      "[('กองทัพบก', 389), ('กองทัพภาคที่2', 327), ('อนาคตใหม่', 217), ('กราดยิงโคราช', 184), ('ทหารเป็นที่พึ่งของประชาชนในทุกโอกาส', 129), ('ขบวนพยุหยาตราทางชลมารค', 129), ('ข่าวจริง', 129), ('เริ่มแล้วหนุมานการ์เดียน2020', 122), ('กองทัพบกไทยฝึกร่วมกองทัพบกสหรัฐฯ', 122), ('สปริงนิวส์', 116), ('springnews', 111), ('จั่วหัว', 83), ('กองทัพบกเพื่อประชาชน', 75), ('ยุบพรรคอนาคตใหม่', 73), ('กองทัพบกเพื่อชาติศาสน์กษัตริย์และประชาชน', 68), ('covid19', 65), ('ไวรัสโคโรนา', 59), ('ทหารช่วยเหลือประชาชน', 58), ('ประชุมสภา', 57), ('ประชาชน', 55), ('thaipbs', 54), ('royalthaiarmy', 45), ('ทรงพระเจริญ', 44), ('กองทัพบกช่วยเหลือประชาชน', 44), ('ทหารเป็นที่พึ่งของประชาชนในทุกโอกาศ', 43), ('savekorat', 42), ('คมชัดลึก', 42), ('thailand', 41), ('pptvhd36', 40), ('กองทัพบกโดย', 38), ('พรรคอนาคตใหม่', 37), ('ไวรัสอู่ฮั่น', 36), ('ร่วมไว้อาลัย', 36), ('ทหารมาช่วยแล้ว', 35), ('พระราชพิธีบรมราชาภิเษกพุทธศักราช๒๕๖๒', 34), ('วิ่งไล่ลุง', 34), ('pptvnews', 34), ('ธนาธร', 32), ('ช่อง36', 32), ('ปล้นร้านทองลพบุรี', 30), ('ไวรัสโคโรนาสายพันธุ์ใหม่2019', 29), ('ไวรัสโคโรน่า', 28), ('วันทหารผ่านศึก', 26), ('ประสบภัย', 25), ('ทหาร', 25), ('nationtv', 25), ('คัดค้านยุบอนาคตใหม่', 23), ('เรื่องเล่าเช้านี้', 23), ('new18', 22), ('จดหมายลายพราง', 22), ('อู่ฮั่น', 22), ('prayforkorat', 22), ('ยุบพรรค', 22), ('สติค่ะลูกกกก', 22), ('รัฐบาลเตรียมพร้อม', 21), ('ขบวนพยุหยาตราชลมารค', 21), ('กรมทหารราบที่', 21), ('ไวรัสโคโรน่าสายพันธุ์ใหม่2019', 21), ('ประชาธิปไตยจอมปลอม', 20), ('หน้ากากอนามัย', 20), ('pm2', 20), ('ไวรัสโคโรนาสายพันธ์ุใหม่', 20), ('การเมือง', 20), ('ความเน่าเหม็นในอนาคตใหม่', 19), ('ด้วยความห่วงใยจากกองทัพบก', 19), ('โควิด19', 18), ('pm25', 18), ('กองทัพบกคลายความหนาวห่วงใยประชาชน', 18), ('รู้เท่าทันอย่างหลงเชื่อเช็คก่อนแชร์', 18), ('พรรคอนาคตไหม้', 17), ('westerdam', 17), ('ปฏิรูปกองทัพ', 17), ('ปิยบุตร', 17), ('รองแม่ภาคที่2ตรวจเยี่ยมน้องทหารใหม่', 17), ('ผู้ช่วยผู้บัญชาการทหารบกตรวจเยี่ยมด้านการส่งกำลังบำรุงของกองทัพภาคที่2', 17), ('mi17', 17), ('พรรคนี้อยู่ยาก', 16), ('3infdiv', 16), ('กองพลทหารราบที่3', 16), ('voiceonline', 16), ('สดุดีความกล้าหาญ', 15), ('ขอแสดงความเสียใจกับครอบครัวผู้เสียชีวิตด้วยครับ', 15), ('linetoday', 15), ('นิว18', 15), ('ข่าววันนี้', 15), ('smartmansmartsoldier', 15), ('smartsoldiersstrongarmytp4', 15), ('รองแม่ทัพภาคที่2ตรวจความพร้อมของหน่วยพร้อมรบเคลื่อนที่เร็วrdf', 15), ('แข็งแกร่งกายใจ', 15), ('ขุดเจาะน้ำบาดาลช่วยเหลือประชาชน', 14), ('newtv', 14), ('นิวทีวี', 14), ('thaiarmyletter', 14), ('กราดยิงที่โคราช', 14), ('โคราช', 14), ('นักศึกษาวิชาทหาร', 13), ('ยะลา', 13), ('ไทยรัฐ', 13), ('ข่าว', 13), ('อภิปรายไม่ไว้วางใจ', 13)]\n",
      "iran_092020_tweets_csv_hashed.csv\n",
      "[('black_lives_matter', 171), ('حرامي_الكاسكو', 42), ('oscars', 17), ('هاني_حسين', 12), ('m5tour2020', 7), ('graduatetogether', 6), ('d40firstlookupdate', 6), ('خالد_الشطي', 5), ('barking', 4), ('london', 3), ('whoishussein', 3), ('كورونا', 3), ('covid19', 3), ('wsjwhatsnow', 3), ('brexit', 3), ('callthemidwife', 2), ('themanmusicvideo', 2), ('whales', 2), ('faroeislands', 2), ('denmark', 2), ('stircrazy', 2), ('عبدالله_النفيسي', 2), ('brexitday', 2), ('sunset', 2), ('ge2020', 2), ('orlando', 2), ('traffic', 2), ('joker', 2), ('wilderfury2', 2), ('boxing', 2), ('lg6', 2), ('boltonnhsft', 2), ('أوّل', 2), ('babymetal', 2), ('neverwornwhite', 2), ('findyourpath', 1), ('fit52life', 1), ('nytimesbestsellerslist', 1), ('drinkingalone', 1), ('teamkelly', 1), ('cawx', 1), ('سلامة_الرياضيين', 1), ('followback', 1), ('friends', 1), ('f4f', 1), ('followtrain', 1), ('retweet', 1), ('followtrick', 1), ('follow', 1), ('earthobservations', 1), ('data', 1), ('السعودية', 1), ('parasitemovie', 1), ('privateequity', 1), ('ikokazike', 1), ('السودانية', 1), ('الإثيوبي', 1), ('الخرطوم', 1), ('السودان', 1), ('بنك_الائتمان', 1), ('pmqs', 1), ('missionhumanity', 1), ('metoo', 1), ('launch', 1), ('space', 1), ('spacex', 1), ('falcon9', 1), ('spacexlaunch', 1), ('spacexdragon', 1), ('connectknowgo', 1), ('fl511', 1), ('bekind', 1), ('صنعاء', 1), ('kerryatmit', 1), ('droopyslive', 1), ('اسقاط_القروض_لليوم_467', 1), ('عمرو_دياب', 1), ('سهران', 1), ('amrdiab', 1), ('everydaylife', 1), ('troubleintown', 1), ('washyourlyrics', 1), ('jeddah', 1), ('soldout', 1), ('الصفوف_الأولى', 1), ('مكافأة_الصفوف_الأولى', 1), ('مكافأة_الصفوف_الأمامية', 1), ('clapforourcarers', 1), ('coys', 1), ('كويت_الإنسانية_ضد_العنصرية', 1), ('جمعية_النزهة', 1), ('leeds', 1), ('dreamog', 1), ('newbeginnings', 1), ('climatechange', 1), ('الروسية', 1), ('stocks', 1), ('coronavirus', 1), ('últimahora', 1), ('artemis', 1)]\n",
      "iran_092020_users_csv_hashed.csv\n",
      "No hashtags, users only\n",
      "None\n",
      "ira_092020_users_csv_hashed.csv\n",
      "No hashtags, users only\n",
      "None\n",
      "cuba_082020_users_csv_hashed.csv\n",
      "No hashtags, users only\n",
      "None\n",
      "indonesia_022020_tweets_csv_hashed.csv\n",
      "[('freewestpapua', 251354), ('westpapua', 248846), ('fwpc', 242679), ('letwestpapuavote', 227037), ('papuawest', 153614), ('infowestpapua', 146932), ('westpapuanid', 145680), ('openfollow', 113697), ('2019tetapjokowi', 101836), ('jokowi2periode', 99668), ('2019gantipresiden', 76575), ('lawangerakanseparatis', 63623), ('kabehsedulurkabehmakmur', 57695), ('gusipulmbakputi', 50316), ('gusipulputimenang', 45625), ('jatim2kabehsedulur', 39683), ('iwartaid', 32309), ('pilpres2019', 30880), ('jokowilagi', 23452), ('globalflagraising', 21430), ('2019jokowimaruf', 20200), ('westpapuaindo', 19494), ('pltl', 15119), ('2019jokowimarufamin', 14621), ('afterbismillah', 13834), ('2019jokowilanjut', 12785), ('exo', 9193), ('westpapuagenocide', 8740), ('jokowimaruf2019', 7137), ('ptl', 7124), ('sapapua', 7020), ('pilgubjatim2018', 6232), ('programgusipulmbakputi', 5924), ('jokowimarufamin2019', 5460), ('jatimsedulur', 4958), ('nrp', 4947), ('papua', 4745), ('tetapjokowi', 4695), ('라이관린', 4288), ('jokowi1kalilagi', 4214), ('2019pilihjokowi', 4166), ('bersatuuntukmaju', 4030), ('bogor', 3773), ('cibinong', 3700), ('exploremyindihome', 3680), ('aplikasimyindihome', 3662), ('sablonkaossatuan', 3642), ('diqra', 3641), ('sablonkaoscibinong', 3269), ('exol', 3251), ('iheartawards', 3147), ('rt', 3137), ('bestfanarmy', 3105), ('westpapuaindonesia', 3075), ('ngabuburittelkomcare', 3060), ('gamesserukartini', 3017), ('tlrp', 2839), ('워너원', 2798), ('openheart', 2732), ('hitunguntungindihome', 2364), ('laikuanlin', 2257), ('rpt', 2103), ('indonesia', 1987), ('papuabarat', 1965), ('logomyindihome', 1962), ('lebarantelkomcare', 1818), ('wannaone', 1796), ('peaceinpapua', 1789), ('jokowimaruf', 1781), ('2019kitapilihjokowiaja', 1767), ('tejo', 1754), ('es', 1719), ('papuaindonesia', 1665), ('education', 1628), ('jayapura', 1605), ('엑소', 1598), ('welovewestpapua', 1594), ('sapapuasaindonesia', 1548), ('teamfollowback', 1532), ('kitasatuindonesia', 1416), ('賴冠霖', 1322), ('telkomcaremerdeka', 1316), ('blackpink', 1307), ('赖冠霖', 1156), ('kokobop', 1147), ('rtl', 1122), ('autofollback', 1055), ('김세정', 959), ('세븐틴', 955), ('세정', 936), ('sejeong', 923), ('kuismyindihome', 907), ('freewestpapuacampaign', 905), ('구구단', 881), ('tl', 879), ('twice', 849), ('jokowi1xlagi', 826), ('etl', 824), ('newprofilepic', 821), ('seventeen', 807)]\n"
     ]
    },
    {
     "name": "stdout",
     "output_type": "stream",
     "text": [
      "egypt_022020_users_csv_hashed.csv\n",
      "No hashtags, users only\n",
      "None\n",
      "honduras_022020_users_csv_hashed.csv\n",
      "No hashtags, users only\n",
      "None\n",
      "sa_eg_ae_022020_tweets_csv_hashed/sa_eg_ae_022020_tweets_csv_hashed_08.csv\n",
      "[('الرياض', 146733), ('تسديد_قروض', 79469), ('الكويت', 55812), ('تسديد_القروض', 40112), ('السعوديه', 37368), ('الهلال', 37025), ('الاهلي', 35054), ('قطر', 32933), ('بيع_متابعين', 32539), ('الراجحي', 29723), ('سناب_شات', 28572), ('الامارات', 27414), ('السعودية', 27098), ('البحرين', 26982), ('عاجل', 26270), ('اعلانات', 24987), ('تويتر', 24416), ('نشر', 23005), ('عمان', 22527), ('العربي', 21535), ('تسويق', 20428), ('الدمام', 20215), ('سنابل_السلام', 19842), ('النصر', 19613), ('بتويتر', 18517), ('جدة', 16488), ('تخسيس', 16336), ('سبق', 16145), ('البلاد', 15651), ('عسل', 15573), ('تنظيف', 15370), ('سامبا', 14783), ('جده', 14471), ('تنحيف', 14356), ('ارخص', 14300), ('سناب', 13395), ('رتويت', 12943), ('جمال', 12263), ('سنبل_حياتك', 11972), ('الانماء', 11835), ('الخبر', 11574), ('تخفيضات', 11346), ('تنظيف_مجالس', 11166), ('مجموعة_الهامور_للنشر', 11151), ('تبوك', 11117), ('حفلات', 11094), ('تسديد_قروض_بنكية', 11091), ('القولون', 10797), ('عروض', 10535), ('زراعة_الشعر', 10437), ('اعلان', 10293), ('مكة', 10233), ('الطائف', 10022), ('تبادل_رتويت', 9984), ('الانتفاخات', 9856), ('فورتويتو', 9706), ('الانجليزية', 9580), ('سوريا', 9421), ('القصيم', 8715), ('الخرج', 8514), ('دبي', 8353), ('مكافحة_حشرات', 7991), ('طبيعي', 7899), ('الغازات', 7790), ('القولون_التقرحي', 7683), ('جرثومة', 7592), ('رشاقه', 7493), ('الجنوب', 7477), ('عرض', 7463), ('عسل_المانوكا', 7441), ('زراعةشعر', 7353), ('تمويل', 7321), ('رش_مبيد', 7272), ('فيديو', 7167), ('انستقرام', 7146), ('موضه', 7057), ('شركات', 7006), ('صحة', 7005), ('فنادق', 6985), ('نقل_اثاث', 6974), ('تركيا', 6903), ('مشدات', 6865), ('الغربيه', 6824), ('مكه', 6738), ('تسديد_القروض_البنكية', 6662), ('حلب', 6656), ('زواج', 6544), ('تكميم', 6495), ('زراعةذقن', 6407), ('الاتحاد', 6381), ('زراعةالشعر', 6306), ('زراعةالذقن', 6221), ('دعم', 6203), ('قرحة', 6178), ('عرض_خاص', 6177), ('رشاقة', 6112), ('تسديد', 5955), ('شعر', 5846), ('بنات', 5726), ('كوش', 5638)]\n",
      "sa_eg_ae_022020_tweets_csv_hashed/sa_eg_ae_022020_tweets_csv_hashed_09.csv\n",
      "[('الرياض', 111321), ('السعودية', 37515), ('سناب_شات', 34873), ('الهلال', 31017), ('اعلانات', 28369), ('سناب', 28100), ('الاهلي', 24449), ('تسويق', 22334), ('تسديد_قروض', 22061), ('عاجل', 21949), ('رمضان', 21462), ('الراجحي', 19582), ('جدة', 17227), ('سوريا', 16476), ('سبق', 16330), ('سنبل_حياتك', 16200), ('عروض', 15730), ('رتويت', 14987), ('اعلان', 14848), ('نشر', 14844), ('بيع_متابعين', 14454), ('سنابل_السلام', 14321), ('النصر', 13683), ('العربي', 12670), ('تسديد', 11862), ('تخفيضات', 11653), ('بتويتر', 11646), ('تسديد_القروض', 11139), ('الكويت', 10564), ('تويتر', 10365), ('يوجد_الديناء_تغليف_هدايا', 10221), ('قطر', 10131), ('مكة', 9970), ('لطلب_واتس_0551582313', 9717), ('تسديد_قروض_بنكية', 9539), ('البلاد', 9193), ('ختم', 8989), ('ورق', 8943), ('بزنس', 8905), ('سامبا', 8894), ('تبوك', 8867), ('ألمانيا', 8784), ('بنر', 8779), ('جمال', 8727), ('انشر_الخير', 8693), ('السعوديه', 8678), ('تخسيس', 8643), ('ملف', 8543), ('لوحة', 8535), ('دعم', 8444), ('سند', 8439), ('الامارات', 8184), ('مذكرات', 8115), ('حلب', 7746), ('snapchat', 7567), ('القولون', 7537), ('شعارات', 7339), ('تمويل', 7335), ('زراعة_الشعر', 7324), ('جده', 7300), ('الخرج', 7260), ('سنابي', 7192), ('فيديو', 7180), ('الانتفاخات', 7050), ('الدمام', 6988), ('تركيا', 6977), ('تصميم', 6973), ('دورة', 6779), ('تبادل_رتويت', 6752), ('بنات', 6697), ('دبي', 6645), ('البحرين', 6631), ('ريتويت', 6472), ('القولون_التقرحي', 6409), ('الشرقيه', 6275), ('رشاقه', 6005), ('جرثومة', 5891), ('تنظيف', 5799), ('فنادق', 5567), ('القصيم', 5538), ('فندق_اوبير', 5527), ('رادو', 5400), ('مشدات', 5375), ('الجنوب', 5369), ('مظلات', 5316), ('دورات', 5271), ('صحة', 5264), ('انستقرام', 5255), ('كروت', 5242), ('صور', 5239), ('سنابات', 5129), ('الأهلي', 5065), ('للبيع', 5019), ('تنحيف', 5010), ('عسل', 4989), ('المدائن', 4983), ('البشرة', 4981), ('واحة_المشاعر', 4927), ('شاهي_أخضر', 4872), ('علاج', 4861)]\n",
      "sa_eg_ae_022020_tweets_csv_hashed/sa_eg_ae_022020_tweets_csv_hashed_01.csv\n",
      "[('الرياض', 41118), ('صباح_الخير', 23443), ('كشف_تسربات_المياه', 18262), ('عزل', 17152), ('h0mel3nd', 17000), ('شركه_رش_مبيد_بالرياض', 15874), ('تسديد', 15706), ('مكافحة_حشرات', 15621), ('صراصير', 15199), ('مع_الضمان', 15158), ('الجمعة_البيضاء', 13792), ('جدة', 12924), ('تنظيف', 12538), ('كشف_تسربات_الحزانات', 12477), ('بلدي', 11937), ('شراء_اثاث_مستعمل_بالرياض', 11580), ('تنظيف_سجاد', 11412), ('سوريا', 11411), ('الهلال', 11366), ('السعودية', 10707), ('الامارات', 10353), ('شركة_تنظيف_بالرياض', 10323), ('الكويت', 10287), ('الديوانيه', 9232), ('شركه_كشف_تسربات_المياه', 9222), ('تنظيف_مجلس', 9185), ('مشيني_meshini', 9087), ('شركه_عزل_خزانات_بالرياض', 9040), ('تصميم', 9040), ('منزل_فيلا', 8867), ('شركة_تنظيف_خزانات_بالرياض', 8780), ('تنظيف_مجلس_كنب_فرشه', 8415), ('فواتير', 8410), ('قروض', 8402), ('adrydrive', 8334), ('تقرير_معتمد_لشركة_المياة', 8304), ('مناحل_ناصر_الغامدي', 8195), ('شركة', 8173), ('كشف_تسربات_الحمامات', 8101), ('حل_ارتفاع_فواتير_المياة', 7840), ('سمه', 7808), ('تنظيف_شقه_فيلا_بيت', 7785), ('عروض', 7755), ('طباعة', 7708), ('استخراج', 7611), ('لمن', 7493), ('متعثرات', 7490), ('يرغب', 7456), ('سدادقرضه', 7456), ('عملاءجميع_البنوك', 7455), ('قرض_جديد', 7453), ('توصيل', 7424), ('يوم_الجمعه', 7415), ('أعلي_تمويل', 7383), ('كشف', 7325), ('غسيل_مجلس_كنب', 7281), ('حالة_إنسانية', 7261), ('غرف_نوم', 7245), ('غسيل_موكيت_سجاد_فرشات', 7234), ('متعب_الشعيبي', 7200), ('بنرات', 7175), ('نشتري_الاثاث_المستعمل_بالرياض', 7171), ('تخسيس', 7091), ('كروت', 7067), ('شخصيه', 7067), ('سندات', 7067), ('دقه_بالمواعيد', 7067), ('سواق', 7067), ('مشدات', 7067), ('نحافه', 7067), ('رجيم', 7067), ('مطابخ', 7027), ('كشف_تسربات_الحزانات_وعزلها', 7005), ('رحلات_مشيني', 6983), ('تذاكر_مشيني', 6871), ('تصحيح_نظر', 6544), ('تسديد_قروض', 6471), ('فئران', 6336), ('مكافحه_النامس', 6336), ('مكافحه_بق', 6336), ('أطقم', 6254), ('الاثاث_المستعمل_بالرياض', 6170), ('حل_ارتفاع_فواتير_شبكات_المياة', 6147), ('نمل', 6143), ('المياه', 6082), ('الليزك', 6065), ('طاولات', 5991), ('قطر', 5938), ('حل', 5920), ('كشف_تسربات_شبكات_المياة', 5823), ('كشف_تسربات_المياة', 5792), ('شركه_عزل_اسطح_بالرياض', 5765), ('مساء_الخير', 5717), ('شركة_كشف_تسربات_المياه', 5713), ('خرسانة_مطبوعة', 5672), ('خرسانة_ملونة', 5672), ('تركيا', 5647), ('غرف', 5624), ('اقوى_مبيد', 5617), ('عزل_ايبوكسى_للخزانات', 5529)]\n",
      "sa_eg_ae_022020_tweets_csv_hashed/sa_eg_ae_022020_tweets_csv_hashed_02.csv\n",
      "[('الرياض', 33829), ('تسديد', 29356), ('عسل', 22981), ('مكافحة_حشرات', 19822), ('كشف_تسربات_المياه', 19769), ('شركه_رش_مبيد_بالرياض', 19442), ('صراصير', 18932), ('مع_الضمان', 18603), ('قطر', 17651), ('السعودية', 17605), ('جامعة_الأميرة_نورة', 17056), ('شركة_تنظيف_بالرياض', 16814), ('جامعة_الملك_سعود', 16593), ('عروض', 16231), ('اليوم_الوطني89', 16022), ('حالة_إنسانية', 15307), ('كشف_تسربات_الحزانات', 15225), ('استخراج', 14991), ('جامعة_الإمام', 14902), ('الامارات', 14883), ('h0mel3nd', 14766), ('سمه', 14742), ('قرض_جديد', 14687), ('لمن', 14685), ('حل_ارتفاع_فاتورة_المياه', 14662), ('قروض', 14661), ('عملاءجميع_البنوك', 14660), ('يرغب', 14660), ('سدادقرضه', 14660), ('متعثرات', 14660), ('أعلي_تمويل', 14660), ('الدرعية', 14617), ('pnu', 14433), ('عليشة', 14405), ('عوازل_مائيه', 14335), ('غسيل_موكيت_سجاد_فرشات', 13919), ('تنظيف_مجلس_كنب_فرشه', 13851), ('غسيل_مجلس_كنب', 13631), ('اليمن', 13485), ('سوريا', 13219), ('تنظيف_شقه_فيلا_بيت', 13123), ('صباح_الخير', 12891), ('فئران', 12563), ('نمل', 12467), ('الاهلي22راتب', 12404), ('مكافحه_بق', 12306), ('كشف_تسربات_المياه_الكتروني', 12200), ('مكافحه_النامس', 12106), ('تقرر_معتمد_لشركة_الميا', 11720), ('شركه_عزل_اسطح', 11647), ('تنظيف', 11599), ('اليوم_الوطني', 11333), ('اقوى_مبيد', 11246), ('جدة', 11053), ('شركة', 11003), ('الكويت', 10998), ('بلدي', 10851), ('عوازل_حراريه', 10621), ('تركيا', 10552), ('adrydrive', 10483), ('توصيل', 10222), ('اليوم_الوطني_السعودي_89', 10123), ('عزل_مائي_حراري', 9932), ('شركه_عزل_خزانات', 9167), ('شركه_عزل_خزانات_بالرياض', 8643), ('مكافحه', 8623), ('تصميم', 8283), ('همة_حتى_القمة', 8147), ('السودان', 7511), ('مناحل_ناصر_الغامدي', 7402), ('شركة_تنظيف_خزانات_بالرياض', 7263), ('طباعة', 7009), ('شركه_عزل_اسطح_بالرياض', 6894), ('تنظيف_مجلس', 6812), ('شركه_كشف_تسربات_المياه', 6772), ('سواق', 6726), ('موريتانيا', 6719), ('تخسيس', 6630), ('مشدات', 6620), ('نحافه', 6620), ('تنظيف_سجاد', 6589), ('منزل_فيلا', 6584), ('عزل', 6507), ('يوم_الجمعه', 6286), ('بنرات', 6226), ('كروت', 6071), ('شخصيه', 6071), ('فواتير', 6069), ('سندات', 6069), ('دقه_بالمواعيد', 6069), ('رجيم', 6047), ('تسديد_قروض', 5830), ('همة_حتى_القمه', 5527), ('عملية_الليزك', 5478), ('غدر_4سبتمبر', 5357), ('الليزك', 5299), ('شركه_غسيل_خزانات', 5281), ('غرف', 5194), ('مجالس', 5136), ('ꮩ̼̐͜͡ꮠ͋͢ꭾ', 5066)]\n"
     ]
    },
    {
     "name": "stdout",
     "output_type": "stream",
     "text": [
      "sa_eg_ae_022020_tweets_csv_hashed/sa_eg_ae_022020_tweets_csv_hashed_03.csv\n",
      "[('الرياض', 43635), ('السودان', 32726), ('قطر', 29774), ('عزل', 28929), ('تسديد', 24208), ('الامارات', 23805), ('كشف_تسربات_المياه', 22081), ('مكافحة_حشرات', 20496), ('السعودية', 20450), ('صراصير', 20292), ('مع_الضمان', 20076), ('شركه_رش_مبيد_بالرياض', 19536), ('شركة_تنظيف_بالرياض', 19131), ('كشف', 18985), ('كشف_تسربات_الحزانات', 16707), ('عوازل_مائيه', 16157), ('تركيا', 15901), ('شركة', 15460), ('تنظيف', 15444), ('سوريا', 15034), ('تنظيف_مجلس_كنب_فرشه', 14867), ('شركة_تنظيف_خزانات_بالرياض', 13197), ('تنظيف_شقه_فيلا_بيت', 13117), ('غسيل_مجلس_كنب', 13068), ('اليمن', 13037), ('غسيل_موكيت_سجاد_فرشات', 12977), ('عوازل_حراريه', 12934), ('بلدي', 12849), ('شركه_عزل_خزانات_بالرياض', 12568), ('شركه_كشف_تسربات_المياه', 12480), ('شركه_غسيل_خزانات', 12382), ('فئران', 12291), ('قروض', 12277), ('مكافحه_النامس', 12267), ('مناحل_عبد_العزيز_العسيري', 12259), ('مكافحه_بق', 12253), ('نمل', 12168), ('شركه_عزل_اسطح_بالرياض', 12143), ('لمن', 12107), ('سمه', 12106), ('يرغب', 12104), ('سدادقرضه', 12104), ('متعثرات', 12104), ('عملاءجميع_البنوك', 12063), ('استخراج', 12063), ('قرض_جديد', 12063), ('أعلي_تمويل', 12063), ('اقوى_مبيد', 11206), ('h0mel3nd', 11151), ('السودان_يستقر', 11085), ('تنظيف_مجلس', 9952), ('صباح_الخير', 9784), ('فحص', 9562), ('ليبيا', 9511), ('الاهلي22راتب', 9447), ('إيران', 9038), ('تخفيضات', 8890), ('تسديد_قروض', 8741), ('الكويت', 8727), ('المغرب', 8599), ('جدة', 8389), ('مناحل_ناصر_الغامدي', 8292), ('البيت_المثالي', 7998), ('تنظيف_سجاد', 7996), ('تصميم', 7982), ('منزل_فيلا', 7876), ('عسل_سدر', 7458), ('الدمام', 7412), ('السودان_تستقر', 7393), ('باخرة_البووح', 7378), ('دبي', 7323), ('ꮩ̼̐͜͡ꮠ͋͢ꭾ', 7263), ('موريتانيا', 7194), ('المشهد_العربي', 7175), ('مصر', 7044), ('توصيل', 6779), ('متخصصون', 6756), ('يوم_الجمعه', 6668), ('عاجل', 6470), ('عروض', 6459), ('3مناحل_عبدالعزيز_العسيري', 6289), ('طباعة', 6275), ('الإمارات', 6268), ('عكاظ', 6251), ('نناضل_لا_نساوم', 6235), ('محمد_بن_زايد', 6138), ('بارقة_امل', 6126), ('بنرات', 6070), ('محمد_بن_سلمان', 6024), ('مناحل_عبدالعزيز_العسيري', 5983), ('عبدالعزيز_العسيري', 5977), ('تسديد_قروض_بنكية', 5948), ('كروت', 5900), ('فواتير', 5884), ('سواق', 5875), ('تخسيس', 5861), ('شخصيه', 5859), ('ايران', 5851), ('سندات', 5846), ('دقه_بالمواعيد', 5844)]\n",
      "sa_eg_ae_022020_tweets_csv_hashed/sa_eg_ae_022020_tweets_csv_hashed_07.csv\n",
      "[('الرياض', 152004), ('تسديد_قروض', 57018), ('الدمام', 53338), ('جده', 35955), ('الخبر', 35869), ('الاهلي', 29351), ('سنابل_السلام', 29284), ('تسديد_القروض', 28434), ('القصيم', 27183), ('السعودية', 25245), ('الطائف', 24722), ('تبوك', 22510), ('سنبل_حياتك', 22153), ('الراجحي', 22103), ('الهلال', 21897), ('بيع_متابعين', 21610), ('الكويت', 20709), ('جدة', 19900), ('رمضان', 19787), ('تنظيف', 19548), ('مكه', 19336), ('السعوديه', 18472), ('عسل', 16962), ('القولون', 16829), ('مكة', 16673), ('العربي', 15990), ('تويتر', 15980), ('عاجل', 15880), ('اعلانات', 15093), ('سامبا', 14999), ('قطر', 14705), ('حائل', 14700), ('تسويق', 14584), ('البلاد', 14577), ('الخرج', 13739), ('ابها', 12946), ('زواج', 12703), ('بريده', 12401), ('جمال', 12285), ('النصر', 12252), ('نشر', 12242), ('رتويت', 12232), ('سناب_شات', 12181), ('تصميم', 11985), ('الانماء', 11595), ('حفرالباطن', 11520), ('عروض', 11430), ('نظافه', 10818), ('مكافحة_حشرات', 10737), ('سناب', 10266), ('زراعة_الشعر', 10203), ('الجوف', 9542), ('رشاقه', 9401), ('نقل_اثاث', 9150), ('رش_مبيد', 9004), ('زحاليق', 8853), ('سبق', 8696), ('مرجيحة', 8683), ('اعلان', 8612), ('جازان', 8205), ('عرعر', 8094), ('نقل', 7928), ('بريدة', 7885), ('الانتفاخات', 7668), ('الجبيل', 7666), ('مراجيح', 7550), ('تخفيضات', 7506), ('مظلات', 7375), ('انستقرام', 7223), ('مكافحة', 7003), ('حفلات', 6839), ('خطوبة', 6796), ('الطايف', 6638), ('عسير', 6606), ('غسيل', 6588), ('القطيف', 6529), ('الغازات', 6497), ('تنحيف', 6492), ('طبيعي', 6479), ('تنظيف_شقه_فيلا', 6440), ('والإنتفاخات', 6301), ('موضه', 6279), ('تخسيس', 6181), ('زراعة_الذقن', 6115), ('جديد', 6099), ('الاتحاد', 5994), ('ماليزيا', 5967), ('تنظيف_مجلس', 5961), ('تسديد', 5960), ('جرثومة', 5929), ('دبي', 5864), ('ملكة', 5827), ('تنظيف_مجالس', 5644), ('تسديد_قروض_بنكية', 5643), ('سنابگ', 5624), ('قرحة', 5590), ('انستقرامگ', 5587), ('تجارتگ', 5578), ('موشن_جرافيك', 5470), ('عرض', 5397)]\n",
      "sa_eg_ae_022020_tweets_csv_hashed/sa_eg_ae_022020_tweets_csv_hashed_06.csv\n",
      "[('الرياض', 99984), ('تسديد_قروض', 43283), ('الدمام', 36729), ('جدة', 21067), ('سناب_شات', 20481), ('الخبر', 20344), ('جده', 19911), ('تبوك', 19822), ('السعودية', 19781), ('تسديد_القروض', 18817), ('الهلال', 18351), ('تصحيح_نظر', 17905), ('الاهلي', 16882), ('الطائف', 16109), ('القصيم', 16100), ('سنابل_السلام', 15430), ('عروض', 14577), ('مكه', 14435), ('تنظيف', 14353), ('عسل', 14169), ('الليزك', 14068), ('الانتراليز', 13991), ('السعوديه', 13556), ('شركة_تنظيف_بالرياض', 12900), ('ابها', 12809), ('الكويت', 12516), ('متعب_الشعيبي', 12409), ('النصر', 11997), ('بيع_متابعين', 10831), ('تويتر', 10807), ('تنحيف', 10716), ('الخرج', 10499), ('حائل', 9611), ('تحت_الحزام', 9606), ('تاملات', 9392), ('الراجحي', 9281), ('قطر', 9272), ('تنظيف_مجلس_كنب_فرشه', 9232), ('البيت_السياسي', 8673), ('حفرالباطن', 8659), ('كشف', 8563), ('مكة', 8559), ('جمال', 8496), ('تسديد_قروض_بنكية', 8443), ('مكافحة_حشرات', 8270), ('شركة', 7978), ('عزل', 7727), ('تنظيف_شقه_فيلا_بيت', 7706), ('سوريا', 7682), ('عاجل', 7607), ('مطابخ', 7569), ('جازان', 7513), ('مظلات', 7501), ('تصحيح_النظر', 7499), ('انستقرام', 7484), ('مصر', 7391), ('الاتحاد', 7391), ('الحدث_حصري', 7388), ('رشاقه', 7289), ('الشحن', 7221), ('غسيل_موكيت_سجاد_فرشات', 7220), ('يوم_الجمعه', 7219), ('تسديد', 7201), ('محايل', 7060), ('اعلانات', 7047), ('دورة', 6970), ('رولكس', 6862), ('رمضان', 6663), ('نشر', 6643), ('بنات', 6568), ('القطيف', 6524), ('تاملات_تويت', 6411), ('تجميل', 6311), ('عوازل', 6284), ('تصويت', 6243), ('ريتشارد_ميل', 6194), ('الرياض_الآن', 6180), ('الامارات', 6151), ('نساء', 6113), ('عسل_سدر', 6077), ('الدمام_الآن', 5975), ('القادسيه', 5965), ('صباح_الخير', 5955), ('تنومه', 5810), ('فرزاتشي', 5798), ('كارتير', 5756), ('رتويت', 5709), ('اعلاناتك', 5675), ('عرعر', 5650), ('منتجاتك', 5646), ('سامبا', 5640), ('لايكات', 5629), ('الاتفاق', 5619), ('تغريدتك', 5615), ('إذا', 5586), ('صلوا_علي_النبي', 5552), ('سونا', 5480), ('اوديمار', 5376), ('هناجر', 5121), ('تحت_الميكرسكوب', 5120)]\n",
      "sa_eg_ae_022020_tweets_csv_hashed/sa_eg_ae_022020_tweets_csv_hashed_10.csv\n",
      "[('زواج', 181330), ('محبة', 179914), ('السعودية', 120896), ('الرياض', 66704), ('سوريا', 48605), ('مصر', 27493), ('مغرد_بذكر_الله', 19741), ('رتويت', 18306), ('سناب_شات', 17773), ('الامارات', 17277), ('المغرب', 15932), ('الطائرة_الماليزية', 15144), ('اعلانات', 14433), ('الكويت', 14277), ('الهلال', 13836), ('اخوان_سوريا', 11338), ('ريتويت', 11267), ('جدة', 10167), ('ألمانيا', 9487), ('اليمن', 8759), ('اعلان', 8716), ('eostudy', 8659), ('الاهلي', 8640), ('عاجل', 8503), ('تسويق', 8479), ('داعش', 8423), ('الاسد', 7973), ('غرد_بصورة', 7779), ('تطبيق_قرآنى', 7607), ('دبي', 7349), ('حلب', 7190), ('درعا', 7087), ('تبادل_رتويت', 7070), ('قطر', 6859), ('quran', 6733), ('سناب', 6560), ('فندق_اوبير', 6469), ('ريف_دمشق', 6393), ('الاردن', 6118), ('كنز_المسلم', 6092), ('غرد_بذكر_الله', 5787), ('الدمام', 5470), ('النصر', 5388), ('البحرين', 5190), ('حقيقة', 4924), ('بوح', 4914), ('فلسطين', 4886), ('تابعني_اتابعك', 4848), ('عروض', 4846), ('دمشق', 4786), ('فيديو', 4744), ('تركيا', 4719), ('العربي', 4695), ('تويتر', 4657), ('الراجحي', 4475), ('عاصفة_الحزم', 4376), ('germany', 4330), ('ff', 4298), ('بيع_متابعين', 4277), ('لبنان', 4200), ('الاخوان_المسلمين', 4188), ('ارقام_مميزة', 4131), ('syria', 4095), ('الاخوان', 4069), ('ليبيا', 4066), ('سنابل_السلام', 4031), ('ﷺ', 4019), ('صورة', 4002), ('تسديد', 3907), ('سنبل_حياتك', 3884), ('تايمزفايف', 3840), ('الاتحاد', 3725), ('دورة', 3681), ('تسديد_قروض', 3656), ('ايفون6', 3608), ('arabs', 3580), ('مكة', 3559), ('الأسد', 3547), ('الأهلي', 3520), ('شعارات', 3519), ('شعر', 3514), ('قرآن', 3508), ('صباح_الخير', 3499), ('عقارات', 3451), ('تونس', 3388), ('الخبر', 3361), ('سامبا', 3344), ('وردة_المساء_للحفلات', 3341), ('شام', 3148), ('رمضان', 3105), ('نشر', 3096), ('البلاد', 3080), ('دعم', 3074), ('صحة', 3070), ('محمد_الشهواني', 3069), ('ختم', 3004), ('لوحة', 2988), ('ورق', 2983), ('سند', 2981), ('بزنس', 2966)]\n",
      "sa_eg_ae_022020_tweets_csv_hashed/sa_eg_ae_022020_tweets_csv_hashed_04.csv\n"
     ]
    },
    {
     "name": "stdout",
     "output_type": "stream",
     "text": [
      "[('الرياض', 68386), ('تسديد_قروض', 37899), ('رمضان', 37716), ('تسديد', 29635), ('شركة', 27449), ('شركة_تنظيف_بالرياض', 25710), ('قروض', 20129), ('سمه', 18965), ('الانتراليز', 18870), ('عوازل_مائيه', 18534), ('h0mel3nd', 17890), ('السعودية', 17750), ('كشف_تسربات_المياة_بدون_تكسير', 16890), ('تسديد_قروض_بنكية', 15853), ('شركه_رش_مبيد_بالرياض', 15450), ('استخراج', 14894), ('تنظيف', 14710), ('عملاءجميع_البنوك', 14524), ('لمن', 14524), ('يرغب', 14524), ('سدادقرضه', 14524), ('متعثرات', 14524), ('قرض_جديد', 14524), ('أعلي_تمويل', 14524), ('كشف_تسربات_الحزانات_وعزلها', 14424), ('مكافحة_حشرات', 13764), ('تصميم', 13563), ('تنظيف_مجلس_كنب_فرشه', 13051), ('كشف_تسربات_الحمامات', 12911), ('مع_الضمان', 12878), ('صراصير', 12693), ('الليزك', 12412), ('جدة', 12035), ('عروض', 12029), ('الاهلي22راتب', 11985), ('سوريا', 11197), ('تصحيح_نظر', 10601), ('سداد_قروض', 10419), ('صباح_الخير', 10346), ('حل_ارتفاع_فواتير_المياة', 10194), ('طباعة', 9910), ('سداد_متعثرات_سمه', 9705), ('أجهزة', 9600), ('بلدي', 9561), ('اعلانات', 9387), ('يوم_الجمعه', 9280), ('مناحل_مهنا_الثبيتي', 9159), ('كشف_تهريب_الميا', 9119), ('تسديد_القروض', 9082), ('تخفيضات', 8981), ('غسيل_موكيت_سجاد_فرشات', 8889), ('توصيل', 8858), ('تنظيف_شقه_فيلا_بيت', 8835), ('غسيل_مجلس_كنب', 8819), ('متعب_الشعيبي', 8766), ('مناحل_عبدالعزيز_العسيري', 8765), ('تخسيس', 8667), ('نجران_الآن', 8568), ('بنرات', 8523), ('رجيم', 8505), ('سواق', 8475), ('كروت', 8425), ('شخصيه', 8414), ('فواتير', 8414), ('سندات', 8414), ('دقه_بالمواعيد', 8414), ('مشدات', 8414), ('نحافه', 8414), ('عسل', 8211), ('جامعة_الملك_سعود', 8129), ('الدرعية', 8068), ('جامعة_الأميرة_نورة', 8060), ('الملعب_الاخضر', 8021), ('بووح_السهارى', 8009), ('pnu', 7918), ('عليشة', 7902), ('مناحل_عبد_العزيز_العسيري', 7817), ('البيت_المثالي', 7773), ('مجالس', 7625), ('جامعة_الإمام', 7618), ('نمل', 7610), ('عزل', 7583), ('فئران', 7576), ('مكافحه_بق', 7526), ('تويتر', 7482), ('مكافحه_النامس', 7407), ('عوازل_حراريه', 7248), ('الامارات', 7015), ('شركة_تنظيف_خزانات_بالرياض', 6985), ('باخرة_البووح', 6741), ('الراجحي', 6721), ('رمضان_كريم', 6673), ('اقوى_مبيد', 6531), ('سداد', 6346), ('مهندس_ديكور', 6314), ('بنك_الراجحي', 6205), ('عبدالعزيز_العسيري', 6060), ('سداد_القروض_القديم', 5995), ('قطر', 5842), ('غرف_نوم', 5815)]\n",
      "sa_eg_ae_022020_tweets_csv_hashed/sa_eg_ae_022020_tweets_csv_hashed_05.csv\n",
      "[('الرياض', 58198), ('تسديد_قروض', 47272), ('سناب', 26812), ('ساعات', 25254), ('السعودية', 23853), ('شركة', 21777), ('رولكس', 20593), ('شركة_تنظيف_بالرياض', 19760), ('كارتير', 19654), ('ريتشارد_ميل', 19165), ('عزل', 18171), ('تصحيح_نظر', 18069), ('اوديمار', 17778), ('تسديد_قروض_بنكية', 17008), ('سناب_شات', 16923), ('فرزاتشي', 16916), ('هوبلو', 16317), ('تنظيف', 15909), ('عروض', 15876), ('كشف_تسربات_الحمامات', 15675), ('صباح_الخير', 15533), ('تسديد_القروض', 15044), ('سداد_قروض', 14739), ('تنظيف_مجلس_كنب_فرشه', 14365), ('الانتراليز', 14284), ('الليزك', 13741), ('كشف_تسربات_الخزانات', 13365), ('تصحيح_النظر', 13103), ('قوافل_الرشد_للنقل', 13077), ('متعب_الشعيبي', 12945), ('الاهلي', 12927), ('ماركات', 11042), ('الراجحي', 11017), ('جدة', 11004), ('رادو', 10999), ('شركه_رش_مبيد_بالرياض', 10821), ('كشف_تسربات_المياه_بدون_تكسير', 10787), ('هوبلت', 10750), ('ريتشارد', 10741), ('دورة', 10510), ('ساعه', 10327), ('مكافحة_حشرات', 10282), ('مناحل_عبدالعزيز_العسيري', 10012), ('اعلانات', 9961), ('مكه', 9769), ('مساء_الخير', 9662), ('جده', 9572), ('حل_ارتفاع_فواتير_المياة', 9376), ('ديور', 9351), ('الخرج', 9006), ('غسيل_موكيت_سجاد_فرشات', 8808), ('تنظيف_شقه_فيلا_بيت', 8669), ('يوم_الجمعه', 8347), ('سداد_القروض', 8296), ('غسيل_خزانات', 8154), ('مع_الضمان', 8112), ('عوازل_مائيه', 8100), ('غسيل_مجلس_كنب', 8095), ('صراصير', 7982), ('كشف_تسربات_الاسطح', 7949), ('مناحل_ابو_سلطان', 7849), ('تصميم', 7843), ('ماركة', 7783), ('نظافه_خزانات', 7451), ('سداد_متعثرات_سمه', 7335), ('تنظيف_خزانات', 7141), ('الدمام', 7025), ('مطبعة_أول_طبعة', 6941), ('مناحل_عبد_العزيز_العسيري', 6901), ('تنظيف_شقه_فيلا_منزل_مطبخ', 6757), ('مطابخ', 6734), ('الكويت', 6681), ('بنك_الراجحي', 6604), ('بنات', 6567), ('خدمات', 6556), ('عزل_اسطح_مع_الضمان', 6519), ('تبوك', 6460), ('الهلال', 6375), ('رشاقه', 6304), ('h0mel3nd', 6116), ('مكافحه_بق', 5974), ('باخرة_البووح', 5971), ('3مناحل_عبدالعزيز_العسيري', 5960), ('عزل_فوم_حراري_مائي', 5957), ('الجنوب', 5950), ('بووح_السهارى', 5949), ('عسل', 5923), ('فئران', 5902), ('قطر', 5879), ('تويتر', 5873), ('مكافحه_النامس', 5772), ('نمل', 5737), ('أجهزة', 5701), ('سدادمتعثرات', 5647), ('مناحل_بن_مسفر', 5490), ('سوريا', 5488), ('عبدالعزيز_العسيري', 5477), ('غسيل_موكيت_بالرياض', 5350), ('صباح_الخميس', 5328), ('عسكريين', 5310)]\n",
      "egypt_022020_tweets_csv_hashed.csv\n",
      "[('اليمن_العربي', 153658), ('سميرة_سعيد', 142544), ('عاجل', 102489), ('ﷺ', 92292), ('تنظيم_الحمدين', 82170), ('hadith', 79588), ('قطر_تمول_الإرهاب', 77049), ('quran', 70425), ('محمد_شاهين', 70341), ('قطر_تدعم_الإرهاب', 67362), ('الدستور', 60183), ('مصر', 57057), ('قطر', 52146), ('انتفاضه_الشعب_الايراني', 43232), ('المشهد_العربي', 41570), ('نشر_سيرته', 39099), ('السعودية', 36309), ('إيران', 35119), ('اليمن', 33594), ('السيسي', 32475), ('بلدنا_اليوم', 32050), ('الإمارات', 30608), ('الفجر', 27079), ('جبهة_شعب_مصر', 26581), ('جريدة_الزمان', 26086), ('mohammadchahine', 22049), ('فيديو', 21362), ('ايران', 21101), ('الكويت', 19949), ('الامارات', 18877), ('مظاهرات_إيران', 18782), ('تركيا', 18352), ('تظاهرات_سراسرى', 16279), ('iran', 15707), ('صدى_البلد', 15056), ('اليوم_الوطني_الاماراتي_في_لوفر_باريس', 14960), ('قروب_حنان_للدعم', 14698), ('ليبيا', 14580), ('سوريا', 13414), ('iranelections2017', 12978), ('تويت_حديث', 12639), ('عدن', 12602), ('uae_national_day_celebrations_louvre_paris', 12473), ('الرياض', 12226), ('مشاهير', 12177), ('البلد', 12163), ('رمضان', 11876), ('صورة', 11625), ('المشهد_اليمني', 11587), ('كفى_يا_قطر', 11419), ('ليبيا_تتطهر', 11298), ('قطر_تعبث_بأمن_الصومال', 11265), ('المغرب', 11134), ('samirasaid', 11088), ('السودان', 10968), ('طوفان_الكرامة', 10903), ('qatartamperswithsomaliassecurity', 10880), ('أذكار_الصباح_والمساء', 10675), ('روتانا', 10663), ('القاهرة', 10422), ('المساعدات_الاماراتيه_فاليمن', 10287), ('الأهلي', 10041), ('شاهد', 9984), ('طهران', 9884), ('الزمالك', 9765), ('قطر_خيانة_وتطرف', 9628), ('الجيش_الوطني_الليبي', 9604), ('elfagrnews', 9389), ('اليوم_الوطني46', 9129), ('طرابلس', 9079), ('ماذا_قدمت_الإمارات_لليمن', 8662), ('مشاريع_مصر', 8460), ('جريدة_الفجر', 8255), ('الإخوان', 8178), ('فن', 8061), ('صنعاء', 8049), ('داعش', 7673), ('دعاء', 7567), ('لماذا_ياقطر', 7490), ('دبي', 7449), ('افضل_ابيات_القصيد_', 7421), ('uaenationalday', 7202), ('محمد_صلاح', 7118), ('ترامب', 6995), ('الإسلام_السياسي_في_أوروبا', 6967), ('قولوا_ل_قطر', 6957), ('الديفا', 6871), ('أذكار_الصباح_و_المساء', 6794), ('ادلة_جديدة_لدعم_قطر_للإرهاب', 6751), ('قطر_راعية_الإرهاب', 6674), ('سميره_سعيد', 6673), ('صباح_الخير', 6546), ('thirdterroristlist', 6465), ('تميم', 6449), ('محمد_بن_زايد', 6440), ('الحوثي', 6432), ('اليوم_الوطني', 6412), ('أردوغان', 6399), ('qatarbloodmoney', 6399), ('أبوظبي_الاستراتيجي_2017', 6355)]\n",
      "honduras_022020_tweets_csv_hashed.csv\n",
      "[('lanuevahonduras', 28190), ('hondurasavanza', 20444), ('honduras', 19541), ('vidamejor', 13977), ('noticiastnh', 8025), ('rostrosdebarrio', 7460), ('sps', 5811), ('siguemeytesigo', 4699), ('navidadcatracha', 4434), ('manosalaobra', 4385), ('yoapoyoelsihcic', 3499), ('deportestnh', 3475), ('hondurasactívate', 3274), ('teapoyamosjoh', 3107), ('vivajoh', 3000), ('hondurasactivate', 2875), ('aliviodedeuda', 2846), ('parquevidamejor', 2534), ('rt', 2221), ('quecooleshonduras', 2174), ('eeuu', 2058), ('tnhcanal8', 1997), ('copapresidente', 1864), ('callejapresidente', 1833), ('noticiasrnh', 1792), ('hondurasestácambiando', 1651), ('espectaculos', 1596), ('dialogonacional', 1580), ('tegucigalpa', 1574), ('adelantejoh', 1573), ('tnh', 1423), ('salud', 1385), ('titularestnh', 1381), ('washington', 1346), ('honduras2020', 1323), ('banaton', 1318), ('fuerajoh', 1315), ('hondurasresiste', 1297), ('qhubotv', 1293), ('ahora', 1271), ('viajandoporhonduras', 1245), ('intertnh', 1222), ('delcampoalamesa', 1216), ('choluteca', 1176), ('fiestaspatrias2019', 1154), ('comayagua', 1112), ('pnh', 1081), ('obradeldía', 1076), ('hondurasunida', 1075), ('hondurasteespera', 1069), ('semanamorazánica', 1064), ('planetameme', 1062), ('rnh', 1048), ('créditosolidario', 1041), ('far', 1021), ('mundo', 1018), ('vivahonduras', 1013), ('operaciónespecial', 1003), ('bts', 990), ('hondurasenlaonu', 978), ('tecnología', 955), ('hondurasentuits', 928), ('hondurascanta', 925), ('video', 919), ('followbackseguro', 916), ('venezuela', 913), ('latribunahn', 911), ('fiestaspatrias2015', 883), ('feriadomorazánico', 863), ('obras', 835), ('nayibmiente', 819), ('halamadrid', 811), ('zz', 811), ('hondurasbrilla', 788), ('4añosmas', 785), ('carcelparaviolador', 779), ('caigaquiencaiga', 751), ('tgu', 746), ('sanpedrosula', 740), ('forotnh', 731), ('fav', 727), ('teamfollowback', 719), ('copeco', 718), ('elsueñodeserdueño', 717), ('msps', 717), ('giraasiajoh', 711), ('notas', 710), ('rusia2018', 702), ('fiestaspatrias2018', 700), ('adnazul', 697), ('lempira', 693), ('olancho', 688), ('recreovias', 687), ('marcahonduras', 678), ('banaton2015', 657), ('tuitutil', 650), ('laceiba', 641), ('hondurasestacambiando', 641), ('estamoslistos', 631), ('deportes', 628)]\n"
     ]
    },
    {
     "name": "stdout",
     "output_type": "stream",
     "text": [
      "indonesia_022020_users_csv_hashed.csv\n",
      "No hashtags, users only\n",
      "None\n",
      "serbia_022020_tweets_csv_hashed/serbia_022020_tweets_csv_hashed_08.csv\n",
      "[('vucic', 177110), ('brzejacebolje', 141550), ('buducnostsrbije', 70255), ('kzn', 20793), ('srbija', 19571), ('ким', 13270), ('cirilica', 12781), ('upitnik', 12411), ('novisad', 10948), ('intervju', 9426), ('pink', 9253), ('1od5miliona', 8948), ('putin', 7257), ('serbia', 7178), ('damozdane', 6725), ('rusija', 6096), ('wefdavos', 5248), ('msc', 4991), ('vranje', 4902), ('wef2019', 4688), ('budućnostsrbije', 4538), ('rts', 4049), ('minhen', 4010), ('sabac', 3953), ('nature', 3736), ('msc2019', 3706), ('travel', 3701), ('infoportal025', 3603), ('pancevo', 3269), ('zenenisukurve', 3244), ('beograd', 3196), ('photo', 3167), ('najava', 3021), ('belgrade', 2768), ('vrsac', 2726), ('kontravizija', 2664), ('koridor10', 2286), ('rtsvesti', 2224), ('trgoviste', 2199), ('белград', 2192), ('loznica', 2137), ('ncr', 1931), ('vojvodina', 1695), ('bujanovac', 1656), ('protest', 1573), ('дачић', 1498), ('eu', 1464), ('nadanasnjidan', 1371), ('belacrkva', 1348), ('snsinformator', 1338), ('wef19', 1338), ('grdelica', 1284), ('aleksinac', 1274), ('ppps', 1248), ('weremember', 1218), ('holocaust', 1211), ('sns', 1116), ('8од5милиона', 1105), ('bezizgovora', 1057), ('grocka', 1024), ('1od300miliona', 999), ('весић', 995), ('ausopen', 967), ('bogatic', 937), ('manastir', 925), ('skupstina', 861), ('ohionationalguard', 861), ('surdulica', 789), ('winter', 775), ('republicofserbia', 773), ('opozicija', 712), ('russia', 650), ('pravdars', 645), ('statehood', 645), ('congratulations', 643), ('vladicinhan', 630), ('buducnostsrbija', 614), ('leskovac', 561), ('ćirilica', 529), ('fkcz', 514), ('szs', 506), ('koceljeva', 495), ('vučić', 495), ('počeloje', 474), ('photography', 467), ('kuburovic', 465), ('globalatlanta', 464), ('zima', 459), ('weather', 450), ('1od5milliona', 449), ('flowers', 420), ('art', 408), ('france', 398), ('backa', 395), ('rts1', 394), ('buducnostisrbije', 372), ('pančevo', 364), ('priroda', 361), ('tara', 360), ('panorama', 359)]\n",
      "serbia_022020_tweets_csv_hashed/serbia_022020_tweets_csv_hashed_09.csv\n",
      "[('vucic', 162153), ('brzejacebolje', 107144), ('pink', 69965), ('upitnik', 17772), ('rts', 14356), ('ким', 14156), ('srbija', 11548), ('prvatema', 9384), ('intervju', 8650), ('damozdane', 7211), ('dnevnik', 6833), ('insajderdebata', 6281), ('kzn', 6037), ('infoportal025', 5694), ('1od5miliona', 5417), ('panorama', 5339), ('okointervju', 5328), ('sbun', 4940), ('najava', 4815), ('zvecanska', 4553), ('kontravizija', 4377), ('kragujevac', 4351), ('nature', 3883), ('travel', 3578), ('vranje', 3501), ('trstenik', 3227), ('photo', 3007), ('sns', 2931), ('ртс1', 2829), ('vojvodina', 2811), ('leskovac', 2597), ('guca', 2546), ('snsinformator', 2419), ('novisad', 2384), ('un', 2326), ('beograd', 2303), ('serbia', 2201), ('сбун', 1928), ('poceloje', 1783), ('kuburovic', 1634), ('nadanasnjidan', 1493), ('селаковић', 1470), ('okoekonomije', 1417), ('protest', 1385), ('kim', 1331), ('србијаствара', 1289), ('дачић', 1284), ('петковић', 1238), ('ртс', 1228), ('pravdars', 1202), ('lucani', 1137), ('reagovanje', 1106), ('весић', 1030), ('dodik', 934), ('еу', 929), ('rts1', 927), ('кфор', 890), ('vidisrbiju', 887), ('guvernernbs', 886), ('приштина', 878), ('nis', 842), ('photography', 820), ('козарев', 767), ('rtsvesti', 756), ('winter', 745), ('снс', 742), ('kopaonik', 728), ('serbiacreates', 725), ('пинк', 711), ('opozicija', 709), ('fkcz', 671), ('food', 664), ('foodforchange', 652), ('foodforthesoul', 652), ('foodies', 602), ('pravosudje', 588), ('tvpink', 585), ('art', 565), ('vučić', 557), ('seeserbia', 534), ('tara', 512), ('davordragicevic', 490), ('uovomtrenutku', 489), ('kosovo', 468), ('guča', 466), ('titel', 459), ('priroda', 452), ('backa', 451), ('lučani', 447), ('studiob', 443), ('foodblog', 427), ('portugal', 419), ('snow', 418), ('zvečanska', 404), ('banjaluka', 403), ('vojskasrbije', 398), ('skupstina', 395), ('sunset', 392), ('cascais', 391), ('tribina', 390)]\n",
      "serbia_022020_tweets_csv_hashed/serbia_022020_tweets_csv_hashed_02.csv\n",
      "[('vucic', 118090), ('srbija', 108123), ('sns', 27467), ('najava', 18156), ('novisad', 11702), ('ким', 11440), ('aleksandarvučić', 10924), ('digitalnabuducnostsrbije', 10250), ('serbia', 9632), ('upitnik', 9163), ('aleksandarvucic', 8677), ('11godinasns', 8631), ('rusija', 8116), ('šabac', 7983), ('nature', 7918), ('politika', 7877), ('brzejacebolje', 7672), ('ebrdwb', 6281), ('dragandjilas', 6056), ('goranvesic', 5912), ('koridor10', 5442), ('pink', 5081), ('србија', 5071), ('francuska', 4903), ('hittvit', 4723), ('kosovo', 4252), ('prvatv', 4104), ('medvedev', 4031), ('djilas', 3832), ('beograd', 3807), ('vukjeremic', 3590), ('podrska', 3351), ('travel', 3219), ('brisel', 3160), ('photography', 3158), ('westernbalkans', 3136), ('iri', 3117), ('internationalrepublicaninstitute', 3116), ('24casa', 3094), ('nadanasnjidan', 2953), ('kina', 2904), ('nebojsastefanovic', 2881), ('markodjuric', 2862), ('cirilica', 2804), ('fkcz', 2779), ('savacentar', 2740), ('ohrid', 2618), ('art', 2603), ('srb', 2600), ('acalukas', 2569), ('anabrnabic', 2531), ('boskoobradovic', 2408), ('vranje', 2317), ('kim', 2281), ('severnamakedonija', 2250), ('snsinformator', 1935), ('pariz', 1932), ('zeneva', 1872), ('photo', 1869), ('sloboda2019', 1848), ('infoportal025', 1789), ('снс', 1788), ('beltandroad', 1756), ('budućnostsrbije', 1640), ('eu', 1622), ('narodnastranka', 1578), ('guvernernbs', 1519), ('1od5miliona', 1458), ('stopnasilju', 1448), ('avucic', 1427), ('tokyo', 1407), ('pravdars', 1396), ('palmer', 1383), ('vesti', 1379), ('markobastac', 1374), ('belgrade', 1374), ('vojvodina', 1346), ('sigurnakuca', 1339), ('knjiga', 1317), ('federikamogerini', 1293), ('bruselas', 1268), ('evropa', 1219), ('brankomiljus', 1217), ('paljenjeknjige', 1217), ('organizacija', 1217), ('ekskluzivnivideo', 1217), ('nelakuburovic', 1200), ('trudnice', 1200), ('ciie', 1157), ('serbian', 1148), ('nakučani', 1117), ('photos', 1106), ('draganjvucicevic', 1093), ('посетасрбија', 1092), ('auto', 1081), ('folksvagen', 1075), ('obradovic', 1069), ('vučić', 1068), ('provokacija', 1066), ('irenavujovic', 1052)]\n",
      "serbia_022020_tweets_csv_hashed/serbia_022020_tweets_csv_hashed_03.csv\n",
      "[('vucic', 137371), ('srbija', 92194), ('ким', 25862), ('brzejacebolje', 22756), ('hittvit', 12703), ('sns', 11836), ('srpskalista', 10203), ('drvar', 9706), ('serbia', 9110), ('digitalnabudućnostsrbije', 8494), ('begej2019', 8018), ('najava', 6748), ('turska', 6689), ('nature', 6621), ('beograd', 6257), ('1od5miliona', 5856), ('novisad', 5735), ('njujork', 5384), ('dodik', 5031), ('buducnostsrbije', 3908), ('srpska', 3265), ('nikinci', 2966), ('cancillergt', 2927), ('unga', 2866), ('travel', 2778), ('dansecanja', 2684), ('digitalizacija', 2662), ('rtsvesti', 2642), ('digitalnabuducnostsrbije', 2592), ('eurovolleym', 2371), ('leskovac', 2353), ('šabac', 2295), ('bojkot', 2244), ('infoportal025', 2110), ('ipu141', 2104), ('novojutro', 2050), ('fkcz', 2020), ('kim', 2010), ('kosovo', 1995), ('promocijakadeta', 1971), ('pranjani', 1891), ('savezzasrb', 1880), ('russia', 1855), ('nadanasnjidan', 1844), ('lavrov', 1830), ('un', 1828), ('titel', 1808), ('blace', 1793), ('povratak2019', 1783), ('belgrade', 1701), ('photo', 1697), ('photography', 1690), ('gradimi', 1664), ('dandavanja', 1605), ('art', 1600), ('prag', 1585), ('vatikan', 1579), ('luxembourg', 1512), ('westernbalkans', 1507), ('sremskaraca', 1503), ('pobeda', 1492), ('србија', 1476), ('unesco', 1437), ('pink', 1436), ('snsinformator', 1383), ('aleksandarvučić', 1363), ('vučić', 1324), ('budimpesta', 1282), ('medvedja', 1230), ('онокад', 1148), ('demokrate', 1122), ('rektorat', 1039), ('narodnastranka', 1036), ('sigma', 1032), ('guvernernbs', 1027), ('vojvodina', 1007), ('savacentar', 999), ('pljakovo', 966), ('erdogan', 966), ('v4', 903), ('fibawc', 871), ('pressing', 859), ('bojkt', 859), ('berlin', 850), ('djilas', 837), ('kursumlija', 830), ('kragujevac', 767), ('kovin', 764), ('photos', 755), ('upitnik', 752), ('jeremić', 750), ('kим', 737), ('cukarica', 720), ('снс', 718), ('givingday', 703), ('belgradepride', 685), ('volleyball', 681), ('saveznici', 679), ('grahovo', 613), ('ceveurovolleym', 611)]\n"
     ]
    },
    {
     "name": "stdout",
     "output_type": "stream",
     "text": [
      "serbia_022020_tweets_csv_hashed/serbia_022020_tweets_csv_hashed_01.csv\n",
      "[('vucic', 114553), ('srbija', 82293), ('sns', 41178), ('najava', 16671), ('hittvit', 12891), ('novisad', 11528), ('nature', 10552), ('ким', 9791), ('srbija2025', 7521), ('serbia', 6560), ('travel', 6279), ('rusija', 6088), ('atpcup', 5749), ('teamserbia', 5340), ('brzejacebolje', 5204), ('grcka', 4605), ('photo', 3761), ('unitedinmemory75', 3747), ('stav', 3503), ('photography', 3403), ('fkcz', 3221), ('srbiju', 3027), ('turskitok', 2886), ('mladi', 2880), ('art', 2738), ('davos2020', 2672), ('photos', 2665), ('wef2020', 2663), ('israel', 2614), ('digitalnabuducnostsrbije', 2556), ('сочи', 2528), ('snsinformator', 2527), ('upitnik', 2517), ('milosveliki', 2456), ('sombor', 2251), ('worldminds', 2240), ('moravskikoridor', 2179), ('belorusija', 2162), ('aleksandarvucic', 2128), ('снс', 2090), ('1od5miliona', 2076), ('nadanasnjidan', 2060), ('beograd', 2006), ('sochi', 1996), ('infoportal025', 1937), ('онокад', 1876), ('obrenovac', 1832), ('tirana', 1777), ('turkstream', 1735), ('turska', 1711), ('puklisu', 1705), ('стамбул', 1687), ('vojvodina', 1660), ('aleksandarvučić', 1601), ('türkakım', 1554), ('buducnostsrbije', 1511), ('subotica', 1447), ('divcibare', 1444), ('davos', 1444), ('kontravizija', 1427), ('србија', 1383), ('prvatv', 1379), ('frusketerme', 1341), ('italy', 1321), ('putin', 1168), ('vrbas', 1166), ('нају', 1141), ('becej', 1132), ('culturalheritage', 1128), ('sid', 1079), ('pecinci', 1073), ('rtsvesti', 1056), ('rts', 1041), ('dragandjilas', 1035), ('winter', 1019), ('traveltuesday', 993), ('batajnica', 958), ('buducnostsrbijeav', 950), ('savezzasrb', 927), ('titel', 910), ('oko', 907), ('srbiја2025', 889), ('kkpartizan', 878), ('kkcz', 876), ('plandiste', 848), ('travelling', 843), ('bac', 828), ('flowers', 805), ('traveling', 796), ('germany', 793), ('belacrkva', 782), ('kovacica', 776), ('backapalanka', 765), ('temerin', 759), ('bojkot', 756), ('smederevskapalanka', 721), ('nutanix', 690), ('startulegalno2020', 680), ('грчка', 674), ('weather', 673)]\n",
      "serbia_022020_tweets_csv_hashed/serbia_022020_tweets_csv_hashed_10.csv\n",
      "[('vucic', 164216), ('brzejacebolje', 104769), ('pink', 89748), ('srbija', 16171), ('ким', 15287), ('cirilica', 14004), ('okospecijal', 13246), ('rts', 11214), ('novisad', 10432), ('vekpobednika', 10227), ('10godinasns', 9445), ('kontravizija', 8429), ('sns', 7530), ('infoportal025', 7465), ('upitnik', 6456), ('vojvodina', 5766), ('najava', 5680), ('serbia', 5624), ('pariz', 4760), ('istanbul', 4598), ('kula', 3453), ('kraljevo', 3425), ('rts1', 3299), ('2ndintergovernmentalsummit', 3189), ('kim', 3013), ('panorama', 2971), ('дачић', 2679), ('varna', 2636), ('kzn', 2555), ('nature', 2427), ('cyprus', 2310), ('belgrad', 2309), ('travel', 2295), ('interpol', 2211), ('rtsvesti', 2152), ('brisel', 2089), ('skupstina', 1903), ('nadanasnjidan', 1881), ('photo', 1632), ('snsinformator', 1366), ('fkcz', 1245), ('epphelsinki', 1187), ('петковић', 1180), ('paris', 1149), ('greece', 1123), ('bulgaria', 1098), ('romania', 1095), ('22ottobre', 1059), ('hayallerdönergerçeğe', 1039), ('prva', 1036), ('dodik', 1036), ('ун', 995), ('eu', 971), ('vojskasrbije', 970), ('srpska', 960), ('zrenjanin', 951), ('serbien', 927), ('kuburovic', 925), ('priboj', 905), ('opštinapriboj', 896), ('snspriboj', 819), ('pravdars', 798), ('pressekonferenz', 784), ('beograd', 756), ('nis', 754), ('velikapobeda', 682), ('kikinda', 663), ('κύπρος', 649), ('σερβία', 649), ('ртс1', 646), ('sid', 644), ('љајић', 582), ('11novembre', 547), ('autumn', 531), ('nittoatpfinals', 455), ('rtvojvodine', 454), ('ђурић', 446), ('tvpink', 425), ('ucl', 423), ('breaktheghetto', 416), ('backa', 396), ('likelife', 386), ('ćirilica', 378), ('rt', 378), ('food', 372), ('лончар', 370), ('koreni', 369), ('вучић', 368), ('onokad', 365), ('nordiccountriesweek', 365), ('weather', 362), ('foodforchange', 350), ('foodforthesoul', 350), ('jesen', 349), ('дрецун', 346), ('kragujevac', 337), ('rvipvo', 336), ('rusija', 331), ('istambul', 328), ('blic', 323)]\n",
      "serbia_022020_tweets_csv_hashed/serbia_022020_tweets_csv_hashed_04.csv\n",
      "[('vucic', 118289), ('srbija', 43951), ('brzejacebolje', 23530), ('pink', 23063), ('ким', 10819), ('najava', 8863), ('milosveliki', 8592), ('novisad', 7335), ('nature', 6587), ('oluja', 6545), ('travel', 6163), ('dansecanja', 5553), ('1od5miliona', 5461), ('makron', 5294), ('francuska', 5264), ('prvatv', 4929), ('njujork', 4896), ('serbia', 4175), ('photo', 3903), ('србија', 3899), ('rtsvesti', 3650), ('fkcz', 3318), ('trgrepublike', 3317), ('holandija', 3069), ('hittvit', 2929), ('snsinformator', 2691), ('ljig', 2586), ('nadanasnjidan', 2427), ('градоначелник', 2355), ('smederevo', 2303), ('кикинда', 2188), ('infoportal025', 2175), ('vučić', 1915), ('nis', 1738), ('sns', 1733), ('šabac', 1710), ('art', 1615), ('photos', 1599), ('photography', 1582), ('priboj', 1482), ('belgrade', 1413), ('opštinapriboj', 1395), ('snspriboj', 1395), ('guvernernbs', 1387), ('1od25djilasovihmiliona', 1375), ('oplenac', 1372), ('vojvodina', 1325), ('pukliste', 1296), ('cortanovci', 1283), ('kim', 1276), ('ниш', 1254), ('сачувајмоћирилицу', 1231), ('кина', 1229), ('valjevo', 1211), ('obrenovac', 1185), ('tv_pink', 1152), ('starigrad', 1101), ('kzn', 986), ('buducnostsrbije', 916), ('tiktak', 893), ('wimbledon', 859), ('lajkovac', 754), ('tunelbrancic', 730), ('france', 684), ('manastir', 660), ('flowers', 620), ('gradbeograd', 587), ('ub', 565), ('beograd', 563), ('sunset', 546), ('weather', 546), ('pravdars', 532), ('самокажем', 529), ('milošveliki', 500), ('немастајања', 486), ('aleksandarvucic', 485), ('summer', 484), ('рс', 475), ('vojskasrbije', 473), ('dalisteznali', 451), ('ucl', 448), ('opozicija', 429), ('sombor', 421), ('championsleague', 419), ('olujajezločin', 414), ('luxembourg', 414), ('rt', 408), ('titel', 407), ('teamserbia', 389), ('jesteliznali', 388), ('food', 382), ('tara', 381), ('foodies', 372), ('foodforchange', 365), ('foodforthesoul', 365), ('macron', 362), ('ocean', 360), ('vidisrbiju', 358), ('landscape', 355), ('szs', 342)]\n",
      "serbia_022020_tweets_csv_hashed/serbia_022020_tweets_csv_hashed_05.csv\n",
      "[('vucic', 145830), ('brzejacebolje', 38700), ('ким', 25028), ('pink', 22990), ('buducnostsrbije', 21795), ('hittvit', 13287), ('srbija', 13020), ('novisad', 9293), ('serbia', 8811), ('sombor', 7151), ('1od5miliona', 7052), ('najava', 6771), ('nature', 5211), ('travel', 5150), ('zajecarskiokrug', 5075), ('photo', 4783), ('ilo100', 4405), ('bgh2o', 4346), ('upitnik', 4230), ('sns', 4216), ('rtsvesti', 3654), ('bitkanakosarama', 3454), ('wwii', 3261), ('danpolicije', 3222), ('prvatv', 3192), ('sokobanja', 2972), ('serbiacreates', 2953), ('teamserbia', 2942), ('snsinformator', 2791), ('rts', 2423), ('beograd', 2304), ('šabac', 2209), ('eurobasketwomen', 2180), ('pancevo', 2176), ('infoportal025', 2019), ('junacisakosara', 1992), ('pukliste', 1980), ('nadanasnjidan', 1930), ('sivac', 1783), ('fokus', 1768), ('gradimi', 1647), ('vladasrbije', 1559), ('minsk', 1520), ('kraljevo', 1508), ('vojvodina', 1435), ('art', 1434), ('rtv', 1434), ('zajecar', 1431), ('србија', 1390), ('photography', 1386), ('boljevac', 1368), ('regionalstability', 1355), ('usambbih', 1353), ('wimbledon', 1352), ('nis', 1347), ('градоначелник', 1224), ('skupstinans', 1185), ('boskoobradovic', 1170), ('wbsummitpoznan', 1167), ('jeremic', 1158), ('lucani', 1156), ('wb6inpoznań', 1100), ('звечан', 1093), ('1od25miliona', 1087), ('srbijastvara', 1057), ('djilas', 1027), ('kontravizija', 1024), ('budućnostsrbije', 1013), ('guvernernbs', 1008), ('eriksensoreide', 1004), ('krupanj', 994), ('gotoviste', 979), ('angelamerkel', 975), ('србијаствара', 967), ('тврђавамира', 966), ('education', 944), ('culture', 938), ('kim', 935), ('fortressofpeace', 929), ('firstworldpeace', 929), ('creativity', 925), ('srbija2019', 925), ('kula', 917), ('innovation', 916), ('science', 915), ('kotez', 911), ('tiktak', 868), ('djilasoidi', 849), ('bratislava', 837), ('belgrade', 815), ('fkcz', 812), ('odzaci', 806), ('fotelja', 790), ('priboj', 782), ('guca', 761), ('malamatura', 750), ('немастајања', 719), ('apatin', 711), ('knjazevac', 702), ('skupstina', 679)]\n"
     ]
    },
    {
     "name": "stdout",
     "output_type": "stream",
     "text": [
      "serbia_022020_tweets_csv_hashed/serbia_022020_tweets_csv_hashed_11.csv\n",
      "[('vucic', 255776), ('brzejacebolje', 166903), ('pink', 125017), ('rts', 33242), ('srbija', 26021), ('kzn', 21009), ('ким', 19100), ('sns', 13631), ('moskva', 13031), ('nis', 12736), ('vojvodina', 12293), ('novisad', 11265), ('gazivode', 7241), ('sremskamitrovica', 7108), ('lidl', 6784), ('kosovskamitrovica', 6081), ('kontravizija', 5970), ('koridor10', 5558), ('kim', 4763), ('serbia', 4759), ('rtsvesti', 4530), ('majdanpek', 3951), ('infoportal025', 3733), ('kraljevo', 3688), ('govoritmoskva', 3618), ('nature', 3188), ('dansecanja', 3100), ('belsecforum', 3065), ('rusija', 2990), ('efa18', 2949), ('eu', 2858), ('travel', 2803), ('putin', 2713), ('nadanasnjidan', 2703), ('kosovoimetohija', 2700), ('rudnaglava', 2660), ('dnevnik', 2634), ('belgrade', 2597), ('snsinformator', 2556), ('suncanadolina', 2529), ('дачић', 2349), ('вучић', 2310), ('sid', 2302), ('cumtobel', 2284), ('leposavic', 2194), ('fkcz', 2145), ('najava', 2097), ('photo', 2079), ('srbija2018', 1978), ('odzaci', 1880), ('nikinci', 1834), ('beograd', 1819), ('zvecan', 1707), ('belgrad', 1669), ('backapalanka', 1659), ('sombor', 1640), ('dodik', 1608), ('žeželj', 1570), ('ibarskopostenje', 1527), ('danbia', 1520), ('alpbah', 1450), ('kuburovic', 1449), ('pravdars', 1424), ('skupstinabg', 1422), ('srpska', 1388), ('priboj', 1367), ('preljina', 1321), ('кремль', 1238), ('nato', 1179), ('opštinapriboj', 1172), ('snspriboj', 1159), ('pariz', 1085), ('zabalj', 1038), ('niš', 984), ('rankopanic', 952), ('backa', 924), ('beocin', 912), ('rt', 899), ('ds', 889), ('rumunija', 876), ('снс', 869), ('smarttraffic', 861), ('grcka', 858), ('vojskasrbije', 858), ('bugarska', 855), ('lesak', 843), ('serbien', 843), ('ucl', 830), ('titel', 824), ('usopen', 818), ('blic', 814), ('zrenjanin', 794), ('петковић', 789), ('manastir', 785), ('art', 774), ('weather', 769), ('breaking', 717), ('zlatibor', 715), ('photography', 708), ('skupstina', 673)]\n",
      "serbia_022020_tweets_csv_hashed/serbia_022020_tweets_csv_hashed_07.csv\n",
      "[('vucic', 157257), ('brzejacebolje', 110939), ('buducnostsrbije', 100702), ('pink', 18515), ('1od5miliona', 13794), ('djilasovanedela', 12370), ('srbija', 11523), ('serbia', 11443), ('nis', 10624), ('cirilica', 9884), ('intervju', 8233), ('prvatv', 7148), ('sns', 6374), ('najava', 5797), ('ким', 5774), ('travel', 4957), ('infoportal025', 4854), ('nature', 4595), ('zrenjanin', 4472), ('photo', 4342), ('kzn', 4253), ('krusevac', 4236), ('novisad', 4100), ('protest', 3381), ('romania', 3235), ('upitnik', 2954), ('francuska', 2550), ('rts', 2507), ('bor', 2504), ('smederevo', 2365), ('eu', 2277), ('greece', 2221), ('sremskamitrovica', 2172), ('bulgaria', 2115), ('bucharest', 2115), ('rogljevo', 1992), ('leskovac', 1981), ('velikadrenova', 1942), ('1od5miiona', 1927), ('beograd', 1780), ('raska', 1751), ('kraljevo', 1730), ('nadanasnjidan', 1708), ('italy', 1612), ('budućnostsrbije', 1594), ('gazprom', 1592), ('trstenik', 1578), ('sremskakamenica', 1561), ('snsinformator', 1536), ('oko', 1485), ('eurokarate2019', 1476), ('golubac', 1411), ('vlasotince', 1359), ('kim', 1357), ('21centuryschools', 1354), ('пинк', 1346), ('smederevskapalanka', 1315), ('vrnjackabanja', 1284), ('atp', 1222), ('nato', 1213), ('rtsvesti', 1161), ('kontravizija', 1143), ('serbian', 1136), ('дачић', 1128), ('balkans', 1061), ('caricingrad', 983), ('bojnik', 969), ('počeloje', 920), ('danas', 868), ('european', 842), ('agresija', 833), ('pirot', 833), ('photography', 821), ('đurić', 785), ('снс', 775), ('selevac', 770), ('savezzasrbiju', 766), ('danzena', 765), ('bsd', 753), ('kbf2019', 752), ('niš', 748), ('internationalwomensday', 746), ('vojvodina', 744), ('szs', 723), ('iwd2019', 717), ('velikaplana', 710), ('pravdars', 709), ('kladovo', 698), ('1od1000', 694), ('gradimi', 682), ('flowers', 666), ('1od5milliona', 656), ('fkcz', 646), ('hittvit', 636), ('art', 627), ('tourism', 621), ('djilasoid', 604), ('heritage', 597), ('belegis', 590), ('history', 584)]\n",
      "serbia_022020_tweets_csv_hashed/serbia_022020_tweets_csv_hashed_13.csv\n",
      "[('vucic', 195161), ('srbija', 130754), ('brzejacebolje', 82112), ('sns', 46021), ('vojvodina', 43906), ('srbijapobedjuje', 35589), ('kzn', 31346), ('upitnik', 27485), ('novisad', 25237), ('ds', 22796), ('cirilica', 22088), ('opozicija', 20778), ('serbia', 19996), ('pajtic', 19484), ('skupstina', 18590), ('intervju', 18581), ('demokrate', 17024), ('dsdno', 15462), ('eu', 14450), ('kragujevac', 12436), ('pomozimokomsiji', 11413), ('beograd', 8954), ('titel', 8374), ('travel', 7750), ('dos', 7640), ('zg', 7560), ('srb', 7447), ('sutanovac', 7132), ('onokad', 6937), ('jeremic', 6861), ('izbori2016', 6672), ('rts', 6666), ('pink', 6646), ('jankovic', 6321), ('rio2016', 6192), ('najava', 5983), ('rtsvesti', 5930), ('radulovic', 5888), ('nature', 5570), ('zokibunda', 5340), ('kim', 5213), ('nis', 5181), ('oko', 5036), ('samokazem', 4893), ('samopitam', 4655), ('photography', 4535), ('teskarec', 4232), ('bota', 4200), ('prvatema', 3684), ('priroda', 3638), ('hrvatska', 3550), ('teamserbia', 3501), ('kina', 3375), ('damozdane', 3345), ('photo', 3345), ('migrantcrisis', 3320), ('србија', 3312), ('intervjub92', 3294), ('sremskamitrovica', 3259), ('subotica', 3069), ('davos', 3049), ('perisic', 2973), ('leskovac', 2932), ('ebrdwb', 2896), ('djb', 2888), ('mupsrbije', 2850), ('rts1', 2827), ('srpska', 2796), ('weather', 2729), ('android', 2723), ('kraljevo', 2715), ('kurir', 2710), ('wx', 2700), ('instaweather', 2695), ('instaweatherpro', 2695), ('supportsyrians', 2683), ('izbori', 2679), ('tvdebata', 2643), ('london', 2623), ('odzaci', 2582), ('krusevac', 2578), ('refugeecrisis', 2571), ('pajtula', 2497), ('nokosovounesco', 2495), ('utisak', 2490), ('protest', 2457), ('mojasrbija', 2440), ('radomirnikolic', 2404), ('prvasmena', 2402), ('vozdovac', 2396), ('niš', 2369), ('rts2', 2348), ('bac', 2346), ('rusija', 2315), ('belgrade', 2264), ('saleprangija', 2257), ('bih', 2251), ('dojebi', 2227), ('usa', 2223), ('pancevo', 2157)]\n",
      "serbia_022020_tweets_csv_hashed/serbia_022020_tweets_csv_hashed_12.csv\n",
      "[('vucic', 142888), ('srbija', 63558), ('kzn', 59627), ('brzejacebolje', 50536), ('zatostovolimobeograd', 31338), ('cirilica', 31114), ('intervju', 23238), ('pink', 20742), ('upitnik', 19921), ('kim', 19444), ('serbia', 15436), ('sns', 11274), ('kontravizija', 11013), ('photo', 10626), ('beograd', 9688), ('insajderdebata', 9654), ('okorts', 8358), ('vojvodina', 8289), ('rtsvesti', 6816), ('najava', 6465), ('nis', 5545), ('srpskalista', 5311), ('nature', 5018), ('dansecanja', 4549), ('rts', 4413), ('90minuta', 4412), ('unga', 4300), ('novisad', 4230), ('travel', 4178), ('opozicija', 4023), ('skupstina', 3839), ('zagreb', 3673), ('nadanasnjidan', 3583), ('srpska', 3540), ('ким', 3280), ('damozdane', 3231), ('snsinformator', 3035), ('insajder', 3010), ('onokad', 2888), ('guvernernbs', 2842), ('snsgo', 2677), ('kragujevac', 2656), ('vojskasrbije', 2613), ('cukarica', 2584), ('eu', 2559), ('9godinasns', 2507), ('photography', 2492), ('srbije', 2409), ('ruma', 2207), ('priroda', 2085), ('titel', 2060), ('bih', 2033), ('backa', 1981), ('suceljavanje', 1943), ('sloboda2017', 1921), ('teskarec', 1889), ('oko', 1868), ('vozdovac', 1824), ('belgrade', 1809), ('clouds', 1768), ('recnarec', 1732), ('rts1', 1697), ('art', 1693), ('prva', 1627), ('hrvatska', 1563), ('ds', 1553), ('leskovac', 1545), ('koridor10', 1539), ('danvojske', 1528), ('vlasotince', 1519), ('rusija', 1456), ('bugarska', 1445), ('oblaci', 1433), ('drvo', 1429), ('sid', 1420), ('wood', 1392), ('plant', 1383), ('bgh2o', 1358), ('rt', 1350), ('krusevac', 1307), ('zajednickiudar2018', 1306), ('spring', 1273), ('manastir', 1240), ('inauguracija', 1208), ('dandrzavnosti', 1185), ('crnagora', 1175), ('panorama', 1174), ('jajinci', 1174), ('borbazabeograd', 1145), ('dodik', 1145), ('architecture', 1120), ('prolece', 1103), ('greece', 1103), ('mostar', 1101), ('sabac', 1099), ('cuba', 1082), ('westernbalkans', 1074), ('zagubica', 1068), ('grcka', 1064), ('flowers', 1063)]\n",
      "serbia_022020_tweets_csv_hashed/serbia_022020_tweets_csv_hashed_06.csv\n",
      "[('vucic', 119383), ('buducnostsrbije', 46725), ('brzejacebolje', 35897), ('ким', 20824), ('pink', 19476), ('srbija', 18252), ('hittvit', 12502), ('1od5miliona', 12349), ('kim', 11408), ('skupstina', 11197), ('koridor10', 11162), ('najava', 10291), ('novisad', 9724), ('upitnik', 7272), ('rts', 6418), ('stopnasilju', 5645), ('serbia', 5208), ('berlin', 4217), ('sns', 4154), ('travel', 3772), ('nature', 3668), ('tirana', 3452), ('danpobede', 3445), ('brf2019', 3032), ('peking', 3022), ('rtsvesti', 2943), ('odbranaslobode', 2940), ('photo', 2691), ('infoportal025', 2649), ('loznica', 2491), ('zapristojnusrbiju', 2434), ('obrenovac', 2416), ('dodik', 2306), ('mostar', 2296), ('danevrope', 2239), ('europeday2019', 2235), ('snsinformator', 2219), ('beograd', 2205), ('prvatv', 2091), ('belorusija', 2086), ('пекин', 2071), ('mostar2019', 2022), ('nadanasnjidan', 1831), ('bgh2o', 1762), ('guvernernbs', 1753), ('skoplje', 1745), ('дачић', 1642), ('serbianpavilion', 1604), ('photography', 1585), ('онокад', 1582), ('worldminds', 1507), ('budućnostsrbije', 1485), ('вучић', 1483), ('serbian', 1434), ('art', 1399), ('worldmindsbelgrade', 1375), ('priboj', 1371), ('jeremic', 1320), ('girlsinictday2019', 1300), ('nordic', 1265), ('kzn', 1226), ('onokad', 1137), ('eurovision', 1114), ('pakovraca', 1062), ('protest', 1059), ('mostvrla', 1051), ('fkcz', 1001), ('pristojnasrbija', 987), ('zrenjanin', 980), ('kontravizija', 953), ('euzatebe', 939), ('europeday', 938), ('србија', 938), ('еу', 910), ('kоридор11', 900), ('hongkongskaveza', 899), ('počeloje', 897), ('daretodream', 882), ('јахоринаекономскифорум', 868), ('wbds', 858), ('damozdane', 846), ('kosovo', 825), ('bitanga', 812), ('nis', 801), ('srpskanaprednastranka', 788), ('zabari', 782), ('косово', 780), ('krusevac', 767), ('ncrserbia', 764), ('ncrlife', 764), ('preporuka', 761), ('flowers', 753), ('rt', 731), ('зсо', 709), ('ono_kad_ne_znas_sta_da_zameris_a_znas_da_moras_jer_', 700), ('romania', 678), ('komentara_bez', 668), ('obraza_bez', 668), ('fotelja', 659), ('luxembourg', 651)]\n"
     ]
    },
    {
     "name": "stdout",
     "output_type": "stream",
     "text": [
      "sa_eg_ae_022020_users_csv_hashed.csv\n",
      "No hashtags, users only\n",
      "None\n",
      "serbia_022020_users_csv_hashed.csv\n",
      "No hashtags, users only\n",
      "None\n"
     ]
    }
   ],
   "source": [
    "#for temp in list_of_csv:\n",
    "for temp in [(\"china_052020_tweets_csv_hashed.csv\", \"\")]:\n",
    "    try:\n",
    "        zf = ZipFile(temp[0])\n",
    "        df = pd.read_csv(zf.open(temp[1]), low_memory=False)\n",
    "        print(temp[1])\n",
    "        print(findTop100Hashtags(df))\n",
    "    except:\n",
    "        print(temp)\n",
    "        print(\"This file cannot be read by ZipFile\")"
   ]
  },
  {
   "cell_type": "code",
   "execution_count": null,
   "metadata": {},
   "outputs": [],
   "source": []
  },
  {
   "cell_type": "code",
   "execution_count": 28,
   "metadata": {
    "ExecuteTime": {
     "end_time": "2021-08-09T18:21:44.167792Z",
     "start_time": "2021-08-09T18:21:44.163722Z"
    },
    "id": "vlw-ACVXeK5P",
    "outputId": "09c83287-04a4-4cdb-b634-47c0a3eb920a"
   },
   "outputs": [
    {
     "data": {
      "text/plain": [
       "[('http://virtualaz.org', 98),\n",
       " ('https://twitter.com/MehribanAliyeva/status/1314582841783734272', 11),\n",
       " ('http://haqqin.az/news/5', 5),\n",
       " ('http://haqqin.az/ne', 5),\n",
       " ('http://virtualaz.orgVirtualaz.org', 5),\n",
       " ('https://twitter.com/MehribanAliyeva/status/1313489358041866249', 5),\n",
       " ('http://gu.com/p/4t3y4/stw', 4),\n",
       " ('https://life.ru/404794', 4),\n",
       " ('http://Mehriban-Aliyeva.org', 4),\n",
       " ('https://twitter.com/MehribanAliyeva/status/1314238877108969481', 4),\n",
       " ('https://twitter.com/MehribanAliyeva/status/1314918198127587328', 4),\n",
       " ('https://twitter.com/MehribanAliyeva/status/1314178333068926979', 4),\n",
       " ('https://twitter.com/MehribanAliyeva/status/1313016048065613824', 4),\n",
       " ('http://www.mfa.gov.az/en/', 3),\n",
       " ('https://youtu.be/Ra_exLc6a6s', 3),\n",
       " ('https://twitter.com/khloekardashian/status/717048976478842880', 3),\n",
       " ('https://www.youtube.com/watch?v=aNw1Ka05PM4', 3),\n",
       " ('https://youtu.be/GLE1ohdFvbM', 3),\n",
       " ('http://bit.ly/1y9vjGX', 3),\n",
       " ('https://twitter.com/haqqin__az/status/725368525620137985', 3),\n",
       " ('https://twitter.com/haqqin__az/status/725758987459825668', 3),\n",
       " ('https://twitter.com/haqqin__az/status/725758598786195456', 3),\n",
       " ('https://twitter.com/haqqin__az/status/725759356046827527', 3),\n",
       " ('https://youtu.be/BtCUF31wWFI', 3),\n",
       " ('https://www.youtube.com/watch?v=YOB0eUBRc94', 3),\n",
       " ('http://haqqin.az/news/62812', 3),\n",
       " ('https://twitter.com/MehribanAliyeva/status/1313934066673123331', 3),\n",
       " ('https://twitter.com/MehribanAliyeva/status/1313121825581391875', 3),\n",
       " ('https://twitter.com/MehribanAliyeva/status/1313160102422212608', 3),\n",
       " ('https://twitter.com/MehribanAliyeva/status/1313774957307015170', 3),\n",
       " ('https://mfa.gov.az/en/news/7025/view', 2),\n",
       " ('http://www.mfa.gov.az/en/news/878/4', 2),\n",
       " ('http://bit.ly/1RiV58E', 2),\n",
       " ('http://bit.ly/1y9vhif', 2),\n",
       " ('https://twitter.com/MediamaxEnglish/status/717300522273935361', 2),\n",
       " ('http://haqqin.azhaqqin.az', 2),\n",
       " ('http://fb.me/7w45tRWhm', 2),\n",
       " ('http://haqqin.az/news/32694', 2),\n",
       " ('http://civilnet.am/2016/04/06/talish-5-days-war/#.VwXq6_mLTIU', 2),\n",
       " ('http://fb.me/4N4BxA07X', 2),\n",
       " ('http://haqqin.az/news/64306', 2),\n",
       " ('https://youtu.be/JMFJLNbCdDU', 2),\n",
       " ('http://haqqin.az/news/55282', 2),\n",
       " ('http://fb.me/1XPtRt2SZ', 2),\n",
       " ('http://haqqin.az/news/63248', 2),\n",
       " ('http://www.mfa.gov', 2),\n",
       " ('http://www.panarmenian.net/eng/details/209664/', 2),\n",
       " ('http://haqqin.az/news/44439', 2),\n",
       " ('http://haqqin.az/news/32849', 2),\n",
       " ('http://fb.me/4YheAJZYc', 2)]"
      ]
     },
     "execution_count": 28,
     "metadata": {},
     "output_type": "execute_result"
    }
   ],
   "source": [
    "# Print top-50 URLs\n",
    "\n",
    "# df['urls'].value_counts()[:50]\n",
    "\n",
    "x = \"['http://www.aydindere.com', 'http://fb.me/2gYPyc503', 'http://www.aydindere.com', 'http://www.Aydindere.com']\"\n",
    "\n",
    "def retrieveUrls(string):\n",
    "\n",
    "    arr = []\n",
    "    lst_url = list()\n",
    "    url_dict = dict()\n",
    "    \n",
    "    for index, char in enumerate(string):\n",
    "        if char == \"'\":\n",
    "            arr.append(index)\n",
    "            \n",
    "    for i in range(int(len(arr)/2)):\n",
    "        elt = string[arr[0]+1:arr[1]]\n",
    "        lst_url.append(elt)\n",
    "        arr.remove(arr[0])\n",
    "        arr.remove(arr[0])\n",
    "    \n",
    "    for key in lst_url:\n",
    "        if key in url_dict.keys():\n",
    "            url_dict[key] += 1\n",
    "        else:\n",
    "            url_dict[key] = 1\n",
    "    \n",
    "    return url_dict\n",
    "\n",
    "\n",
    "def findTop50Urls(df):\n",
    "    url_dict = dict()\n",
    "    for url in df[\"urls\"]:\n",
    "        if type(url) is str:\n",
    "            url_counts = retrieveUrls(url)\n",
    "            for key, value in url_counts.items():\n",
    "                if key in url_dict.keys():\n",
    "                    url_dict[key] += value\n",
    "                else:\n",
    "                    url_dict[key] = value\n",
    "    \n",
    "    return sorted(url_dict.items(), key=lambda item: item[1], reverse=True)[:50]\n",
    "\n",
    "findTop50Urls(df)"
   ]
  },
  {
   "cell_type": "code",
   "execution_count": null,
   "metadata": {},
   "outputs": [],
   "source": []
  },
  {
   "cell_type": "code",
   "execution_count": 29,
   "metadata": {
    "id": "TakZQxcweK5Q",
    "outputId": "79ab2761-c624-4d60-9bcf-745483a562dd"
   },
   "outputs": [
    {
     "name": "stdout",
     "output_type": "stream",
     "text": [
      "Int64Index([], dtype='int64')\n",
      "Series([], Name: user_display_name, dtype: object)\n"
     ]
    }
   ],
   "source": [
    "idx = df.index[df['user_mentions']=='343460953']\n",
    "print(idx)\n",
    "print(df.iloc[idx]['user_display_name'])"
   ]
  },
  {
   "cell_type": "code",
   "execution_count": null,
   "metadata": {},
   "outputs": [],
   "source": []
  },
  {
   "cell_type": "code",
   "execution_count": 30,
   "metadata": {
    "ExecuteTime": {
     "end_time": "2021-08-09T18:21:49.552835Z",
     "start_time": "2021-08-09T18:21:49.549494Z"
    },
    "id": "1lqFk7QKeK5R",
    "outputId": "24c362e1-f7f9-4a9a-9565-e3319eca16b0"
   },
   "outputs": [
    {
     "data": {
      "text/plain": [
       "[('143742312', 111),\n",
       " ('9tv1gRACFz8IPY6lCkXCgaXEJh1Ol2Fk78bhuCGhyA=', 73),\n",
       " ('804538503333814273', 69),\n",
       " ('vrJSje34LOxmhLf7y0QqVdtulQZBm6QfOtxswidhrs=', 45),\n",
       " ('207850297', 44),\n",
       " ('3291921885', 39),\n",
       " ('1L0qn8rgg4bi6tCYH934gRpAQG59vTUg9kPubBzxM=', 39),\n",
       " ('OVC8cA0LTalwGqP2ooefLPsdlJmbB5wF+hpKZuRp0=', 38),\n",
       " ('46eJLsV6+iDw1rVv36i9NONigsfqfTfQ9EBzXr901c=', 29),\n",
       " ('171357785', 29),\n",
       " ('172425386', 24),\n",
       " ('20226248', 19),\n",
       " ('87145023', 16),\n",
       " ('3439473365', 15),\n",
       " ('109226167', 13),\n",
       " ('255493944', 10),\n",
       " ('25365536', 10),\n",
       " ('3283108812', 9),\n",
       " ('1470729164', 9),\n",
       " ('1708219704', 9),\n",
       " ('461005402', 8),\n",
       " ('47369006', 8),\n",
       " ('Rgex8nPtn9Y4bvWf9RMb8yI2GGWP65yTXb+9ZygHU=', 8),\n",
       " ('68034431', 7),\n",
       " ('1085703610757898241', 7),\n",
       " ('3191864886', 6),\n",
       " ('882569259913752576', 6),\n",
       " ('394011241', 6),\n",
       " ('142839300', 6),\n",
       " ('29191009', 6),\n",
       " ('uqU5V82g6lpOgJjvDGLIA4LEFT2wGmque+vYhRUTk=', 6),\n",
       " ('2904907616', 6),\n",
       " ('2rg8fiE11JB8Bh69A6aJWeRSBPcGTAmK8wnpFpH0=', 6),\n",
       " ('902876790489841664', 6),\n",
       " ('1854145310', 6),\n",
       " ('1043131640422326273', 6),\n",
       " ('1362227767', 5),\n",
       " ('15007149', 5),\n",
       " ('255471924', 5),\n",
       " ('386456566', 5),\n",
       " ('1652541', 5),\n",
       " ('759251', 5),\n",
       " ('392323354', 5),\n",
       " ('18631779', 5),\n",
       " ('742143', 5),\n",
       " ('1026717141905690624', 5),\n",
       " ('232288802', 5),\n",
       " ('23387115', 4),\n",
       " ('532121906', 4),\n",
       " ('59063969', 4)]"
      ]
     },
     "execution_count": 30,
     "metadata": {},
     "output_type": "execute_result"
    }
   ],
   "source": [
    "# Print top-50 mentions\n",
    "\n",
    "def retrieveMentions(string):\n",
    "\n",
    "    arr = []\n",
    "    lst_ment = list()\n",
    "    ment_dict = dict()\n",
    "    \n",
    "    for index, char in enumerate(string):\n",
    "        if char == \"'\":\n",
    "            arr.append(index)\n",
    "            \n",
    "    for i in range(int(len(arr)/2)):\n",
    "        elt = string[arr[0]+1:arr[1]]\n",
    "        lst_ment.append(elt)\n",
    "        arr.remove(arr[0])\n",
    "        arr.remove(arr[0])\n",
    "    \n",
    "    for key in lst_ment:\n",
    "        if key in ment_dict.keys():\n",
    "            ment_dict[key] += 1\n",
    "        else:\n",
    "            ment_dict[key] = 1\n",
    "    \n",
    "    return ment_dict\n",
    "\n",
    "\n",
    "def findTop50Mentions(df):\n",
    "    ment_dict = dict()\n",
    "    for ment in df[\"user_mentions\"]:\n",
    "        if type(ment) is str:\n",
    "            ment_counts = retrieveMentions(ment)\n",
    "            for key, value in ment_counts.items():\n",
    "                if key in ment_dict.keys():\n",
    "                    ment_dict[key] += value\n",
    "                else:\n",
    "                    ment_dict[key] = value\n",
    "    \n",
    "    return sorted(ment_dict.items(), key=lambda item: item[1], reverse=True)[:50]\n",
    "\n",
    "findTop50Mentions(df)\n",
    "\n",
    "# Tried to correspond userid's with user_display_name's (Exp: 343460953= ADEM HARDAL) but failed."
   ]
  },
  {
   "cell_type": "code",
   "execution_count": null,
   "metadata": {},
   "outputs": [],
   "source": []
  },
  {
   "cell_type": "markdown",
   "metadata": {
    "id": "snwoMhrVeK5R"
   },
   "source": [
    "# Plotting frequent items"
   ]
  },
  {
   "cell_type": "code",
   "execution_count": 31,
   "metadata": {
    "id": "Gt47JX0xeK5S",
    "outputId": "9501377b-5cb2-487e-fe1b-e7b23bc2cfd6"
   },
   "outputs": [
    {
     "data": {
      "image/png": "[encoded data removed]",
      "text/plain": [
       "<Figure size 720x360 with 1 Axes>"
      ]
     },
     "metadata": {
      "needs_background": "light"
     },
     "output_type": "display_data"
    }
   ],
   "source": [
    "# Plot most frequent items as a bar-chart\n",
    "# Pay attention to values, if your data spans multiple order of magnitudes use logaritmic scales\n",
    "\n",
    "\n",
    "# Top 100 hashtags\n",
    "\n",
    "key_list = list()\n",
    "value_list = list()\n",
    "\n",
    "hash_list = findTop100Hashtags(df)[:20]\n",
    "\n",
    "for item in hash_list:\n",
    "    key_list.append(item[0])\n",
    "    value_list.append(item[1])\n",
    "\n",
    "fig = plt.figure(figsize = (10, 5))\n",
    "plt.bar(key_list, value_list, width = 0.9)\n",
    "\n",
    "plt.xlabel('Hashtags')\n",
    "plt.xticks(rotation = 90)\n",
    "plt.ylabel('Count')\n",
    "plt.title('Most frequent hashtags')\n",
    "\n",
    "plt.show()"
   ]
  },
  {
   "cell_type": "code",
   "execution_count": null,
   "metadata": {},
   "outputs": [],
   "source": []
  },
  {
   "cell_type": "markdown",
   "metadata": {
    "id": "ONFv-YGReK5S"
   },
   "source": [
    "# Temporal analysis"
   ]
  },
  {
   "cell_type": "code",
   "execution_count": 32,
   "metadata": {
    "id": "aeXFdApweK5T",
    "outputId": "ab3d2fac-ac18-458e-ce57-b9b279f31c09"
   },
   "outputs": [
    {
     "data": {
      "text/plain": [
       "'\\nPlot temporal changes (daily, weekly, etc.) for \\n - hashtag activities - done\\n - total tweet volumes - done\\n - # of unique users - done\\n - # of unique hashtags\\n'"
      ]
     },
     "execution_count": 32,
     "metadata": {},
     "output_type": "execute_result"
    }
   ],
   "source": [
    "'''\n",
    "Plot temporal changes (daily, weekly, etc.) for \n",
    " - hashtag activities - done\n",
    " - total tweet volumes - done\n",
    " - # of unique users - done\n",
    " - # of unique hashtags\n",
    "'''"
   ]
  },
  {
   "cell_type": "code",
   "execution_count": null,
   "metadata": {
    "id": "rC_u3J55eK5T",
    "outputId": "f3e3d339-a42d-40c6-f547-e23caa52a469"
   },
   "outputs": [],
   "source": [
    "# of unique users\n",
    "\n",
    "len(df['userid'].value_counts())"
   ]
  },
  {
   "cell_type": "code",
   "execution_count": 33,
   "metadata": {
    "id": "dndQ1BaBeK5T",
    "outputId": "0c267290-477b-428c-be6e-5123658fcb6f"
   },
   "outputs": [
    {
     "name": "stdout",
     "output_type": "stream",
     "text": [
      "(33, {'soldiers', 'iran', 'ağdam', 'usa', 'iranattack', 'haqqin', 'khojaly', 'novosti_az', 'qarabağ', 'virtualaz', 'свободулапшину', 'georgia', 'haqqin_az', 'israeli', 'today_az', 'us', 'armenia', 'blogger', 'alkhanli', 'nextyearinshusha', 'jerusalem', 'qarabag', 'wwiil', 'baku', 'soleimani', 'haqqinaz', 'lapshin', 'azerbaijan', 'endoccupation', 'azərbaycanın', 'xankendi', 'iranvsusa', 'karabakhisazerbaijan'})\n",
      "[33, 197, 10, 331, 158, 62]\n"
     ]
    },
    {
     "data": {
      "image/png": "[encoded data removed]",
      "text/plain": [
       "<Figure size 720x360 with 1 Axes>"
      ]
     },
     "metadata": {
      "needs_background": "light"
     },
     "output_type": "display_data"
    }
   ],
   "source": [
    "def findNumberofUniqueHashtagbyMonth(df, month):\n",
    "    hashtag_set = set()\n",
    "    for i, date in enumerate(df['tweet_time']):\n",
    "        if date[5:7] == month and date[:4] != '2013':\n",
    "            hashtag = df.iloc[i][\"hashtags\"]\n",
    "            if type(hashtag) is str:\n",
    "                word_counts = retrieveWords(hashtag)\n",
    "                for key, value in word_counts.items():\n",
    "                    if key not in hashtag_set:\n",
    "                        hashtag_set.add(key)\n",
    "\n",
    "    return len(hashtag_set), hashtag_set\n",
    "\n",
    "print(findNumberofUniqueHashtagbyMonth(df, '01'))\n",
    "\n",
    "hashtag_vol = list()\n",
    "\n",
    "months = ['01', '02', '03', '04', '05', '06']\n",
    "\n",
    "for month in months:\n",
    "    hashtag_vol.append(findNumberofUniqueHashtagbyMonth(df, month)[0])\n",
    "\n",
    "print(hashtag_vol)\n",
    "\n",
    "fig = plt.figure(figsize = (10, 5))\n",
    "bar = plt.bar(months, hashtag_vol, width = 0.9)\n",
    "\n",
    "plt.xlabel('Months')\n",
    "plt.xticks(rotation = 90)\n",
    "plt.ylabel('Count')\n",
    "plt.title('# of unique hashtags from January to June 2012')\n",
    "\n",
    "plt.show()"
   ]
  },
  {
   "cell_type": "code",
   "execution_count": 34,
   "metadata": {
    "id": "9D4zcPu8eK5U",
    "outputId": "0d46980b-ce8d-4d55-a8f8-75116ac6c8f4"
   },
   "outputs": [
    {
     "data": {
      "text/plain": [
       "[('haqqin', 39756),\n",
       " ('haqqin_az', 26898),\n",
       " ('novosti_az', 15817),\n",
       " ('today_az', 13963),\n",
       " ('haqqinaz', 12591),\n",
       " ('karabakhnow', 1370),\n",
       " ('nkpeace', 1034),\n",
       " ('azerbaijan', 685),\n",
       " ('armenia', 467),\n",
       " ('karabaghnow', 384),\n",
       " ('aztwi', 294),\n",
       " ('virtualaz', 258),\n",
       " ('followback', 248),\n",
       " ('karabakh', 217),\n",
       " ('artsakhstrong', 162),\n",
       " ('shareforkhojaly', 125),\n",
       " ('justiceforkhojaly', 124),\n",
       " ('teamfollowback', 124),\n",
       " ('tfbjp', 124),\n",
       " ('teamhitfollow', 124),\n",
       " ('autofollow', 124),\n",
       " ('mustfollow', 124),\n",
       " ('followngain', 124),\n",
       " ('turkey', 82),\n",
       " ('artsakh', 71),\n",
       " ('ussr', 67),\n",
       " ('sumgait', 50),\n",
       " ('turkeycoup', 49),\n",
       " ('istanbul', 47),\n",
       " ('armenian', 43),\n",
       " ('sumgait1988', 42),\n",
       " ('ankara', 42),\n",
       " ('armeniangenocide', 29),\n",
       " ('neveragain', 24),\n",
       " ('karabakhisazerbaijan', 23),\n",
       " ('azerbaijani', 22),\n",
       " ('unaocbaku2016', 22),\n",
       " ('stopaliyev', 22),\n",
       " ('genocide', 22),\n",
       " ('nkr', 21),\n",
       " ('ermenisoykırımı', 21),\n",
       " ('baku', 20),\n",
       " ('russia', 19),\n",
       " ('azərbaycan', 18),\n",
       " ('chechina', 16),\n",
       " ('aliyev', 15),\n",
       " ('un', 14),\n",
       " ('boycottbaku2016', 14),\n",
       " ('карабах', 14),\n",
       " ('haqqinz', 13),\n",
       " ('армения', 13),\n",
       " ('martakert', 13),\n",
       " ('nagornokarabakh', 13),\n",
       " ('armenians', 12),\n",
       " ('азербайджан', 11),\n",
       " ('osce', 11),\n",
       " ('war', 10),\n",
       " ('stoparmenianaggression', 10),\n",
       " ('stepanakert', 10),\n",
       " ('eurovision', 9),\n",
       " ('lapshin', 9),\n",
       " ('khojaly', 9),\n",
       " ('nkconflict', 9),\n",
       " ('iran', 9),\n",
       " ('aghdam', 9),\n",
       " ('talish', 8),\n",
       " ('panamapapers', 8),\n",
       " ('warcrime', 8),\n",
       " ('azerbaycan', 8),\n",
       " ('warcrimes', 8),\n",
       " ('stopattackingcivilians', 7),\n",
       " ('shushi', 6),\n",
       " ('caucasus', 6),\n",
       " ('israeli', 6),\n",
       " ('yerevan', 6),\n",
       " ('türkiyə', 6),\n",
       " ('unaocbaku2016pic', 6),\n",
       " ('belarus', 6),\n",
       " ('civilians', 6),\n",
       " ('genocideinaction', 5),\n",
       " ('victoryday', 5),\n",
       " ('isis', 5),\n",
       " ('soldiers', 5),\n",
       " ('army', 5),\n",
       " ('stoparmeniapic', 5),\n",
       " ('georgia', 5),\n",
       " ('stoparmenianoccupation', 5),\n",
       " ('shusha', 5),\n",
       " ('syria', 5),\n",
       " ('france', 5),\n",
       " ('ceasefire', 5),\n",
       " ('mataghis', 5),\n",
       " ('europegp', 5),\n",
       " ('heydarism', 5),\n",
       " ('eu', 5),\n",
       " ('peace', 5),\n",
       " ('breaking', 5),\n",
       " ('czech', 4),\n",
       " ('military', 4),\n",
       " ('nk', 4)]"
      ]
     },
     "execution_count": 34,
     "metadata": {},
     "output_type": "execute_result"
    }
   ],
   "source": [
    "def retrieveWords(string):\n",
    "\n",
    "    arr = []\n",
    "    lst_word = list()\n",
    "    word_dict = dict()\n",
    "    \n",
    "    for index, char in enumerate(string):\n",
    "        if char == \"'\":\n",
    "            arr.append(index)\n",
    "            \n",
    "    for i in range(int(len(arr)/2)):\n",
    "        elt = string[arr[0]+1:arr[1]].lower()\n",
    "        lst_word.append(elt)\n",
    "        arr.remove(arr[0])\n",
    "        arr.remove(arr[0])\n",
    "        \n",
    "    for key in lst_word:\n",
    "        if key in word_dict.keys():\n",
    "            word_dict[key] += 1\n",
    "        else:\n",
    "            word_dict[key] = 1\n",
    "\n",
    "    return word_dict\n",
    "\n",
    "def findTop100Hashtags(df):\n",
    "    hash_dict = dict()\n",
    "    for hashtag in df[\"hashtags\"]:\n",
    "        if type(hashtag) is str:\n",
    "            word_counts = retrieveWords(hashtag)\n",
    "            for key, value in word_counts.items():\n",
    "                if key in hash_dict.keys():\n",
    "                    hash_dict[key] += value\n",
    "                else:\n",
    "                    hash_dict[key] = value\n",
    "    \n",
    "    return sorted(hash_dict.items(), key=lambda item: item[1], reverse=True)[:100]\n",
    "\n",
    "findTop100Hashtags(df)"
   ]
  },
  {
   "cell_type": "code",
   "execution_count": null,
   "metadata": {},
   "outputs": [],
   "source": []
  },
  {
   "cell_type": "code",
   "execution_count": 35,
   "metadata": {
    "id": "z6YeaPUIeK5U",
    "outputId": "99e915ab-591f-4dac-e3e2-30e0bd707840"
   },
   "outputs": [
    {
     "name": "stdout",
     "output_type": "stream",
     "text": [
      "[('haqqin', 5468), ('haqqin', 5232), ('haqqin', 2773), ('haqqin', 3247), ('haqqin', 5837), ('haqqin', 2288)]\n"
     ]
    },
    {
     "data": {
      "image/png": "[encoded data removed]",
      "text/plain": [
       "<Figure size 720x360 with 1 Axes>"
      ]
     },
     "metadata": {
      "needs_background": "light"
     },
     "output_type": "display_data"
    }
   ],
   "source": [
    "# format = 2012-01-01 16:08\n",
    "\n",
    "def findTopHashtagbyMonth(df, month):\n",
    "    hashtag_dict = dict()\n",
    "    for i, date in enumerate(df['tweet_time']):\n",
    "        if date[5:7] == month and date[:4] != '2013':\n",
    "            hashtag = df.iloc[i][\"hashtags\"]\n",
    "            if type(hashtag) is str:\n",
    "                word_counts = retrieveWords(hashtag)\n",
    "                for key, value in word_counts.items():\n",
    "                    if key in hashtag_dict.keys():\n",
    "                        hashtag_dict[key] += value\n",
    "                    else:\n",
    "                        hashtag_dict[key] = value\n",
    "\n",
    "    return sorted(hashtag_dict.items(), key=lambda item: item[1], reverse=True)[:1]\n",
    "\n",
    "key_list = list()\n",
    "value_list = list()\n",
    "\n",
    "hashtag_vol = list()\n",
    "\n",
    "months = ['01', '02', '03', '04', '05', '06']\n",
    "\n",
    "for month in months:\n",
    "    hashtag_vol.append(findTopHashtagbyMonth(df, month)[0])\n",
    "\n",
    "print(hashtag_vol)\n",
    "\n",
    "for item in hashtag_vol:\n",
    "    key_list.append(item[0])\n",
    "    value_list.append(item[1])\n",
    "\n",
    "fig = plt.figure(figsize = (10, 5))\n",
    "bar = plt.bar(months, value_list, width = 0.9)\n",
    "\n",
    "for rect in bar:\n",
    "    height = rect.get_height()\n",
    "    plt.text(rect.get_x() + rect.get_width() / 2.0, height, key_list[0], ha='center', va='bottom', rotation=90)\n",
    "    key_list.remove(key_list[0])\n",
    "\n",
    "plt.xlabel('Months')\n",
    "plt.xticks(rotation = 90)\n",
    "plt.ylabel('Count')\n",
    "plt.title('Top hashtags from January to June 2012')\n",
    "\n",
    "plt.show()"
   ]
  },
  {
   "cell_type": "code",
   "execution_count": 36,
   "metadata": {
    "id": "BEvheCQ2eK5U",
    "outputId": "e357200c-0345-45fc-bb03-68705935f2d5"
   },
   "outputs": [
    {
     "data": {
      "text/plain": [
       "[('2008-10-28', 1),\n",
       " ('2014-08-06', 1),\n",
       " ('2014-11-19', 1),\n",
       " ('2014-11-20', 1),\n",
       " ('2014-12-11', 1),\n",
       " ('2016-04-10', 1),\n",
       " ('2016-04-27', 1),\n",
       " ('2019-02-21', 10),\n",
       " ('2019-02-22', 6),\n",
       " ('2019-02-23', 2),\n",
       " ('2019-02-25', 1),\n",
       " ('2019-04-17', 1),\n",
       " ('2020-10-03', 1),\n",
       " ('2020-10-16', 1),\n",
       " ('2020-11-08', 1),\n",
       " ('2020-11-23', 1)]"
      ]
     },
     "execution_count": 36,
     "metadata": {},
     "output_type": "execute_result"
    }
   ],
   "source": [
    "# of unique users: 233\n",
    "\n",
    "# no important temporal changes observed, no need to plot\n",
    "\n",
    "def findUsersbyDate(df):\n",
    "    date_dict = dict()\n",
    "    user_set = set()\n",
    "    for i, date in enumerate(df['account_creation_date']):\n",
    "        if df.iloc[i][\"userid\"] not in user_set:\n",
    "            user_set.add(df.iloc[i][\"userid\"])\n",
    "            if date in date_dict.keys():\n",
    "                date_dict[date] += 1\n",
    "            else:\n",
    "                date_dict[date] = 1\n",
    "    \n",
    "    return sorted(date_dict.items(), key=lambda item: item[0], reverse=False)\n",
    "\n",
    "findUsersbyDate(df)"
   ]
  },
  {
   "cell_type": "code",
   "execution_count": null,
   "metadata": {
    "id": "uTILeywxeK5V",
    "outputId": "b76c825b-883c-4eb9-c45c-86cfa17d4272",
    "scrolled": false
   },
   "outputs": [],
   "source": [
    "def findTweetVolume(df):\n",
    "    date_dict = dict()\n",
    "    tweet_set = set()\n",
    "    for i, date in enumerate(df['tweet_time']):\n",
    "        if df.iloc[i][\"tweetid\"] not in tweet_set:\n",
    "            tweet_set.add(df.iloc[i][\"tweetid\"])\n",
    "            if date[:10] in date_dict.keys():\n",
    "                date_dict[date[:10]] += 1\n",
    "            else:\n",
    "                date_dict[date[:10]] = 1\n",
    "    \n",
    "    return sorted(date_dict.items(), key=lambda item: item[0], reverse=False)\n",
    "\n",
    "findTweetVolume(df)"
   ]
  },
  {
   "cell_type": "code",
   "execution_count": null,
   "metadata": {
    "id": "NZYcYlMueK5V",
    "outputId": "2d02261e-e3ca-470a-a396-47774f5ab8b4"
   },
   "outputs": [],
   "source": [
    "key_list = list()\n",
    "value_list = list()\n",
    "\n",
    "tweet_vol = findTweetVolume(df)[:14] # two weeks-14 days\n",
    "\n",
    "for item in tweet_vol:\n",
    "    key_list.append(item[0])\n",
    "    value_list.append(item[1])\n",
    "\n",
    "fig = plt.figure(figsize = (10, 5))\n",
    "plt.bar(key_list, value_list, width = 0.9)\n",
    "\n",
    "plt.xlabel('First two weeks of January 2012')\n",
    "plt.xticks(rotation = 90)\n",
    "plt.ylabel('Tweet Volume')\n",
    "plt.title('Tweet counts for first two weeks of January 2012')\n",
    "\n",
    "plt.show()"
   ]
  },
  {
   "cell_type": "code",
   "execution_count": null,
   "metadata": {
    "id": "H0JjpluxeK5W",
    "outputId": "85d02452-3e78-4332-88be-367df058e91a"
   },
   "outputs": [],
   "source": [
    "df.sort_values('account_creation_date', ascending=True)"
   ]
  },
  {
   "cell_type": "markdown",
   "metadata": {
    "id": "z4M2XYf3eK5W"
   },
   "source": [
    "# Create network structure"
   ]
  },
  {
   "cell_type": "code",
   "execution_count": null,
   "metadata": {
    "id": "caUF3dkIeK5W",
    "outputId": "c2aef3d9-4db9-43a0-876d-affb1f37a47e"
   },
   "outputs": [],
   "source": [
    "'''\n",
    "Create two types of network\n",
    "- hashtag cooccurrence\n",
    "- information diffusion using RT/mention/quote \n",
    "\n",
    "Networks can be created for all the data or using the data created with a period\n",
    "'''"
   ]
  },
  {
   "cell_type": "markdown",
   "metadata": {
    "id": "c1-1driXeK5W"
   },
   "source": [
    "\n"
   ]
  },
  {
   "cell_type": "code",
   "execution_count": null,
   "metadata": {
    "id": "76K_Vh28eK5W",
    "outputId": "0d372d9d-297c-4224-ac49-39cdfb9b2336"
   },
   "outputs": [],
   "source": [
    "import csv, json\n",
    "\n",
    "import matplotlib\n",
    "from matplotlib import pyplot as plt\n",
    "\n",
    "import pandas as pd\n",
    "import networkx as nx\n",
    "print('NetworkX version: ', nx.__version__)"
   ]
  },
  {
   "cell_type": "code",
   "execution_count": null,
   "metadata": {
    "id": "GUyHd30BeK5X"
   },
   "outputs": [],
   "source": [
    "\n",
    "\n",
    "csvFilePath = 'turkey2012.csv'\n",
    "jsonFilePath = 'turkey2012.jsons'\n",
    "\n",
    "data = {}\n",
    "with open(csvFilePath) as csvFile:\n",
    "    csvReader = csv.DictReader(csvFile)\n",
    "    for rows in csvReader:\n",
    "        id= rows['tweetid']\n",
    "        data[id] = rows\n",
    "        \n",
    "        \n",
    "with open(jsonFilePath, 'w') as jsonFile:\n",
    "    for k,v in data.items():\n",
    "        jsonFile.write('{}\\n'.format(json.dumps(v)))"
   ]
  },
  {
   "cell_type": "code",
   "execution_count": null,
   "metadata": {
    "id": "Kvje_o7deK5X",
    "outputId": "6c50ccce-203a-4651-c71c-38faccf5c442",
    "scrolled": true
   },
   "outputs": [],
   "source": [
    "htagData = json.load(open('turkey2012.json', 'r'))\n",
    "\n",
    "print(len(htagData), 'data points in the file')\n",
    "\n",
    "turkey2012 = list()\n",
    "\n",
    "for keys, values in htagData.items():\n",
    "    turkey2012.append(values)\n",
    "\n",
    "print('Example data point:\\n', turkey2012[0])\n",
    "\n"
   ]
  },
  {
   "cell_type": "code",
   "execution_count": null,
   "metadata": {
    "id": "yps9EpiMeK5X",
    "outputId": "900d6457-c320-43ab-b65f-0653f513e379"
   },
   "outputs": [],
   "source": [
    "with open('turkey2012.jsons', 'r') as fl:\n",
    "    for line in fl:\n",
    "        temp = json.loads(line)\n",
    "        if len(temp['user_mentions']) > 3:\n",
    "            print(temp)\n",
    "            break\n",
    "            \n",
    "'''\n",
    "userid\n",
    "user_mentions\n",
    "retweet_userid\n",
    "in_reply_to_userid\n",
    "'''"
   ]
  },
  {
   "cell_type": "code",
   "execution_count": 37,
   "metadata": {
    "id": "MXPMrMZ0eK5X",
    "outputId": "41636cd7-4d9e-41e1-d3b7-7f330e2478e2"
   },
   "outputs": [
    {
     "ename": "FileNotFoundError",
     "evalue": "[Errno 2] No such file or directory: 'turkey2012.jsons'",
     "output_type": "error",
     "traceback": [
      "\u001b[0;31m---------------------------------------------------------------------------\u001b[0m",
      "\u001b[0;31mFileNotFoundError\u001b[0m                         Traceback (most recent call last)",
      "\u001b[0;32m<ipython-input-37-fc5d5decaa71>\u001b[0m in \u001b[0;36m<module>\u001b[0;34m\u001b[0m\n\u001b[1;32m      2\u001b[0m \u001b[0mhtagCount\u001b[0m \u001b[0;34m=\u001b[0m \u001b[0mdict\u001b[0m\u001b[0;34m(\u001b[0m\u001b[0;34m)\u001b[0m\u001b[0;34m\u001b[0m\u001b[0;34m\u001b[0m\u001b[0m\n\u001b[1;32m      3\u001b[0m \u001b[0;34m\u001b[0m\u001b[0m\n\u001b[0;32m----> 4\u001b[0;31m \u001b[0;32mwith\u001b[0m \u001b[0mopen\u001b[0m\u001b[0;34m(\u001b[0m\u001b[0;34m'turkey2012.jsons'\u001b[0m\u001b[0;34m,\u001b[0m \u001b[0;34m'r'\u001b[0m\u001b[0;34m)\u001b[0m \u001b[0;32mas\u001b[0m \u001b[0mfl\u001b[0m\u001b[0;34m:\u001b[0m\u001b[0;34m\u001b[0m\u001b[0;34m\u001b[0m\u001b[0m\n\u001b[0m\u001b[1;32m      5\u001b[0m     \u001b[0;32mfor\u001b[0m \u001b[0mline\u001b[0m \u001b[0;32min\u001b[0m \u001b[0mfl\u001b[0m\u001b[0;34m:\u001b[0m\u001b[0;34m\u001b[0m\u001b[0;34m\u001b[0m\u001b[0m\n\u001b[1;32m      6\u001b[0m         \u001b[0mtemp\u001b[0m \u001b[0;34m=\u001b[0m \u001b[0mjson\u001b[0m\u001b[0;34m.\u001b[0m\u001b[0mloads\u001b[0m\u001b[0;34m(\u001b[0m\u001b[0mline\u001b[0m\u001b[0;34m)\u001b[0m\u001b[0;34m\u001b[0m\u001b[0;34m\u001b[0m\u001b[0m\n",
      "\u001b[0;31mFileNotFoundError\u001b[0m: [Errno 2] No such file or directory: 'turkey2012.jsons'"
     ]
    }
   ],
   "source": [
    "htagNet = nx.Graph()\n",
    "htagCount = dict()\n",
    "\n",
    "with open('turkey2012.jsons', 'r') as fl:\n",
    "    for line in fl:\n",
    "        temp = json.loads(line)\n",
    "        try:\n",
    "            htags = eval(temp['hashtags']) if temp['hashtags'] != ''else []\n",
    "            for i in range(len(htags)):\n",
    "                if htags[i] not in htagCount:\n",
    "                    htagCount[htags[i]] = 0\n",
    "                htagCount[htags[i]] += 1\n",
    "                \n",
    "                for j in range(i+1,len(htags)):\n",
    "                    if htagNet.has_edge(htags[i], htags[j]):\n",
    "                        htagNet[htags[i]][htags[j]]['weight'] += 1\n",
    "                    else:\n",
    "                        htagNet.add_edge(htags[i], htags[j], weight=1)\n",
    "        except Exception as e:\n",
    "            print(e)\n",
    "            print(temp)\n",
    "            break\n",
    "            \n",
    "for n in htagCount:\n",
    "    if not htagNet.has_node(n):\n",
    "        htagNet.add_node(n)\n",
    "    htagNet.nodes[n]['count'] = htagCount[n]\n",
    "            \n",
    "print(nx.info(htagNet))\n",
    "nx.write_gexf(htagNet, 'hashtagnet.gexf')"
   ]
  },
  {
   "cell_type": "code",
   "execution_count": null,
   "metadata": {
    "id": "kVHUSMqreK5Y",
    "outputId": "d2b013f2-668a-48f0-b750-3e1cef6fe23c"
   },
   "outputs": [],
   "source": [
    "htags = ['a', 'b', 'c', 'd']\n",
    "for i in range(len(htags)):\n",
    "    for j in range(i+1,len(htags)):\n",
    "        print(i, j, htags[i], htags[j])"
   ]
  },
  {
   "cell_type": "code",
   "execution_count": 38,
   "metadata": {
    "id": "hLrm2JIgeK5Y",
    "outputId": "dc89f4f0-a600-44ef-d66a-3eea9dc2973a"
   },
   "outputs": [
    {
     "ename": "NameError",
     "evalue": "name 'turkey2012' is not defined",
     "output_type": "error",
     "traceback": [
      "\u001b[0;31m---------------------------------------------------------------------------\u001b[0m",
      "\u001b[0;31mNameError\u001b[0m                                 Traceback (most recent call last)",
      "\u001b[0;32m<ipython-input-38-45a0ff703a09>\u001b[0m in \u001b[0;36m<module>\u001b[0;34m\u001b[0m\n\u001b[1;32m      2\u001b[0m \u001b[0mhtagNet\u001b[0m\u001b[0;34m.\u001b[0m\u001b[0mname\u001b[0m \u001b[0;34m=\u001b[0m \u001b[0;34m'Hashtag co-occurrence network'\u001b[0m\u001b[0;34m\u001b[0m\u001b[0;34m\u001b[0m\u001b[0m\n\u001b[1;32m      3\u001b[0m \u001b[0;34m\u001b[0m\u001b[0m\n\u001b[0;32m----> 4\u001b[0;31m \u001b[0;32mfor\u001b[0m \u001b[0mrec\u001b[0m \u001b[0;32min\u001b[0m \u001b[0mturkey2012\u001b[0m\u001b[0;34m:\u001b[0m\u001b[0;34m\u001b[0m\u001b[0;34m\u001b[0m\u001b[0m\n\u001b[0m\u001b[1;32m      5\u001b[0m     \u001b[0mhtagNet\u001b[0m\u001b[0;34m.\u001b[0m\u001b[0madd_edge\u001b[0m\u001b[0;34m(\u001b[0m\u001b[0mrec\u001b[0m\u001b[0;34m[\u001b[0m\u001b[0;34m'follower_count'\u001b[0m\u001b[0;34m]\u001b[0m\u001b[0;34m,\u001b[0m \u001b[0mrec\u001b[0m\u001b[0;34m[\u001b[0m\u001b[0;34m'tweet_time'\u001b[0m\u001b[0;34m]\u001b[0m\u001b[0;34m,\u001b[0m \u001b[0mweight\u001b[0m\u001b[0;34m=\u001b[0m\u001b[0mfloat\u001b[0m\u001b[0;34m(\u001b[0m\u001b[0mrec\u001b[0m\u001b[0;34m[\u001b[0m\u001b[0;34m'following_count'\u001b[0m\u001b[0;34m]\u001b[0m\u001b[0;34m)\u001b[0m\u001b[0;34m)\u001b[0m\u001b[0;34m\u001b[0m\u001b[0;34m\u001b[0m\u001b[0m\n\u001b[1;32m      6\u001b[0m \u001b[0;34m\u001b[0m\u001b[0m\n",
      "\u001b[0;31mNameError\u001b[0m: name 'turkey2012' is not defined"
     ]
    }
   ],
   "source": [
    "htagNet = nx.Graph()\n",
    "htagNet.name = 'Hashtag co-occurrence network'\n",
    "\n",
    "for rec in turkey2012:\n",
    "    htagNet.add_edge(rec['follower_count'], rec['tweet_time'], weight=float(rec['following_count']))\n",
    "    \n",
    "    print(nx.info(htagNet))"
   ]
  },
  {
   "cell_type": "code",
   "execution_count": null,
   "metadata": {
    "id": "eGt_j0EHeK5Y",
    "outputId": "037e4f2f-e1b8-4c9d-a271-24cae9fd979f"
   },
   "outputs": [],
   "source": [
    "degreeSeq = dict(nx.degree(htagNet))\n",
    "for n in sorted(degreeSeq, key=degreeSeq.get, reverse=True)[:10]:\n",
    "    print(n, degreeSeq[n])\n",
    "fig = plt.figure(figsize=(4,4))\n",
    "plt.hist(degreeSeq.values(), color='0.5')\n",
    "plt.yscale('log')\n",
    "plt.xlabel('Degree', fontsize=14)\n",
    "plt.ylabel('Histogram', fontsize=14)"
   ]
  },
  {
   "cell_type": "code",
   "execution_count": null,
   "metadata": {
    "id": "-LQVvvl3eK5Y",
    "outputId": "55bb8841-bc0f-4e7f-cb64-379bda74f204"
   },
   "outputs": [],
   "source": []
  },
  {
   "cell_type": "code",
   "execution_count": null,
   "metadata": {
    "id": "rxtfJoBzeK5Y"
   },
   "outputs": [],
   "source": []
  }
 ],
 "metadata": {
  "colab": {
   "name": "UmutWorkplan v.1.4.ipynb",
   "provenance": []
  },
  "kernelspec": {
   "display_name": "Python 3",
   "language": "python",
   "name": "python3"
  },
  "language_info": {
   "codemirror_mode": {
    "name": "ipython",
    "version": 3
   },
   "file_extension": ".py",
   "mimetype": "text/x-python",
   "name": "python",
   "nbconvert_exporter": "python",
   "pygments_lexer": "ipython3",
   "version": "3.8.8"
  }
 },
 "nbformat": 4,
 "nbformat_minor": 1
}
